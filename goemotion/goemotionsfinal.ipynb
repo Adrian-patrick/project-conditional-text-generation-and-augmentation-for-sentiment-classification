{
  "nbformat": 4,
  "nbformat_minor": 0,
  "metadata": {
    "colab": {
      "provenance": [],
      "collapsed_sections": [
        "EqygRfkFbx2j",
        "KZMxwWmq98CV",
        "cSjzmFKlQBrE",
        "LZ9Nn363SwRb"
      ]
    },
    "kernelspec": {
      "name": "python3",
      "display_name": "Python 3"
    },
    "language_info": {
      "name": "python"
    }
  },
  "cells": [
    {
      "cell_type": "markdown",
      "source": [
        "# GPT\n"
      ],
      "metadata": {
        "id": "EqygRfkFbx2j"
      }
    },
    {
      "cell_type": "code",
      "metadata": {
        "colab": {
          "base_uri": "https://localhost:8080/"
        },
        "id": "892e197b",
        "outputId": "5e07773f-1339-47f8-cdd2-daebb166f052"
      },
      "source": [
        "%pip install datasets matplotlib seaborn -q"
      ],
      "execution_count": null,
      "outputs": [
        {
          "output_type": "stream",
          "name": "stdout",
          "text": [
            "Note: you may need to restart the kernel to use updated packages.\n"
          ]
        }
      ]
    },
    {
      "cell_type": "code",
      "metadata": {
        "colab": {
          "base_uri": "https://localhost:8080/",
          "height": 206
        },
        "id": "0ce4593f",
        "outputId": "2a12351b-290b-4269-b096-ce36779843d6"
      },
      "source": [
        "from datasets import load_dataset\n",
        "import pandas as pd\n",
        "\n",
        "dataset = load_dataset(\"go_emotions\", \"simplified\")\n",
        "train_df = dataset[\"train\"].to_pandas()\n",
        "validation_df = dataset[\"validation\"].to_pandas()\n",
        "test_df = dataset[\"test\"].to_pandas()\n",
        "\n",
        "# Concatenate all dataframes into a single dataframe\n",
        "all_df = pd.concat([train_df, validation_df, test_df], ignore_index=True)\n",
        "\n",
        "display(all_df.head())"
      ],
      "execution_count": null,
      "outputs": [
        {
          "output_type": "display_data",
          "data": {
            "text/plain": [
              "                                                text labels       id\n",
              "0  My favourite food is anything I didn't have to...   [27]  eebbqej\n",
              "1  Now if he does off himself, everyone will thin...   [27]  ed00q6i\n",
              "2                     WHY THE FUCK IS BAYLESS ISOING    [2]  eezlygj\n",
              "3                        To make her feel threatened   [14]  ed7ypvh\n",
              "4                             Dirty Southern Wankers    [3]  ed0bdzj"
            ],
            "text/html": [
              "<div>\n",
              "<style scoped>\n",
              "    .dataframe tbody tr th:only-of-type {\n",
              "        vertical-align: middle;\n",
              "    }\n",
              "\n",
              "    .dataframe tbody tr th {\n",
              "        vertical-align: top;\n",
              "    }\n",
              "\n",
              "    .dataframe thead th {\n",
              "        text-align: right;\n",
              "    }\n",
              "</style>\n",
              "<table border=\"1\" class=\"dataframe\">\n",
              "  <thead>\n",
              "    <tr style=\"text-align: right;\">\n",
              "      <th></th>\n",
              "      <th>text</th>\n",
              "      <th>labels</th>\n",
              "      <th>id</th>\n",
              "    </tr>\n",
              "  </thead>\n",
              "  <tbody>\n",
              "    <tr>\n",
              "      <th>0</th>\n",
              "      <td>My favourite food is anything I didn't have to...</td>\n",
              "      <td>[27]</td>\n",
              "      <td>eebbqej</td>\n",
              "    </tr>\n",
              "    <tr>\n",
              "      <th>1</th>\n",
              "      <td>Now if he does off himself, everyone will thin...</td>\n",
              "      <td>[27]</td>\n",
              "      <td>ed00q6i</td>\n",
              "    </tr>\n",
              "    <tr>\n",
              "      <th>2</th>\n",
              "      <td>WHY THE FUCK IS BAYLESS ISOING</td>\n",
              "      <td>[2]</td>\n",
              "      <td>eezlygj</td>\n",
              "    </tr>\n",
              "    <tr>\n",
              "      <th>3</th>\n",
              "      <td>To make her feel threatened</td>\n",
              "      <td>[14]</td>\n",
              "      <td>ed7ypvh</td>\n",
              "    </tr>\n",
              "    <tr>\n",
              "      <th>4</th>\n",
              "      <td>Dirty Southern Wankers</td>\n",
              "      <td>[3]</td>\n",
              "      <td>ed0bdzj</td>\n",
              "    </tr>\n",
              "  </tbody>\n",
              "</table>\n",
              "</div>"
            ]
          },
          "metadata": {}
        }
      ]
    },
    {
      "cell_type": "code",
      "metadata": {
        "colab": {
          "base_uri": "https://localhost:8080/",
          "height": 538
        },
        "id": "ef662301",
        "outputId": "9d1f3334-82de-4c3a-f7e1-b43274e0c971"
      },
      "source": [
        "# Calculate the value counts of the 'labels' column\n",
        "label_counts = all_df['labels'].explode().value_counts()\n",
        "\n",
        "display(label_counts)"
      ],
      "execution_count": null,
      "outputs": [
        {
          "output_type": "display_data",
          "data": {
            "text/plain": [
              "labels\n",
              "27    17772\n",
              "0      5122\n",
              "4      3687\n",
              "15     3372\n",
              "3      3093\n",
              "1      2895\n",
              "7      2723\n",
              "10     2581\n",
              "18     2576\n",
              "20     1976\n",
              "2      1960\n",
              "17     1785\n",
              "6      1673\n",
              "25     1625\n",
              "9      1583\n",
              "22     1382\n",
              "5      1375\n",
              "26     1330\n",
              "13     1052\n",
              "11     1013\n",
              "8       801\n",
              "14      764\n",
              "24      669\n",
              "12      375\n",
              "19      208\n",
              "23      182\n",
              "21      142\n",
              "16       96\n",
              "Name: count, dtype: int64"
            ]
          },
          "metadata": {}
        }
      ]
    },
    {
      "cell_type": "code",
      "metadata": {
        "colab": {
          "base_uri": "https://localhost:8080/",
          "height": 509
        },
        "id": "ed14367a",
        "outputId": "585fa87c-154d-4e77-bf0d-4d0d73e2adcc"
      },
      "source": [
        "import matplotlib.pyplot as plt\n",
        "import seaborn as sns\n",
        "\n",
        "plt.figure(figsize=(10, 6))\n",
        "sns.barplot(x=label_counts.index, y=label_counts.values)\n",
        "plt.xlabel(\"Label\")\n",
        "plt.ylabel(\"Count\")\n",
        "plt.title(\"Distribution of Labels\")\n",
        "plt.xticks(rotation=90)\n",
        "plt.tight_layout()\n",
        "plt.show()"
      ],
      "execution_count": null,
      "outputs": [
        {
          "output_type": "display_data",
          "data": {
            "text/plain": [
              "<Figure size 1000x600 with 1 Axes>"
            ],
            "image/png": "[encoded data removed]"
          },
          "metadata": {}
        }
      ]
    },
    {
      "cell_type": "code",
      "metadata": {
        "colab": {
          "base_uri": "https://localhost:8080/",
          "height": 327
        },
        "id": "a4551333",
        "outputId": "85eb38e7-8232-48a2-d938-d45ff22ae61e"
      },
      "source": [
        "# Create a dictionary to map label IDs to emotion names\n",
        "emotion_map = {\n",
        "    0: \"admiration\", 1: \"amusement\", 2: \"anger\", 3: \"annoyance\", 4: \"approval\",\n",
        "    5: \"caring\", 6: \"confusion\", 7: \"curiosity\", 8: \"desire\", 9: \"disappointment\",\n",
        "    10: \"disapproval\", 11: \"disgust\", 12: \"embarrassment\", 13: \"excitement\",\n",
        "    14: \"fear\", 15: \"gratitude\", 16: \"grief\", 17: \"joy\", 18: \"love\",\n",
        "    19: \"nervousness\", 20: \"optimism\", 21: \"pride\", 22: \"realization\", 23: \"relief\",\n",
        "    24: \"remorse\", 25: \"sadness\", 26: \"surprise\", 27: \"neutral\"\n",
        "}\n",
        "\n",
        "# Map the labels in the dataframe to emotion names\n",
        "all_df['emotion_labels'] = all_df['labels'].apply(lambda x: [emotion_map[i] for i in x])\n",
        "\n",
        "# Map the labels in the label_counts series to emotion names\n",
        "label_counts.index = label_counts.index.map(emotion_map)\n",
        "\n",
        "display(all_df.head())\n",
        "display(label_counts.head())"
      ],
      "execution_count": null,
      "outputs": [
        {
          "output_type": "display_data",
          "data": {
            "text/plain": [
              "                                                text labels       id  \\\n",
              "0  My favourite food is anything I didn't have to...   [27]  eebbqej   \n",
              "1  Now if he does off himself, everyone will thin...   [27]  ed00q6i   \n",
              "2                     WHY THE FUCK IS BAYLESS ISOING    [2]  eezlygj   \n",
              "3                        To make her feel threatened   [14]  ed7ypvh   \n",
              "4                             Dirty Southern Wankers    [3]  ed0bdzj   \n",
              "\n",
              "  emotion_labels  \n",
              "0      [neutral]  \n",
              "1      [neutral]  \n",
              "2        [anger]  \n",
              "3         [fear]  \n",
              "4    [annoyance]  "
            ],
            "text/html": [
              "<div>\n",
              "<style scoped>\n",
              "    .dataframe tbody tr th:only-of-type {\n",
              "        vertical-align: middle;\n",
              "    }\n",
              "\n",
              "    .dataframe tbody tr th {\n",
              "        vertical-align: top;\n",
              "    }\n",
              "\n",
              "    .dataframe thead th {\n",
              "        text-align: right;\n",
              "    }\n",
              "</style>\n",
              "<table border=\"1\" class=\"dataframe\">\n",
              "  <thead>\n",
              "    <tr style=\"text-align: right;\">\n",
              "      <th></th>\n",
              "      <th>text</th>\n",
              "      <th>labels</th>\n",
              "      <th>id</th>\n",
              "      <th>emotion_labels</th>\n",
              "    </tr>\n",
              "  </thead>\n",
              "  <tbody>\n",
              "    <tr>\n",
              "      <th>0</th>\n",
              "      <td>My favourite food is anything I didn't have to...</td>\n",
              "      <td>[27]</td>\n",
              "      <td>eebbqej</td>\n",
              "      <td>[neutral]</td>\n",
              "    </tr>\n",
              "    <tr>\n",
              "      <th>1</th>\n",
              "      <td>Now if he does off himself, everyone will thin...</td>\n",
              "      <td>[27]</td>\n",
              "      <td>ed00q6i</td>\n",
              "      <td>[neutral]</td>\n",
              "    </tr>\n",
              "    <tr>\n",
              "      <th>2</th>\n",
              "      <td>WHY THE FUCK IS BAYLESS ISOING</td>\n",
              "      <td>[2]</td>\n",
              "      <td>eezlygj</td>\n",
              "      <td>[anger]</td>\n",
              "    </tr>\n",
              "    <tr>\n",
              "      <th>3</th>\n",
              "      <td>To make her feel threatened</td>\n",
              "      <td>[14]</td>\n",
              "      <td>ed7ypvh</td>\n",
              "      <td>[fear]</td>\n",
              "    </tr>\n",
              "    <tr>\n",
              "      <th>4</th>\n",
              "      <td>Dirty Southern Wankers</td>\n",
              "      <td>[3]</td>\n",
              "      <td>ed0bdzj</td>\n",
              "      <td>[annoyance]</td>\n",
              "    </tr>\n",
              "  </tbody>\n",
              "</table>\n",
              "</div>"
            ]
          },
          "metadata": {}
        },
        {
          "output_type": "display_data",
          "data": {
            "text/plain": [
              "labels\n",
              "neutral       17772\n",
              "admiration     5122\n",
              "approval       3687\n",
              "gratitude      3372\n",
              "annoyance      3093\n",
              "Name: count, dtype: int64"
            ]
          },
          "metadata": {}
        }
      ]
    },
    {
      "cell_type": "code",
      "metadata": {
        "colab": {
          "base_uri": "https://localhost:8080/",
          "height": 509
        },
        "id": "4dad3f21",
        "outputId": "485296b8-d39d-4fcc-e4b1-3522fc5bbb97"
      },
      "source": [
        "plt.figure(figsize=(10, 6))\n",
        "sns.barplot(x=label_counts.index, y=label_counts.values)\n",
        "plt.xlabel(\"Emotion\")\n",
        "plt.ylabel(\"Count\")\n",
        "plt.title(\"Distribution of Emotions\")\n",
        "plt.xticks(rotation=90)\n",
        "plt.tight_layout()\n",
        "plt.show()"
      ],
      "execution_count": null,
      "outputs": [
        {
          "output_type": "display_data",
          "data": {
            "text/plain": [
              "<Figure size 1000x600 with 1 Axes>"
            ],
            "image/png": "[encoded data removed]"
          },
          "metadata": {}
        }
      ]
    },
    {
      "cell_type": "code",
      "metadata": {
        "colab": {
          "base_uri": "https://localhost:8080/",
          "height": 206
        },
        "id": "80c74e6f",
        "outputId": "91ae4927-c4c5-4be8-9702-7cf1e1390ef8"
      },
      "source": [
        "# Filter the dataframe to remove 'neutral' and 'admiration' emotions\n",
        "filtered_df = all_df[~all_df['emotion_labels'].apply(lambda x: 'neutral' in x or 'admiration' in x)]\n",
        "\n",
        "display(filtered_df.head())"
      ],
      "execution_count": null,
      "outputs": [
        {
          "output_type": "display_data",
          "data": {
            "text/plain": [
              "                                                text labels       id  \\\n",
              "2                     WHY THE FUCK IS BAYLESS ISOING    [2]  eezlygj   \n",
              "3                        To make her feel threatened   [14]  ed7ypvh   \n",
              "4                             Dirty Southern Wankers    [3]  ed0bdzj   \n",
              "5  OmG pEyToN iSn'T gOoD eNoUgH tO hElP uS iN tHe...   [26]  edvnz26   \n",
              "6  Yes I heard abt the f bombs! That has to be wh...   [15]  ee3b6wu   \n",
              "\n",
              "  emotion_labels  \n",
              "2        [anger]  \n",
              "3         [fear]  \n",
              "4    [annoyance]  \n",
              "5     [surprise]  \n",
              "6    [gratitude]  "
            ],
            "text/html": [
              "<div>\n",
              "<style scoped>\n",
              "    .dataframe tbody tr th:only-of-type {\n",
              "        vertical-align: middle;\n",
              "    }\n",
              "\n",
              "    .dataframe tbody tr th {\n",
              "        vertical-align: top;\n",
              "    }\n",
              "\n",
              "    .dataframe thead th {\n",
              "        text-align: right;\n",
              "    }\n",
              "</style>\n",
              "<table border=\"1\" class=\"dataframe\">\n",
              "  <thead>\n",
              "    <tr style=\"text-align: right;\">\n",
              "      <th></th>\n",
              "      <th>text</th>\n",
              "      <th>labels</th>\n",
              "      <th>id</th>\n",
              "      <th>emotion_labels</th>\n",
              "    </tr>\n",
              "  </thead>\n",
              "  <tbody>\n",
              "    <tr>\n",
              "      <th>2</th>\n",
              "      <td>WHY THE FUCK IS BAYLESS ISOING</td>\n",
              "      <td>[2]</td>\n",
              "      <td>eezlygj</td>\n",
              "      <td>[anger]</td>\n",
              "    </tr>\n",
              "    <tr>\n",
              "      <th>3</th>\n",
              "      <td>To make her feel threatened</td>\n",
              "      <td>[14]</td>\n",
              "      <td>ed7ypvh</td>\n",
              "      <td>[fear]</td>\n",
              "    </tr>\n",
              "    <tr>\n",
              "      <th>4</th>\n",
              "      <td>Dirty Southern Wankers</td>\n",
              "      <td>[3]</td>\n",
              "      <td>ed0bdzj</td>\n",
              "      <td>[annoyance]</td>\n",
              "    </tr>\n",
              "    <tr>\n",
              "      <th>5</th>\n",
              "      <td>OmG pEyToN iSn'T gOoD eNoUgH tO hElP uS iN tHe...</td>\n",
              "      <td>[26]</td>\n",
              "      <td>edvnz26</td>\n",
              "      <td>[surprise]</td>\n",
              "    </tr>\n",
              "    <tr>\n",
              "      <th>6</th>\n",
              "      <td>Yes I heard abt the f bombs! That has to be wh...</td>\n",
              "      <td>[15]</td>\n",
              "      <td>ee3b6wu</td>\n",
              "      <td>[gratitude]</td>\n",
              "    </tr>\n",
              "  </tbody>\n",
              "</table>\n",
              "</div>"
            ]
          },
          "metadata": {}
        }
      ]
    },
    {
      "cell_type": "code",
      "metadata": {
        "id": "d16a0acb"
      },
      "source": [
        "import re\n",
        "\n",
        "def clean_text(text):\n",
        "    # Remove special characters and numbers\n",
        "    text = re.sub(r'[^a-zA-Z\\s]', '', text)\n",
        "    # Convert to lowercase\n",
        "    text = text.lower()\n",
        "    # Remove extra spaces\n",
        "    text = re.sub(r'\\s+', ' ', text).strip()\n",
        "    return text"
      ],
      "execution_count": null,
      "outputs": []
    },
    {
      "cell_type": "code",
      "metadata": {
        "colab": {
          "base_uri": "https://localhost:8080/",
          "height": 365
        },
        "id": "72b99bc0",
        "outputId": "c81b657d-aee0-4989-c795-2902d44dba94"
      },
      "source": [
        "filtered_df['cleaned_text'] = filtered_df['text'].apply(clean_text)\n",
        "display(filtered_df.head())"
      ],
      "execution_count": null,
      "outputs": [
        {
          "output_type": "stream",
          "name": "stderr",
          "text": [
            "C:\\Users\\adria\\AppData\\Local\\Temp\\ipykernel_33720\\2332260876.py:1: SettingWithCopyWarning: \n",
            "A value is trying to be set on a copy of a slice from a DataFrame.\n",
            "Try using .loc[row_indexer,col_indexer] = value instead\n",
            "\n",
            "See the caveats in the documentation: https://pandas.pydata.org/pandas-docs/stable/user_guide/indexing.html#returning-a-view-versus-a-copy\n",
            "  filtered_df['cleaned_text'] = filtered_df['text'].apply(clean_text)\n"
          ]
        },
        {
          "output_type": "display_data",
          "data": {
            "text/plain": [
              "                                                text labels       id  \\\n",
              "2                     WHY THE FUCK IS BAYLESS ISOING    [2]  eezlygj   \n",
              "3                        To make her feel threatened   [14]  ed7ypvh   \n",
              "4                             Dirty Southern Wankers    [3]  ed0bdzj   \n",
              "5  OmG pEyToN iSn'T gOoD eNoUgH tO hElP uS iN tHe...   [26]  edvnz26   \n",
              "6  Yes I heard abt the f bombs! That has to be wh...   [15]  ee3b6wu   \n",
              "\n",
              "  emotion_labels                                       cleaned_text  \n",
              "2        [anger]                     why the fuck is bayless isoing  \n",
              "3         [fear]                        to make her feel threatened  \n",
              "4    [annoyance]                             dirty southern wankers  \n",
              "5     [surprise]  omg peyton isnt good enough to help us in the ...  \n",
              "6    [gratitude]  yes i heard abt the f bombs that has to be why...  "
            ],
            "text/html": [
              "<div>\n",
              "<style scoped>\n",
              "    .dataframe tbody tr th:only-of-type {\n",
              "        vertical-align: middle;\n",
              "    }\n",
              "\n",
              "    .dataframe tbody tr th {\n",
              "        vertical-align: top;\n",
              "    }\n",
              "\n",
              "    .dataframe thead th {\n",
              "        text-align: right;\n",
              "    }\n",
              "</style>\n",
              "<table border=\"1\" class=\"dataframe\">\n",
              "  <thead>\n",
              "    <tr style=\"text-align: right;\">\n",
              "      <th></th>\n",
              "      <th>text</th>\n",
              "      <th>labels</th>\n",
              "      <th>id</th>\n",
              "      <th>emotion_labels</th>\n",
              "      <th>cleaned_text</th>\n",
              "    </tr>\n",
              "  </thead>\n",
              "  <tbody>\n",
              "    <tr>\n",
              "      <th>2</th>\n",
              "      <td>WHY THE FUCK IS BAYLESS ISOING</td>\n",
              "      <td>[2]</td>\n",
              "      <td>eezlygj</td>\n",
              "      <td>[anger]</td>\n",
              "      <td>why the fuck is bayless isoing</td>\n",
              "    </tr>\n",
              "    <tr>\n",
              "      <th>3</th>\n",
              "      <td>To make her feel threatened</td>\n",
              "      <td>[14]</td>\n",
              "      <td>ed7ypvh</td>\n",
              "      <td>[fear]</td>\n",
              "      <td>to make her feel threatened</td>\n",
              "    </tr>\n",
              "    <tr>\n",
              "      <th>4</th>\n",
              "      <td>Dirty Southern Wankers</td>\n",
              "      <td>[3]</td>\n",
              "      <td>ed0bdzj</td>\n",
              "      <td>[annoyance]</td>\n",
              "      <td>dirty southern wankers</td>\n",
              "    </tr>\n",
              "    <tr>\n",
              "      <th>5</th>\n",
              "      <td>OmG pEyToN iSn'T gOoD eNoUgH tO hElP uS iN tHe...</td>\n",
              "      <td>[26]</td>\n",
              "      <td>edvnz26</td>\n",
              "      <td>[surprise]</td>\n",
              "      <td>omg peyton isnt good enough to help us in the ...</td>\n",
              "    </tr>\n",
              "    <tr>\n",
              "      <th>6</th>\n",
              "      <td>Yes I heard abt the f bombs! That has to be wh...</td>\n",
              "      <td>[15]</td>\n",
              "      <td>ee3b6wu</td>\n",
              "      <td>[gratitude]</td>\n",
              "      <td>yes i heard abt the f bombs that has to be why...</td>\n",
              "    </tr>\n",
              "  </tbody>\n",
              "</table>\n",
              "</div>"
            ]
          },
          "metadata": {}
        }
      ]
    },
    {
      "cell_type": "code",
      "metadata": {
        "colab": {
          "base_uri": "https://localhost:8080/"
        },
        "id": "2eb4aa56",
        "outputId": "14428acf-f08c-4990-e033-5757b498920f"
      },
      "source": [
        "%pip install transformers -q"
      ],
      "execution_count": null,
      "outputs": [
        {
          "output_type": "stream",
          "name": "stdout",
          "text": [
            "Note: you may need to restart the kernel to use updated packages.\n"
          ]
        }
      ]
    },
    {
      "cell_type": "code",
      "metadata": {
        "id": "bf680a2a"
      },
      "source": [
        "from transformers import GPT2LMHeadModel, GPT2Tokenizer"
      ],
      "execution_count": null,
      "outputs": []
    },
    {
      "cell_type": "code",
      "metadata": {
        "colab": {
          "base_uri": "https://localhost:8080/"
        },
        "id": "d99dd926",
        "outputId": "7e2951ae-dd7f-4b08-8fd6-f9960dfba488"
      },
      "source": [
        "from sklearn.model_selection import train_test_split\n",
        "\n",
        "# Split data into training and testing sets\n",
        "X_train, X_test, y_train, y_test = train_test_split(\n",
        "    filtered_df['cleaned_text'],\n",
        "    filtered_df['emotion_labels'],\n",
        "    test_size=0.2,\n",
        "    random_state=42\n",
        ")\n",
        "\n",
        "print(f\"Shape of X_train: {X_train.shape}\")\n",
        "print(f\"Shape of X_test: {X_test.shape}\")\n",
        "print(f\"Shape of y_train: {y_train.shape}\")\n",
        "print(f\"Shape of y_test: {y_test.shape}\")"
      ],
      "execution_count": null,
      "outputs": [
        {
          "output_type": "stream",
          "name": "stdout",
          "text": [
            "Shape of X_train: (25188,)\n",
            "Shape of X_test: (6298,)\n",
            "Shape of y_train: (25188,)\n",
            "Shape of y_test: (6298,)\n"
          ]
        }
      ]
    },
    {
      "cell_type": "code",
      "metadata": {
        "id": "dc973aef"
      },
      "source": [
        "from transformers import GPT2Tokenizer\n",
        "\n",
        "tokenizer = GPT2Tokenizer.from_pretrained(\"gpt2\")"
      ],
      "execution_count": null,
      "outputs": []
    },
    {
      "cell_type": "code",
      "metadata": {
        "colab": {
          "base_uri": "https://localhost:8080/"
        },
        "id": "fa12a9d0",
        "outputId": "9cebb4dd-a6f2-4949-b561-a3ce8880fa12"
      },
      "source": [
        "# Tokenize the training and testing data\n",
        "X_train_tokenized = X_train.apply(lambda x: tokenizer.encode(x, truncation=True))\n",
        "X_test_tokenized = X_test.apply(lambda x: tokenizer.encode(x, truncation=True))\n",
        "\n",
        "print(f\"Number of tokenized training samples: {len(X_train_tokenized)}\")\n",
        "print(f\"Number of tokenized testing samples: {len(X_test_tokenized)}\")"
      ],
      "execution_count": null,
      "outputs": [
        {
          "output_type": "stream",
          "name": "stdout",
          "text": [
            "Number of tokenized training samples: 25188\n",
            "Number of tokenized testing samples: 6298\n"
          ]
        }
      ]
    },
    {
      "cell_type": "code",
      "metadata": {
        "colab": {
          "base_uri": "https://localhost:8080/"
        },
        "id": "b0ac8d2f",
        "outputId": "6af9eaca-873a-4864-a428-9093d85a554e"
      },
      "source": [
        "import torch\n",
        "\n",
        "# Set the pad token for the tokenizer\n",
        "tokenizer.pad_token = tokenizer.eos_token\n",
        "\n",
        "# Pad the tokenized sequences\n",
        "def pad_sequences(sequences, max_length, padding_value):\n",
        "    padded_sequences = []\n",
        "    for seq in sequences:\n",
        "        if len(seq) > max_length:\n",
        "            padded_sequences.append(seq[:max_length])\n",
        "        else:\n",
        "            padded_sequences.append(seq + [padding_value] * (max_length - len(seq)))\n",
        "    return padded_sequences\n",
        "\n",
        "# Find the maximum length of the tokenized sequences\n",
        "# max_length = max(len(seq) for seq in X_train_tokenized) # Original dynamic max_length\n",
        "max_length = 128 # Set max_length to 128 as requested\n",
        "\n",
        "X_train_padded = torch.tensor(pad_sequences(X_train_tokenized, max_length, tokenizer.pad_token_id))\n",
        "X_test_padded = torch.tensor(pad_sequences(X_test_tokenized, max_length, tokenizer.pad_token_id))\n",
        "\n",
        "# Create attention masks\n",
        "X_train_attention_mask = (X_train_padded != tokenizer.pad_token_id).long()\n",
        "X_test_attention_mask = (X_test_padded != tokenizer.pad_token_id).long()\n",
        "\n",
        "print(f\"Shape of X_train_padded: {X_train_padded.shape}\")\n",
        "print(f\"Shape of X_test_padded: {X_test_padded.shape}\")\n",
        "print(f\"Shape of X_train_attention_mask: {X_train_attention_mask.shape}\")\n",
        "print(f\"Shape of X_test_attention_mask: {X_test_attention_mask.shape}\")"
      ],
      "execution_count": null,
      "outputs": [
        {
          "output_type": "stream",
          "name": "stdout",
          "text": [
            "Shape of X_train_padded: torch.Size([25188, 128])\n",
            "Shape of X_test_padded: torch.Size([6298, 128])\n",
            "Shape of X_train_attention_mask: torch.Size([25188, 128])\n",
            "Shape of X_test_attention_mask: torch.Size([6298, 128])\n"
          ]
        }
      ]
    },
    {
      "cell_type": "markdown",
      "metadata": {
        "id": "3166ea83"
      },
      "source": [
        "## Prepare labels\n",
        "\n",
        "### Subtask:\n",
        "Format the emotion labels for model training.\n"
      ]
    },
    {
      "cell_type": "markdown",
      "metadata": {
        "id": "281b1507"
      },
      "source": [
        "**Reasoning**:\n",
        "Format the emotion labels for model training by creating a mapping, converting labels to integer IDs, multi-hot encoding, and converting to tensors.\n",
        "\n"
      ]
    },
    {
      "cell_type": "code",
      "metadata": {
        "colab": {
          "base_uri": "https://localhost:8080/"
        },
        "id": "d3cdb0db",
        "outputId": "753a1036-cf7d-4ee0-f8de-891e9c08dd86"
      },
      "source": [
        "# Create a list of all possible emotion labels excluding 'neutral' and 'admiration'\n",
        "valid_emotions = [emotion for emotion in emotion_map.values() if emotion not in ['neutral', 'admiration']]\n",
        "\n",
        "# Create a mapping from each valid emotion name to a unique integer ID starting from 0\n",
        "emotion_to_id = {emotion: i for i, emotion in enumerate(valid_emotions)}\n",
        "\n",
        "# Function to convert emotion labels to multi-hot encoded tensor\n",
        "def multi_hot_encode(emotion_list, emotion_to_id_map):\n",
        "    encoding = torch.zeros(len(emotion_to_id_map))\n",
        "    for emotion in emotion_list:\n",
        "        if emotion in emotion_to_id_map:\n",
        "            encoding[emotion_to_id_map[emotion]] = 1\n",
        "    return encoding\n",
        "\n",
        "# Process training and testing labels\n",
        "y_train_encoded = torch.stack([multi_hot_encode(labels, emotion_to_id) for labels in y_train])\n",
        "y_test_encoded = torch.stack([multi_hot_encode(labels, emotion_to_id) for labels in y_test])\n",
        "\n",
        "# Print the shapes of the resulting tensors\n",
        "print(f\"Shape of y_train_encoded: {y_train_encoded.shape}\")\n",
        "print(f\"Shape of y_test_encoded: {y_test_encoded.shape}\")"
      ],
      "execution_count": null,
      "outputs": [
        {
          "output_type": "stream",
          "name": "stdout",
          "text": [
            "Shape of y_train_encoded: torch.Size([25188, 26])\n",
            "Shape of y_test_encoded: torch.Size([6298, 26])\n"
          ]
        }
      ]
    },
    {
      "cell_type": "markdown",
      "metadata": {
        "id": "d7f42b91"
      },
      "source": [
        "## Define training arguments\n",
        "\n",
        "### Subtask:\n",
        "Set up the training arguments, including specifying mixed precision and batch size.\n"
      ]
    },
    {
      "cell_type": "markdown",
      "metadata": {
        "id": "956e45f5"
      },
      "source": [
        "**Reasoning**:\n",
        "Set up the training arguments including mixed precision and batch size.\n",
        "\n"
      ]
    },
    {
      "cell_type": "markdown",
      "metadata": {
        "id": "4d10d842"
      },
      "source": [
        "**Reasoning**:\n",
        "The traceback indicates that `evaluation_strategy` is not a valid argument for `TrainingArguments`. I need to check the documentation or available arguments for `TrainingArguments` and use the correct parameter for setting the evaluation strategy to \"epoch\". I will use `eval_strategy` instead.\n",
        "\n"
      ]
    },
    {
      "cell_type": "markdown",
      "metadata": {
        "id": "c1960340"
      },
      "source": [
        "**Reasoning**:\n",
        "The traceback indicates that the `Trainer` requires the `accelerate` library, specifically version 0.26.0 or later. I need to install the required package.\n",
        "\n"
      ]
    },
    {
      "cell_type": "code",
      "metadata": {
        "colab": {
          "base_uri": "https://localhost:8080/"
        },
        "id": "40-wMexOf22a",
        "outputId": "9b806b52-7e68-401f-89ba-eaf4e9b5cd5b"
      },
      "source": [
        "%pip install accelerate>=0.26.0 -q"
      ],
      "execution_count": null,
      "outputs": [
        {
          "output_type": "stream",
          "name": "stdout",
          "text": [
            "Note: you may need to restart the kernel to use updated packages.\n"
          ]
        }
      ]
    },
    {
      "cell_type": "markdown",
      "metadata": {
        "id": "f00d3c30"
      },
      "source": [
        "**Reasoning**:\n",
        "I have installed the required package. Now I can retry setting up the training arguments.\n",
        "\n"
      ]
    },
    {
      "cell_type": "code",
      "metadata": {
        "id": "827e57a4"
      },
      "source": [
        "from transformers import TrainingArguments\n",
        "\n",
        "training_args = TrainingArguments(\n",
        "    output_dir=\"emotion_classification_model\",\n",
        "    per_device_train_batch_size=8,\n",
        "    per_device_eval_batch_size=8,\n",
        "    eval_strategy=\"epoch\",\n",
        "    logging_dir=\"logs\",\n",
        "    logging_steps=100,\n",
        "    save_steps=1000,\n",
        "    fp16=True,\n",
        "    report_to=\"none\",\n",
        ")"
      ],
      "execution_count": null,
      "outputs": []
    },
    {
      "cell_type": "markdown",
      "metadata": {
        "id": "2baea34d"
      },
      "source": [
        "## Load gpt-2 language model\n",
        "\n",
        "### Subtask:\n",
        "Load the GPT-2 Language Model (`GPT2LMHeadModel`) with the appropriate configuration for multi-label classification.\n"
      ]
    },
    {
      "cell_type": "markdown",
      "metadata": {
        "id": "14ad5034"
      },
      "source": [
        "**Reasoning**:\n",
        "Load the GPT-2 Language Model with the appropriate configuration for multi-label classification.\n",
        "\n"
      ]
    },
    {
      "cell_type": "code",
      "metadata": {
        "colab": {
          "base_uri": "https://localhost:8080/"
        },
        "id": "e55768ce",
        "outputId": "3595e38f-d9fc-4cc0-9e8d-319312190b2f"
      },
      "source": [
        "from transformers import GPT2LMHeadModel\n",
        "\n",
        "# Load the GPT-2 model for conditional text generation based on the labels\n",
        "model = GPT2LMHeadModel.from_pretrained(\"gpt2\", num_labels=len(emotion_to_id))\n",
        "\n",
        "print(f\"Model loaded with {model.config.num_labels} labels.\")"
      ],
      "execution_count": null,
      "outputs": [
        {
          "output_type": "stream",
          "name": "stdout",
          "text": [
            "Model loaded with 26 labels.\n"
          ]
        }
      ]
    },
    {
      "cell_type": "markdown",
      "metadata": {
        "id": "4fcb417d"
      },
      "source": [
        "## Prepare data for conditional generation\n",
        "\n",
        "### Subtask:\n",
        "Format the text and emotion labels as input for conditional text generation.\n"
      ]
    },
    {
      "cell_type": "markdown",
      "metadata": {
        "id": "4a61526f"
      },
      "source": [
        "**Reasoning**:\n",
        "Create a function to format text and emotion labels and apply it to the training and testing dataframes.\n",
        "\n"
      ]
    },
    {
      "cell_type": "code",
      "metadata": {
        "colab": {
          "base_uri": "https://localhost:8080/",
          "height": 277
        },
        "id": "e9e111f8",
        "outputId": "6365b5aa-58de-4b85-d7a7-dd2727963255"
      },
      "source": [
        "# Create a function to format the text and emotion labels\n",
        "def format_text_with_labels(text, emotion_labels):\n",
        "    \"\"\"Formats text by prepending emotion labels in a specific format.\"\"\"\n",
        "    label_string = f\"[{', '.join(emotion_labels)}] \"\n",
        "    return label_string + text\n",
        "\n",
        "# Apply the formatting function to the training and testing data\n",
        "X_train_formatted = X_train.apply(lambda x: format_text_with_labels(x, y_train[X_train[X_train == x].index[0]]))\n",
        "X_test_formatted = X_test.apply(lambda x: format_text_with_labels(x, y_test[X_test[X_test == x].index[0]]))\n",
        "\n",
        "# Print the first few entries of the formatted data\n",
        "print(\"First few entries of X_train_formatted:\")\n",
        "display(X_train_formatted.head())\n",
        "\n",
        "print(\"\\nFirst few entries of X_test_formatted:\")\n",
        "display(X_test_formatted.head())"
      ],
      "execution_count": null,
      "outputs": [
        {
          "output_type": "stream",
          "name": "stdout",
          "text": [
            "First few entries of X_train_formatted:\n"
          ]
        },
        {
          "output_type": "display_data",
          "data": {
            "text/plain": [
              "8659                            [embarrassment] my mistake\n",
              "36419    [anger] its a smart move but also hurts the bu...\n",
              "2963     [anger] this genuinely made me angry he and hi...\n",
              "23942    [amusement] this looks like an obvious joke to...\n",
              "233      [disgust] not surprised damn that sucks concus...\n",
              "Name: cleaned_text, dtype: object"
            ]
          },
          "metadata": {}
        },
        {
          "output_type": "stream",
          "name": "stdout",
          "text": [
            "\n",
            "First few entries of X_test_formatted:\n"
          ]
        },
        {
          "output_type": "display_data",
          "data": {
            "text/plain": [
              "51055                 [amusement] ohhh lol gross and funny\n",
              "34728    [realization] mustve gotten it the wrong way r...\n",
              "24404    [annoyance, disappointment] and you cant reall...\n",
              "42186    [approval] ugh just give me some metallica nam...\n",
              "6538     [grief] i hate to be the bearer of bad news bu...\n",
              "Name: cleaned_text, dtype: object"
            ]
          },
          "metadata": {}
        }
      ]
    },
    {
      "cell_type": "markdown",
      "metadata": {
        "id": "87883d26"
      },
      "source": [
        "## Define training arguments\n",
        "\n",
        "### Subtask:\n",
        "Set up the training arguments, including specifying mixed precision and batch size.\n"
      ]
    },
    {
      "cell_type": "markdown",
      "metadata": {
        "id": "ba4bca9b"
      },
      "source": [
        "**Reasoning**:\n",
        "I need to define the training arguments for the Trainer, including mixed precision and batch size.\n",
        "\n"
      ]
    },
    {
      "cell_type": "code",
      "metadata": {
        "id": "d6f1f9b8"
      },
      "source": [
        "from transformers import TrainingArguments\n",
        "\n",
        "training_args = TrainingArguments(\n",
        "    output_dir=\"C:/Users/adria/OneDrive/Desktop/CODING/jupyter/models/goemotion/gpt2\",\n",
        "    per_device_train_batch_size=8,\n",
        "    per_device_eval_batch_size=8,\n",
        "    eval_strategy=\"epoch\",\n",
        "    save_strategy=\"epoch\",  # Changed save_strategy to match eval_strategy\n",
        "    logging_dir=\"logs\",\n",
        "    logging_steps=100,\n",
        "    save_steps=1000, # save_steps is ignored when save_strategy is \"epoch\"\n",
        "    fp16=True,\n",
        "    report_to=\"none\",\n",
        "    # Add save_total_limit to keep only the best checkpoints\n",
        "    save_total_limit=1,\n",
        "    # Add load_best_model_at_end to load the best model after training\n",
        "    load_best_model_at_end=True,\n",
        ")"
      ],
      "execution_count": null,
      "outputs": []
    },
    {
      "cell_type": "markdown",
      "metadata": {
        "id": "0b1d3736"
      },
      "source": [
        "## Define model and training setup\n",
        "\n",
        "### Subtask:\n",
        "Define the training setup, including the optimizer, learning rate scheduler, and loss function suitable for language modeling.\n"
      ]
    },
    {
      "cell_type": "markdown",
      "metadata": {
        "id": "5b2dd1b3"
      },
      "source": [
        "**Reasoning**:\n",
        "Define a custom dataset class, instantiate it for training and testing, define a data collator, and set up the training using the Trainer class.\n",
        "\n"
      ]
    },
    {
      "cell_type": "markdown",
      "metadata": {
        "id": "89d25b6e"
      },
      "source": [
        "## Implement Hyperparameter Search\n",
        "\n",
        "### Subtask:\n",
        "Implement hyperparameter search for epochs and learning rate using a suitable library."
      ]
    },
    {
      "cell_type": "code",
      "metadata": {
        "id": "a770f8e8"
      },
      "source": [
        "!pip install optuna -q"
      ],
      "execution_count": null,
      "outputs": []
    },
    {
      "cell_type": "code",
      "metadata": {
        "colab": {
          "base_uri": "https://localhost:8080/"
        },
        "id": "e6160461",
        "outputId": "c4c9846e-cb5f-4357-8c52-2d2b0bcf7655",
        "collapsed": true
      },
      "source": [
        "import torch\n",
        "from transformers import GPT2LMHeadModel, GPT2Tokenizer\n",
        "\n",
        "# Check for GPU availability and print the device\n",
        "device = torch.device(\"cuda\" if torch.cuda.is_available() else \"cpu\")\n",
        "print(f\"Using device: {device}\")\n",
        "\n",
        "def model_init(trial):\n",
        "    # Load the GPT-2 model for conditional text generation\n",
        "    return GPT2LMHeadModel.from_pretrained(\"gpt2\", num_labels=len(emotion_to_id)).to(device) # Move model to device\n",
        "\n",
        "# Define the hyperparameter search space\n",
        "def optuna_hp_space(trial):\n",
        "    return {\n",
        "        \"learning_rate\": trial.suggest_float(\"learning_rate\", 1e-5, 5e-5, log=True),\n",
        "        \"num_train_epochs\": trial.suggest_int(\"num_train_epochs\", 1, 5),\n",
        "    }\n",
        "\n",
        "# Run hyperparameter search\n",
        "# best_trial = trainer.hyperparameter_search( # This line will be moved and executed later\n",
        "#     direction=\"minimize\",\n",
        "#     backend=\"optuna\",\n",
        "#     hp_space=optuna_hp_space,\n",
        "#     n_trials=1,\n",
        "# )\n",
        "\n",
        "# print(\"Best hyperparameters found:\")\n",
        "# print(best_trial)"
      ],
      "execution_count": null,
      "outputs": [
        {
          "output_type": "stream",
          "name": "stdout",
          "text": [
            "Using device: cuda\n"
          ]
        }
      ]
    },
    {
      "cell_type": "code",
      "metadata": {
        "colab": {
          "base_uri": "https://localhost:8080/"
        },
        "id": "e6c42b47",
        "outputId": "68e2b602-ca2d-446a-d465-e4b72a1ddce6"
      },
      "source": [
        "from torch.utils.data import Dataset\n",
        "from transformers import Trainer, DataCollatorWithPadding\n",
        "\n",
        "# 1. Define a custom dataset class\n",
        "class EmotionDataset(Dataset):\n",
        "    def __init__(self, input_ids, attention_mask):\n",
        "        self.input_ids = input_ids\n",
        "        self.attention_mask = attention_mask\n",
        "        # For language modeling, labels are typically the shifted input_ids\n",
        "        self.labels = input_ids # Model will handle the shifting internally\n",
        "\n",
        "    def __len__(self):\n",
        "        return len(self.input_ids)\n",
        "\n",
        "    def __getitem__(self, idx):\n",
        "        return {\n",
        "            'input_ids': self.input_ids[idx],\n",
        "            'attention_mask': self.attention_mask[idx],\n",
        "            'labels': self.labels[idx] # Provide input_ids as labels for LM\n",
        "        }\n",
        "\n",
        "# 2. Instantiate the custom dataset\n",
        "# Use the padded and attention-masked tokenized data\n",
        "train_dataset = EmotionDataset(X_train_padded, X_train_attention_mask)\n",
        "test_dataset = EmotionDataset(X_test_padded, X_test_attention_mask)\n",
        "\n",
        "# 3. Define a data collator\n",
        "# DataCollatorWithPadding is suitable for language modeling\n",
        "data_collator = DataCollatorWithPadding(tokenizer=tokenizer)\n",
        "\n",
        "# 4. Define the training setup using the Trainer class\n",
        "# Remove model_init as model is directly provided\n",
        "trainer = Trainer(\n",
        "    model=model, # Using the pre-loaded model initially\n",
        "    args=training_args,\n",
        "    train_dataset=train_dataset,\n",
        "    eval_dataset=test_dataset,\n",
        "    data_collator=data_collator,\n",
        "    model_init=model_init, # model_init is used in hyperparameter_search\n",
        ")\n",
        "\n",
        "print(\"Training setup defined using Trainer.\")"
      ],
      "execution_count": null,
      "outputs": [
        {
          "output_type": "stream",
          "name": "stdout",
          "text": [
            "Training setup defined using Trainer.\n"
          ]
        },
        {
          "output_type": "stream",
          "name": "stderr",
          "text": [
            "C:\\ProgramData\\miniconda3\\envs\\goemotion\\lib\\site-packages\\transformers\\trainer.py:487: FutureWarning: `Trainer` requires either a `model` or `model_init` argument, but not both. `model_init` will overwrite your model when calling the `train` method. This will become a fatal error in the next release.\n",
            "  warnings.warn(\n"
          ]
        }
      ]
    },
    {
      "cell_type": "code",
      "source": [
        "#Run hyperparameter search\n",
        "best_trial = trainer.hyperparameter_search( # This line will be moved and executed later\n",
        "direction=\"minimize\",\n",
        "backend=\"optuna\",\n",
        "hp_space=optuna_hp_space,\n",
        "n_trials=1, )\n",
        "\n",
        "print(\"Best hyperparameters found:\")\n",
        "print(best_trial)"
      ],
      "metadata": {
        "colab": {
          "base_uri": "https://localhost:8080/",
          "height": 293
        },
        "id": "tz7IV3ZutTEt",
        "outputId": "3cf990e2-f20c-4d90-9447-c49bfae87dc2"
      },
      "execution_count": null,
      "outputs": [
        {
          "output_type": "stream",
          "name": "stderr",
          "text": [
            "[I 2025-09-27 15:56:41,820] A new study created in memory with name: no-name-9f92c4d9-1a2f-40ee-ac2c-0e47af076ae1\n",
            "`loss_type=None` was set in the config but it is unrecognized. Using the default loss: `ForCausalLMLoss`.\n"
          ]
        },
        {
          "output_type": "display_data",
          "data": {
            "text/plain": [
              "<IPython.core.display.HTML object>"
            ],
            "text/html": [
              "\n",
              "    <div>\n",
              "      \n",
              "      <progress value='9447' max='9447' style='width:300px; height:20px; vertical-align: middle;'></progress>\n",
              "      [9447/9447 27:36, Epoch 3/3]\n",
              "    </div>\n",
              "    <table border=\"1\" class=\"dataframe\">\n",
              "  <thead>\n",
              " <tr style=\"text-align: left;\">\n",
              "      <th>Epoch</th>\n",
              "      <th>Training Loss</th>\n",
              "      <th>Validation Loss</th>\n",
              "    </tr>\n",
              "  </thead>\n",
              "  <tbody>\n",
              "    <tr>\n",
              "      <td>1</td>\n",
              "      <td>0.483900</td>\n",
              "      <td>0.483492</td>\n",
              "    </tr>\n",
              "    <tr>\n",
              "      <td>2</td>\n",
              "      <td>0.478100</td>\n",
              "      <td>0.478904</td>\n",
              "    </tr>\n",
              "    <tr>\n",
              "      <td>3</td>\n",
              "      <td>0.477100</td>\n",
              "      <td>0.478395</td>\n",
              "    </tr>\n",
              "  </tbody>\n",
              "</table><p>"
            ]
          },
          "metadata": {}
        },
        {
          "output_type": "stream",
          "name": "stderr",
          "text": [
            "There were missing keys in the checkpoint model loaded: ['lm_head.weight'].\n",
            "[I 2025-09-27 16:24:21,372] Trial 0 finished with value: 0.4783950746059418 and parameters: {'learning_rate': 1.1668286438691365e-05, 'num_train_epochs': 3}. Best is trial 0 with value: 0.4783950746059418.\n"
          ]
        },
        {
          "output_type": "stream",
          "name": "stdout",
          "text": [
            "Best hyperparameters found:\n",
            "BestRun(run_id='0', objective=0.4783950746059418, hyperparameters={'learning_rate': 1.1668286438691365e-05, 'num_train_epochs': 3}, run_summary=None)\n"
          ]
        }
      ]
    },
    {
      "cell_type": "code",
      "metadata": {
        "colab": {
          "base_uri": "https://localhost:8080/"
        },
        "id": "8f305887",
        "outputId": "02687706-ee36-4909-cd90-ccb72537b7d1"
      },
      "source": [
        "# Re-instantiate the Trainer after hyperparameter search\n",
        "trainer = Trainer(\n",
        "    model=model_init(best_trial.hyperparameters), # Initialize model with best hyperparameters\n",
        "    args=training_args,\n",
        "    train_dataset=train_dataset,\n",
        "    eval_dataset=test_dataset,\n",
        "    data_collator=data_collator,\n",
        ")\n",
        "\n",
        "print(\"Trainer re-instantiated with best hyperparameters.\")"
      ],
      "execution_count": null,
      "outputs": [
        {
          "output_type": "stream",
          "name": "stdout",
          "text": [
            "Trainer re-instantiated with best hyperparameters.\n"
          ]
        }
      ]
    },
    {
      "cell_type": "code",
      "metadata": {
        "colab": {
          "base_uri": "https://localhost:8080/",
          "height": 239
        },
        "id": "2e180eee",
        "outputId": "82faaf39-82e5-4e75-9f72-f58d4c3015a2"
      },
      "source": [
        "trainer.train()"
      ],
      "execution_count": null,
      "outputs": [
        {
          "output_type": "display_data",
          "data": {
            "text/plain": [
              "<IPython.core.display.HTML object>"
            ],
            "text/html": [
              "\n",
              "    <div>\n",
              "      \n",
              "      <progress value='9447' max='9447' style='width:300px; height:20px; vertical-align: middle;'></progress>\n",
              "      [9447/9447 27:33, Epoch 3/3]\n",
              "    </div>\n",
              "    <table border=\"1\" class=\"dataframe\">\n",
              "  <thead>\n",
              " <tr style=\"text-align: left;\">\n",
              "      <th>Epoch</th>\n",
              "      <th>Training Loss</th>\n",
              "      <th>Validation Loss</th>\n",
              "    </tr>\n",
              "  </thead>\n",
              "  <tbody>\n",
              "    <tr>\n",
              "      <td>1</td>\n",
              "      <td>0.483900</td>\n",
              "      <td>0.483492</td>\n",
              "    </tr>\n",
              "    <tr>\n",
              "      <td>2</td>\n",
              "      <td>0.478100</td>\n",
              "      <td>0.478904</td>\n",
              "    </tr>\n",
              "    <tr>\n",
              "      <td>3</td>\n",
              "      <td>0.477100</td>\n",
              "      <td>0.478395</td>\n",
              "    </tr>\n",
              "  </tbody>\n",
              "</table><p>"
            ]
          },
          "metadata": {}
        },
        {
          "output_type": "stream",
          "name": "stderr",
          "text": [
            "There were missing keys in the checkpoint model loaded: ['lm_head.weight'].\n"
          ]
        },
        {
          "output_type": "execute_result",
          "data": {
            "text/plain": [
              "TrainOutput(global_step=9447, training_loss=0.4977539085112792, metrics={'train_runtime': 1653.8481, 'train_samples_per_second': 45.69, 'train_steps_per_second': 5.712, 'total_flos': 4936067776512000.0, 'train_loss': 0.4977539085112792, 'epoch': 3.0})"
            ]
          },
          "metadata": {},
          "execution_count": 31
        }
      ]
    },
    {
      "cell_type": "markdown",
      "source": [
        "# Data Augmentation"
      ],
      "metadata": {
        "id": "KZMxwWmq98CV"
      }
    },
    {
      "cell_type": "code",
      "metadata": {
        "colab": {
          "base_uri": "https://localhost:8080/"
        },
        "id": "1ef8984d",
        "outputId": "1276dcb9-5de1-46b2-87a4-e7a67ef2c903"
      },
      "source": [
        "# Load the trained model\n",
        "from transformers import GPT2LMHeadModel, GPT2Tokenizer\n",
        "\n",
        "model_path = \"C:/Users/adria/OneDrive/Desktop/CODING/jupyter/models/goemotion/gpt2/\" # This is the output directory specified in TrainingArguments\n",
        "trained_model = GPT2LMHeadModel.from_pretrained(model_path)\n",
        "tokenizer = GPT2Tokenizer.from_pretrained(\"gpt2\")\n",
        "tokenizer.pad_token = tokenizer.eos_token # Set pad token\n",
        "\n",
        "print(f\"Trained model loaded from {model_path}\")"
      ],
      "execution_count": null,
      "outputs": [
        {
          "output_type": "stream",
          "name": "stdout",
          "text": [
            "Trained model loaded from C:/Users/adria/OneDrive/Desktop/CODING/jupyter/models/goemotion/gpt2/run-0/checkpoint-9447\n"
          ]
        }
      ]
    },
    {
      "cell_type": "code",
      "source": [
        "# Assess the model on the test dataset\n",
        "eval_results = trainer.evaluate(test_dataset)\n",
        "\n",
        "print(\"Evaluation Results:\")\n",
        "print(eval_results)"
      ],
      "metadata": {
        "colab": {
          "base_uri": "https://localhost:8080/",
          "height": 141
        },
        "id": "INHrpz3ZCo2O",
        "outputId": "ca2b7ce6-50d6-4eb5-d078-8b8facfab61c"
      },
      "execution_count": null,
      "outputs": [
        {
          "output_type": "display_data",
          "data": {
            "text/plain": [
              "<IPython.core.display.HTML object>"
            ],
            "text/html": [
              "\n",
              "    <div>\n",
              "      \n",
              "      <progress value='25' max='66935' style='width:300px; height:20px; vertical-align: middle;'></progress>\n",
              "      [   25/66935 00:03 < 3:03:14, 6.09 it/s, Epoch 0.00/5]\n",
              "    </div>\n",
              "    <table border=\"1\" class=\"dataframe\">\n",
              "  <thead>\n",
              " <tr style=\"text-align: left;\">\n",
              "      <th>Epoch</th>\n",
              "      <th>Training Loss</th>\n",
              "      <th>Validation Loss</th>\n",
              "    </tr>\n",
              "  </thead>\n",
              "  <tbody>\n",
              "    <tr>\n",
              "      <td>0</td>\n",
              "      <td>No log</td>\n",
              "      <td>3.332869</td>\n",
              "    </tr>\n",
              "  </tbody>\n",
              "</table><p>"
            ]
          },
          "metadata": {}
        },
        {
          "output_type": "stream",
          "name": "stdout",
          "text": [
            "Evaluation Results:\n",
            "{'eval_loss': 3.332868814468384}\n"
          ]
        }
      ]
    },
    {
      "cell_type": "code",
      "metadata": {
        "colab": {
          "base_uri": "https://localhost:8080/"
        },
        "id": "409e1318",
        "outputId": "f8656bd4-f7b1-4b35-d12e-d92c48234651"
      },
      "source": [
        "# Function to generate text\n",
        "def generate_text(model, tokenizer, prompt, max_length=50, num_return_sequences=1, temperature=0.7, top_k=50, top_p=0.95):\n",
        "    \"\"\"Generates text based on a prompt.\"\"\"\n",
        "    input_ids = tokenizer.encode(prompt, return_tensors=\"pt\")\n",
        "    # Ensure input_ids is on the same device as the model\n",
        "    input_ids = input_ids.to(model.device)\n",
        "\n",
        "    output = model.generate(\n",
        "        input_ids,\n",
        "        max_length=max_length,\n",
        "        num_return_sequences=num_return_sequences,\n",
        "        temperature=temperature,\n",
        "        top_k=top_k,\n",
        "        top_p=top_p,\n",
        "        pad_token_id=tokenizer.eos_token_id, # Use eos_token_id for padding\n",
        "        do_sample=True # Enable sampling for multiple return sequences\n",
        "    )\n",
        "    return [tokenizer.decode(seq, skip_special_tokens=True) for seq in output]\n",
        "\n",
        "# Generate some sentences with specific emotions\n",
        "prompts = [\n",
        "    \"[joy] \",\n",
        "    \"[sadness] \",\n",
        "    \"[anger] \",\n",
        "    \"[excitement] \"\n",
        "]\n",
        "\n",
        "print(\"Generated sentences:\")\n",
        "for prompt in prompts:\n",
        "    generated_sentences = generate_text(trained_model, tokenizer, prompt, num_return_sequences=2)\n",
        "    for sentence in generated_sentences:\n",
        "        print(f\"- {sentence}\")"
      ],
      "execution_count": null,
      "outputs": [
        {
          "output_type": "stream",
          "name": "stderr",
          "text": [
            "The attention mask is not set and cannot be inferred from input because pad token is same as eos token. As a consequence, you may observe unexpected behavior. Please pass your input's `attention_mask` to obtain reliable results.\n"
          ]
        },
        {
          "output_type": "stream",
          "name": "stdout",
          "text": [
            "Generated sentences:\n",
            "- [joy] ive been meaning to post this for a while and i just realized i forgot about it\n",
            "- [joy] ive been to that place before\n",
            "- [sadness] ive never seen it in the movies\n",
            "- [sadness] ive had this experience and it wasnt to be regretted\n",
            "- [anger] ive got a lot of respect for the kid\n",
            "- [anger] ive been waiting a long time to get into a relationship with this guy\n",
            "- [excitement] ive been playing for hours and still cant believe i lost to her\n",
            "- [excitement] ive been watching this for years\n"
          ]
        }
      ]
    },
    {
      "cell_type": "markdown",
      "metadata": {
        "id": "f5afb19f"
      },
      "source": [
        "**Reasoning**:\n",
        "Load the go_emotions dataset again, convert the splits to pandas DataFrames, concatenate them, and display the head of the combined DataFrame.\n",
        "\n"
      ]
    },
    {
      "cell_type": "code",
      "metadata": {
        "colab": {
          "base_uri": "https://localhost:8080/",
          "height": 206
        },
        "id": "a9b25aae",
        "outputId": "e91e3103-2453-44ae-9a21-a94427fa4692"
      },
      "source": [
        "from datasets import load_dataset\n",
        "import pandas as pd\n",
        "\n",
        "dataset = load_dataset(\"go_emotions\", \"simplified\")\n",
        "train_df = dataset[\"train\"].to_pandas()\n",
        "validation_df = dataset[\"validation\"].to_pandas()\n",
        "test_df = dataset[\"test\"].to_pandas()\n",
        "\n",
        "# Concatenate all dataframes into a single dataframe\n",
        "all_df = pd.concat([train_df, validation_df, test_df], ignore_index=True)\n",
        "\n",
        "display(all_df.head())"
      ],
      "execution_count": null,
      "outputs": [
        {
          "output_type": "display_data",
          "data": {
            "text/plain": [
              "                                                text labels       id\n",
              "0  My favourite food is anything I didn't have to...   [27]  eebbqej\n",
              "1  Now if he does off himself, everyone will thin...   [27]  ed00q6i\n",
              "2                     WHY THE FUCK IS BAYLESS ISOING    [2]  eezlygj\n",
              "3                        To make her feel threatened   [14]  ed7ypvh\n",
              "4                             Dirty Southern Wankers    [3]  ed0bdzj"
            ],
            "text/html": [
              "<div>\n",
              "<style scoped>\n",
              "    .dataframe tbody tr th:only-of-type {\n",
              "        vertical-align: middle;\n",
              "    }\n",
              "\n",
              "    .dataframe tbody tr th {\n",
              "        vertical-align: top;\n",
              "    }\n",
              "\n",
              "    .dataframe thead th {\n",
              "        text-align: right;\n",
              "    }\n",
              "</style>\n",
              "<table border=\"1\" class=\"dataframe\">\n",
              "  <thead>\n",
              "    <tr style=\"text-align: right;\">\n",
              "      <th></th>\n",
              "      <th>text</th>\n",
              "      <th>labels</th>\n",
              "      <th>id</th>\n",
              "    </tr>\n",
              "  </thead>\n",
              "  <tbody>\n",
              "    <tr>\n",
              "      <th>0</th>\n",
              "      <td>My favourite food is anything I didn't have to...</td>\n",
              "      <td>[27]</td>\n",
              "      <td>eebbqej</td>\n",
              "    </tr>\n",
              "    <tr>\n",
              "      <th>1</th>\n",
              "      <td>Now if he does off himself, everyone will thin...</td>\n",
              "      <td>[27]</td>\n",
              "      <td>ed00q6i</td>\n",
              "    </tr>\n",
              "    <tr>\n",
              "      <th>2</th>\n",
              "      <td>WHY THE FUCK IS BAYLESS ISOING</td>\n",
              "      <td>[2]</td>\n",
              "      <td>eezlygj</td>\n",
              "    </tr>\n",
              "    <tr>\n",
              "      <th>3</th>\n",
              "      <td>To make her feel threatened</td>\n",
              "      <td>[14]</td>\n",
              "      <td>ed7ypvh</td>\n",
              "    </tr>\n",
              "    <tr>\n",
              "      <th>4</th>\n",
              "      <td>Dirty Southern Wankers</td>\n",
              "      <td>[3]</td>\n",
              "      <td>ed0bdzj</td>\n",
              "    </tr>\n",
              "  </tbody>\n",
              "</table>\n",
              "</div>"
            ]
          },
          "metadata": {}
        }
      ]
    },
    {
      "cell_type": "markdown",
      "metadata": {
        "id": "84c8469f"
      },
      "source": [
        "## Analyze class distribution\n",
        "\n",
        "### Subtask:\n",
        "Analyze the class distribution of the emotions in the original dataset to identify the counts for each class, including 'neutral' and 'admiration'.\n"
      ]
    },
    {
      "cell_type": "markdown",
      "metadata": {
        "id": "619406f8"
      },
      "source": [
        "**Reasoning**:\n",
        "Explode the 'labels' column, calculate value counts, map to emotion names, and display the counts.\n",
        "\n"
      ]
    },
    {
      "cell_type": "markdown",
      "metadata": {
        "id": "d38c2a7b"
      },
      "source": [
        "**Reasoning**:\n",
        "The traceback indicates that the `emotion_map` dictionary is not defined. I need to define it before using it to map the numerical labels to emotion names.\n",
        "\n"
      ]
    },
    {
      "cell_type": "code",
      "metadata": {
        "colab": {
          "base_uri": "https://localhost:8080/",
          "height": 538
        },
        "id": "4fHQVhvdAM_w",
        "outputId": "8057ad94-63f0-4808-cea1-81025d48d1b0"
      },
      "source": [
        "# Create a dictionary to map label IDs to emotion names\n",
        "emotion_map = {\n",
        "    0: \"admiration\", 1: \"amusement\", 2: \"anger\", 3: \"annoyance\", 4: \"approval\",\n",
        "    5: \"caring\", 6: \"confusion\", 7: \"curiosity\", 8: \"desire\", 9: \"disappointment\",\n",
        "    10: \"disapproval\", 11: \"disgust\", 12: \"embarrassment\", 13: \"excitement\",\n",
        "    14: \"fear\", 15: \"gratitude\", 16: \"grief\", 17: \"joy\", 18: \"love\",\n",
        "    19: \"nervousness\", 20: \"optimism\", 21: \"pride\", 22: \"realization\", 23: \"relief\",\n",
        "    24: \"remorse\", 25: \"sadness\", 26: \"surprise\", 27: \"neutral\"\n",
        "}\n",
        "\n",
        "# Explode the 'labels' column to handle multiple labels per text entry\n",
        "exploded_labels = all_df['labels'].explode()\n",
        "\n",
        "# Calculate the value counts of the exploded 'labels'\n",
        "label_counts_all = exploded_labels.value_counts()\n",
        "\n",
        "# Map the numerical labels to their corresponding emotion names\n",
        "emotion_counts = label_counts_all.rename(index=emotion_map)\n",
        "\n",
        "# Display the resulting emotion counts\n",
        "display(emotion_counts)"
      ],
      "execution_count": null,
      "outputs": [
        {
          "output_type": "display_data",
          "data": {
            "text/plain": [
              "labels\n",
              "neutral           17772\n",
              "admiration         5122\n",
              "approval           3687\n",
              "gratitude          3372\n",
              "annoyance          3093\n",
              "amusement          2895\n",
              "curiosity          2723\n",
              "disapproval        2581\n",
              "love               2576\n",
              "optimism           1976\n",
              "anger              1960\n",
              "joy                1785\n",
              "confusion          1673\n",
              "sadness            1625\n",
              "disappointment     1583\n",
              "realization        1382\n",
              "caring             1375\n",
              "surprise           1330\n",
              "excitement         1052\n",
              "disgust            1013\n",
              "desire              801\n",
              "fear                764\n",
              "remorse             669\n",
              "embarrassment       375\n",
              "nervousness         208\n",
              "relief              182\n",
              "pride               142\n",
              "grief                96\n",
              "Name: count, dtype: int64"
            ]
          },
          "metadata": {}
        }
      ]
    },
    {
      "cell_type": "markdown",
      "metadata": {
        "id": "c18e52bb"
      },
      "source": [
        "## Determine target count for upsampling\n",
        "\n",
        "### Subtask:\n",
        "Get the count of the 'admiration' class from the analyzed class distribution.\n"
      ]
    },
    {
      "cell_type": "markdown",
      "metadata": {
        "id": "a3f85c4e"
      },
      "source": [
        "**Reasoning**:\n",
        "Access the count for the 'admiration' emotion from the `emotion_counts` Series, store it in a variable, and print the variable.\n",
        "\n"
      ]
    },
    {
      "cell_type": "code",
      "metadata": {
        "colab": {
          "base_uri": "https://localhost:8080/"
        },
        "id": "992b9246",
        "outputId": "35222fa2-e174-443a-9a41-ed79a96def9c"
      },
      "source": [
        "# Access the count for the 'admiration' emotion\n",
        "admiration_count = emotion_counts['admiration']\n",
        "\n",
        "# Print the value of admiration_count\n",
        "print(f\"Count of 'admiration' class: {admiration_count}\")"
      ],
      "execution_count": null,
      "outputs": [
        {
          "output_type": "stream",
          "name": "stdout",
          "text": [
            "Count of 'admiration' class: 5122\n"
          ]
        }
      ]
    },
    {
      "cell_type": "markdown",
      "metadata": {
        "id": "f4030244"
      },
      "source": [
        "## Identify classes to upsample\n",
        "\n",
        "### Subtask:\n",
        "Identify all emotion classes except 'neutral' and 'admiration' that need to be upsample.\n"
      ]
    },
    {
      "cell_type": "markdown",
      "metadata": {
        "id": "4427be3a"
      },
      "source": [
        "**Reasoning**:\n",
        "Create a list of all emotion names from the `emotion_map`, remove 'neutral' and 'admiration', and store the result in `classes_to_upsample`.\n",
        "\n"
      ]
    },
    {
      "cell_type": "code",
      "metadata": {
        "colab": {
          "base_uri": "https://localhost:8080/"
        },
        "id": "9e672121",
        "outputId": "1f6b2b67-fce6-4bb5-f35c-c3ba25f18973"
      },
      "source": [
        "# Create a list of all emotion names from the emotion_map\n",
        "all_emotions = list(emotion_map.values())\n",
        "\n",
        "# Remove 'neutral' and 'admiration' from this list\n",
        "classes_to_upsample = [emotion for emotion in all_emotions if emotion not in ['neutral', 'admiration']]\n",
        "\n",
        "# Print the classes_to_upsample list\n",
        "print(\"Classes to upsample:\")\n",
        "print(classes_to_upsample)"
      ],
      "execution_count": null,
      "outputs": [
        {
          "output_type": "stream",
          "name": "stdout",
          "text": [
            "Classes to upsample:\n",
            "['amusement', 'anger', 'annoyance', 'approval', 'caring', 'confusion', 'curiosity', 'desire', 'disappointment', 'disapproval', 'disgust', 'embarrassment', 'excitement', 'fear', 'gratitude', 'grief', 'joy', 'love', 'nervousness', 'optimism', 'pride', 'realization', 'relief', 'remorse', 'sadness', 'surprise']\n"
          ]
        }
      ]
    },
    {
      "cell_type": "markdown",
      "metadata": {
        "id": "a9ff582d"
      },
      "source": [
        "## Generate synthetic data\n",
        "\n",
        "### Subtask:\n",
        "For each class identified in the previous step, use the trained GPT-2 model to generate new text examples until the count for that class reaches the target count (admiration count).\n"
      ]
    },
    {
      "cell_type": "code",
      "metadata": {
        "colab": {
          "base_uri": "https://localhost:8080/",
          "height": 1000
        },
        "id": "9CzlH3n1BGvm",
        "outputId": "1dfb51e2-3d32-4f7e-aa29-3973d29026ae"
      },
      "source": [
        "import numpy as np\n",
        "import re\n",
        "import torch # Import torch\n",
        "import pandas as pd # Import pandas\n",
        "\n",
        "# Define the clean_text function again\n",
        "def clean_text(text):\n",
        "    # Remove special characters and numbers\n",
        "    text = re.sub(r'[^a-zA-Z\\s]', '', text)\n",
        "    # Convert to lowercase\n",
        "    text = text.lower()\n",
        "    # Remove extra spaces\n",
        "    text = re.sub(r'\\s+', ' ', text).strip()\n",
        "    return text\n",
        "\n",
        "# Check for GPU availability and set the device\n",
        "device = torch.device(\"cuda\" if torch.cuda.is_available() else \"cpu\")\n",
        "print(f\"Using device for generation: {device}\")\n",
        "\n",
        "# Move the trained model to the GPU\n",
        "trained_model.to(device)\n",
        "\n",
        "generated_data = []\n",
        "total_generated_count = 0 # Counter for total generated samples\n",
        "\n",
        "# Iterate through each emotion to upsample\n",
        "for emotion in classes_to_upsample:\n",
        "    current_count = emotion_counts[emotion]\n",
        "    samples_needed = admiration_count - current_count\n",
        "\n",
        "    if samples_needed > 0:\n",
        "        print(f\"Generating {samples_needed} samples for emotion: {emotion}\")\n",
        "        prompt = f\"[{emotion}] \"\n",
        "        generated_sentences = []\n",
        "\n",
        "        # Generate text in batches\n",
        "        batch_size = 10 # Adjust batch size as needed\n",
        "        num_generated_for_emotion = 0 # Counter for current emotion\n",
        "\n",
        "        while num_generated_for_emotion < samples_needed:\n",
        "            num_to_generate = min(batch_size, samples_needed - num_generated_for_emotion)\n",
        "            if num_to_generate > 0:\n",
        "                # Ensure the prompt is on the same device as the model\n",
        "                batch_sentences = generate_text(trained_model, tokenizer, prompt, num_return_sequences=num_to_generate, max_length=64) # Increased max_length\n",
        "                generated_sentences.extend(batch_sentences)\n",
        "                generated_this_batch = len(batch_sentences)\n",
        "                num_generated_for_emotion += generated_this_batch\n",
        "                total_generated_count += generated_this_batch\n",
        "\n",
        "                # Print progress every 100 generated samples for the current emotion\n",
        "                if num_generated_for_emotion % 100 == 0:\n",
        "                    print(f\"Generated {num_generated_for_emotion} samples for {emotion}\")\n",
        "\n",
        "\n",
        "        # Store the generated text and emotion label\n",
        "        for sentence in generated_sentences:\n",
        "            # Clean the generated text similar to the original data\n",
        "            # Check if the sentence starts with the prompt before replacing\n",
        "            cleaned_sentence = sentence\n",
        "            if cleaned_sentence.startswith(prompt):\n",
        "                 cleaned_sentence = cleaned_sentence[len(prompt):]\n",
        "            cleaned_sentence = clean_text(cleaned_sentence) # Apply cleaning\n",
        "            generated_data.append({'text': cleaned_sentence, 'emotion_labels': [emotion]})\n"
      ],
      "execution_count": null,
      "outputs": [
        {
          "output_type": "stream",
          "name": "stdout",
          "text": [
            "Using device for generation: cuda\n",
            "Generating 2227 samples for emotion: amusement\n",
            "Generated 100 samples for amusement\n",
            "Generated 200 samples for amusement\n",
            "Generated 300 samples for amusement\n",
            "Generated 400 samples for amusement\n",
            "Generated 500 samples for amusement\n",
            "Generated 600 samples for amusement\n",
            "Generated 700 samples for amusement\n",
            "Generated 800 samples for amusement\n",
            "Generated 900 samples for amusement\n",
            "Generated 1000 samples for amusement\n",
            "Generated 1100 samples for amusement\n",
            "Generated 1200 samples for amusement\n",
            "Generated 1300 samples for amusement\n",
            "Generated 1400 samples for amusement\n",
            "Generated 1500 samples for amusement\n",
            "Generated 1600 samples for amusement\n",
            "Generated 1700 samples for amusement\n",
            "Generated 1800 samples for amusement\n",
            "Generated 1900 samples for amusement\n",
            "Generated 2000 samples for amusement\n",
            "Generated 2100 samples for amusement\n",
            "Generated 2200 samples for amusement\n",
            "Generating 3162 samples for emotion: anger\n",
            "Generated 100 samples for anger\n",
            "Generated 200 samples for anger\n",
            "Generated 300 samples for anger\n",
            "Generated 400 samples for anger\n",
            "Generated 500 samples for anger\n",
            "Generated 600 samples for anger\n",
            "Generated 700 samples for anger\n",
            "Generated 800 samples for anger\n",
            "Generated 900 samples for anger\n",
            "Generated 1000 samples for anger\n",
            "Generated 1100 samples for anger\n",
            "Generated 1200 samples for anger\n",
            "Generated 1300 samples for anger\n",
            "Generated 1400 samples for anger\n",
            "Generated 1500 samples for anger\n",
            "Generated 1600 samples for anger\n",
            "Generated 1700 samples for anger\n",
            "Generated 1800 samples for anger\n",
            "Generated 1900 samples for anger\n",
            "Generated 2000 samples for anger\n",
            "Generated 2100 samples for anger\n",
            "Generated 2200 samples for anger\n",
            "Generated 2300 samples for anger\n",
            "Generated 2400 samples for anger\n",
            "Generated 2500 samples for anger\n",
            "Generated 2600 samples for anger\n",
            "Generated 2700 samples for anger\n",
            "Generated 2800 samples for anger\n",
            "Generated 2900 samples for anger\n",
            "Generated 3000 samples for anger\n",
            "Generated 3100 samples for anger\n",
            "Generating 2029 samples for emotion: annoyance\n",
            "Generated 100 samples for annoyance\n",
            "Generated 200 samples for annoyance\n",
            "Generated 300 samples for annoyance\n",
            "Generated 400 samples for annoyance\n",
            "Generated 500 samples for annoyance\n",
            "Generated 600 samples for annoyance\n",
            "Generated 700 samples for annoyance\n",
            "Generated 800 samples for annoyance\n",
            "Generated 900 samples for annoyance\n",
            "Generated 1000 samples for annoyance\n",
            "Generated 1100 samples for annoyance\n",
            "Generated 1200 samples for annoyance\n",
            "Generated 1300 samples for annoyance\n",
            "Generated 1400 samples for annoyance\n",
            "Generated 1500 samples for annoyance\n",
            "Generated 1600 samples for annoyance\n",
            "Generated 1700 samples for annoyance\n",
            "Generated 1800 samples for annoyance\n",
            "Generated 1900 samples for annoyance\n",
            "Generated 2000 samples for annoyance\n",
            "Generating 1435 samples for emotion: approval\n",
            "Generated 100 samples for approval\n",
            "Generated 200 samples for approval\n",
            "Generated 300 samples for approval\n",
            "Generated 400 samples for approval\n",
            "Generated 500 samples for approval\n",
            "Generated 600 samples for approval\n",
            "Generated 700 samples for approval\n",
            "Generated 800 samples for approval\n",
            "Generated 900 samples for approval\n",
            "Generated 1000 samples for approval\n",
            "Generated 1100 samples for approval\n",
            "Generated 1200 samples for approval\n",
            "Generated 1300 samples for approval\n",
            "Generated 1400 samples for approval\n",
            "Generating 3747 samples for emotion: caring\n",
            "Generated 100 samples for caring\n",
            "Generated 200 samples for caring\n",
            "Generated 300 samples for caring\n",
            "Generated 400 samples for caring\n",
            "Generated 500 samples for caring\n",
            "Generated 600 samples for caring\n",
            "Generated 700 samples for caring\n",
            "Generated 800 samples for caring\n",
            "Generated 900 samples for caring\n",
            "Generated 1000 samples for caring\n",
            "Generated 1100 samples for caring\n",
            "Generated 1200 samples for caring\n",
            "Generated 1300 samples for caring\n",
            "Generated 1400 samples for caring\n",
            "Generated 1500 samples for caring\n",
            "Generated 1600 samples for caring\n",
            "Generated 1700 samples for caring\n",
            "Generated 1800 samples for caring\n",
            "Generated 1900 samples for caring\n",
            "Generated 2000 samples for caring\n",
            "Generated 2100 samples for caring\n",
            "Generated 2200 samples for caring\n",
            "Generated 2300 samples for caring\n",
            "Generated 2400 samples for caring\n",
            "Generated 2500 samples for caring\n",
            "Generated 2600 samples for caring\n",
            "Generated 2700 samples for caring\n",
            "Generated 2800 samples for caring\n",
            "Generated 2900 samples for caring\n",
            "Generated 3000 samples for caring\n",
            "Generated 3100 samples for caring\n",
            "Generated 3200 samples for caring\n",
            "Generated 3300 samples for caring\n",
            "Generated 3400 samples for caring\n",
            "Generated 3500 samples for caring\n",
            "Generated 3600 samples for caring\n",
            "Generated 3700 samples for caring\n",
            "Generating 3449 samples for emotion: confusion\n",
            "Generated 100 samples for confusion\n",
            "Generated 200 samples for confusion\n",
            "Generated 300 samples for confusion\n",
            "Generated 400 samples for confusion\n",
            "Generated 500 samples for confusion\n",
            "Generated 600 samples for confusion\n",
            "Generated 700 samples for confusion\n",
            "Generated 800 samples for confusion\n",
            "Generated 900 samples for confusion\n",
            "Generated 1000 samples for confusion\n",
            "Generated 1100 samples for confusion\n",
            "Generated 1200 samples for confusion\n",
            "Generated 1300 samples for confusion\n",
            "Generated 1400 samples for confusion\n",
            "Generated 1500 samples for confusion\n",
            "Generated 1600 samples for confusion\n",
            "Generated 1700 samples for confusion\n",
            "Generated 1800 samples for confusion\n",
            "Generated 1900 samples for confusion\n",
            "Generated 2000 samples for confusion\n",
            "Generated 2100 samples for confusion\n",
            "Generated 2200 samples for confusion\n",
            "Generated 2300 samples for confusion\n",
            "Generated 2400 samples for confusion\n",
            "Generated 2500 samples for confusion\n",
            "Generated 2600 samples for confusion\n",
            "Generated 2700 samples for confusion\n",
            "Generated 2800 samples for confusion\n",
            "Generated 2900 samples for confusion\n",
            "Generated 3000 samples for confusion\n",
            "Generated 3100 samples for confusion\n",
            "Generated 3200 samples for confusion\n",
            "Generated 3300 samples for confusion\n",
            "Generated 3400 samples for confusion\n",
            "Generating 2399 samples for emotion: curiosity\n",
            "Generated 100 samples for curiosity\n",
            "Generated 200 samples for curiosity\n",
            "Generated 300 samples for curiosity\n",
            "Generated 400 samples for curiosity\n",
            "Generated 500 samples for curiosity\n",
            "Generated 600 samples for curiosity\n",
            "Generated 700 samples for curiosity\n",
            "Generated 800 samples for curiosity\n",
            "Generated 900 samples for curiosity\n",
            "Generated 1000 samples for curiosity\n",
            "Generated 1100 samples for curiosity\n",
            "Generated 1200 samples for curiosity\n",
            "Generated 1300 samples for curiosity\n",
            "Generated 1400 samples for curiosity\n",
            "Generated 1500 samples for curiosity\n",
            "Generated 1600 samples for curiosity\n",
            "Generated 1700 samples for curiosity\n",
            "Generated 1800 samples for curiosity\n",
            "Generated 1900 samples for curiosity\n",
            "Generated 2000 samples for curiosity\n",
            "Generated 2100 samples for curiosity\n",
            "Generated 2200 samples for curiosity\n",
            "Generated 2300 samples for curiosity\n",
            "Generating 4321 samples for emotion: desire\n",
            "Generated 100 samples for desire\n",
            "Generated 200 samples for desire\n",
            "Generated 300 samples for desire\n",
            "Generated 400 samples for desire\n",
            "Generated 500 samples for desire\n",
            "Generated 600 samples for desire\n",
            "Generated 700 samples for desire\n",
            "Generated 800 samples for desire\n",
            "Generated 900 samples for desire\n",
            "Generated 1000 samples for desire\n",
            "Generated 1100 samples for desire\n",
            "Generated 1200 samples for desire\n",
            "Generated 1300 samples for desire\n",
            "Generated 1400 samples for desire\n",
            "Generated 1500 samples for desire\n",
            "Generated 1600 samples for desire\n",
            "Generated 1700 samples for desire\n",
            "Generated 1800 samples for desire\n",
            "Generated 1900 samples for desire\n",
            "Generated 2000 samples for desire\n",
            "Generated 2100 samples for desire\n",
            "Generated 2200 samples for desire\n",
            "Generated 2300 samples for desire\n",
            "Generated 2400 samples for desire\n",
            "Generated 2500 samples for desire\n",
            "Generated 2600 samples for desire\n",
            "Generated 2700 samples for desire\n",
            "Generated 2800 samples for desire\n",
            "Generated 2900 samples for desire\n",
            "Generated 3000 samples for desire\n",
            "Generated 3100 samples for desire\n",
            "Generated 3200 samples for desire\n",
            "Generated 3300 samples for desire\n",
            "Generated 3400 samples for desire\n",
            "Generated 3500 samples for desire\n",
            "Generated 3600 samples for desire\n",
            "Generated 3700 samples for desire\n",
            "Generated 3800 samples for desire\n",
            "Generated 3900 samples for desire\n",
            "Generated 4000 samples for desire\n",
            "Generated 4100 samples for desire\n",
            "Generated 4200 samples for desire\n",
            "Generated 4300 samples for desire\n",
            "Generating 3539 samples for emotion: disappointment\n",
            "Generated 100 samples for disappointment\n",
            "Generated 200 samples for disappointment\n",
            "Generated 300 samples for disappointment\n",
            "Generated 400 samples for disappointment\n",
            "Generated 500 samples for disappointment\n",
            "Generated 600 samples for disappointment\n",
            "Generated 700 samples for disappointment\n",
            "Generated 800 samples for disappointment\n",
            "Generated 900 samples for disappointment\n",
            "Generated 1000 samples for disappointment\n",
            "Generated 1100 samples for disappointment\n",
            "Generated 1200 samples for disappointment\n",
            "Generated 1300 samples for disappointment\n",
            "Generated 1400 samples for disappointment\n",
            "Generated 1500 samples for disappointment\n",
            "Generated 1600 samples for disappointment\n",
            "Generated 1700 samples for disappointment\n",
            "Generated 1800 samples for disappointment\n",
            "Generated 1900 samples for disappointment\n",
            "Generated 2000 samples for disappointment\n",
            "Generated 2100 samples for disappointment\n",
            "Generated 2200 samples for disappointment\n",
            "Generated 2300 samples for disappointment\n",
            "Generated 2400 samples for disappointment\n",
            "Generated 2500 samples for disappointment\n",
            "Generated 2600 samples for disappointment\n",
            "Generated 2700 samples for disappointment\n",
            "Generated 2800 samples for disappointment\n",
            "Generated 2900 samples for disappointment\n",
            "Generated 3000 samples for disappointment\n",
            "Generated 3100 samples for disappointment\n",
            "Generated 3200 samples for disappointment\n",
            "Generated 3300 samples for disappointment\n",
            "Generated 3400 samples for disappointment\n",
            "Generated 3500 samples for disappointment\n",
            "Generating 2541 samples for emotion: disapproval\n",
            "Generated 100 samples for disapproval\n",
            "Generated 200 samples for disapproval\n",
            "Generated 300 samples for disapproval\n",
            "Generated 400 samples for disapproval\n",
            "Generated 500 samples for disapproval\n",
            "Generated 600 samples for disapproval\n",
            "Generated 700 samples for disapproval\n",
            "Generated 800 samples for disapproval\n",
            "Generated 900 samples for disapproval\n",
            "Generated 1000 samples for disapproval\n",
            "Generated 1100 samples for disapproval\n",
            "Generated 1200 samples for disapproval\n",
            "Generated 1300 samples for disapproval\n",
            "Generated 1400 samples for disapproval\n",
            "Generated 1500 samples for disapproval\n",
            "Generated 1600 samples for disapproval\n",
            "Generated 1700 samples for disapproval\n",
            "Generated 1800 samples for disapproval\n",
            "Generated 1900 samples for disapproval\n",
            "Generated 2000 samples for disapproval\n",
            "Generated 2100 samples for disapproval\n",
            "Generated 2200 samples for disapproval\n",
            "Generated 2300 samples for disapproval\n",
            "Generated 2400 samples for disapproval\n",
            "Generated 2500 samples for disapproval\n",
            "Generating 4109 samples for emotion: disgust\n",
            "Generated 100 samples for disgust\n",
            "Generated 200 samples for disgust\n",
            "Generated 300 samples for disgust\n",
            "Generated 400 samples for disgust\n",
            "Generated 500 samples for disgust\n",
            "Generated 600 samples for disgust\n",
            "Generated 700 samples for disgust\n",
            "Generated 800 samples for disgust\n",
            "Generated 900 samples for disgust\n",
            "Generated 1000 samples for disgust\n",
            "Generated 1100 samples for disgust\n",
            "Generated 1200 samples for disgust\n",
            "Generated 1300 samples for disgust\n",
            "Generated 1400 samples for disgust\n",
            "Generated 1500 samples for disgust\n",
            "Generated 1600 samples for disgust\n",
            "Generated 1700 samples for disgust\n",
            "Generated 1800 samples for disgust\n",
            "Generated 1900 samples for disgust\n",
            "Generated 2000 samples for disgust\n",
            "Generated 2100 samples for disgust\n",
            "Generated 2200 samples for disgust\n",
            "Generated 2300 samples for disgust\n",
            "Generated 2400 samples for disgust\n",
            "Generated 2500 samples for disgust\n",
            "Generated 2600 samples for disgust\n",
            "Generated 2700 samples for disgust\n",
            "Generated 2800 samples for disgust\n",
            "Generated 2900 samples for disgust\n",
            "Generated 3000 samples for disgust\n",
            "Generated 3100 samples for disgust\n",
            "Generated 3200 samples for disgust\n",
            "Generated 3300 samples for disgust\n",
            "Generated 3400 samples for disgust\n",
            "Generated 3500 samples for disgust\n",
            "Generated 3600 samples for disgust\n",
            "Generated 3700 samples for disgust\n",
            "Generated 3800 samples for disgust\n",
            "Generated 3900 samples for disgust\n",
            "Generated 4000 samples for disgust\n",
            "Generated 4100 samples for disgust\n",
            "Generating 4747 samples for emotion: embarrassment\n",
            "Generated 100 samples for embarrassment\n",
            "Generated 200 samples for embarrassment\n",
            "Generated 300 samples for embarrassment\n",
            "Generated 400 samples for embarrassment\n",
            "Generated 500 samples for embarrassment\n",
            "Generated 600 samples for embarrassment\n",
            "Generated 700 samples for embarrassment\n",
            "Generated 800 samples for embarrassment\n",
            "Generated 900 samples for embarrassment\n",
            "Generated 1000 samples for embarrassment\n",
            "Generated 1100 samples for embarrassment\n",
            "Generated 1200 samples for embarrassment\n",
            "Generated 1300 samples for embarrassment\n",
            "Generated 1400 samples for embarrassment\n",
            "Generated 1500 samples for embarrassment\n",
            "Generated 1600 samples for embarrassment\n",
            "Generated 1700 samples for embarrassment\n",
            "Generated 1800 samples for embarrassment\n",
            "Generated 1900 samples for embarrassment\n",
            "Generated 2000 samples for embarrassment\n",
            "Generated 2100 samples for embarrassment\n",
            "Generated 2200 samples for embarrassment\n",
            "Generated 2300 samples for embarrassment\n",
            "Generated 2400 samples for embarrassment\n",
            "Generated 2500 samples for embarrassment\n",
            "Generated 2600 samples for embarrassment\n",
            "Generated 2700 samples for embarrassment\n",
            "Generated 2800 samples for embarrassment\n",
            "Generated 2900 samples for embarrassment\n",
            "Generated 3000 samples for embarrassment\n",
            "Generated 3100 samples for embarrassment\n",
            "Generated 3200 samples for embarrassment\n",
            "Generated 3300 samples for embarrassment\n",
            "Generated 3400 samples for embarrassment\n",
            "Generated 3500 samples for embarrassment\n",
            "Generated 3600 samples for embarrassment\n",
            "Generated 3700 samples for embarrassment\n",
            "Generated 3800 samples for embarrassment\n",
            "Generated 3900 samples for embarrassment\n",
            "Generated 4000 samples for embarrassment\n",
            "Generated 4100 samples for embarrassment\n",
            "Generated 4200 samples for embarrassment\n",
            "Generated 4300 samples for embarrassment\n",
            "Generated 4400 samples for embarrassment\n",
            "Generated 4500 samples for embarrassment\n",
            "Generated 4600 samples for embarrassment\n",
            "Generated 4700 samples for embarrassment\n",
            "Generating 4070 samples for emotion: excitement\n",
            "Generated 100 samples for excitement\n",
            "Generated 200 samples for excitement\n",
            "Generated 300 samples for excitement\n",
            "Generated 400 samples for excitement\n",
            "Generated 500 samples for excitement\n",
            "Generated 600 samples for excitement\n",
            "Generated 700 samples for excitement\n",
            "Generated 800 samples for excitement\n",
            "Generated 900 samples for excitement\n",
            "Generated 1000 samples for excitement\n",
            "Generated 1100 samples for excitement\n",
            "Generated 1200 samples for excitement\n",
            "Generated 1300 samples for excitement\n",
            "Generated 1400 samples for excitement\n",
            "Generated 1500 samples for excitement\n",
            "Generated 1600 samples for excitement\n",
            "Generated 1700 samples for excitement\n",
            "Generated 1800 samples for excitement\n",
            "Generated 1900 samples for excitement\n",
            "Generated 2000 samples for excitement\n",
            "Generated 2100 samples for excitement\n",
            "Generated 2200 samples for excitement\n",
            "Generated 2300 samples for excitement\n",
            "Generated 2400 samples for excitement\n",
            "Generated 2500 samples for excitement\n",
            "Generated 2600 samples for excitement\n",
            "Generated 2700 samples for excitement\n",
            "Generated 2800 samples for excitement\n",
            "Generated 2900 samples for excitement\n",
            "Generated 3000 samples for excitement\n",
            "Generated 3100 samples for excitement\n",
            "Generated 3200 samples for excitement\n",
            "Generated 3300 samples for excitement\n",
            "Generated 3400 samples for excitement\n",
            "Generated 3500 samples for excitement\n",
            "Generated 3600 samples for excitement\n",
            "Generated 3700 samples for excitement\n",
            "Generated 3800 samples for excitement\n",
            "Generated 3900 samples for excitement\n",
            "Generated 4000 samples for excitement\n",
            "Generating 4358 samples for emotion: fear\n",
            "Generated 100 samples for fear\n",
            "Generated 200 samples for fear\n",
            "Generated 300 samples for fear\n",
            "Generated 400 samples for fear\n",
            "Generated 500 samples for fear\n",
            "Generated 600 samples for fear\n",
            "Generated 700 samples for fear\n",
            "Generated 800 samples for fear\n",
            "Generated 900 samples for fear\n",
            "Generated 1000 samples for fear\n",
            "Generated 1100 samples for fear\n",
            "Generated 1200 samples for fear\n",
            "Generated 1300 samples for fear\n",
            "Generated 1400 samples for fear\n",
            "Generated 1500 samples for fear\n",
            "Generated 1600 samples for fear\n",
            "Generated 1700 samples for fear\n",
            "Generated 1800 samples for fear\n",
            "Generated 1900 samples for fear\n",
            "Generated 2000 samples for fear\n",
            "Generated 2100 samples for fear\n",
            "Generated 2200 samples for fear\n",
            "Generated 2300 samples for fear\n",
            "Generated 2400 samples for fear\n",
            "Generated 2500 samples for fear\n",
            "Generated 2600 samples for fear\n",
            "Generated 2700 samples for fear\n",
            "Generated 2800 samples for fear\n",
            "Generated 2900 samples for fear\n",
            "Generated 3000 samples for fear\n",
            "Generated 3100 samples for fear\n",
            "Generated 3200 samples for fear\n",
            "Generated 3300 samples for fear\n",
            "Generated 3400 samples for fear\n",
            "Generated 3500 samples for fear\n",
            "Generated 3600 samples for fear\n",
            "Generated 3700 samples for fear\n",
            "Generated 3800 samples for fear\n",
            "Generated 3900 samples for fear\n",
            "Generated 4000 samples for fear\n",
            "Generated 4100 samples for fear\n",
            "Generated 4200 samples for fear\n",
            "Generated 4300 samples for fear\n",
            "Generating 1750 samples for emotion: gratitude\n",
            "Generated 100 samples for gratitude\n",
            "Generated 200 samples for gratitude\n",
            "Generated 300 samples for gratitude\n",
            "Generated 400 samples for gratitude\n",
            "Generated 500 samples for gratitude\n",
            "Generated 600 samples for gratitude\n",
            "Generated 700 samples for gratitude\n",
            "Generated 800 samples for gratitude\n",
            "Generated 900 samples for gratitude\n",
            "Generated 1000 samples for gratitude\n",
            "Generated 1100 samples for gratitude\n",
            "Generated 1200 samples for gratitude\n",
            "Generated 1300 samples for gratitude\n",
            "Generated 1400 samples for gratitude\n",
            "Generated 1500 samples for gratitude\n",
            "Generated 1600 samples for gratitude\n",
            "Generated 1700 samples for gratitude\n",
            "Generating 5026 samples for emotion: grief\n",
            "Generated 100 samples for grief\n",
            "Generated 200 samples for grief\n",
            "Generated 300 samples for grief\n",
            "Generated 400 samples for grief\n",
            "Generated 500 samples for grief\n",
            "Generated 600 samples for grief\n",
            "Generated 700 samples for grief\n",
            "Generated 800 samples for grief\n",
            "Generated 900 samples for grief\n",
            "Generated 1000 samples for grief\n",
            "Generated 1100 samples for grief\n",
            "Generated 1200 samples for grief\n",
            "Generated 1300 samples for grief\n",
            "Generated 1400 samples for grief\n",
            "Generated 1500 samples for grief\n",
            "Generated 1600 samples for grief\n",
            "Generated 1700 samples for grief\n",
            "Generated 1800 samples for grief\n",
            "Generated 1900 samples for grief\n",
            "Generated 2000 samples for grief\n",
            "Generated 2100 samples for grief\n",
            "Generated 2200 samples for grief\n",
            "Generated 2300 samples for grief\n",
            "Generated 2400 samples for grief\n",
            "Generated 2500 samples for grief\n",
            "Generated 2600 samples for grief\n",
            "Generated 2700 samples for grief\n",
            "Generated 2800 samples for grief\n",
            "Generated 2900 samples for grief\n",
            "Generated 3000 samples for grief\n",
            "Generated 3100 samples for grief\n",
            "Generated 3200 samples for grief\n",
            "Generated 3300 samples for grief\n",
            "Generated 3400 samples for grief\n",
            "Generated 3500 samples for grief\n",
            "Generated 3600 samples for grief\n",
            "Generated 3700 samples for grief\n",
            "Generated 3800 samples for grief\n",
            "Generated 3900 samples for grief\n",
            "Generated 4000 samples for grief\n",
            "Generated 4100 samples for grief\n",
            "Generated 4200 samples for grief\n",
            "Generated 4300 samples for grief\n",
            "Generated 4400 samples for grief\n",
            "Generated 4500 samples for grief\n",
            "Generated 4600 samples for grief\n",
            "Generated 4700 samples for grief\n",
            "Generated 4800 samples for grief\n",
            "Generated 4900 samples for grief\n",
            "Generated 5000 samples for grief\n",
            "Generating 3337 samples for emotion: joy\n",
            "Generated 100 samples for joy\n",
            "Generated 200 samples for joy\n",
            "Generated 300 samples for joy\n",
            "Generated 400 samples for joy\n",
            "Generated 500 samples for joy\n",
            "Generated 600 samples for joy\n",
            "Generated 700 samples for joy\n",
            "Generated 800 samples for joy\n",
            "Generated 900 samples for joy\n",
            "Generated 1000 samples for joy\n",
            "Generated 1100 samples for joy\n",
            "Generated 1200 samples for joy\n",
            "Generated 1300 samples for joy\n",
            "Generated 1400 samples for joy\n",
            "Generated 1500 samples for joy\n",
            "Generated 1600 samples for joy\n",
            "Generated 1700 samples for joy\n",
            "Generated 1800 samples for joy\n",
            "Generated 1900 samples for joy\n",
            "Generated 2000 samples for joy\n",
            "Generated 2100 samples for joy\n",
            "Generated 2200 samples for joy\n",
            "Generated 2300 samples for joy\n",
            "Generated 2400 samples for joy\n",
            "Generated 2500 samples for joy\n",
            "Generated 2600 samples for joy\n",
            "Generated 2700 samples for joy\n",
            "Generated 2800 samples for joy\n",
            "Generated 2900 samples for joy\n",
            "Generated 3000 samples for joy\n",
            "Generated 3100 samples for joy\n",
            "Generated 3200 samples for joy\n",
            "Generated 3300 samples for joy\n",
            "Generating 2546 samples for emotion: love\n",
            "Generated 100 samples for love\n",
            "Generated 200 samples for love\n",
            "Generated 300 samples for love\n",
            "Generated 400 samples for love\n",
            "Generated 500 samples for love\n",
            "Generated 600 samples for love\n",
            "Generated 700 samples for love\n",
            "Generated 800 samples for love\n",
            "Generated 900 samples for love\n",
            "Generated 1000 samples for love\n",
            "Generated 1100 samples for love\n",
            "Generated 1200 samples for love\n",
            "Generated 1300 samples for love\n",
            "Generated 1400 samples for love\n",
            "Generated 1500 samples for love\n",
            "Generated 1600 samples for love\n",
            "Generated 1700 samples for love\n",
            "Generated 1800 samples for love\n",
            "Generated 1900 samples for love\n",
            "Generated 2000 samples for love\n",
            "Generated 2100 samples for love\n",
            "Generated 2200 samples for love\n",
            "Generated 2300 samples for love\n",
            "Generated 2400 samples for love\n",
            "Generated 2500 samples for love\n",
            "Generating 4914 samples for emotion: nervousness\n",
            "Generated 100 samples for nervousness\n",
            "Generated 200 samples for nervousness\n",
            "Generated 300 samples for nervousness\n",
            "Generated 400 samples for nervousness\n",
            "Generated 500 samples for nervousness\n",
            "Generated 600 samples for nervousness\n",
            "Generated 700 samples for nervousness\n",
            "Generated 800 samples for nervousness\n",
            "Generated 900 samples for nervousness\n",
            "Generated 1000 samples for nervousness\n",
            "Generated 1100 samples for nervousness\n",
            "Generated 1200 samples for nervousness\n",
            "Generated 1300 samples for nervousness\n",
            "Generated 1400 samples for nervousness\n",
            "Generated 1500 samples for nervousness\n",
            "Generated 1600 samples for nervousness\n",
            "Generated 1700 samples for nervousness\n",
            "Generated 1800 samples for nervousness\n",
            "Generated 1900 samples for nervousness\n",
            "Generated 2000 samples for nervousness\n",
            "Generated 2100 samples for nervousness\n",
            "Generated 2200 samples for nervousness\n",
            "Generated 2300 samples for nervousness\n",
            "Generated 2400 samples for nervousness\n",
            "Generated 2500 samples for nervousness\n",
            "Generated 2600 samples for nervousness\n",
            "Generated 2700 samples for nervousness\n",
            "Generated 2800 samples for nervousness\n",
            "Generated 2900 samples for nervousness\n",
            "Generated 3000 samples for nervousness\n",
            "Generated 3100 samples for nervousness\n",
            "Generated 3200 samples for nervousness\n",
            "Generated 3300 samples for nervousness\n",
            "Generated 3400 samples for nervousness\n",
            "Generated 3500 samples for nervousness\n",
            "Generated 3600 samples for nervousness\n",
            "Generated 3700 samples for nervousness\n",
            "Generated 3800 samples for nervousness\n",
            "Generated 3900 samples for nervousness\n",
            "Generated 4000 samples for nervousness\n",
            "Generated 4100 samples for nervousness\n",
            "Generated 4200 samples for nervousness\n",
            "Generated 4300 samples for nervousness\n",
            "Generated 4400 samples for nervousness\n",
            "Generated 4500 samples for nervousness\n",
            "Generated 4600 samples for nervousness\n",
            "Generated 4700 samples for nervousness\n",
            "Generated 4800 samples for nervousness\n",
            "Generated 4900 samples for nervousness\n",
            "Generating 3146 samples for emotion: optimism\n",
            "Generated 100 samples for optimism\n",
            "Generated 200 samples for optimism\n",
            "Generated 300 samples for optimism\n",
            "Generated 400 samples for optimism\n",
            "Generated 500 samples for optimism\n",
            "Generated 600 samples for optimism\n",
            "Generated 700 samples for optimism\n",
            "Generated 800 samples for optimism\n",
            "Generated 900 samples for optimism\n",
            "Generated 1000 samples for optimism\n",
            "Generated 1100 samples for optimism\n",
            "Generated 1200 samples for optimism\n",
            "Generated 1300 samples for optimism\n",
            "Generated 1400 samples for optimism\n",
            "Generated 1500 samples for optimism\n",
            "Generated 1600 samples for optimism\n",
            "Generated 1700 samples for optimism\n",
            "Generated 1800 samples for optimism\n",
            "Generated 1900 samples for optimism\n",
            "Generated 2000 samples for optimism\n",
            "Generated 2100 samples for optimism\n",
            "Generated 2200 samples for optimism\n",
            "Generated 2300 samples for optimism\n",
            "Generated 2400 samples for optimism\n",
            "Generated 2500 samples for optimism\n",
            "Generated 2600 samples for optimism\n",
            "Generated 2700 samples for optimism\n",
            "Generated 2800 samples for optimism\n",
            "Generated 2900 samples for optimism\n",
            "Generated 3000 samples for optimism\n",
            "Generated 3100 samples for optimism\n",
            "Generating 4980 samples for emotion: pride\n",
            "Generated 100 samples for pride\n",
            "Generated 200 samples for pride\n",
            "Generated 300 samples for pride\n",
            "Generated 400 samples for pride\n",
            "Generated 500 samples for pride\n",
            "Generated 600 samples for pride\n",
            "Generated 700 samples for pride\n",
            "Generated 800 samples for pride\n",
            "Generated 900 samples for pride\n",
            "Generated 1000 samples for pride\n",
            "Generated 1100 samples for pride\n",
            "Generated 1200 samples for pride\n",
            "Generated 1300 samples for pride\n",
            "Generated 1400 samples for pride\n",
            "Generated 1500 samples for pride\n",
            "Generated 1600 samples for pride\n",
            "Generated 1700 samples for pride\n",
            "Generated 1800 samples for pride\n",
            "Generated 1900 samples for pride\n",
            "Generated 2000 samples for pride\n",
            "Generated 2100 samples for pride\n",
            "Generated 2200 samples for pride\n",
            "Generated 2300 samples for pride\n",
            "Generated 2400 samples for pride\n",
            "Generated 2500 samples for pride\n",
            "Generated 2600 samples for pride\n",
            "Generated 2700 samples for pride\n",
            "Generated 2800 samples for pride\n",
            "Generated 2900 samples for pride\n",
            "Generated 3000 samples for pride\n",
            "Generated 3100 samples for pride\n",
            "Generated 3200 samples for pride\n",
            "Generated 3300 samples for pride\n",
            "Generated 3400 samples for pride\n",
            "Generated 3500 samples for pride\n",
            "Generated 3600 samples for pride\n",
            "Generated 3700 samples for pride\n",
            "Generated 3800 samples for pride\n",
            "Generated 3900 samples for pride\n",
            "Generated 4000 samples for pride\n",
            "Generated 4100 samples for pride\n",
            "Generated 4200 samples for pride\n",
            "Generated 4300 samples for pride\n",
            "Generated 4400 samples for pride\n",
            "Generated 4500 samples for pride\n",
            "Generated 4600 samples for pride\n",
            "Generated 4700 samples for pride\n",
            "Generated 4800 samples for pride\n",
            "Generated 4900 samples for pride\n",
            "Generating 3740 samples for emotion: realization\n",
            "Generated 100 samples for realization\n",
            "Generated 200 samples for realization\n",
            "Generated 300 samples for realization\n",
            "Generated 400 samples for realization\n",
            "Generated 500 samples for realization\n",
            "Generated 600 samples for realization\n",
            "Generated 700 samples for realization\n",
            "Generated 800 samples for realization\n",
            "Generated 900 samples for realization\n",
            "Generated 1000 samples for realization\n",
            "Generated 1100 samples for realization\n",
            "Generated 1200 samples for realization\n",
            "Generated 1300 samples for realization\n",
            "Generated 1400 samples for realization\n",
            "Generated 1500 samples for realization\n",
            "Generated 1600 samples for realization\n",
            "Generated 1700 samples for realization\n",
            "Generated 1800 samples for realization\n",
            "Generated 1900 samples for realization\n",
            "Generated 2000 samples for realization\n",
            "Generated 2100 samples for realization\n",
            "Generated 2200 samples for realization\n",
            "Generated 2300 samples for realization\n",
            "Generated 2400 samples for realization\n",
            "Generated 2500 samples for realization\n",
            "Generated 2600 samples for realization\n",
            "Generated 2700 samples for realization\n",
            "Generated 2800 samples for realization\n",
            "Generated 2900 samples for realization\n",
            "Generated 3000 samples for realization\n",
            "Generated 3100 samples for realization\n",
            "Generated 3200 samples for realization\n",
            "Generated 3300 samples for realization\n",
            "Generated 3400 samples for realization\n",
            "Generated 3500 samples for realization\n",
            "Generated 3600 samples for realization\n",
            "Generated 3700 samples for realization\n",
            "Generating 4940 samples for emotion: relief\n",
            "Generated 100 samples for relief\n",
            "Generated 200 samples for relief\n",
            "Generated 300 samples for relief\n",
            "Generated 400 samples for relief\n",
            "Generated 500 samples for relief\n",
            "Generated 600 samples for relief\n",
            "Generated 700 samples for relief\n",
            "Generated 800 samples for relief\n",
            "Generated 900 samples for relief\n",
            "Generated 1000 samples for relief\n",
            "Generated 1100 samples for relief\n",
            "Generated 1200 samples for relief\n",
            "Generated 1300 samples for relief\n",
            "Generated 1400 samples for relief\n",
            "Generated 1500 samples for relief\n",
            "Generated 1600 samples for relief\n",
            "Generated 1700 samples for relief\n",
            "Generated 1800 samples for relief\n",
            "Generated 1900 samples for relief\n",
            "Generated 2000 samples for relief\n",
            "Generated 2100 samples for relief\n",
            "Generated 2200 samples for relief\n",
            "Generated 2300 samples for relief\n",
            "Generated 2400 samples for relief\n",
            "Generated 2500 samples for relief\n",
            "Generated 2600 samples for relief\n",
            "Generated 2700 samples for relief\n",
            "Generated 2800 samples for relief\n",
            "Generated 2900 samples for relief\n",
            "Generated 3000 samples for relief\n",
            "Generated 3100 samples for relief\n",
            "Generated 3200 samples for relief\n",
            "Generated 3300 samples for relief\n",
            "Generated 3400 samples for relief\n",
            "Generated 3500 samples for relief\n",
            "Generated 3600 samples for relief\n",
            "Generated 3700 samples for relief\n",
            "Generated 3800 samples for relief\n",
            "Generated 3900 samples for relief\n",
            "Generated 4000 samples for relief\n",
            "Generated 4100 samples for relief\n",
            "Generated 4200 samples for relief\n",
            "Generated 4300 samples for relief\n",
            "Generated 4400 samples for relief\n",
            "Generated 4500 samples for relief\n",
            "Generated 4600 samples for relief\n",
            "Generated 4700 samples for relief\n",
            "Generated 4800 samples for relief\n",
            "Generated 4900 samples for relief\n",
            "Generating 4453 samples for emotion: remorse\n",
            "Generated 100 samples for remorse\n",
            "Generated 200 samples for remorse\n",
            "Generated 300 samples for remorse\n",
            "Generated 400 samples for remorse\n",
            "Generated 500 samples for remorse\n",
            "Generated 600 samples for remorse\n",
            "Generated 700 samples for remorse\n",
            "Generated 800 samples for remorse\n",
            "Generated 900 samples for remorse\n",
            "Generated 1000 samples for remorse\n",
            "Generated 1100 samples for remorse\n",
            "Generated 1200 samples for remorse\n",
            "Generated 1300 samples for remorse\n",
            "Generated 1400 samples for remorse\n",
            "Generated 1500 samples for remorse\n",
            "Generated 1600 samples for remorse\n",
            "Generated 1700 samples for remorse\n",
            "Generated 1800 samples for remorse\n",
            "Generated 1900 samples for remorse\n",
            "Generated 2000 samples for remorse\n",
            "Generated 2100 samples for remorse\n",
            "Generated 2200 samples for remorse\n",
            "Generated 2300 samples for remorse\n",
            "Generated 2400 samples for remorse\n",
            "Generated 2500 samples for remorse\n",
            "Generated 2600 samples for remorse\n",
            "Generated 2700 samples for remorse\n",
            "Generated 2800 samples for remorse\n",
            "Generated 2900 samples for remorse\n",
            "Generated 3000 samples for remorse\n",
            "Generated 3100 samples for remorse\n",
            "Generated 3200 samples for remorse\n",
            "Generated 3300 samples for remorse\n",
            "Generated 3400 samples for remorse\n",
            "Generated 3500 samples for remorse\n",
            "Generated 3600 samples for remorse\n",
            "Generated 3700 samples for remorse\n",
            "Generated 3800 samples for remorse\n",
            "Generated 3900 samples for remorse\n",
            "Generated 4000 samples for remorse\n",
            "Generated 4100 samples for remorse\n",
            "Generated 4200 samples for remorse\n",
            "Generated 4300 samples for remorse\n",
            "Generated 4400 samples for remorse\n",
            "Generating 3497 samples for emotion: sadness\n",
            "Generated 100 samples for sadness\n",
            "Generated 200 samples for sadness\n",
            "Generated 300 samples for sadness\n",
            "Generated 400 samples for sadness\n",
            "Generated 500 samples for sadness\n",
            "Generated 600 samples for sadness\n",
            "Generated 700 samples for sadness\n",
            "Generated 800 samples for sadness\n",
            "Generated 900 samples for sadness\n",
            "Generated 1000 samples for sadness\n",
            "Generated 1100 samples for sadness\n",
            "Generated 1200 samples for sadness\n",
            "Generated 1300 samples for sadness\n",
            "Generated 1400 samples for sadness\n",
            "Generated 1500 samples for sadness\n",
            "Generated 1600 samples for sadness\n",
            "Generated 1700 samples for sadness\n",
            "Generated 1800 samples for sadness\n",
            "Generated 1900 samples for sadness\n",
            "Generated 2000 samples for sadness\n",
            "Generated 2100 samples for sadness\n",
            "Generated 2200 samples for sadness\n",
            "Generated 2300 samples for sadness\n",
            "Generated 2400 samples for sadness\n",
            "Generated 2500 samples for sadness\n",
            "Generated 2600 samples for sadness\n",
            "Generated 2700 samples for sadness\n",
            "Generated 2800 samples for sadness\n",
            "Generated 2900 samples for sadness\n",
            "Generated 3000 samples for sadness\n",
            "Generated 3100 samples for sadness\n",
            "Generated 3200 samples for sadness\n",
            "Generated 3300 samples for sadness\n",
            "Generated 3400 samples for sadness\n",
            "Generating 3792 samples for emotion: surprise\n",
            "Generated 100 samples for surprise\n",
            "Generated 200 samples for surprise\n",
            "Generated 300 samples for surprise\n",
            "Generated 400 samples for surprise\n",
            "Generated 500 samples for surprise\n",
            "Generated 600 samples for surprise\n",
            "Generated 700 samples for surprise\n",
            "Generated 800 samples for surprise\n",
            "Generated 900 samples for surprise\n",
            "Generated 1000 samples for surprise\n",
            "Generated 1100 samples for surprise\n",
            "Generated 1200 samples for surprise\n",
            "Generated 1300 samples for surprise\n",
            "Generated 1400 samples for surprise\n",
            "Generated 1500 samples for surprise\n",
            "Generated 1600 samples for surprise\n",
            "Generated 1700 samples for surprise\n",
            "Generated 1800 samples for surprise\n",
            "Generated 1900 samples for surprise\n",
            "Generated 2000 samples for surprise\n",
            "Generated 2100 samples for surprise\n",
            "Generated 2200 samples for surprise\n",
            "Generated 2300 samples for surprise\n",
            "Generated 2400 samples for surprise\n",
            "Generated 2500 samples for surprise\n",
            "Generated 2600 samples for surprise\n",
            "Generated 2700 samples for surprise\n",
            "Generated 2800 samples for surprise\n",
            "Generated 2900 samples for surprise\n",
            "Generated 3000 samples for surprise\n",
            "Generated 3100 samples for surprise\n",
            "Generated 3200 samples for surprise\n",
            "Generated 3300 samples for surprise\n",
            "Generated 3400 samples for surprise\n",
            "Generated 3500 samples for surprise\n",
            "Generated 3600 samples for surprise\n",
            "Generated 3700 samples for surprise\n",
            "Generated 92254 new samples.\n"
          ]
        },
        {
          "output_type": "error",
          "ename": "NameError",
          "evalue": "name 'generated_df' is not defined",
          "traceback": [
            "\u001b[1;31m---------------------------------------------------------------------------\u001b[0m",
            "\u001b[1;31mNameError\u001b[0m                                 Traceback (most recent call last)",
            "Cell \u001b[1;32mIn[10], line 65\u001b[0m\n\u001b[0;32m     62\u001b[0m             generated_data\u001b[38;5;241m.\u001b[39mappend({\u001b[38;5;124m'\u001b[39m\u001b[38;5;124mtext\u001b[39m\u001b[38;5;124m'\u001b[39m: cleaned_sentence, \u001b[38;5;124m'\u001b[39m\u001b[38;5;124memotion_labels\u001b[39m\u001b[38;5;124m'\u001b[39m: [emotion]})\n\u001b[0;32m     64\u001b[0m \u001b[38;5;28mprint\u001b[39m(\u001b[38;5;124mf\u001b[39m\u001b[38;5;124m\"\u001b[39m\u001b[38;5;124mGenerated \u001b[39m\u001b[38;5;132;01m{\u001b[39;00m\u001b[38;5;28mlen\u001b[39m(generated_data)\u001b[38;5;132;01m}\u001b[39;00m\u001b[38;5;124m new samples.\u001b[39m\u001b[38;5;124m\"\u001b[39m) \u001b[38;5;66;03m# This line seems incorrect, should be len(generated_data)\u001b[39;00m\n\u001b[1;32m---> 65\u001b[0m display(\u001b[43mgenerated_df\u001b[49m\u001b[38;5;241m.\u001b[39mhead()) \u001b[38;5;66;03m# This line seems incorrect, should be display(pd.DataFrame(generated_data).head())\u001b[39;00m\n",
            "\u001b[1;31mNameError\u001b[0m: name 'generated_df' is not defined"
          ]
        }
      ]
    },
    {
      "cell_type": "code",
      "metadata": {
        "colab": {
          "base_uri": "https://localhost:8080/",
          "height": 223
        },
        "id": "b4c2ef4c",
        "outputId": "e5ece24f-a347-4a3e-b3dc-3f522f712c3e"
      },
      "source": [
        "import pandas as pd\n",
        "\n",
        "# Convert the generated_data list to a DataFrame\n",
        "generated_df = pd.DataFrame(generated_data)\n",
        "\n",
        "print(\"Generated data converted to DataFrame.\")\n",
        "display(generated_df.head())"
      ],
      "execution_count": null,
      "outputs": [
        {
          "output_type": "stream",
          "name": "stdout",
          "text": [
            "Generated data converted to DataFrame.\n"
          ]
        },
        {
          "output_type": "display_data",
          "data": {
            "text/plain": [
              "                                                text emotion_labels\n",
              "0  ive never heard of name since i was younger an...    [amusement]\n",
              "1          ive never seen a picture like this before    [amusement]\n",
              "2            ive never seen a fucking joke like that    [amusement]\n",
              "3  ive been to a lot of events with my family and...    [amusement]\n",
              "4  ive never seen that before so i dont know what...    [amusement]"
            ],
            "text/html": [
              "<div>\n",
              "<style scoped>\n",
              "    .dataframe tbody tr th:only-of-type {\n",
              "        vertical-align: middle;\n",
              "    }\n",
              "\n",
              "    .dataframe tbody tr th {\n",
              "        vertical-align: top;\n",
              "    }\n",
              "\n",
              "    .dataframe thead th {\n",
              "        text-align: right;\n",
              "    }\n",
              "</style>\n",
              "<table border=\"1\" class=\"dataframe\">\n",
              "  <thead>\n",
              "    <tr style=\"text-align: right;\">\n",
              "      <th></th>\n",
              "      <th>text</th>\n",
              "      <th>emotion_labels</th>\n",
              "    </tr>\n",
              "  </thead>\n",
              "  <tbody>\n",
              "    <tr>\n",
              "      <th>0</th>\n",
              "      <td>ive never heard of name since i was younger an...</td>\n",
              "      <td>[amusement]</td>\n",
              "    </tr>\n",
              "    <tr>\n",
              "      <th>1</th>\n",
              "      <td>ive never seen a picture like this before</td>\n",
              "      <td>[amusement]</td>\n",
              "    </tr>\n",
              "    <tr>\n",
              "      <th>2</th>\n",
              "      <td>ive never seen a fucking joke like that</td>\n",
              "      <td>[amusement]</td>\n",
              "    </tr>\n",
              "    <tr>\n",
              "      <th>3</th>\n",
              "      <td>ive been to a lot of events with my family and...</td>\n",
              "      <td>[amusement]</td>\n",
              "    </tr>\n",
              "    <tr>\n",
              "      <th>4</th>\n",
              "      <td>ive never seen that before so i dont know what...</td>\n",
              "      <td>[amusement]</td>\n",
              "    </tr>\n",
              "  </tbody>\n",
              "</table>\n",
              "</div>"
            ]
          },
          "metadata": {}
        }
      ]
    },
    {
      "cell_type": "code",
      "metadata": {
        "colab": {
          "base_uri": "https://localhost:8080/",
          "height": 275
        },
        "id": "f3eb8db2",
        "outputId": "3070cc1f-0a8d-42ca-9319-7ebbe56d310a"
      },
      "source": [
        "# Ensure original dataframe has emotion_labels mapped\n",
        "# Assuming emotion_map is defined from previous steps\n",
        "# Map the labels in the original dataframe to emotion names if not already done\n",
        "if 'emotion_labels' not in all_df.columns or all_df['emotion_labels'].isnull().all():\n",
        "     all_df['emotion_labels'] = all_df['labels'].apply(lambda x: [emotion_map[i] for i in x])\n",
        "\n",
        "\n",
        "# Combine the original dataframe (with mapped emotion_labels) with the generated data\n",
        "augmented_df = pd.concat([all_df, generated_df], ignore_index=True)\n",
        "\n",
        "print(\"Original and generated data combined into augmented_df.\")\n",
        "display(augmented_df.head())\n",
        "print(f\"Shape of original dataframe: {all_df.shape}\")\n",
        "print(f\"Shape of generated dataframe: {generated_df.shape}\")\n",
        "print(f\"Shape of augmented dataframe: {augmented_df.shape}\")"
      ],
      "execution_count": null,
      "outputs": [
        {
          "output_type": "stream",
          "name": "stdout",
          "text": [
            "Original and generated data combined into augmented_df.\n"
          ]
        },
        {
          "output_type": "display_data",
          "data": {
            "text/plain": [
              "                                                text labels       id  \\\n",
              "0  My favourite food is anything I didn't have to...   [27]  eebbqej   \n",
              "1  Now if he does off himself, everyone will thin...   [27]  ed00q6i   \n",
              "2                     WHY THE FUCK IS BAYLESS ISOING    [2]  eezlygj   \n",
              "3                        To make her feel threatened   [14]  ed7ypvh   \n",
              "4                             Dirty Southern Wankers    [3]  ed0bdzj   \n",
              "\n",
              "  emotion_labels  \n",
              "0      [neutral]  \n",
              "1      [neutral]  \n",
              "2        [anger]  \n",
              "3         [fear]  \n",
              "4    [annoyance]  "
            ],
            "text/html": [
              "<div>\n",
              "<style scoped>\n",
              "    .dataframe tbody tr th:only-of-type {\n",
              "        vertical-align: middle;\n",
              "    }\n",
              "\n",
              "    .dataframe tbody tr th {\n",
              "        vertical-align: top;\n",
              "    }\n",
              "\n",
              "    .dataframe thead th {\n",
              "        text-align: right;\n",
              "    }\n",
              "</style>\n",
              "<table border=\"1\" class=\"dataframe\">\n",
              "  <thead>\n",
              "    <tr style=\"text-align: right;\">\n",
              "      <th></th>\n",
              "      <th>text</th>\n",
              "      <th>labels</th>\n",
              "      <th>id</th>\n",
              "      <th>emotion_labels</th>\n",
              "    </tr>\n",
              "  </thead>\n",
              "  <tbody>\n",
              "    <tr>\n",
              "      <th>0</th>\n",
              "      <td>My favourite food is anything I didn't have to...</td>\n",
              "      <td>[27]</td>\n",
              "      <td>eebbqej</td>\n",
              "      <td>[neutral]</td>\n",
              "    </tr>\n",
              "    <tr>\n",
              "      <th>1</th>\n",
              "      <td>Now if he does off himself, everyone will thin...</td>\n",
              "      <td>[27]</td>\n",
              "      <td>ed00q6i</td>\n",
              "      <td>[neutral]</td>\n",
              "    </tr>\n",
              "    <tr>\n",
              "      <th>2</th>\n",
              "      <td>WHY THE FUCK IS BAYLESS ISOING</td>\n",
              "      <td>[2]</td>\n",
              "      <td>eezlygj</td>\n",
              "      <td>[anger]</td>\n",
              "    </tr>\n",
              "    <tr>\n",
              "      <th>3</th>\n",
              "      <td>To make her feel threatened</td>\n",
              "      <td>[14]</td>\n",
              "      <td>ed7ypvh</td>\n",
              "      <td>[fear]</td>\n",
              "    </tr>\n",
              "    <tr>\n",
              "      <th>4</th>\n",
              "      <td>Dirty Southern Wankers</td>\n",
              "      <td>[3]</td>\n",
              "      <td>ed0bdzj</td>\n",
              "      <td>[annoyance]</td>\n",
              "    </tr>\n",
              "  </tbody>\n",
              "</table>\n",
              "</div>"
            ]
          },
          "metadata": {}
        },
        {
          "output_type": "stream",
          "name": "stdout",
          "text": [
            "Shape of original dataframe: (54263, 4)\n",
            "Shape of generated dataframe: (92254, 2)\n",
            "Shape of augmented dataframe: (146517, 4)\n"
          ]
        }
      ]
    },
    {
      "cell_type": "code",
      "metadata": {
        "colab": {
          "base_uri": "https://localhost:8080/",
          "height": 538
        },
        "id": "0bf1fb8e",
        "outputId": "6657c928-ca23-45d9-ea32-6b7424588031"
      },
      "source": [
        "# Explode the 'emotion_labels' column in the augmented dataframe to handle multiple labels per text entry\n",
        "exploded_labels_augmented = augmented_df['emotion_labels'].explode()\n",
        "\n",
        "# Calculate the value counts of the exploded 'emotion_labels'\n",
        "emotion_counts_augmented = exploded_labels_augmented.value_counts()\n",
        "\n",
        "# Display the resulting emotion counts\n",
        "display(emotion_counts_augmented)"
      ],
      "execution_count": null,
      "outputs": [
        {
          "output_type": "display_data",
          "data": {
            "text/plain": [
              "emotion_labels\n",
              "neutral           17772\n",
              "anger              5122\n",
              "fear               5122\n",
              "annoyance          5122\n",
              "surprise           5122\n",
              "gratitude          5122\n",
              "desire             5122\n",
              "optimism           5122\n",
              "admiration         5122\n",
              "confusion          5122\n",
              "amusement          5122\n",
              "approval           5122\n",
              "caring             5122\n",
              "embarrassment      5122\n",
              "realization        5122\n",
              "disappointment     5122\n",
              "grief              5122\n",
              "sadness            5122\n",
              "curiosity          5122\n",
              "joy                5122\n",
              "love               5122\n",
              "excitement         5122\n",
              "disapproval        5122\n",
              "remorse            5122\n",
              "disgust            5122\n",
              "relief             5122\n",
              "pride              5122\n",
              "nervousness        5122\n",
              "Name: count, dtype: int64"
            ]
          },
          "metadata": {}
        }
      ]
    },
    {
      "cell_type": "code",
      "metadata": {
        "colab": {
          "base_uri": "https://localhost:8080/",
          "height": 1000
        },
        "id": "220b701f",
        "outputId": "f3e8ea01-0b3a-45aa-d433-8334e8bfa68a"
      },
      "source": [
        "print(\"Emotion counts in the original dataset (all_df):\")\n",
        "display(emotion_counts)\n",
        "\n",
        "print(\"\\nEmotion counts in the augmented dataset (augmented_df):\")\n",
        "display(emotion_counts_augmented)\n",
        "\n",
        "print(\"\\nComparison:\")\n",
        "print(\"As you can see, the counts for most emotions (except neutral and admiration, which were not upsampled) have increased in the augmented dataset, moving closer to the admiration count.\")"
      ],
      "execution_count": null,
      "outputs": [
        {
          "output_type": "stream",
          "name": "stdout",
          "text": [
            "Emotion counts in the original dataset (all_df):\n"
          ]
        },
        {
          "output_type": "display_data",
          "data": {
            "text/plain": [
              "labels\n",
              "neutral           17772\n",
              "admiration         5122\n",
              "approval           3687\n",
              "gratitude          3372\n",
              "annoyance          3093\n",
              "amusement          2895\n",
              "curiosity          2723\n",
              "disapproval        2581\n",
              "love               2576\n",
              "optimism           1976\n",
              "anger              1960\n",
              "joy                1785\n",
              "confusion          1673\n",
              "sadness            1625\n",
              "disappointment     1583\n",
              "realization        1382\n",
              "caring             1375\n",
              "surprise           1330\n",
              "excitement         1052\n",
              "disgust            1013\n",
              "desire              801\n",
              "fear                764\n",
              "remorse             669\n",
              "embarrassment       375\n",
              "nervousness         208\n",
              "relief              182\n",
              "pride               142\n",
              "grief                96\n",
              "Name: count, dtype: int64"
            ]
          },
          "metadata": {}
        },
        {
          "output_type": "stream",
          "name": "stdout",
          "text": [
            "\n",
            "Emotion counts in the augmented dataset (augmented_df):\n"
          ]
        },
        {
          "output_type": "display_data",
          "data": {
            "text/plain": [
              "emotion_labels\n",
              "neutral           17772\n",
              "anger              5122\n",
              "fear               5122\n",
              "annoyance          5122\n",
              "surprise           5122\n",
              "gratitude          5122\n",
              "desire             5122\n",
              "optimism           5122\n",
              "admiration         5122\n",
              "confusion          5122\n",
              "amusement          5122\n",
              "approval           5122\n",
              "caring             5122\n",
              "embarrassment      5122\n",
              "realization        5122\n",
              "disappointment     5122\n",
              "grief              5122\n",
              "sadness            5122\n",
              "curiosity          5122\n",
              "joy                5122\n",
              "love               5122\n",
              "excitement         5122\n",
              "disapproval        5122\n",
              "remorse            5122\n",
              "disgust            5122\n",
              "relief             5122\n",
              "pride              5122\n",
              "nervousness        5122\n",
              "Name: count, dtype: int64"
            ]
          },
          "metadata": {}
        },
        {
          "output_type": "stream",
          "name": "stdout",
          "text": [
            "\n",
            "Comparison:\n",
            "As you can see, the counts for most emotions (except neutral and admiration, which were not upsampled) have increased in the augmented dataset, moving closer to the admiration count.\n"
          ]
        }
      ]
    },
    {
      "cell_type": "code",
      "metadata": {
        "colab": {
          "base_uri": "https://localhost:8080/",
          "height": 293
        },
        "id": "4b5560f7",
        "outputId": "4d01d4be-7afc-4144-ca4a-f02016942d33"
      },
      "source": [
        "# Determine the target count for downsampling (admiration count)\n",
        "target_count_downsample = emotion_counts['admiration'] # Using the admiration count from the original data\n",
        "\n",
        "# Separate the 'neutral' data from the rest of the augmented data\n",
        "neutral_df = augmented_df[augmented_df['emotion_labels'].apply(lambda x: 'neutral' in x)].copy()\n",
        "other_emotions_df = augmented_df[~augmented_df['emotion_labels'].apply(lambda x: 'neutral' in x)].copy()\n",
        "\n",
        "# Downsample the 'neutral' dataframe if its current count is greater than the target\n",
        "current_neutral_count = len(neutral_df)\n",
        "if current_neutral_count > target_count_downsample:\n",
        "    downsampled_neutral_df = neutral_df.sample(n=target_count_downsample, random_state=42) # Using random_state for reproducibility\n",
        "    print(f\"Downsampled 'neutral' class from {current_neutral_count} to {target_count_downsample}.\")\n",
        "else:\n",
        "    downsampled_neutral_df = neutral_df\n",
        "    print(f\"'Neutral' class count ({current_neutral_count}) is not greater than the target ({target_count_downsample}). No downsampling performed.\")\n",
        "\n",
        "\n",
        "# Combine the downsampled 'neutral' data with the other emotions data\n",
        "augmented_df_downsampled = pd.concat([downsampled_neutral_df, other_emotions_df], ignore_index=True)\n",
        "\n",
        "print(\"\\nAugmented dataset after downsampling 'neutral':\")\n",
        "display(augmented_df_downsampled.head())\n",
        "print(f\"Shape of augmented dataset before downsampling: {augmented_df.shape}\")\n",
        "print(f\"Shape of augmented dataset after downsampling: {augmented_df_downsampled.shape}\")"
      ],
      "execution_count": null,
      "outputs": [
        {
          "output_type": "stream",
          "name": "stdout",
          "text": [
            "Downsampled 'neutral' class from 17772 to 5122.\n",
            "\n",
            "Augmented dataset after downsampling 'neutral':\n"
          ]
        },
        {
          "output_type": "display_data",
          "data": {
            "text/plain": [
              "                                                text    labels       id  \\\n",
              "0                            talking about me again?      [27]  eelfjvg   \n",
              "1                           i remember that feeling.  [22, 27]  ef23px4   \n",
              "2  Let me rephrase what was said above: You shoul...      [27]  ee9jyy0   \n",
              "3    And then peeing on them. I came, I saw, I peed.      [27]  eep8dd0   \n",
              "4                   Oh, [NAME]. Oh, oh, oh, [NAME].       [27]  edv30r5   \n",
              "\n",
              "           emotion_labels  \n",
              "0               [neutral]  \n",
              "1  [realization, neutral]  \n",
              "2               [neutral]  \n",
              "3               [neutral]  \n",
              "4               [neutral]  "
            ],
            "text/html": [
              "<div>\n",
              "<style scoped>\n",
              "    .dataframe tbody tr th:only-of-type {\n",
              "        vertical-align: middle;\n",
              "    }\n",
              "\n",
              "    .dataframe tbody tr th {\n",
              "        vertical-align: top;\n",
              "    }\n",
              "\n",
              "    .dataframe thead th {\n",
              "        text-align: right;\n",
              "    }\n",
              "</style>\n",
              "<table border=\"1\" class=\"dataframe\">\n",
              "  <thead>\n",
              "    <tr style=\"text-align: right;\">\n",
              "      <th></th>\n",
              "      <th>text</th>\n",
              "      <th>labels</th>\n",
              "      <th>id</th>\n",
              "      <th>emotion_labels</th>\n",
              "    </tr>\n",
              "  </thead>\n",
              "  <tbody>\n",
              "    <tr>\n",
              "      <th>0</th>\n",
              "      <td>talking about me again?</td>\n",
              "      <td>[27]</td>\n",
              "      <td>eelfjvg</td>\n",
              "      <td>[neutral]</td>\n",
              "    </tr>\n",
              "    <tr>\n",
              "      <th>1</th>\n",
              "      <td>i remember that feeling.</td>\n",
              "      <td>[22, 27]</td>\n",
              "      <td>ef23px4</td>\n",
              "      <td>[realization, neutral]</td>\n",
              "    </tr>\n",
              "    <tr>\n",
              "      <th>2</th>\n",
              "      <td>Let me rephrase what was said above: You shoul...</td>\n",
              "      <td>[27]</td>\n",
              "      <td>ee9jyy0</td>\n",
              "      <td>[neutral]</td>\n",
              "    </tr>\n",
              "    <tr>\n",
              "      <th>3</th>\n",
              "      <td>And then peeing on them. I came, I saw, I peed.</td>\n",
              "      <td>[27]</td>\n",
              "      <td>eep8dd0</td>\n",
              "      <td>[neutral]</td>\n",
              "    </tr>\n",
              "    <tr>\n",
              "      <th>4</th>\n",
              "      <td>Oh, [NAME]. Oh, oh, oh, [NAME].</td>\n",
              "      <td>[27]</td>\n",
              "      <td>edv30r5</td>\n",
              "      <td>[neutral]</td>\n",
              "    </tr>\n",
              "  </tbody>\n",
              "</table>\n",
              "</div>"
            ]
          },
          "metadata": {}
        },
        {
          "output_type": "stream",
          "name": "stdout",
          "text": [
            "Shape of augmented dataset before downsampling: (146517, 4)\n",
            "Shape of augmented dataset after downsampling: (133867, 4)\n"
          ]
        }
      ]
    },
    {
      "cell_type": "code",
      "metadata": {
        "colab": {
          "base_uri": "https://localhost:8080/"
        },
        "id": "6e6705a2",
        "outputId": "7f2ab5ec-46c9-44d0-c658-c7b44fc3d959"
      },
      "source": [
        "# Get all unique emotion labels from the downsampled augmented dataset\n",
        "all_unique_emotions = augmented_df_downsampled['emotion_labels'].explode().unique()\n",
        "\n",
        "print(\"Sample sentences for each emotion:\")\n",
        "\n",
        "# Iterate through each unique emotion\n",
        "for emotion in all_unique_emotions:\n",
        "    # Filter the dataframe for rows containing the current emotion label\n",
        "    emotion_samples = augmented_df_downsampled[augmented_df_downsampled['emotion_labels'].apply(lambda x: emotion in x)]\n",
        "\n",
        "    # Get up to 2 sample sentences for the current emotion\n",
        "    sample_sentences = emotion_samples['text'].sample(min(2, len(emotion_samples)), random_state=42).tolist() # Use random_state for reproducibility\n",
        "\n",
        "    print(f\"\\n--- {emotion.capitalize()} ---\")\n",
        "    if sample_sentences:\n",
        "        for sentence in sample_sentences:\n",
        "            print(f\"- {sentence}\")\n",
        "    else:\n",
        "        print(\"No samples found for this emotion.\")"
      ],
      "execution_count": null,
      "outputs": [
        {
          "output_type": "stream",
          "name": "stdout",
          "text": [
            "Sample sentences for each emotion:\n",
            "\n",
            "--- Neutral ---\n",
            "- [NAME] was my first Jersey as a kid blinked and he was gone\n",
            "- Why would Orlando want [NAME] anyways, this deal isn't real\n",
            "\n",
            "--- Realization ---\n",
            "- ive never seen that before\n",
            "- ive been watching this since the beginning\n",
            "\n",
            "--- Curiosity ---\n",
            "- You aren’t mentioning the specific position and the industry. Not even in what country you are located. How can anyone offer advice?\n",
            "- ive always been surprised to see how many people arent in the middle class\n",
            "\n",
            "--- Love ---\n",
            "- I guess I can see that, especially cuz [NAME] has connections with TMZ and they love drama between two people\n",
            "- ive seen it before\n",
            "\n",
            "--- Annoyance ---\n",
            "- A machine would literally do a worse job than him.\n",
            "- ive never been in a relationship with a woman that way\n",
            "\n",
            "--- Sadness ---\n",
            "- ive not read any of your posts and im sorry for your loss\n",
            "- ive been reading this for a while\n",
            "\n",
            "--- Confusion ---\n",
            "- ive been waiting for name to come to me\n",
            "- ive never heard of the term i hate name\n",
            "\n",
            "--- Approval ---\n",
            "- I'm mostly impressed that you can get to work from West Seattle in 20 minutes by car.\n",
            "- CNC is just the safe way to play out a rape fetish\n",
            "\n",
            "--- Remorse ---\n",
            "- I regret not grabbing my work laptop today, then I wouldn't have to leave fort blanket until Thursday. \n",
            "- ive been in the same situation for years and im still in it\n",
            "\n",
            "--- Joy ---\n",
            "- ive been watching this for years now\n",
            "- ive seen this a million times im just gonna stop looking at it and just take a break\n",
            "\n",
            "--- Amusement ---\n",
            "- It's kinda funny when it's told to you\n",
            "- ive just heard about a new type of auto accident in the boston area that happened after a car crashed into the side of a street\n",
            "\n",
            "--- Admiration ---\n",
            "- Did it taste good; I bet it tasted good.\n",
            "- That's super fricking cool I love it\n",
            "\n",
            "--- Anger ---\n",
            "- Ok, then what the actual fuck is your plan?\n",
            "- ive never seen such a reaction to name\n",
            "\n",
            "--- Disapproval ---\n",
            "- ive just been playing for a few days and im totally disappointed that its still not resolved\n",
            "- ive never heard of the nc\n",
            "\n",
            "--- Caring ---\n",
            "- ive been a fan of this for years now and im sure youve heard of it\n",
            "- If your partner is so consumed by his addiction that he chose it over you, you know what to do.\n",
            "\n",
            "--- Fear ---\n",
            "- ive seen it a thousand times and this is the first time i have seen it\n",
            "- No, no, please don’t make me see [NAME], please!\n",
            "\n",
            "--- Desire ---\n",
            "- ive been going to the gym for months and i am so excited to have the chance to see what kind of products make me feel good\n",
            "- ive never seen this before it reminds me of the movies\n",
            "\n",
            "--- Disgust ---\n",
            "- ive always wondered if name was in the movie\n",
            "- ive never been happier\n",
            "\n",
            "--- Disappointment ---\n",
            "- ive been waiting for this for years\n",
            "- Nah man you need to have NEGATIVE IQ to enjoy that show, cuz the weed ain't working.\n",
            "\n",
            "--- Surprise ---\n",
            "- Frankly, I'm continuously shocked that more than 35% of the population actually think he's doing a good job. \n",
            "- ive never seen a video of a cat being eaten\n",
            "\n",
            "--- Optimism ---\n",
            "- ive seen this before but i dont think it can be fixed in any way\n",
            "- ive been on a couple of this threads with name and i cant help but think theyre both on good terms\n",
            "\n",
            "--- Nervousness ---\n",
            "- ive been avoiding the office for years and im tired of dealing with this\n",
            "- ive been craving this for years and i love it\n",
            "\n",
            "--- Gratitude ---\n",
            "- ive been so proud to have been able to see a young woman be so happy for her family and friends\n",
            "- ive just learned of this on youtube and i cant wait to see what happens\n",
            "\n",
            "--- Excitement ---\n",
            "- ive never heard that before i think its a joke\n",
            "- ive never heard of this\n",
            "\n",
            "--- Relief ---\n",
            "- ive seen it before and its like im sorry for your loss\n",
            "- ive seen people with this kind of condition on their way to work and they cant even walk\n",
            "\n",
            "--- Embarrassment ---\n",
            "- ive been trying to figure out what this is\n",
            "- ive never seen it that way before im so ashamed\n",
            "\n",
            "--- Grief ---\n",
            "- ive seen this before and i want to be very specific as to what my reaction was to it\n",
            "- ive seen this a lot and im sorry for the loss\n",
            "\n",
            "--- Pride ---\n",
            "- ive seen it on the internet i have never seen it on my own\n",
            "- ive been on the brink of being banned for this thread\n"
          ]
        }
      ]
    },
    {
      "cell_type": "code",
      "metadata": {
        "colab": {
          "base_uri": "https://localhost:8080/"
        },
        "id": "83924d85",
        "outputId": "70835b03-331d-4e81-807f-70350a1d7058"
      },
      "source": [
        "# Define the path to save the dataset\n",
        "save_path = \"C:/Users/adria/OneDrive/Desktop/CODING/jupyter/datasets/goemotion/augmented_goemotion_dataset.csv\"\n",
        "\n",
        "# Save the augmented and downsampled dataframe to a CSV file\n",
        "augmented_df_downsampled.to_csv(save_path, index=False)\n",
        "\n",
        "print(f\"Balanced augmented dataset saved to: {save_path}\")"
      ],
      "execution_count": null,
      "outputs": [
        {
          "output_type": "stream",
          "name": "stdout",
          "text": [
            "Balanced augmented dataset saved to: C:/Users/adria/OneDrive/Desktop/CODING/jupyter/datasets/goemotion/augmented_goemotion_dataset.csv\n"
          ]
        }
      ]
    },
    {
      "cell_type": "markdown",
      "source": [
        "# fixing dataset\n",
        "\n"
      ],
      "metadata": {
        "id": "cSjzmFKlQBrE"
      }
    },
    {
      "cell_type": "code",
      "metadata": {
        "colab": {
          "base_uri": "https://localhost:8080/",
          "height": 295
        },
        "id": "6010487c",
        "outputId": "98d70922-d853-482d-dbfd-e2e064631596"
      },
      "source": [
        "import pandas as pd\n",
        "\n",
        "# Define the path to the saved dataset\n",
        "load_path = \"C:/Users/adria/OneDrive/Desktop/CODING/jupyter/datasets/goemotion/augmented_goemotion_dataset.csv\"\n",
        "\n",
        "# Load the dataset from the CSV file\n",
        "augmented_df_loaded = pd.read_csv(load_path)\n",
        "\n",
        "print(f\"Dataset loaded from: {load_path}\")\n",
        "display(augmented_df_loaded.head())\n",
        "print(f\"Shape of loaded dataset: {augmented_df_loaded.shape}\")"
      ],
      "execution_count": null,
      "outputs": [
        {
          "output_type": "stream",
          "name": "stdout",
          "text": [
            "Dataset loaded from: C:/Users/adria/OneDrive/Desktop/CODING/jupyter/datasets/goemotion/augmented_goemotion_dataset.csv\n"
          ]
        },
        {
          "output_type": "stream",
          "name": "stderr",
          "text": [
            "C:\\Users\\adria\\AppData\\Local\\Temp\\ipykernel_44852\\821619987.py:7: DtypeWarning: Columns (1,2) have mixed types. Specify dtype option on import or set low_memory=False.\n",
            "  augmented_df_loaded = pd.read_csv(load_path)\n"
          ]
        },
        {
          "output_type": "display_data",
          "data": {
            "text/plain": [
              "                                                text   labels       id  \\\n",
              "0                            talking about me again?     [27]  eelfjvg   \n",
              "1                           i remember that feeling.  [22 27]  ef23px4   \n",
              "2  Let me rephrase what was said above: You shoul...     [27]  ee9jyy0   \n",
              "3    And then peeing on them. I came, I saw, I peed.     [27]  eep8dd0   \n",
              "4                   Oh, [NAME]. Oh, oh, oh, [NAME].      [27]  edv30r5   \n",
              "\n",
              "               emotion_labels  \n",
              "0                 ['neutral']  \n",
              "1  ['realization', 'neutral']  \n",
              "2                 ['neutral']  \n",
              "3                 ['neutral']  \n",
              "4                 ['neutral']  "
            ],
            "text/html": [
              "<div>\n",
              "<style scoped>\n",
              "    .dataframe tbody tr th:only-of-type {\n",
              "        vertical-align: middle;\n",
              "    }\n",
              "\n",
              "    .dataframe tbody tr th {\n",
              "        vertical-align: top;\n",
              "    }\n",
              "\n",
              "    .dataframe thead th {\n",
              "        text-align: right;\n",
              "    }\n",
              "</style>\n",
              "<table border=\"1\" class=\"dataframe\">\n",
              "  <thead>\n",
              "    <tr style=\"text-align: right;\">\n",
              "      <th></th>\n",
              "      <th>text</th>\n",
              "      <th>labels</th>\n",
              "      <th>id</th>\n",
              "      <th>emotion_labels</th>\n",
              "    </tr>\n",
              "  </thead>\n",
              "  <tbody>\n",
              "    <tr>\n",
              "      <th>0</th>\n",
              "      <td>talking about me again?</td>\n",
              "      <td>[27]</td>\n",
              "      <td>eelfjvg</td>\n",
              "      <td>['neutral']</td>\n",
              "    </tr>\n",
              "    <tr>\n",
              "      <th>1</th>\n",
              "      <td>i remember that feeling.</td>\n",
              "      <td>[22 27]</td>\n",
              "      <td>ef23px4</td>\n",
              "      <td>['realization', 'neutral']</td>\n",
              "    </tr>\n",
              "    <tr>\n",
              "      <th>2</th>\n",
              "      <td>Let me rephrase what was said above: You shoul...</td>\n",
              "      <td>[27]</td>\n",
              "      <td>ee9jyy0</td>\n",
              "      <td>['neutral']</td>\n",
              "    </tr>\n",
              "    <tr>\n",
              "      <th>3</th>\n",
              "      <td>And then peeing on them. I came, I saw, I peed.</td>\n",
              "      <td>[27]</td>\n",
              "      <td>eep8dd0</td>\n",
              "      <td>['neutral']</td>\n",
              "    </tr>\n",
              "    <tr>\n",
              "      <th>4</th>\n",
              "      <td>Oh, [NAME]. Oh, oh, oh, [NAME].</td>\n",
              "      <td>[27]</td>\n",
              "      <td>edv30r5</td>\n",
              "      <td>['neutral']</td>\n",
              "    </tr>\n",
              "  </tbody>\n",
              "</table>\n",
              "</div>"
            ]
          },
          "metadata": {}
        },
        {
          "output_type": "stream",
          "name": "stdout",
          "text": [
            "Shape of loaded dataset: (133867, 4)\n"
          ]
        }
      ]
    },
    {
      "cell_type": "code",
      "metadata": {
        "colab": {
          "base_uri": "https://localhost:8080/",
          "height": 223
        },
        "id": "17de16cc",
        "outputId": "94731c03-0794-4c83-97e2-528dd1ad408e"
      },
      "source": [
        "import ast # Import the ast module\n",
        "import re # Import re for string cleaning\n",
        "\n",
        "# Create a dictionary to map label IDs to emotion names\n",
        "emotion_map = {\n",
        "    0: \"admiration\", 1: \"amusement\", 2: \"anger\", 3: \"annoyance\", 4: \"approval\",\n",
        "    5: \"caring\", 6: \"confusion\", 7: \"curiosity\", 8: \"desire\", 9: \"disappointment\",\n",
        "    10: \"disapproval\", 11: \"disgust\", 12: \"embarrassment\", 13: \"excitement\",\n",
        "    14: \"fear\", 15: \"gratitude\", 16: \"grief\", 17: \"joy\", 18: \"love\",\n",
        "    19: \"nervousness\", 20: \"optimism\", 21: \"pride\", 22: \"realization\", 23: \"relief\",\n",
        "    24: \"remorse\", 25: \"sadness\", 26: \"surprise\", 27: \"neutral\"\n",
        "}\n",
        "\n",
        "\n",
        "# Function to parse string representation of list and map integer IDs to emotion names\n",
        "def parse_and_map_emotion_labels(label_entry, emotion_map):\n",
        "    if isinstance(label_entry, str):\n",
        "        # Clean the string representation: remove brackets and split by space or comma\n",
        "        cleaned_string = label_entry.strip().replace('[', '').replace(']', '').replace(',', ' ')\n",
        "        # Split into individual items and remove empty strings\n",
        "        items = [item.strip() for item in cleaned_string.split() if item.strip()]\n",
        "\n",
        "        processed_labels = []\n",
        "        for item in items:\n",
        "            try:\n",
        "                # Try to convert to integer (for original labels)\n",
        "                item_int = int(item)\n",
        "                if item_int in emotion_map:\n",
        "                    processed_labels.append(emotion_map[item_int])\n",
        "                # Optionally handle integers not in emotion_map\n",
        "            except ValueError:\n",
        "                # If not an integer, assume it's already an emotion name string (from generated data)\n",
        "                processed_labels.append(item)\n",
        "        return processed_labels\n",
        "\n",
        "    elif isinstance(label_entry, list):\n",
        "        # If it's already a list, ensure elements are strings (emotion names)\n",
        "        processed_labels = []\n",
        "        for item in label_entry:\n",
        "             if isinstance(item, int) and item in emotion_map:\n",
        "                 processed_labels.append(emotion_map[item])\n",
        "             elif isinstance(item, str):\n",
        "                 processed_labels.append(item)\n",
        "        return processed_labels\n",
        "    # Return an empty list for any other unexpected type\n",
        "    return []\n",
        "\n",
        "\n",
        "# Function to keep only the first label from a list\n",
        "def keep_first_label_only(emotion_list):\n",
        "    if isinstance(emotion_list, list) and len(emotion_list) > 0:\n",
        "        return [emotion_list[0]]\n",
        "    # Return an empty list if input is not a list or is an empty list\n",
        "    return []\n",
        "\n",
        "\n",
        "# --- Processing Steps ---\n",
        "\n",
        "# 1. Apply the parsing and mapping function to the 'emotion_labels' column\n",
        "# Ensure emotion_map is defined (it should be from previous steps)\n",
        "augmented_df_loaded['emotion_labels'] = augmented_df_loaded['emotion_labels'].apply(lambda x: parse_and_map_emotion_labels(x, emotion_map))\n",
        "\n",
        "# 2. Apply the function to keep only the first label\n",
        "augmented_df_loaded['emotion_labels'] = augmented_df_loaded['emotion_labels'].apply(keep_first_label_only)\n",
        "\n",
        "\n",
        "print(\"Multi-label entries parsed, mapped, and simplified to single labels.\")\n",
        "display(augmented_df_loaded.head())"
      ],
      "execution_count": null,
      "outputs": [
        {
          "output_type": "stream",
          "name": "stdout",
          "text": [
            "Multi-label entries parsed, mapped, and simplified to single labels.\n"
          ]
        },
        {
          "output_type": "display_data",
          "data": {
            "text/plain": [
              "                                                text   labels       id  \\\n",
              "0                            talking about me again?     [27]  eelfjvg   \n",
              "1                           i remember that feeling.  [22 27]  ef23px4   \n",
              "2  Let me rephrase what was said above: You shoul...     [27]  ee9jyy0   \n",
              "3    And then peeing on them. I came, I saw, I peed.     [27]  eep8dd0   \n",
              "4                   Oh, [NAME]. Oh, oh, oh, [NAME].      [27]  edv30r5   \n",
              "\n",
              "    emotion_labels  \n",
              "0      ['neutral']  \n",
              "1  ['realization']  \n",
              "2      ['neutral']  \n",
              "3      ['neutral']  \n",
              "4      ['neutral']  "
            ],
            "text/html": [
              "<div>\n",
              "<style scoped>\n",
              "    .dataframe tbody tr th:only-of-type {\n",
              "        vertical-align: middle;\n",
              "    }\n",
              "\n",
              "    .dataframe tbody tr th {\n",
              "        vertical-align: top;\n",
              "    }\n",
              "\n",
              "    .dataframe thead th {\n",
              "        text-align: right;\n",
              "    }\n",
              "</style>\n",
              "<table border=\"1\" class=\"dataframe\">\n",
              "  <thead>\n",
              "    <tr style=\"text-align: right;\">\n",
              "      <th></th>\n",
              "      <th>text</th>\n",
              "      <th>labels</th>\n",
              "      <th>id</th>\n",
              "      <th>emotion_labels</th>\n",
              "    </tr>\n",
              "  </thead>\n",
              "  <tbody>\n",
              "    <tr>\n",
              "      <th>0</th>\n",
              "      <td>talking about me again?</td>\n",
              "      <td>[27]</td>\n",
              "      <td>eelfjvg</td>\n",
              "      <td>['neutral']</td>\n",
              "    </tr>\n",
              "    <tr>\n",
              "      <th>1</th>\n",
              "      <td>i remember that feeling.</td>\n",
              "      <td>[22 27]</td>\n",
              "      <td>ef23px4</td>\n",
              "      <td>['realization']</td>\n",
              "    </tr>\n",
              "    <tr>\n",
              "      <th>2</th>\n",
              "      <td>Let me rephrase what was said above: You shoul...</td>\n",
              "      <td>[27]</td>\n",
              "      <td>ee9jyy0</td>\n",
              "      <td>['neutral']</td>\n",
              "    </tr>\n",
              "    <tr>\n",
              "      <th>3</th>\n",
              "      <td>And then peeing on them. I came, I saw, I peed.</td>\n",
              "      <td>[27]</td>\n",
              "      <td>eep8dd0</td>\n",
              "      <td>['neutral']</td>\n",
              "    </tr>\n",
              "    <tr>\n",
              "      <th>4</th>\n",
              "      <td>Oh, [NAME]. Oh, oh, oh, [NAME].</td>\n",
              "      <td>[27]</td>\n",
              "      <td>edv30r5</td>\n",
              "      <td>['neutral']</td>\n",
              "    </tr>\n",
              "  </tbody>\n",
              "</table>\n",
              "</div>"
            ]
          },
          "metadata": {}
        }
      ]
    },
    {
      "cell_type": "code",
      "source": [
        "# Create a reverse mapping from emotion names to label IDs\n",
        "id_map = {v: k for k, v in emotion_map.items()}\n",
        "\n",
        "# Function to convert emotion name list to single numerical ID\n",
        "def convert_to_numerical_label(emotion_list, id_map):\n",
        "    if isinstance(emotion_list, list) and len(emotion_list) > 0:\n",
        "        emotion_name = emotion_list[0]\n",
        "        # Remove extra quotes from the emotion name string\n",
        "        cleaned_emotion_name = emotion_name.strip(\"'\") # Strip single quotes\n",
        "        # Add print statements for debugging if needed\n",
        "        # print(f\"Looking up: '{cleaned_emotion_name}'\")\n",
        "        # print(f\"Exists in id_map: {cleaned_emotion_name in id_map}\")\n",
        "        return id_map.get(cleaned_emotion_name, -1) # Use cleaned name for lookup\n",
        "    # Add print for empty lists if needed\n",
        "    # print(\"Input was not a non-empty list.\")\n",
        "    return -1 # Return -1 for empty lists or invalid entries\n",
        "\n",
        "# Drop the original 'labels' column if it exists\n",
        "if 'labels' in augmented_df_loaded.columns:\n",
        "    augmented_df_loaded = augmented_df_loaded.drop('labels', axis=1)\n",
        "    print(\"Original 'labels' column dropped.\")\n",
        "\n",
        "\n",
        "# Create a new 'labels' column based on the converted emotion names from 'emotion_labels'\n",
        "augmented_df_loaded['labels'] = augmented_df_loaded['emotion_labels'].apply(lambda x: convert_to_numerical_label(x, id_map))\n",
        "\n",
        "print(\"New 'labels' column created based on 'emotion_labels'.\")\n",
        "display(augmented_df_loaded.head())\n",
        "\n",
        "# Optional: Display rows where the new label is -1 to investigate\n",
        "# print(\"\\nRows with new label -1:\")\n",
        "# display(augmented_df_loaded[augmented_df_loaded['labels'] == -1].head())"
      ],
      "metadata": {
        "colab": {
          "base_uri": "https://localhost:8080/",
          "height": 241
        },
        "id": "62AlJTaqRsQW",
        "outputId": "48f3e478-9fbd-4f16-d655-73b919c267b0"
      },
      "execution_count": null,
      "outputs": [
        {
          "output_type": "stream",
          "name": "stdout",
          "text": [
            "Original 'labels' column dropped.\n",
            "New 'labels' column created based on 'emotion_labels'.\n"
          ]
        },
        {
          "output_type": "display_data",
          "data": {
            "text/plain": [
              "                                                text       id  \\\n",
              "0                            talking about me again?  eelfjvg   \n",
              "1                           i remember that feeling.  ef23px4   \n",
              "2  Let me rephrase what was said above: You shoul...  ee9jyy0   \n",
              "3    And then peeing on them. I came, I saw, I peed.  eep8dd0   \n",
              "4                   Oh, [NAME]. Oh, oh, oh, [NAME].   edv30r5   \n",
              "\n",
              "    emotion_labels  labels  \n",
              "0      ['neutral']      27  \n",
              "1  ['realization']      22  \n",
              "2      ['neutral']      27  \n",
              "3      ['neutral']      27  \n",
              "4      ['neutral']      27  "
            ],
            "text/html": [
              "<div>\n",
              "<style scoped>\n",
              "    .dataframe tbody tr th:only-of-type {\n",
              "        vertical-align: middle;\n",
              "    }\n",
              "\n",
              "    .dataframe tbody tr th {\n",
              "        vertical-align: top;\n",
              "    }\n",
              "\n",
              "    .dataframe thead th {\n",
              "        text-align: right;\n",
              "    }\n",
              "</style>\n",
              "<table border=\"1\" class=\"dataframe\">\n",
              "  <thead>\n",
              "    <tr style=\"text-align: right;\">\n",
              "      <th></th>\n",
              "      <th>text</th>\n",
              "      <th>id</th>\n",
              "      <th>emotion_labels</th>\n",
              "      <th>labels</th>\n",
              "    </tr>\n",
              "  </thead>\n",
              "  <tbody>\n",
              "    <tr>\n",
              "      <th>0</th>\n",
              "      <td>talking about me again?</td>\n",
              "      <td>eelfjvg</td>\n",
              "      <td>['neutral']</td>\n",
              "      <td>27</td>\n",
              "    </tr>\n",
              "    <tr>\n",
              "      <th>1</th>\n",
              "      <td>i remember that feeling.</td>\n",
              "      <td>ef23px4</td>\n",
              "      <td>['realization']</td>\n",
              "      <td>22</td>\n",
              "    </tr>\n",
              "    <tr>\n",
              "      <th>2</th>\n",
              "      <td>Let me rephrase what was said above: You shoul...</td>\n",
              "      <td>ee9jyy0</td>\n",
              "      <td>['neutral']</td>\n",
              "      <td>27</td>\n",
              "    </tr>\n",
              "    <tr>\n",
              "      <th>3</th>\n",
              "      <td>And then peeing on them. I came, I saw, I peed.</td>\n",
              "      <td>eep8dd0</td>\n",
              "      <td>['neutral']</td>\n",
              "      <td>27</td>\n",
              "    </tr>\n",
              "    <tr>\n",
              "      <th>4</th>\n",
              "      <td>Oh, [NAME]. Oh, oh, oh, [NAME].</td>\n",
              "      <td>edv30r5</td>\n",
              "      <td>['neutral']</td>\n",
              "      <td>27</td>\n",
              "    </tr>\n",
              "  </tbody>\n",
              "</table>\n",
              "</div>"
            ]
          },
          "metadata": {}
        }
      ]
    },
    {
      "cell_type": "code",
      "metadata": {
        "colab": {
          "base_uri": "https://localhost:8080/"
        },
        "id": "f92d6ef5",
        "outputId": "640efade-7b90-4252-810c-274cf26e37cc"
      },
      "source": [
        "# Define the path to save the dataset\n",
        "save_path = \"C:/Users/adria/OneDrive/Desktop/CODING/jupyter/datasets/goemotion/augmented_goemotion_dataset_corrected_labels.csv\" # Added _corrected_labels to differentiate\n",
        "\n",
        "# Save the augmented and downsampled dataframe to a CSV file\n",
        "augmented_df_loaded.to_csv(save_path, index=False)\n",
        "\n",
        "print(f\"Balanced augmented dataset with corrected labels saved to: {save_path}\")"
      ],
      "execution_count": null,
      "outputs": [
        {
          "output_type": "stream",
          "name": "stdout",
          "text": [
            "Balanced augmented dataset with corrected labels saved to: C:/Users/adria/OneDrive/Desktop/CODING/jupyter/datasets/goemotion/augmented_goemotion_dataset_corrected_labels.csv\n"
          ]
        }
      ]
    },
    {
      "cell_type": "markdown",
      "source": [
        "# Roberta"
      ],
      "metadata": {
        "id": "LZ9Nn363SwRb"
      }
    },
    {
      "cell_type": "code",
      "metadata": {
        "colab": {
          "base_uri": "https://localhost:8080/",
          "height": 295
        },
        "id": "13e2f9b2",
        "outputId": "24d3ef8c-f930-46bf-bbbe-d28c45647cf4"
      },
      "source": [
        "import pandas as pd\n",
        "\n",
        "# Define the path to the saved dataset with corrected labels\n",
        "load_path = \"C:/Users/adria/OneDrive/Desktop/CODING/jupyter/datasets/goemotion/augmented_goemotion_dataset_corrected_labels.csv\"\n",
        "\n",
        "# Load the dataset from the CSV file\n",
        "augmented_df_loaded_again = pd.read_csv(load_path)\n",
        "\n",
        "print(f\"Dataset loaded again from: {load_path}\")\n",
        "display(augmented_df_loaded_again.head())\n",
        "print(f\"Shape of loaded dataset: {augmented_df_loaded_again.shape}\")"
      ],
      "execution_count": null,
      "outputs": [
        {
          "output_type": "stream",
          "name": "stdout",
          "text": [
            "Dataset loaded again from: C:/Users/adria/OneDrive/Desktop/CODING/jupyter/datasets/goemotion/augmented_goemotion_dataset_corrected_labels.csv\n"
          ]
        },
        {
          "output_type": "stream",
          "name": "stderr",
          "text": [
            "C:\\Users\\adria\\AppData\\Local\\Temp\\ipykernel_33524\\958882011.py:7: DtypeWarning: Columns (1) have mixed types. Specify dtype option on import or set low_memory=False.\n",
            "  augmented_df_loaded_again = pd.read_csv(load_path)\n"
          ]
        },
        {
          "output_type": "display_data",
          "data": {
            "text/plain": [
              "                                                text       id  \\\n",
              "0                            talking about me again?  eelfjvg   \n",
              "1                           i remember that feeling.  ef23px4   \n",
              "2  Let me rephrase what was said above: You shoul...  ee9jyy0   \n",
              "3    And then peeing on them. I came, I saw, I peed.  eep8dd0   \n",
              "4                   Oh, [NAME]. Oh, oh, oh, [NAME].   edv30r5   \n",
              "\n",
              "      emotion_labels  labels  \n",
              "0      [\"'neutral'\"]      27  \n",
              "1  [\"'realization'\"]      22  \n",
              "2      [\"'neutral'\"]      27  \n",
              "3      [\"'neutral'\"]      27  \n",
              "4      [\"'neutral'\"]      27  "
            ],
            "text/html": [
              "<div>\n",
              "<style scoped>\n",
              "    .dataframe tbody tr th:only-of-type {\n",
              "        vertical-align: middle;\n",
              "    }\n",
              "\n",
              "    .dataframe tbody tr th {\n",
              "        vertical-align: top;\n",
              "    }\n",
              "\n",
              "    .dataframe thead th {\n",
              "        text-align: right;\n",
              "    }\n",
              "</style>\n",
              "<table border=\"1\" class=\"dataframe\">\n",
              "  <thead>\n",
              "    <tr style=\"text-align: right;\">\n",
              "      <th></th>\n",
              "      <th>text</th>\n",
              "      <th>id</th>\n",
              "      <th>emotion_labels</th>\n",
              "      <th>labels</th>\n",
              "    </tr>\n",
              "  </thead>\n",
              "  <tbody>\n",
              "    <tr>\n",
              "      <th>0</th>\n",
              "      <td>talking about me again?</td>\n",
              "      <td>eelfjvg</td>\n",
              "      <td>[\"'neutral'\"]</td>\n",
              "      <td>27</td>\n",
              "    </tr>\n",
              "    <tr>\n",
              "      <th>1</th>\n",
              "      <td>i remember that feeling.</td>\n",
              "      <td>ef23px4</td>\n",
              "      <td>[\"'realization'\"]</td>\n",
              "      <td>22</td>\n",
              "    </tr>\n",
              "    <tr>\n",
              "      <th>2</th>\n",
              "      <td>Let me rephrase what was said above: You shoul...</td>\n",
              "      <td>ee9jyy0</td>\n",
              "      <td>[\"'neutral'\"]</td>\n",
              "      <td>27</td>\n",
              "    </tr>\n",
              "    <tr>\n",
              "      <th>3</th>\n",
              "      <td>And then peeing on them. I came, I saw, I peed.</td>\n",
              "      <td>eep8dd0</td>\n",
              "      <td>[\"'neutral'\"]</td>\n",
              "      <td>27</td>\n",
              "    </tr>\n",
              "    <tr>\n",
              "      <th>4</th>\n",
              "      <td>Oh, [NAME]. Oh, oh, oh, [NAME].</td>\n",
              "      <td>edv30r5</td>\n",
              "      <td>[\"'neutral'\"]</td>\n",
              "      <td>27</td>\n",
              "    </tr>\n",
              "  </tbody>\n",
              "</table>\n",
              "</div>"
            ]
          },
          "metadata": {}
        },
        {
          "output_type": "stream",
          "name": "stdout",
          "text": [
            "Shape of loaded dataset: (133867, 4)\n"
          ]
        }
      ]
    },
    {
      "cell_type": "code",
      "source": [
        "import matplotlib.pyplot as plt\n",
        "import seaborn as sns\n",
        "\n",
        "# Create a dictionary to map label IDs to emotion names (assuming emotion_map is defined)\n",
        "emotion_map = {\n",
        "    0: \"admiration\", 1: \"amusement\", 2: \"anger\", 3: \"annoyance\", 4: \"approval\",\n",
        "    5: \"caring\", 6: \"confusion\", 7: \"curiosity\", 8: \"desire\", 9: \"disappointment\",\n",
        "    10: \"disapproval\", 11: \"disgust\", 12: \"embarrassment\", 13: \"excitement\",\n",
        "    14: \"fear\", 15: \"gratitude\", 16: \"grief\", 17: \"joy\", 18: \"love\",\n",
        "    19: \"nervousness\", 20: \"optimism\", 21: \"pride\", 22: \"realization\", 23: \"relief\",\n",
        "    24: \"remorse\", 25: \"sadness\", 26: \"surprise\", 27: \"neutral\"\n",
        "}\n",
        "\n",
        "\n",
        "# Calculate the value counts of the 'labels' column\n",
        "label_counts = augmented_df_loaded_again['labels'].value_counts().sort_index()\n",
        "\n",
        "# Map the numerical labels to their corresponding emotion names\n",
        "emotion_counts_sorted = label_counts.rename(index=emotion_map)\n",
        "\n",
        "# Plot the distribution\n",
        "plt.figure(figsize=(12, 7))\n",
        "sns.barplot(x=emotion_counts_sorted.index, y=emotion_counts_sorted.values)\n",
        "plt.xlabel(\"Emotion\")\n",
        "plt.ylabel(\"Count\")\n",
        "plt.title(\"Distribution of Emotions in Augmented Dataset\")\n",
        "plt.xticks(rotation=90)\n",
        "plt.tight_layout()\n",
        "plt.show()"
      ],
      "metadata": {
        "colab": {
          "base_uri": "https://localhost:8080/",
          "height": 496
        },
        "id": "_OIFrNpxDmIm",
        "outputId": "328020b6-cf0d-4f7b-f84f-8f985010949c"
      },
      "execution_count": null,
      "outputs": [
        {
          "output_type": "display_data",
          "data": {
            "text/plain": [
              "<Figure size 1200x700 with 1 Axes>"
            ],
            "image/png": "[encoded data removed]"
          },
          "metadata": {}
        }
      ]
    },
    {
      "cell_type": "code",
      "metadata": {
        "colab": {
          "base_uri": "https://localhost:8080/"
        },
        "id": "79a573cb",
        "outputId": "0bcf305a-cd75-4baf-da30-beddd0c69378"
      },
      "source": [
        "from sklearn.model_selection import train_test_split\n",
        "\n",
        "# Split the augmented dataset into training and testing sets\n",
        "X_train, X_test, y_train, y_test = train_test_split(\n",
        "    augmented_df_loaded_again['text'],\n",
        "    augmented_df_loaded_again['labels'], # Use the corrected numerical labels\n",
        "    test_size=0.2, # 80% train, 20% test split\n",
        "    random_state=42, # for reproducibility\n",
        "    stratify=augmented_df_loaded_again['labels'] # Stratify to maintain class distribution\n",
        ")\n",
        "\n",
        "print(\"Dataset split into training and testing sets.\")\n",
        "print(f\"Shape of X_train: {X_train.shape}\")\n",
        "print(f\"Shape of X_test: {X_test.shape}\")\n",
        "print(f\"Shape of y_train: {y_train.shape}\")\n",
        "print(f\"Shape of y_test: {y_test.shape}\")"
      ],
      "execution_count": null,
      "outputs": [
        {
          "output_type": "stream",
          "name": "stdout",
          "text": [
            "Dataset split into training and testing sets.\n",
            "Shape of X_train: (107093,)\n",
            "Shape of X_test: (26774,)\n",
            "Shape of y_train: (107093,)\n",
            "Shape of y_test: (26774,)\n"
          ]
        }
      ]
    },
    {
      "cell_type": "code",
      "metadata": {
        "colab": {
          "base_uri": "https://localhost:8080/"
        },
        "id": "67449443",
        "outputId": "0fc49a14-768d-4948-f770-199d19b32643"
      },
      "source": [
        "from transformers import RobertaTokenizerFast\n",
        "\n",
        "# Load the Roberta tokenizer\n",
        "tokenizer = RobertaTokenizerFast.from_pretrained(\"roberta-base\")\n",
        "\n",
        "print(\"Roberta tokenizer loaded.\")"
      ],
      "execution_count": null,
      "outputs": [
        {
          "output_type": "stream",
          "name": "stdout",
          "text": [
            "Roberta tokenizer loaded.\n"
          ]
        }
      ]
    },
    {
      "cell_type": "code",
      "metadata": {
        "colab": {
          "base_uri": "https://localhost:8080/"
        },
        "id": "c6399fe2",
        "outputId": "ef46c9bc-c5ff-493e-f81b-3cd8f6cb7565"
      },
      "source": [
        "# Tokenize the training and testing data\n",
        "X_train_tokenized = tokenizer(X_train.tolist(), padding=True, truncation=True, max_length=128, return_tensors=\"pt\")\n",
        "X_test_tokenized = tokenizer(X_test.tolist(), padding=True, truncation=True, max_length=128, return_tensors=\"pt\")\n",
        "\n",
        "print(\"Training and testing data tokenized.\")\n",
        "print(f\"Shape of X_train_tokenized['input_ids']: {X_train_tokenized['input_ids'].shape}\")\n",
        "print(f\"Shape of X_test_tokenized['input_ids']: {X_test_tokenized['input_ids'].shape}\")\n",
        "print(f\"Shape of X_train_tokenized['attention_mask']: {X_train_tokenized['attention_mask'].shape}\")\n",
        "print(f\"Shape of X_test_tokenized['attention_mask']: {X_test_tokenized['attention_mask'].shape}\")"
      ],
      "execution_count": null,
      "outputs": [
        {
          "output_type": "stream",
          "name": "stdout",
          "text": [
            "Training and testing data tokenized.\n",
            "Shape of X_train_tokenized['input_ids']: torch.Size([107093, 128])\n",
            "Shape of X_test_tokenized['input_ids']: torch.Size([26774, 95])\n",
            "Shape of X_train_tokenized['attention_mask']: torch.Size([107093, 128])\n",
            "Shape of X_test_tokenized['attention_mask']: torch.Size([26774, 95])\n"
          ]
        }
      ]
    },
    {
      "cell_type": "code",
      "metadata": {
        "colab": {
          "base_uri": "https://localhost:8080/"
        },
        "id": "f203ec9b",
        "outputId": "69656505-5121-43a6-db6f-845a543a1b5c"
      },
      "source": [
        "import torch\n",
        "\n",
        "# Convert the numerical labels to PyTorch tensors\n",
        "y_train_tensor = torch.tensor(y_train.tolist(), dtype=torch.long)\n",
        "y_test_tensor = torch.tensor(y_test.tolist(), dtype=torch.long)\n",
        "\n",
        "print(\"Numerical labels converted to PyTorch tensors.\")\n",
        "print(f\"Shape of y_train_tensor: {y_train_tensor.shape}\")\n",
        "print(f\"Shape of y_test_tensor: {y_test_tensor.shape}\")"
      ],
      "execution_count": null,
      "outputs": [
        {
          "output_type": "stream",
          "name": "stdout",
          "text": [
            "Numerical labels converted to PyTorch tensors.\n",
            "Shape of y_train_tensor: torch.Size([107093])\n",
            "Shape of y_test_tensor: torch.Size([26774])\n"
          ]
        }
      ]
    },
    {
      "cell_type": "code",
      "metadata": {
        "colab": {
          "base_uri": "https://localhost:8080/"
        },
        "id": "f2c9f024",
        "outputId": "1f7a4f62-649b-439a-e87c-4cbc49ccf790"
      },
      "source": [
        "from transformers import RobertaForSequenceClassification\n",
        "\n",
        "# Determine the number of unique labels\n",
        "num_labels = augmented_df_loaded_again['labels'].nunique()\n",
        "print(f\"Number of unique labels: {num_labels}\")\n",
        "\n",
        "\n",
        "# Load the Roberta model for sequence classification\n",
        "model = RobertaForSequenceClassification.from_pretrained(\"roberta-base\", num_labels=num_labels)\n",
        "\n",
        "print(\"Roberta model for sequence classification loaded.\")"
      ],
      "execution_count": null,
      "outputs": [
        {
          "output_type": "stream",
          "name": "stdout",
          "text": [
            "Number of unique labels: 28\n"
          ]
        },
        {
          "output_type": "stream",
          "name": "stderr",
          "text": [
            "Some weights of RobertaForSequenceClassification were not initialized from the model checkpoint at roberta-base and are newly initialized: ['classifier.dense.bias', 'classifier.dense.weight', 'classifier.out_proj.bias', 'classifier.out_proj.weight']\n",
            "You should probably TRAIN this model on a down-stream task to be able to use it for predictions and inference.\n"
          ]
        },
        {
          "output_type": "stream",
          "name": "stdout",
          "text": [
            "Roberta model for sequence classification loaded.\n"
          ]
        }
      ]
    },
    {
      "cell_type": "code",
      "metadata": {
        "colab": {
          "base_uri": "https://localhost:8080/"
        },
        "id": "15f20616",
        "outputId": "b2479dc7-c978-41fb-d46c-bccf7910258c"
      },
      "source": [
        "from transformers import TrainingArguments\n",
        "\n",
        "# Define training arguments\n",
        "training_args = TrainingArguments(\n",
        "    output_dir=\"C:/Users/adria/OneDrive/Desktop/CODING/jupyter/models/goemotion/roberta\", # Output directory for model checkpoints\n",
        "    eval_strategy=\"epoch\", # Evaluate every epoch # Corrected parameter name\n",
        "    save_strategy=\"epoch\", # Save checkpoint every epoch\n",
        "    learning_rate=1.958376060959242e-05, # Initial learning rate (will be overridden by HP search)\n",
        "    per_device_train_batch_size=8, # Batch size for training\n",
        "    per_device_eval_batch_size=8, # Batch size for evaluation\n",
        "    num_train_epochs=5, # Number of training epochs (will be overridden by HP search)\n",
        "    weight_decay=0.01, # Weight decay\n",
        "    logging_dir=\"./logs\", # Directory for logs\n",
        "    logging_steps=100, # Log every 100 steps\n",
        "    report_to=\"none\", # Disable reporting to external services\n",
        "    load_best_model_at_end=True, # Load the best model at the end of training\n",
        "    metric_for_best_model=\"eval_loss\", # Metric to determine the best model\n",
        ")\n",
        "\n",
        "print(\"Training arguments defined.\")"
      ],
      "execution_count": null,
      "outputs": [
        {
          "output_type": "stream",
          "name": "stdout",
          "text": [
            "Training arguments defined.\n"
          ]
        }
      ]
    },
    {
      "cell_type": "code",
      "metadata": {
        "colab": {
          "base_uri": "https://localhost:8080/"
        },
        "id": "91711c43",
        "outputId": "2af241ce-685e-445a-a1b1-758cbc0f937d"
      },
      "source": [
        "import optuna\n",
        "\n",
        "# Define the hyperparameter search space\n",
        "def optuna_hp_space(trial):\n",
        "    return {\n",
        "        \"learning_rate\": trial.suggest_float(\"learning_rate\", 1e-5, 5e-5, log=True),\n",
        "        \"num_train_epochs\": trial.suggest_int(\"num_train_epochs\", 1, 5),\n",
        "        # You can add other hyperparameters to search here, e.g.,\n",
        "        # \"per_device_train_batch_size\": trial.suggest_categorical(\"per_device_train_batch_size\", [8, 16, 32]),\n",
        "        # \"weight_decay\": trial.suggest_float(\"weight_decay\", 0.0, 0.1),\n",
        "    }\n",
        "\n",
        "print(\"Hyperparameter search space defined.\")"
      ],
      "execution_count": null,
      "outputs": [
        {
          "output_type": "stream",
          "name": "stdout",
          "text": [
            "Hyperparameter search space defined.\n"
          ]
        }
      ]
    },
    {
      "cell_type": "code",
      "metadata": {
        "colab": {
          "base_uri": "https://localhost:8080/"
        },
        "id": "4831d81e",
        "outputId": "b6c1d608-000e-4574-803d-9c621f73a17b"
      },
      "source": [
        "import torch\n",
        "\n",
        "# Define the model initialization function for hyperparameter search\n",
        "def model_init(trial):\n",
        "    # Load the Roberta model for sequence classification\n",
        "    # Ensure the model is moved to the appropriate device (GPU if available)\n",
        "    return RobertaForSequenceClassification.from_pretrained(\"roberta-base\", num_labels=num_labels).to(torch.device(\"cuda\" if torch.cuda.is_available() else \"cpu\"))\n",
        "\n",
        "print(\"Model initialization function defined.\")"
      ],
      "execution_count": null,
      "outputs": [
        {
          "output_type": "stream",
          "name": "stdout",
          "text": [
            "Model initialization function defined.\n"
          ]
        }
      ]
    },
    {
      "cell_type": "code",
      "metadata": {
        "colab": {
          "base_uri": "https://localhost:8080/"
        },
        "id": "57cef645",
        "outputId": "573eb755-63a1-4c08-efcb-8ccd4991626f"
      },
      "source": [
        "from transformers import Trainer\n",
        "from torch.utils.data import Dataset\n",
        "import torch\n",
        "\n",
        "# Create a custom Dataset that returns dictionaries\n",
        "class RobertaEmotionDataset(Dataset):\n",
        "    def __init__(self, input_ids, attention_mask, labels):\n",
        "        self.input_ids = input_ids\n",
        "        self.attention_mask = attention_mask\n",
        "        self.labels = labels\n",
        "\n",
        "    def __len__(self):\n",
        "        return len(self.input_ids)\n",
        "\n",
        "    def __getitem__(self, idx):\n",
        "        return {\n",
        "            'input_ids': self.input_ids[idx],\n",
        "            'attention_mask': self.attention_mask[idx],\n",
        "            'labels': self.labels[idx]\n",
        "        }\n",
        "\n",
        "# Create instances of the custom dataset\n",
        "train_dataset = RobertaEmotionDataset(\n",
        "    X_train_tokenized['input_ids'],\n",
        "    X_train_tokenized['attention_mask'],\n",
        "    y_train_tensor\n",
        ")\n",
        "\n",
        "test_dataset = RobertaEmotionDataset(\n",
        "    X_test_tokenized['input_ids'],\n",
        "    X_test_tokenized['attention_mask'],\n",
        "    y_test_tensor\n",
        ")\n",
        "\n",
        "# Define a simple custom data collator to handle padding\n",
        "class CustomDataCollator:\n",
        "    def __init__(self, tokenizer):\n",
        "        self.tokenizer = tokenizer\n",
        "\n",
        "    def __call__(self, features):\n",
        "        # features is a list of dictionaries, one for each sample in the batch\n",
        "        input_ids = [f['input_ids'] for f in features]\n",
        "        attention_mask = [f['attention_mask'] for f in features]\n",
        "        labels = [f['labels'] for f in features]\n",
        "\n",
        "        # Pad the input_ids and attention_mask\n",
        "        padded_input_ids = torch.nn.utils.rnn.pad_sequence(input_ids, batch_first=True, padding_value=self.tokenizer.pad_token_id)\n",
        "        padded_attention_mask = torch.nn.utils.rnn.pad_sequence(attention_mask, batch_first=True, padding_value=0)\n",
        "\n",
        "        # Stack the labels\n",
        "        labels_tensor = torch.stack(labels)\n",
        "\n",
        "        return {\n",
        "            'input_ids': padded_input_ids,\n",
        "            'attention_mask': padded_attention_mask,\n",
        "            'labels': labels_tensor\n",
        "        }\n",
        "\n",
        "# Instantiate the custom data collator\n",
        "data_collator = CustomDataCollator(tokenizer=tokenizer)\n",
        "\n",
        "\n",
        "# Instantiate the Trainer\n",
        "trainer = Trainer(\n",
        "    model_init=model_init, # Use the model initialization function for HP search\n",
        "    args=training_args,\n",
        "    train_dataset=train_dataset,\n",
        "    eval_dataset=test_dataset,\n",
        "    data_collator=data_collator, # Provide the custom data collator\n",
        ")\n",
        "\n",
        "print(\"Trainer instantiated.\")"
      ],
      "execution_count": null,
      "outputs": [
        {
          "output_type": "stream",
          "name": "stderr",
          "text": [
            "Some weights of RobertaForSequenceClassification were not initialized from the model checkpoint at roberta-base and are newly initialized: ['classifier.dense.bias', 'classifier.dense.weight', 'classifier.out_proj.bias', 'classifier.out_proj.weight']\n",
            "You should probably TRAIN this model on a down-stream task to be able to use it for predictions and inference.\n"
          ]
        },
        {
          "output_type": "stream",
          "name": "stdout",
          "text": [
            "Trainer instantiated.\n"
          ]
        }
      ]
    },
    {
      "cell_type": "code",
      "metadata": {
        "colab": {
          "base_uri": "https://localhost:8080/",
          "height": 262
        },
        "id": "046a9e52",
        "outputId": "9c9f2654-e485-4739-a06a-c95df04b1e1c"
      },
      "source": [
        "# Run hyperparameter search\n",
        "best_trial = trainer.hyperparameter_search(\n",
        "    direction=\"minimize\", # We want to minimize the evaluation loss\n",
        "    backend=\"optuna\",\n",
        "    hp_space=optuna_hp_space,\n",
        "    n_trials=1, # Run only 1 trial as requested\n",
        ")\n",
        "\n",
        "print(\"Best hyperparameters found:\")\n",
        "print(best_trial)"
      ],
      "execution_count": null,
      "outputs": [
        {
          "output_type": "stream",
          "name": "stderr",
          "text": [
            "[I 2025-09-29 22:26:57,573] A new study created in memory with name: no-name-24da6f7b-410e-47dc-841b-9379e95f57bf\n",
            "Some weights of RobertaForSequenceClassification were not initialized from the model checkpoint at roberta-base and are newly initialized: ['classifier.dense.bias', 'classifier.dense.weight', 'classifier.out_proj.bias', 'classifier.out_proj.weight']\n",
            "You should probably TRAIN this model on a down-stream task to be able to use it for predictions and inference.\n"
          ]
        },
        {
          "output_type": "display_data",
          "data": {
            "text/plain": [
              "<IPython.core.display.HTML object>"
            ],
            "text/html": [
              "\n",
              "    <div>\n",
              "      \n",
              "      <progress value='13388' max='13388' style='width:300px; height:20px; vertical-align: middle;'></progress>\n",
              "      [13388/13388 1:01:22, Epoch 2/2]\n",
              "    </div>\n",
              "    <table border=\"1\" class=\"dataframe\">\n",
              "  <thead>\n",
              " <tr style=\"text-align: left;\">\n",
              "      <th>Epoch</th>\n",
              "      <th>Training Loss</th>\n",
              "      <th>Validation Loss</th>\n",
              "    </tr>\n",
              "  </thead>\n",
              "  <tbody>\n",
              "    <tr>\n",
              "      <td>1</td>\n",
              "      <td>2.593700</td>\n",
              "      <td>2.527425</td>\n",
              "    </tr>\n",
              "    <tr>\n",
              "      <td>2</td>\n",
              "      <td>2.459400</td>\n",
              "      <td>2.490819</td>\n",
              "    </tr>\n",
              "  </tbody>\n",
              "</table><p>"
            ]
          },
          "metadata": {}
        },
        {
          "output_type": "stream",
          "name": "stderr",
          "text": [
            "[I 2025-09-29 23:28:21,656] Trial 0 finished with value: 2.490818500518799 and parameters: {'learning_rate': 1.958376060959242e-05, 'num_train_epochs': 2}. Best is trial 0 with value: 2.490818500518799.\n"
          ]
        },
        {
          "output_type": "stream",
          "name": "stdout",
          "text": [
            "Best hyperparameters found:\n",
            "BestRun(run_id='0', objective=2.490818500518799, hyperparameters={'learning_rate': 1.958376060959242e-05, 'num_train_epochs': 2}, run_summary=None)\n"
          ]
        }
      ]
    },
    {
      "cell_type": "code",
      "source": [
        "trainer.train()"
      ],
      "metadata": {
        "colab": {
          "base_uri": "https://localhost:8080/",
          "height": 182
        },
        "id": "TiBjirajrRuZ",
        "outputId": "4939d406-b048-4b7a-c57d-c509015363e8"
      },
      "execution_count": null,
      "outputs": [
        {
          "output_type": "stream",
          "name": "stderr",
          "text": [
            "Some weights of RobertaForSequenceClassification were not initialized from the model checkpoint at roberta-base and are newly initialized: ['classifier.dense.bias', 'classifier.dense.weight', 'classifier.out_proj.bias', 'classifier.out_proj.weight']\n",
            "You should probably TRAIN this model on a down-stream task to be able to use it for predictions and inference.\n"
          ]
        },
        {
          "output_type": "display_data",
          "data": {
            "text/plain": [
              "<IPython.core.display.HTML object>"
            ],
            "text/html": [
              "\n",
              "    <div>\n",
              "      \n",
              "      <progress value='25' max='66935' style='width:300px; height:20px; vertical-align: middle;'></progress>\n",
              "      [   25/66935 00:03 < 3:03:14, 6.09 it/s, Epoch 0.00/5]\n",
              "    </div>\n",
              "    <table border=\"1\" class=\"dataframe\">\n",
              "  <thead>\n",
              " <tr style=\"text-align: left;\">\n",
              "      <th>Epoch</th>\n",
              "      <th>Training Loss</th>\n",
              "      <th>Validation Loss</th>\n",
              "    </tr>\n",
              "  </thead>\n",
              "  <tbody>\n",
              "  </tbody>\n",
              "</table><p>"
            ]
          },
          "metadata": {}
        },
        {
          "output_type": "stream",
          "name": "stderr",
          "text": [
            "\n",
            "KeyboardInterrupt\n",
            "\n"
          ]
        }
      ]
    },
    {
      "cell_type": "code",
      "source": [
        "save_path_clf = \"C:/Users/adria/OneDrive/Desktop/CODING/jupyter/models/goemotion/roberta\"\n",
        "trainer.save_model(save_path_clf)"
      ],
      "metadata": {
        "id": "Gf4QRRXtrm8O"
      },
      "execution_count": null,
      "outputs": []
    },
    {
      "cell_type": "code",
      "source": [
        "from transformers import RobertaForSequenceClassification\n",
        "from sklearn.metrics import classification_report\n",
        "import torch\n",
        "\n",
        "# Define the path where the model was saved\n",
        "save_path_clf = \"C:/Users/adria/OneDrive/Desktop/CODING/jupyter/models/goemotion/roberta\"\n",
        "\n",
        "# Load the trained model\n",
        "loaded_model = RobertaForSequenceClassification.from_pretrained(save_path_clf)\n",
        "\n",
        "# Move the model to the appropriate device (GPU if available)\n",
        "device = torch.device(\"cuda\" if torch.cuda.is_available() else \"cpu\")\n",
        "loaded_model.to(device)\n",
        "\n",
        "# Set the model to evaluation mode\n",
        "loaded_model.eval()\n",
        "\n",
        "# Generate predictions\n",
        "predictions = trainer.predict(test_dataset)\n",
        "\n",
        "# Get the predicted labels\n",
        "predicted_labels = predictions.predictions.argmax(axis=1)\n",
        "\n",
        "# Get the true labels\n",
        "true_labels = predictions.label_ids\n",
        "\n",
        "# Create a dictionary to map label IDs to emotion names\n",
        "emotion_map = {\n",
        "    0: \"admiration\", 1: \"amusement\", 2: \"anger\", 3: \"annoyance\", 4: \"approval\",\n",
        "    5: \"caring\", 6: \"confusion\", 7: \"curiosity\", 8: \"desire\", 9: \"disappointment\",\n",
        "    10: \"disapproval\", 11: \"disgust\", 12: \"embarrassment\", 13: \"excitement\",\n",
        "    14: \"fear\", 15: \"gratitude\", 16: \"grief\", 17: \"joy\", 18: \"love\",\n",
        "    19: \"nervousness\", 20: \"optimism\", 21: \"pride\", 22: \"realization\", 23: \"relief\",\n",
        "    24: \"remorse\", 25: \"sadness\", 26: \"surprise\", 27: \"neutral\"\n",
        "}\n",
        "\n",
        "# Create a mapping from emotion name back to label ID\n",
        "emotion_to_id = {emotion: i for i, emotion in emotion_map.items()}\n",
        "\n",
        "\n",
        "# Generate the classification report\n",
        "# Create a mapping from label ID back to emotion name for better readability in the report\n",
        "id_to_emotion = {i: emotion for emotion, i in emotion_to_id.items()}\n",
        "target_names = [id_to_emotion[i] for i in sorted(id_to_emotion.keys())]\n",
        "\n",
        "\n",
        "report = classification_report(true_labels, predicted_labels, target_names=target_names, zero_division=0)\n",
        "\n",
        "print(\"Classification Report:\")\n",
        "print(report)"
      ],
      "metadata": {
        "colab": {
          "base_uri": "https://localhost:8080/",
          "height": 642
        },
        "id": "VzFO4qcctGjX",
        "outputId": "787bcbf8-a93c-4db6-ad08-da8693354fd5"
      },
      "execution_count": null,
      "outputs": [
        {
          "output_type": "display_data",
          "data": {
            "text/plain": [
              "<IPython.core.display.HTML object>"
            ],
            "text/html": []
          },
          "metadata": {}
        },
        {
          "output_type": "stream",
          "name": "stdout",
          "text": [
            "Classification Report:\n",
            "                precision    recall  f1-score   support\n",
            "\n",
            "    admiration       0.70      0.81      0.75      1007\n",
            "     amusement       0.76      0.49      0.60       992\n",
            "         anger       0.39      0.25      0.31      1008\n",
            "     annoyance       0.35      0.17      0.23       915\n",
            "      approval       0.50      0.30      0.37       905\n",
            "        caring       0.24      0.13      0.17       982\n",
            "     confusion       0.24      0.20      0.22       983\n",
            "     curiosity       0.43      0.37      0.40       902\n",
            "        desire       0.24      0.12      0.16       996\n",
            "disappointment       0.22      0.14      0.17       954\n",
            "   disapproval       0.44      0.31      0.36       914\n",
            "       disgust       0.15      0.16      0.15       966\n",
            " embarrassment       0.18      0.23      0.20      1008\n",
            "    excitement       0.15      0.36      0.21       982\n",
            "          fear       0.18      0.23      0.20      1001\n",
            "     gratitude       0.81      0.50      0.62       884\n",
            "         grief       0.24      0.48      0.32      1021\n",
            "           joy       0.27      0.16      0.20       910\n",
            "          love       0.51      0.35      0.42       881\n",
            "   nervousness       0.17      0.22      0.20      1008\n",
            "      optimism       0.24      0.19      0.21       866\n",
            "         pride       0.13      0.17      0.14      1010\n",
            "   realization       0.16      0.08      0.11       914\n",
            "        relief       0.15      0.14      0.14      1009\n",
            "       remorse       0.18      0.23      0.20       990\n",
            "       sadness       0.38      0.12      0.18       905\n",
            "      surprise       0.18      0.52      0.27       940\n",
            "       neutral       0.47      0.42      0.44       921\n",
            "\n",
            "      accuracy                           0.28     26774\n",
            "     macro avg       0.32      0.28      0.28     26774\n",
            "  weighted avg       0.32      0.28      0.28     26774\n",
            "\n"
          ]
        }
      ]
    }
  ]
}