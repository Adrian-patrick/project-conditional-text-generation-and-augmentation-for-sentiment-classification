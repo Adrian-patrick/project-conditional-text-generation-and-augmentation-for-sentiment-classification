{
  "nbformat": 4,
  "nbformat_minor": 0,
  "metadata": {
    "colab": {
      "provenance": [],
      "collapsed_sections": [
        "rZh9sFwLPt10",
        "w3p6RJNmP0D7",
        "jl-6J98xxIPL"
      ]
    },
    "kernelspec": {
      "name": "python3",
      "display_name": "Python 3"
    },
    "language_info": {
      "name": "python"
    },
    "widgets": {
      "application/vnd.jupyter.widget-state+json": {
        "3bd1d00df2ac4d9680ea62fe1082d481": {
          "model_module": "@jupyter-widgets/controls",
          "model_name": "HBoxModel",
          "model_module_version": "2.0.0",
          "state": {
            "_dom_classes": [],
            "_model_module": "@jupyter-widgets/controls",
            "_model_module_version": "2.0.0",
            "_model_name": "HBoxModel",
            "_view_count": null,
            "_view_module": "@jupyter-widgets/controls",
            "_view_module_version": "2.0.0",
            "_view_name": "HBoxView",
            "box_style": "",
            "children": [
              "IPY_MODEL_d7aa174e4494431995e4c83d5f9e8af2",
              "IPY_MODEL_efc1fcb29de947fc999f81fb2dad5f85",
              "IPY_MODEL_552051b8c8dc4f6bb320bbc7c04bb95e"
            ],
            "layout": "IPY_MODEL_968de8fc2e4e4c3ebfb28c6eae3080bc",
            "tabbable": null,
            "tooltip": null
          }
        },
        "d7aa174e4494431995e4c83d5f9e8af2": {
          "model_module": "@jupyter-widgets/controls",
          "model_name": "HTMLModel",
          "model_module_version": "2.0.0",
          "state": {
            "_dom_classes": [],
            "_model_module": "@jupyter-widgets/controls",
            "_model_module_version": "2.0.0",
            "_model_name": "HTMLModel",
            "_view_count": null,
            "_view_module": "@jupyter-widgets/controls",
            "_view_module_version": "2.0.0",
            "_view_name": "HTMLView",
            "description": "",
            "description_allow_html": false,
            "layout": "IPY_MODEL_832883f06615433b8aca6fbea21e3795",
            "placeholder": "​",
            "style": "IPY_MODEL_e6e0bffe80bf4af0a55195cba578e07d",
            "tabbable": null,
            "tooltip": null,
            "value": "Map: 100%"
          }
        },
        "efc1fcb29de947fc999f81fb2dad5f85": {
          "model_module": "@jupyter-widgets/controls",
          "model_name": "FloatProgressModel",
          "model_module_version": "2.0.0",
          "state": {
            "_dom_classes": [],
            "_model_module": "@jupyter-widgets/controls",
            "_model_module_version": "2.0.0",
            "_model_name": "FloatProgressModel",
            "_view_count": null,
            "_view_module": "@jupyter-widgets/controls",
            "_view_module_version": "2.0.0",
            "_view_name": "ProgressView",
            "bar_style": "success",
            "description": "",
            "description_allow_html": false,
            "layout": "IPY_MODEL_1d5b6591cf3246d8a53d4b0ecc44e5ee",
            "max": 5953,
            "min": 0,
            "orientation": "horizontal",
            "style": "IPY_MODEL_e8b573ad2db1418d9f93e4ab902f8db5",
            "tabbable": null,
            "tooltip": null,
            "value": 5953
          }
        },
        "552051b8c8dc4f6bb320bbc7c04bb95e": {
          "model_module": "@jupyter-widgets/controls",
          "model_name": "HTMLModel",
          "model_module_version": "2.0.0",
          "state": {
            "_dom_classes": [],
            "_model_module": "@jupyter-widgets/controls",
            "_model_module_version": "2.0.0",
            "_model_name": "HTMLModel",
            "_view_count": null,
            "_view_module": "@jupyter-widgets/controls",
            "_view_module_version": "2.0.0",
            "_view_name": "HTMLView",
            "description": "",
            "description_allow_html": false,
            "layout": "IPY_MODEL_4a78c435aed244d8bd6d70d7c2f04dc0",
            "placeholder": "​",
            "style": "IPY_MODEL_500e7104370a437d8bebe6d484e05a3c",
            "tabbable": null,
            "tooltip": null,
            "value": " 5953/5953 [00:01&lt;00:00, 4209.22 examples/s]"
          }
        },
        "968de8fc2e4e4c3ebfb28c6eae3080bc": {
          "model_module": "@jupyter-widgets/base",
          "model_name": "LayoutModel",
          "model_module_version": "2.0.0",
          "state": {
            "_model_module": "@jupyter-widgets/base",
            "_model_module_version": "2.0.0",
            "_model_name": "LayoutModel",
            "_view_count": null,
            "_view_module": "@jupyter-widgets/base",
            "_view_module_version": "2.0.0",
            "_view_name": "LayoutView",
            "align_content": null,
            "align_items": null,
            "align_self": null,
            "border_bottom": null,
            "border_left": null,
            "border_right": null,
            "border_top": null,
            "bottom": null,
            "display": null,
            "flex": null,
            "flex_flow": null,
            "grid_area": null,
            "grid_auto_columns": null,
            "grid_auto_flow": null,
            "grid_auto_rows": null,
            "grid_column": null,
            "grid_gap": null,
            "grid_row": null,
            "grid_template_areas": null,
            "grid_template_columns": null,
            "grid_template_rows": null,
            "height": null,
            "justify_content": null,
            "justify_items": null,
            "left": null,
            "margin": null,
            "max_height": null,
            "max_width": null,
            "min_height": null,
            "min_width": null,
            "object_fit": null,
            "object_position": null,
            "order": null,
            "overflow": null,
            "padding": null,
            "right": null,
            "top": null,
            "visibility": null,
            "width": null
          }
        },
        "832883f06615433b8aca6fbea21e3795": {
          "model_module": "@jupyter-widgets/base",
          "model_name": "LayoutModel",
          "model_module_version": "2.0.0",
          "state": {
            "_model_module": "@jupyter-widgets/base",
            "_model_module_version": "2.0.0",
            "_model_name": "LayoutModel",
            "_view_count": null,
            "_view_module": "@jupyter-widgets/base",
            "_view_module_version": "2.0.0",
            "_view_name": "LayoutView",
            "align_content": null,
            "align_items": null,
            "align_self": null,
            "border_bottom": null,
            "border_left": null,
            "border_right": null,
            "border_top": null,
            "bottom": null,
            "display": null,
            "flex": null,
            "flex_flow": null,
            "grid_area": null,
            "grid_auto_columns": null,
            "grid_auto_flow": null,
            "grid_auto_rows": null,
            "grid_column": null,
            "grid_gap": null,
            "grid_row": null,
            "grid_template_areas": null,
            "grid_template_columns": null,
            "grid_template_rows": null,
            "height": null,
            "justify_content": null,
            "justify_items": null,
            "left": null,
            "margin": null,
            "max_height": null,
            "max_width": null,
            "min_height": null,
            "min_width": null,
            "object_fit": null,
            "object_position": null,
            "order": null,
            "overflow": null,
            "padding": null,
            "right": null,
            "top": null,
            "visibility": null,
            "width": null
          }
        },
        "e6e0bffe80bf4af0a55195cba578e07d": {
          "model_module": "@jupyter-widgets/controls",
          "model_name": "HTMLStyleModel",
          "model_module_version": "2.0.0",
          "state": {
            "_model_module": "@jupyter-widgets/controls",
            "_model_module_version": "2.0.0",
            "_model_name": "HTMLStyleModel",
            "_view_count": null,
            "_view_module": "@jupyter-widgets/base",
            "_view_module_version": "2.0.0",
            "_view_name": "StyleView",
            "background": null,
            "description_width": "",
            "font_size": null,
            "text_color": null
          }
        },
        "1d5b6591cf3246d8a53d4b0ecc44e5ee": {
          "model_module": "@jupyter-widgets/base",
          "model_name": "LayoutModel",
          "model_module_version": "2.0.0",
          "state": {
            "_model_module": "@jupyter-widgets/base",
            "_model_module_version": "2.0.0",
            "_model_name": "LayoutModel",
            "_view_count": null,
            "_view_module": "@jupyter-widgets/base",
            "_view_module_version": "2.0.0",
            "_view_name": "LayoutView",
            "align_content": null,
            "align_items": null,
            "align_self": null,
            "border_bottom": null,
            "border_left": null,
            "border_right": null,
            "border_top": null,
            "bottom": null,
            "display": null,
            "flex": null,
            "flex_flow": null,
            "grid_area": null,
            "grid_auto_columns": null,
            "grid_auto_flow": null,
            "grid_auto_rows": null,
            "grid_column": null,
            "grid_gap": null,
            "grid_row": null,
            "grid_template_areas": null,
            "grid_template_columns": null,
            "grid_template_rows": null,
            "height": null,
            "justify_content": null,
            "justify_items": null,
            "left": null,
            "margin": null,
            "max_height": null,
            "max_width": null,
            "min_height": null,
            "min_width": null,
            "object_fit": null,
            "object_position": null,
            "order": null,
            "overflow": null,
            "padding": null,
            "right": null,
            "top": null,
            "visibility": null,
            "width": null
          }
        },
        "e8b573ad2db1418d9f93e4ab902f8db5": {
          "model_module": "@jupyter-widgets/controls",
          "model_name": "ProgressStyleModel",
          "model_module_version": "2.0.0",
          "state": {
            "_model_module": "@jupyter-widgets/controls",
            "_model_module_version": "2.0.0",
            "_model_name": "ProgressStyleModel",
            "_view_count": null,
            "_view_module": "@jupyter-widgets/base",
            "_view_module_version": "2.0.0",
            "_view_name": "StyleView",
            "bar_color": null,
            "description_width": ""
          }
        },
        "4a78c435aed244d8bd6d70d7c2f04dc0": {
          "model_module": "@jupyter-widgets/base",
          "model_name": "LayoutModel",
          "model_module_version": "2.0.0",
          "state": {
            "_model_module": "@jupyter-widgets/base",
            "_model_module_version": "2.0.0",
            "_model_name": "LayoutModel",
            "_view_count": null,
            "_view_module": "@jupyter-widgets/base",
            "_view_module_version": "2.0.0",
            "_view_name": "LayoutView",
            "align_content": null,
            "align_items": null,
            "align_self": null,
            "border_bottom": null,
            "border_left": null,
            "border_right": null,
            "border_top": null,
            "bottom": null,
            "display": null,
            "flex": null,
            "flex_flow": null,
            "grid_area": null,
            "grid_auto_columns": null,
            "grid_auto_flow": null,
            "grid_auto_rows": null,
            "grid_column": null,
            "grid_gap": null,
            "grid_row": null,
            "grid_template_areas": null,
            "grid_template_columns": null,
            "grid_template_rows": null,
            "height": null,
            "justify_content": null,
            "justify_items": null,
            "left": null,
            "margin": null,
            "max_height": null,
            "max_width": null,
            "min_height": null,
            "min_width": null,
            "object_fit": null,
            "object_position": null,
            "order": null,
            "overflow": null,
            "padding": null,
            "right": null,
            "top": null,
            "visibility": null,
            "width": null
          }
        },
        "500e7104370a437d8bebe6d484e05a3c": {
          "model_module": "@jupyter-widgets/controls",
          "model_name": "HTMLStyleModel",
          "model_module_version": "2.0.0",
          "state": {
            "_model_module": "@jupyter-widgets/controls",
            "_model_module_version": "2.0.0",
            "_model_name": "HTMLStyleModel",
            "_view_count": null,
            "_view_module": "@jupyter-widgets/base",
            "_view_module_version": "2.0.0",
            "_view_name": "StyleView",
            "background": null,
            "description_width": "",
            "font_size": null,
            "text_color": null
          }
        },
        "f664e14db0714ce5bc4436aa0e42e9eb": {
          "model_module": "@jupyter-widgets/controls",
          "model_name": "HBoxModel",
          "model_module_version": "2.0.0",
          "state": {
            "_dom_classes": [],
            "_model_module": "@jupyter-widgets/controls",
            "_model_module_version": "2.0.0",
            "_model_name": "HBoxModel",
            "_view_count": null,
            "_view_module": "@jupyter-widgets/controls",
            "_view_module_version": "2.0.0",
            "_view_name": "HBoxView",
            "box_style": "",
            "children": [
              "IPY_MODEL_def484cabd234053b039b06f0ab2e911",
              "IPY_MODEL_1ff3f43794f84679acdb62bccb01ba7d",
              "IPY_MODEL_17f2388d55c7412da0df356ca834cc81"
            ],
            "layout": "IPY_MODEL_61eac7483c2741228fa69fa1ea23c4e6",
            "tabbable": null,
            "tooltip": null
          }
        },
        "def484cabd234053b039b06f0ab2e911": {
          "model_module": "@jupyter-widgets/controls",
          "model_name": "HTMLModel",
          "model_module_version": "2.0.0",
          "state": {
            "_dom_classes": [],
            "_model_module": "@jupyter-widgets/controls",
            "_model_module_version": "2.0.0",
            "_model_name": "HTMLModel",
            "_view_count": null,
            "_view_module": "@jupyter-widgets/controls",
            "_view_module_version": "2.0.0",
            "_view_name": "HTMLView",
            "description": "",
            "description_allow_html": false,
            "layout": "IPY_MODEL_8e6710cac86d4eb6bf7b60716dea8a3f",
            "placeholder": "​",
            "style": "IPY_MODEL_9f0f8f666a864948a3c71b12de572139",
            "tabbable": null,
            "tooltip": null,
            "value": "Map: 100%"
          }
        },
        "1ff3f43794f84679acdb62bccb01ba7d": {
          "model_module": "@jupyter-widgets/controls",
          "model_name": "FloatProgressModel",
          "model_module_version": "2.0.0",
          "state": {
            "_dom_classes": [],
            "_model_module": "@jupyter-widgets/controls",
            "_model_module_version": "2.0.0",
            "_model_name": "FloatProgressModel",
            "_view_count": null,
            "_view_module": "@jupyter-widgets/controls",
            "_view_module_version": "2.0.0",
            "_view_name": "ProgressView",
            "bar_style": "success",
            "description": "",
            "description_allow_html": false,
            "layout": "IPY_MODEL_9a8041435c724e6e89a4cd00561e159a",
            "max": 1489,
            "min": 0,
            "orientation": "horizontal",
            "style": "IPY_MODEL_9ffbbf62de434a4588263650f444d498",
            "tabbable": null,
            "tooltip": null,
            "value": 1489
          }
        },
        "17f2388d55c7412da0df356ca834cc81": {
          "model_module": "@jupyter-widgets/controls",
          "model_name": "HTMLModel",
          "model_module_version": "2.0.0",
          "state": {
            "_dom_classes": [],
            "_model_module": "@jupyter-widgets/controls",
            "_model_module_version": "2.0.0",
            "_model_name": "HTMLModel",
            "_view_count": null,
            "_view_module": "@jupyter-widgets/controls",
            "_view_module_version": "2.0.0",
            "_view_name": "HTMLView",
            "description": "",
            "description_allow_html": false,
            "layout": "IPY_MODEL_23dd197b62174720a19bc816c9905b92",
            "placeholder": "​",
            "style": "IPY_MODEL_9df2c8571cfe48cf8fc7428d9e79da77",
            "tabbable": null,
            "tooltip": null,
            "value": " 1489/1489 [00:00&lt;00:00, 3701.88 examples/s]"
          }
        },
        "61eac7483c2741228fa69fa1ea23c4e6": {
          "model_module": "@jupyter-widgets/base",
          "model_name": "LayoutModel",
          "model_module_version": "2.0.0",
          "state": {
            "_model_module": "@jupyter-widgets/base",
            "_model_module_version": "2.0.0",
            "_model_name": "LayoutModel",
            "_view_count": null,
            "_view_module": "@jupyter-widgets/base",
            "_view_module_version": "2.0.0",
            "_view_name": "LayoutView",
            "align_content": null,
            "align_items": null,
            "align_self": null,
            "border_bottom": null,
            "border_left": null,
            "border_right": null,
            "border_top": null,
            "bottom": null,
            "display": null,
            "flex": null,
            "flex_flow": null,
            "grid_area": null,
            "grid_auto_columns": null,
            "grid_auto_flow": null,
            "grid_auto_rows": null,
            "grid_column": null,
            "grid_gap": null,
            "grid_row": null,
            "grid_template_areas": null,
            "grid_template_columns": null,
            "grid_template_rows": null,
            "height": null,
            "justify_content": null,
            "justify_items": null,
            "left": null,
            "margin": null,
            "max_height": null,
            "max_width": null,
            "min_height": null,
            "min_width": null,
            "object_fit": null,
            "object_position": null,
            "order": null,
            "overflow": null,
            "padding": null,
            "right": null,
            "top": null,
            "visibility": null,
            "width": null
          }
        },
        "8e6710cac86d4eb6bf7b60716dea8a3f": {
          "model_module": "@jupyter-widgets/base",
          "model_name": "LayoutModel",
          "model_module_version": "2.0.0",
          "state": {
            "_model_module": "@jupyter-widgets/base",
            "_model_module_version": "2.0.0",
            "_model_name": "LayoutModel",
            "_view_count": null,
            "_view_module": "@jupyter-widgets/base",
            "_view_module_version": "2.0.0",
            "_view_name": "LayoutView",
            "align_content": null,
            "align_items": null,
            "align_self": null,
            "border_bottom": null,
            "border_left": null,
            "border_right": null,
            "border_top": null,
            "bottom": null,
            "display": null,
            "flex": null,
            "flex_flow": null,
            "grid_area": null,
            "grid_auto_columns": null,
            "grid_auto_flow": null,
            "grid_auto_rows": null,
            "grid_column": null,
            "grid_gap": null,
            "grid_row": null,
            "grid_template_areas": null,
            "grid_template_columns": null,
            "grid_template_rows": null,
            "height": null,
            "justify_content": null,
            "justify_items": null,
            "left": null,
            "margin": null,
            "max_height": null,
            "max_width": null,
            "min_height": null,
            "min_width": null,
            "object_fit": null,
            "object_position": null,
            "order": null,
            "overflow": null,
            "padding": null,
            "right": null,
            "top": null,
            "visibility": null,
            "width": null
          }
        },
        "9f0f8f666a864948a3c71b12de572139": {
          "model_module": "@jupyter-widgets/controls",
          "model_name": "HTMLStyleModel",
          "model_module_version": "2.0.0",
          "state": {
            "_model_module": "@jupyter-widgets/controls",
            "_model_module_version": "2.0.0",
            "_model_name": "HTMLStyleModel",
            "_view_count": null,
            "_view_module": "@jupyter-widgets/base",
            "_view_module_version": "2.0.0",
            "_view_name": "StyleView",
            "background": null,
            "description_width": "",
            "font_size": null,
            "text_color": null
          }
        },
        "9a8041435c724e6e89a4cd00561e159a": {
          "model_module": "@jupyter-widgets/base",
          "model_name": "LayoutModel",
          "model_module_version": "2.0.0",
          "state": {
            "_model_module": "@jupyter-widgets/base",
            "_model_module_version": "2.0.0",
            "_model_name": "LayoutModel",
            "_view_count": null,
            "_view_module": "@jupyter-widgets/base",
            "_view_module_version": "2.0.0",
            "_view_name": "LayoutView",
            "align_content": null,
            "align_items": null,
            "align_self": null,
            "border_bottom": null,
            "border_left": null,
            "border_right": null,
            "border_top": null,
            "bottom": null,
            "display": null,
            "flex": null,
            "flex_flow": null,
            "grid_area": null,
            "grid_auto_columns": null,
            "grid_auto_flow": null,
            "grid_auto_rows": null,
            "grid_column": null,
            "grid_gap": null,
            "grid_row": null,
            "grid_template_areas": null,
            "grid_template_columns": null,
            "grid_template_rows": null,
            "height": null,
            "justify_content": null,
            "justify_items": null,
            "left": null,
            "margin": null,
            "max_height": null,
            "max_width": null,
            "min_height": null,
            "min_width": null,
            "object_fit": null,
            "object_position": null,
            "order": null,
            "overflow": null,
            "padding": null,
            "right": null,
            "top": null,
            "visibility": null,
            "width": null
          }
        },
        "9ffbbf62de434a4588263650f444d498": {
          "model_module": "@jupyter-widgets/controls",
          "model_name": "ProgressStyleModel",
          "model_module_version": "2.0.0",
          "state": {
            "_model_module": "@jupyter-widgets/controls",
            "_model_module_version": "2.0.0",
            "_model_name": "ProgressStyleModel",
            "_view_count": null,
            "_view_module": "@jupyter-widgets/base",
            "_view_module_version": "2.0.0",
            "_view_name": "StyleView",
            "bar_color": null,
            "description_width": ""
          }
        },
        "23dd197b62174720a19bc816c9905b92": {
          "model_module": "@jupyter-widgets/base",
          "model_name": "LayoutModel",
          "model_module_version": "2.0.0",
          "state": {
            "_model_module": "@jupyter-widgets/base",
            "_model_module_version": "2.0.0",
            "_model_name": "LayoutModel",
            "_view_count": null,
            "_view_module": "@jupyter-widgets/base",
            "_view_module_version": "2.0.0",
            "_view_name": "LayoutView",
            "align_content": null,
            "align_items": null,
            "align_self": null,
            "border_bottom": null,
            "border_left": null,
            "border_right": null,
            "border_top": null,
            "bottom": null,
            "display": null,
            "flex": null,
            "flex_flow": null,
            "grid_area": null,
            "grid_auto_columns": null,
            "grid_auto_flow": null,
            "grid_auto_rows": null,
            "grid_column": null,
            "grid_gap": null,
            "grid_row": null,
            "grid_template_areas": null,
            "grid_template_columns": null,
            "grid_template_rows": null,
            "height": null,
            "justify_content": null,
            "justify_items": null,
            "left": null,
            "margin": null,
            "max_height": null,
            "max_width": null,
            "min_height": null,
            "min_width": null,
            "object_fit": null,
            "object_position": null,
            "order": null,
            "overflow": null,
            "padding": null,
            "right": null,
            "top": null,
            "visibility": null,
            "width": null
          }
        },
        "9df2c8571cfe48cf8fc7428d9e79da77": {
          "model_module": "@jupyter-widgets/controls",
          "model_name": "HTMLStyleModel",
          "model_module_version": "2.0.0",
          "state": {
            "_model_module": "@jupyter-widgets/controls",
            "_model_module_version": "2.0.0",
            "_model_name": "HTMLStyleModel",
            "_view_count": null,
            "_view_module": "@jupyter-widgets/base",
            "_view_module_version": "2.0.0",
            "_view_name": "StyleView",
            "background": null,
            "description_width": "",
            "font_size": null,
            "text_color": null
          }
        },
        "27c08aa6670643db8c0a2ad5110803b9": {
          "model_module": "@jupyter-widgets/controls",
          "model_name": "HBoxModel",
          "model_module_version": "2.0.0",
          "state": {
            "_dom_classes": [],
            "_model_module": "@jupyter-widgets/controls",
            "_model_module_version": "2.0.0",
            "_model_name": "HBoxModel",
            "_view_count": null,
            "_view_module": "@jupyter-widgets/controls",
            "_view_module_version": "2.0.0",
            "_view_name": "HBoxView",
            "box_style": "",
            "children": [
              "IPY_MODEL_694229b7e1f74757a44c256f6303424c",
              "IPY_MODEL_83ea8768f5a74f989e1f0a1093770743",
              "IPY_MODEL_e0f0998c8bd3421288eb6ca3251992cc"
            ],
            "layout": "IPY_MODEL_7538f2eb9e6840fb8099630610e72fab",
            "tabbable": null,
            "tooltip": null
          }
        },
        "694229b7e1f74757a44c256f6303424c": {
          "model_module": "@jupyter-widgets/controls",
          "model_name": "HTMLModel",
          "model_module_version": "2.0.0",
          "state": {
            "_dom_classes": [],
            "_model_module": "@jupyter-widgets/controls",
            "_model_module_version": "2.0.0",
            "_model_name": "HTMLModel",
            "_view_count": null,
            "_view_module": "@jupyter-widgets/controls",
            "_view_module_version": "2.0.0",
            "_view_name": "HTMLView",
            "description": "",
            "description_allow_html": false,
            "layout": "IPY_MODEL_100be7138a984c9fb5c646ea3d8a2231",
            "placeholder": "​",
            "style": "IPY_MODEL_4c7137b8bbdf44dc8381f29157ab1499",
            "tabbable": null,
            "tooltip": null,
            "value": "tokenizer_config.json: 100%"
          }
        },
        "83ea8768f5a74f989e1f0a1093770743": {
          "model_module": "@jupyter-widgets/controls",
          "model_name": "FloatProgressModel",
          "model_module_version": "2.0.0",
          "state": {
            "_dom_classes": [],
            "_model_module": "@jupyter-widgets/controls",
            "_model_module_version": "2.0.0",
            "_model_name": "FloatProgressModel",
            "_view_count": null,
            "_view_module": "@jupyter-widgets/controls",
            "_view_module_version": "2.0.0",
            "_view_name": "ProgressView",
            "bar_style": "success",
            "description": "",
            "description_allow_html": false,
            "layout": "IPY_MODEL_609c91b3146d4309ad838f24d9cb8244",
            "max": 25,
            "min": 0,
            "orientation": "horizontal",
            "style": "IPY_MODEL_56bcaf38246442db97fd653b66def49e",
            "tabbable": null,
            "tooltip": null,
            "value": 25
          }
        },
        "e0f0998c8bd3421288eb6ca3251992cc": {
          "model_module": "@jupyter-widgets/controls",
          "model_name": "HTMLModel",
          "model_module_version": "2.0.0",
          "state": {
            "_dom_classes": [],
            "_model_module": "@jupyter-widgets/controls",
            "_model_module_version": "2.0.0",
            "_model_name": "HTMLModel",
            "_view_count": null,
            "_view_module": "@jupyter-widgets/controls",
            "_view_module_version": "2.0.0",
            "_view_name": "HTMLView",
            "description": "",
            "description_allow_html": false,
            "layout": "IPY_MODEL_c786dcbf342440b6b1d52d5879eef78e",
            "placeholder": "​",
            "style": "IPY_MODEL_1fd1e13ac9d9451f8b280e49da65ebdb",
            "tabbable": null,
            "tooltip": null,
            "value": " 25.0/25.0 [00:00&lt;00:00, 4.19kB/s]"
          }
        },
        "7538f2eb9e6840fb8099630610e72fab": {
          "model_module": "@jupyter-widgets/base",
          "model_name": "LayoutModel",
          "model_module_version": "2.0.0",
          "state": {
            "_model_module": "@jupyter-widgets/base",
            "_model_module_version": "2.0.0",
            "_model_name": "LayoutModel",
            "_view_count": null,
            "_view_module": "@jupyter-widgets/base",
            "_view_module_version": "2.0.0",
            "_view_name": "LayoutView",
            "align_content": null,
            "align_items": null,
            "align_self": null,
            "border_bottom": null,
            "border_left": null,
            "border_right": null,
            "border_top": null,
            "bottom": null,
            "display": null,
            "flex": null,
            "flex_flow": null,
            "grid_area": null,
            "grid_auto_columns": null,
            "grid_auto_flow": null,
            "grid_auto_rows": null,
            "grid_column": null,
            "grid_gap": null,
            "grid_row": null,
            "grid_template_areas": null,
            "grid_template_columns": null,
            "grid_template_rows": null,
            "height": null,
            "justify_content": null,
            "justify_items": null,
            "left": null,
            "margin": null,
            "max_height": null,
            "max_width": null,
            "min_height": null,
            "min_width": null,
            "object_fit": null,
            "object_position": null,
            "order": null,
            "overflow": null,
            "padding": null,
            "right": null,
            "top": null,
            "visibility": null,
            "width": null
          }
        },
        "100be7138a984c9fb5c646ea3d8a2231": {
          "model_module": "@jupyter-widgets/base",
          "model_name": "LayoutModel",
          "model_module_version": "2.0.0",
          "state": {
            "_model_module": "@jupyter-widgets/base",
            "_model_module_version": "2.0.0",
            "_model_name": "LayoutModel",
            "_view_count": null,
            "_view_module": "@jupyter-widgets/base",
            "_view_module_version": "2.0.0",
            "_view_name": "LayoutView",
            "align_content": null,
            "align_items": null,
            "align_self": null,
            "border_bottom": null,
            "border_left": null,
            "border_right": null,
            "border_top": null,
            "bottom": null,
            "display": null,
            "flex": null,
            "flex_flow": null,
            "grid_area": null,
            "grid_auto_columns": null,
            "grid_auto_flow": null,
            "grid_auto_rows": null,
            "grid_column": null,
            "grid_gap": null,
            "grid_row": null,
            "grid_template_areas": null,
            "grid_template_columns": null,
            "grid_template_rows": null,
            "height": null,
            "justify_content": null,
            "justify_items": null,
            "left": null,
            "margin": null,
            "max_height": null,
            "max_width": null,
            "min_height": null,
            "min_width": null,
            "object_fit": null,
            "object_position": null,
            "order": null,
            "overflow": null,
            "padding": null,
            "right": null,
            "top": null,
            "visibility": null,
            "width": null
          }
        },
        "4c7137b8bbdf44dc8381f29157ab1499": {
          "model_module": "@jupyter-widgets/controls",
          "model_name": "HTMLStyleModel",
          "model_module_version": "2.0.0",
          "state": {
            "_model_module": "@jupyter-widgets/controls",
            "_model_module_version": "2.0.0",
            "_model_name": "HTMLStyleModel",
            "_view_count": null,
            "_view_module": "@jupyter-widgets/base",
            "_view_module_version": "2.0.0",
            "_view_name": "StyleView",
            "background": null,
            "description_width": "",
            "font_size": null,
            "text_color": null
          }
        },
        "609c91b3146d4309ad838f24d9cb8244": {
          "model_module": "@jupyter-widgets/base",
          "model_name": "LayoutModel",
          "model_module_version": "2.0.0",
          "state": {
            "_model_module": "@jupyter-widgets/base",
            "_model_module_version": "2.0.0",
            "_model_name": "LayoutModel",
            "_view_count": null,
            "_view_module": "@jupyter-widgets/base",
            "_view_module_version": "2.0.0",
            "_view_name": "LayoutView",
            "align_content": null,
            "align_items": null,
            "align_self": null,
            "border_bottom": null,
            "border_left": null,
            "border_right": null,
            "border_top": null,
            "bottom": null,
            "display": null,
            "flex": null,
            "flex_flow": null,
            "grid_area": null,
            "grid_auto_columns": null,
            "grid_auto_flow": null,
            "grid_auto_rows": null,
            "grid_column": null,
            "grid_gap": null,
            "grid_row": null,
            "grid_template_areas": null,
            "grid_template_columns": null,
            "grid_template_rows": null,
            "height": null,
            "justify_content": null,
            "justify_items": null,
            "left": null,
            "margin": null,
            "max_height": null,
            "max_width": null,
            "min_height": null,
            "min_width": null,
            "object_fit": null,
            "object_position": null,
            "order": null,
            "overflow": null,
            "padding": null,
            "right": null,
            "top": null,
            "visibility": null,
            "width": null
          }
        },
        "56bcaf38246442db97fd653b66def49e": {
          "model_module": "@jupyter-widgets/controls",
          "model_name": "ProgressStyleModel",
          "model_module_version": "2.0.0",
          "state": {
            "_model_module": "@jupyter-widgets/controls",
            "_model_module_version": "2.0.0",
            "_model_name": "ProgressStyleModel",
            "_view_count": null,
            "_view_module": "@jupyter-widgets/base",
            "_view_module_version": "2.0.0",
            "_view_name": "StyleView",
            "bar_color": null,
            "description_width": ""
          }
        },
        "c786dcbf342440b6b1d52d5879eef78e": {
          "model_module": "@jupyter-widgets/base",
          "model_name": "LayoutModel",
          "model_module_version": "2.0.0",
          "state": {
            "_model_module": "@jupyter-widgets/base",
            "_model_module_version": "2.0.0",
            "_model_name": "LayoutModel",
            "_view_count": null,
            "_view_module": "@jupyter-widgets/base",
            "_view_module_version": "2.0.0",
            "_view_name": "LayoutView",
            "align_content": null,
            "align_items": null,
            "align_self": null,
            "border_bottom": null,
            "border_left": null,
            "border_right": null,
            "border_top": null,
            "bottom": null,
            "display": null,
            "flex": null,
            "flex_flow": null,
            "grid_area": null,
            "grid_auto_columns": null,
            "grid_auto_flow": null,
            "grid_auto_rows": null,
            "grid_column": null,
            "grid_gap": null,
            "grid_row": null,
            "grid_template_areas": null,
            "grid_template_columns": null,
            "grid_template_rows": null,
            "height": null,
            "justify_content": null,
            "justify_items": null,
            "left": null,
            "margin": null,
            "max_height": null,
            "max_width": null,
            "min_height": null,
            "min_width": null,
            "object_fit": null,
            "object_position": null,
            "order": null,
            "overflow": null,
            "padding": null,
            "right": null,
            "top": null,
            "visibility": null,
            "width": null
          }
        },
        "1fd1e13ac9d9451f8b280e49da65ebdb": {
          "model_module": "@jupyter-widgets/controls",
          "model_name": "HTMLStyleModel",
          "model_module_version": "2.0.0",
          "state": {
            "_model_module": "@jupyter-widgets/controls",
            "_model_module_version": "2.0.0",
            "_model_name": "HTMLStyleModel",
            "_view_count": null,
            "_view_module": "@jupyter-widgets/base",
            "_view_module_version": "2.0.0",
            "_view_name": "StyleView",
            "background": null,
            "description_width": "",
            "font_size": null,
            "text_color": null
          }
        },
        "336839393f4c408fa5eafc3a2fc371b3": {
          "model_module": "@jupyter-widgets/controls",
          "model_name": "HBoxModel",
          "model_module_version": "2.0.0",
          "state": {
            "_dom_classes": [],
            "_model_module": "@jupyter-widgets/controls",
            "_model_module_version": "2.0.0",
            "_model_name": "HBoxModel",
            "_view_count": null,
            "_view_module": "@jupyter-widgets/controls",
            "_view_module_version": "2.0.0",
            "_view_name": "HBoxView",
            "box_style": "",
            "children": [
              "IPY_MODEL_1555e621670f4ec9b133b3fb003b4cda",
              "IPY_MODEL_30171c63487e4b3c97e655c8ab8c9118",
              "IPY_MODEL_4127feee41ff4da193ac24fb75d43cd2"
            ],
            "layout": "IPY_MODEL_5b69a01e97d24df6b15e8d52e0f6b8d1",
            "tabbable": null,
            "tooltip": null
          }
        },
        "1555e621670f4ec9b133b3fb003b4cda": {
          "model_module": "@jupyter-widgets/controls",
          "model_name": "HTMLModel",
          "model_module_version": "2.0.0",
          "state": {
            "_dom_classes": [],
            "_model_module": "@jupyter-widgets/controls",
            "_model_module_version": "2.0.0",
            "_model_name": "HTMLModel",
            "_view_count": null,
            "_view_module": "@jupyter-widgets/controls",
            "_view_module_version": "2.0.0",
            "_view_name": "HTMLView",
            "description": "",
            "description_allow_html": false,
            "layout": "IPY_MODEL_f8ca04d95329476a8234c8238a2f3398",
            "placeholder": "​",
            "style": "IPY_MODEL_aae9ff5d43054730b8f8aa15fa0b679a",
            "tabbable": null,
            "tooltip": null,
            "value": "vocab.json: 100%"
          }
        },
        "30171c63487e4b3c97e655c8ab8c9118": {
          "model_module": "@jupyter-widgets/controls",
          "model_name": "FloatProgressModel",
          "model_module_version": "2.0.0",
          "state": {
            "_dom_classes": [],
            "_model_module": "@jupyter-widgets/controls",
            "_model_module_version": "2.0.0",
            "_model_name": "FloatProgressModel",
            "_view_count": null,
            "_view_module": "@jupyter-widgets/controls",
            "_view_module_version": "2.0.0",
            "_view_name": "ProgressView",
            "bar_style": "success",
            "description": "",
            "description_allow_html": false,
            "layout": "IPY_MODEL_e039b9c9d9774b07911b1fbe8b0ef682",
            "max": 898823,
            "min": 0,
            "orientation": "horizontal",
            "style": "IPY_MODEL_ff67f22cfad74394a336d17257190587",
            "tabbable": null,
            "tooltip": null,
            "value": 898823
          }
        },
        "4127feee41ff4da193ac24fb75d43cd2": {
          "model_module": "@jupyter-widgets/controls",
          "model_name": "HTMLModel",
          "model_module_version": "2.0.0",
          "state": {
            "_dom_classes": [],
            "_model_module": "@jupyter-widgets/controls",
            "_model_module_version": "2.0.0",
            "_model_name": "HTMLModel",
            "_view_count": null,
            "_view_module": "@jupyter-widgets/controls",
            "_view_module_version": "2.0.0",
            "_view_name": "HTMLView",
            "description": "",
            "description_allow_html": false,
            "layout": "IPY_MODEL_6af04cfa28e6419987ce897948e0b7c7",
            "placeholder": "​",
            "style": "IPY_MODEL_1619bc650dc34ce79bba350c64c89ca9",
            "tabbable": null,
            "tooltip": null,
            "value": " 899k/899k [00:00&lt;00:00, 1.73MB/s]"
          }
        },
        "5b69a01e97d24df6b15e8d52e0f6b8d1": {
          "model_module": "@jupyter-widgets/base",
          "model_name": "LayoutModel",
          "model_module_version": "2.0.0",
          "state": {
            "_model_module": "@jupyter-widgets/base",
            "_model_module_version": "2.0.0",
            "_model_name": "LayoutModel",
            "_view_count": null,
            "_view_module": "@jupyter-widgets/base",
            "_view_module_version": "2.0.0",
            "_view_name": "LayoutView",
            "align_content": null,
            "align_items": null,
            "align_self": null,
            "border_bottom": null,
            "border_left": null,
            "border_right": null,
            "border_top": null,
            "bottom": null,
            "display": null,
            "flex": null,
            "flex_flow": null,
            "grid_area": null,
            "grid_auto_columns": null,
            "grid_auto_flow": null,
            "grid_auto_rows": null,
            "grid_column": null,
            "grid_gap": null,
            "grid_row": null,
            "grid_template_areas": null,
            "grid_template_columns": null,
            "grid_template_rows": null,
            "height": null,
            "justify_content": null,
            "justify_items": null,
            "left": null,
            "margin": null,
            "max_height": null,
            "max_width": null,
            "min_height": null,
            "min_width": null,
            "object_fit": null,
            "object_position": null,
            "order": null,
            "overflow": null,
            "padding": null,
            "right": null,
            "top": null,
            "visibility": null,
            "width": null
          }
        },
        "f8ca04d95329476a8234c8238a2f3398": {
          "model_module": "@jupyter-widgets/base",
          "model_name": "LayoutModel",
          "model_module_version": "2.0.0",
          "state": {
            "_model_module": "@jupyter-widgets/base",
            "_model_module_version": "2.0.0",
            "_model_name": "LayoutModel",
            "_view_count": null,
            "_view_module": "@jupyter-widgets/base",
            "_view_module_version": "2.0.0",
            "_view_name": "LayoutView",
            "align_content": null,
            "align_items": null,
            "align_self": null,
            "border_bottom": null,
            "border_left": null,
            "border_right": null,
            "border_top": null,
            "bottom": null,
            "display": null,
            "flex": null,
            "flex_flow": null,
            "grid_area": null,
            "grid_auto_columns": null,
            "grid_auto_flow": null,
            "grid_auto_rows": null,
            "grid_column": null,
            "grid_gap": null,
            "grid_row": null,
            "grid_template_areas": null,
            "grid_template_columns": null,
            "grid_template_rows": null,
            "height": null,
            "justify_content": null,
            "justify_items": null,
            "left": null,
            "margin": null,
            "max_height": null,
            "max_width": null,
            "min_height": null,
            "min_width": null,
            "object_fit": null,
            "object_position": null,
            "order": null,
            "overflow": null,
            "padding": null,
            "right": null,
            "top": null,
            "visibility": null,
            "width": null
          }
        },
        "aae9ff5d43054730b8f8aa15fa0b679a": {
          "model_module": "@jupyter-widgets/controls",
          "model_name": "HTMLStyleModel",
          "model_module_version": "2.0.0",
          "state": {
            "_model_module": "@jupyter-widgets/controls",
            "_model_module_version": "2.0.0",
            "_model_name": "HTMLStyleModel",
            "_view_count": null,
            "_view_module": "@jupyter-widgets/base",
            "_view_module_version": "2.0.0",
            "_view_name": "StyleView",
            "background": null,
            "description_width": "",
            "font_size": null,
            "text_color": null
          }
        },
        "e039b9c9d9774b07911b1fbe8b0ef682": {
          "model_module": "@jupyter-widgets/base",
          "model_name": "LayoutModel",
          "model_module_version": "2.0.0",
          "state": {
            "_model_module": "@jupyter-widgets/base",
            "_model_module_version": "2.0.0",
            "_model_name": "LayoutModel",
            "_view_count": null,
            "_view_module": "@jupyter-widgets/base",
            "_view_module_version": "2.0.0",
            "_view_name": "LayoutView",
            "align_content": null,
            "align_items": null,
            "align_self": null,
            "border_bottom": null,
            "border_left": null,
            "border_right": null,
            "border_top": null,
            "bottom": null,
            "display": null,
            "flex": null,
            "flex_flow": null,
            "grid_area": null,
            "grid_auto_columns": null,
            "grid_auto_flow": null,
            "grid_auto_rows": null,
            "grid_column": null,
            "grid_gap": null,
            "grid_row": null,
            "grid_template_areas": null,
            "grid_template_columns": null,
            "grid_template_rows": null,
            "height": null,
            "justify_content": null,
            "justify_items": null,
            "left": null,
            "margin": null,
            "max_height": null,
            "max_width": null,
            "min_height": null,
            "min_width": null,
            "object_fit": null,
            "object_position": null,
            "order": null,
            "overflow": null,
            "padding": null,
            "right": null,
            "top": null,
            "visibility": null,
            "width": null
          }
        },
        "ff67f22cfad74394a336d17257190587": {
          "model_module": "@jupyter-widgets/controls",
          "model_name": "ProgressStyleModel",
          "model_module_version": "2.0.0",
          "state": {
            "_model_module": "@jupyter-widgets/controls",
            "_model_module_version": "2.0.0",
            "_model_name": "ProgressStyleModel",
            "_view_count": null,
            "_view_module": "@jupyter-widgets/base",
            "_view_module_version": "2.0.0",
            "_view_name": "StyleView",
            "bar_color": null,
            "description_width": ""
          }
        },
        "6af04cfa28e6419987ce897948e0b7c7": {
          "model_module": "@jupyter-widgets/base",
          "model_name": "LayoutModel",
          "model_module_version": "2.0.0",
          "state": {
            "_model_module": "@jupyter-widgets/base",
            "_model_module_version": "2.0.0",
            "_model_name": "LayoutModel",
            "_view_count": null,
            "_view_module": "@jupyter-widgets/base",
            "_view_module_version": "2.0.0",
            "_view_name": "LayoutView",
            "align_content": null,
            "align_items": null,
            "align_self": null,
            "border_bottom": null,
            "border_left": null,
            "border_right": null,
            "border_top": null,
            "bottom": null,
            "display": null,
            "flex": null,
            "flex_flow": null,
            "grid_area": null,
            "grid_auto_columns": null,
            "grid_auto_flow": null,
            "grid_auto_rows": null,
            "grid_column": null,
            "grid_gap": null,
            "grid_row": null,
            "grid_template_areas": null,
            "grid_template_columns": null,
            "grid_template_rows": null,
            "height": null,
            "justify_content": null,
            "justify_items": null,
            "left": null,
            "margin": null,
            "max_height": null,
            "max_width": null,
            "min_height": null,
            "min_width": null,
            "object_fit": null,
            "object_position": null,
            "order": null,
            "overflow": null,
            "padding": null,
            "right": null,
            "top": null,
            "visibility": null,
            "width": null
          }
        },
        "1619bc650dc34ce79bba350c64c89ca9": {
          "model_module": "@jupyter-widgets/controls",
          "model_name": "HTMLStyleModel",
          "model_module_version": "2.0.0",
          "state": {
            "_model_module": "@jupyter-widgets/controls",
            "_model_module_version": "2.0.0",
            "_model_name": "HTMLStyleModel",
            "_view_count": null,
            "_view_module": "@jupyter-widgets/base",
            "_view_module_version": "2.0.0",
            "_view_name": "StyleView",
            "background": null,
            "description_width": "",
            "font_size": null,
            "text_color": null
          }
        },
        "86c63adf8dbf4ce583804ba5dd3496e4": {
          "model_module": "@jupyter-widgets/controls",
          "model_name": "HBoxModel",
          "model_module_version": "2.0.0",
          "state": {
            "_dom_classes": [],
            "_model_module": "@jupyter-widgets/controls",
            "_model_module_version": "2.0.0",
            "_model_name": "HBoxModel",
            "_view_count": null,
            "_view_module": "@jupyter-widgets/controls",
            "_view_module_version": "2.0.0",
            "_view_name": "HBoxView",
            "box_style": "",
            "children": [
              "IPY_MODEL_453607a910bd4eaab331845670b348dc",
              "IPY_MODEL_88e21d2503024f8381cd01549084ddd1",
              "IPY_MODEL_fa48bfa5fe2a421a8e3171d032741a05"
            ],
            "layout": "IPY_MODEL_4b894323ea704277b127cc79f1fa6045",
            "tabbable": null,
            "tooltip": null
          }
        },
        "453607a910bd4eaab331845670b348dc": {
          "model_module": "@jupyter-widgets/controls",
          "model_name": "HTMLModel",
          "model_module_version": "2.0.0",
          "state": {
            "_dom_classes": [],
            "_model_module": "@jupyter-widgets/controls",
            "_model_module_version": "2.0.0",
            "_model_name": "HTMLModel",
            "_view_count": null,
            "_view_module": "@jupyter-widgets/controls",
            "_view_module_version": "2.0.0",
            "_view_name": "HTMLView",
            "description": "",
            "description_allow_html": false,
            "layout": "IPY_MODEL_50c76fefd7ad40e2a01cbcfe32710259",
            "placeholder": "​",
            "style": "IPY_MODEL_944f9fbf27914edbacfa351f6a7f96f5",
            "tabbable": null,
            "tooltip": null,
            "value": "merges.txt: 100%"
          }
        },
        "88e21d2503024f8381cd01549084ddd1": {
          "model_module": "@jupyter-widgets/controls",
          "model_name": "FloatProgressModel",
          "model_module_version": "2.0.0",
          "state": {
            "_dom_classes": [],
            "_model_module": "@jupyter-widgets/controls",
            "_model_module_version": "2.0.0",
            "_model_name": "FloatProgressModel",
            "_view_count": null,
            "_view_module": "@jupyter-widgets/controls",
            "_view_module_version": "2.0.0",
            "_view_name": "ProgressView",
            "bar_style": "success",
            "description": "",
            "description_allow_html": false,
            "layout": "IPY_MODEL_98d35c45638f4e3a9943ed6df36ed1e1",
            "max": 456318,
            "min": 0,
            "orientation": "horizontal",
            "style": "IPY_MODEL_3d744ed059b940e6a99a37836e402ebc",
            "tabbable": null,
            "tooltip": null,
            "value": 456318
          }
        },
        "fa48bfa5fe2a421a8e3171d032741a05": {
          "model_module": "@jupyter-widgets/controls",
          "model_name": "HTMLModel",
          "model_module_version": "2.0.0",
          "state": {
            "_dom_classes": [],
            "_model_module": "@jupyter-widgets/controls",
            "_model_module_version": "2.0.0",
            "_model_name": "HTMLModel",
            "_view_count": null,
            "_view_module": "@jupyter-widgets/controls",
            "_view_module_version": "2.0.0",
            "_view_name": "HTMLView",
            "description": "",
            "description_allow_html": false,
            "layout": "IPY_MODEL_8312e37ae79a45959f784eb84b0bc467",
            "placeholder": "​",
            "style": "IPY_MODEL_738bc521d6d24945af07ee4be99fb6c8",
            "tabbable": null,
            "tooltip": null,
            "value": " 456k/456k [00:00&lt;00:00, 852kB/s]"
          }
        },
        "4b894323ea704277b127cc79f1fa6045": {
          "model_module": "@jupyter-widgets/base",
          "model_name": "LayoutModel",
          "model_module_version": "2.0.0",
          "state": {
            "_model_module": "@jupyter-widgets/base",
            "_model_module_version": "2.0.0",
            "_model_name": "LayoutModel",
            "_view_count": null,
            "_view_module": "@jupyter-widgets/base",
            "_view_module_version": "2.0.0",
            "_view_name": "LayoutView",
            "align_content": null,
            "align_items": null,
            "align_self": null,
            "border_bottom": null,
            "border_left": null,
            "border_right": null,
            "border_top": null,
            "bottom": null,
            "display": null,
            "flex": null,
            "flex_flow": null,
            "grid_area": null,
            "grid_auto_columns": null,
            "grid_auto_flow": null,
            "grid_auto_rows": null,
            "grid_column": null,
            "grid_gap": null,
            "grid_row": null,
            "grid_template_areas": null,
            "grid_template_columns": null,
            "grid_template_rows": null,
            "height": null,
            "justify_content": null,
            "justify_items": null,
            "left": null,
            "margin": null,
            "max_height": null,
            "max_width": null,
            "min_height": null,
            "min_width": null,
            "object_fit": null,
            "object_position": null,
            "order": null,
            "overflow": null,
            "padding": null,
            "right": null,
            "top": null,
            "visibility": null,
            "width": null
          }
        },
        "50c76fefd7ad40e2a01cbcfe32710259": {
          "model_module": "@jupyter-widgets/base",
          "model_name": "LayoutModel",
          "model_module_version": "2.0.0",
          "state": {
            "_model_module": "@jupyter-widgets/base",
            "_model_module_version": "2.0.0",
            "_model_name": "LayoutModel",
            "_view_count": null,
            "_view_module": "@jupyter-widgets/base",
            "_view_module_version": "2.0.0",
            "_view_name": "LayoutView",
            "align_content": null,
            "align_items": null,
            "align_self": null,
            "border_bottom": null,
            "border_left": null,
            "border_right": null,
            "border_top": null,
            "bottom": null,
            "display": null,
            "flex": null,
            "flex_flow": null,
            "grid_area": null,
            "grid_auto_columns": null,
            "grid_auto_flow": null,
            "grid_auto_rows": null,
            "grid_column": null,
            "grid_gap": null,
            "grid_row": null,
            "grid_template_areas": null,
            "grid_template_columns": null,
            "grid_template_rows": null,
            "height": null,
            "justify_content": null,
            "justify_items": null,
            "left": null,
            "margin": null,
            "max_height": null,
            "max_width": null,
            "min_height": null,
            "min_width": null,
            "object_fit": null,
            "object_position": null,
            "order": null,
            "overflow": null,
            "padding": null,
            "right": null,
            "top": null,
            "visibility": null,
            "width": null
          }
        },
        "944f9fbf27914edbacfa351f6a7f96f5": {
          "model_module": "@jupyter-widgets/controls",
          "model_name": "HTMLStyleModel",
          "model_module_version": "2.0.0",
          "state": {
            "_model_module": "@jupyter-widgets/controls",
            "_model_module_version": "2.0.0",
            "_model_name": "HTMLStyleModel",
            "_view_count": null,
            "_view_module": "@jupyter-widgets/base",
            "_view_module_version": "2.0.0",
            "_view_name": "StyleView",
            "background": null,
            "description_width": "",
            "font_size": null,
            "text_color": null
          }
        },
        "98d35c45638f4e3a9943ed6df36ed1e1": {
          "model_module": "@jupyter-widgets/base",
          "model_name": "LayoutModel",
          "model_module_version": "2.0.0",
          "state": {
            "_model_module": "@jupyter-widgets/base",
            "_model_module_version": "2.0.0",
            "_model_name": "LayoutModel",
            "_view_count": null,
            "_view_module": "@jupyter-widgets/base",
            "_view_module_version": "2.0.0",
            "_view_name": "LayoutView",
            "align_content": null,
            "align_items": null,
            "align_self": null,
            "border_bottom": null,
            "border_left": null,
            "border_right": null,
            "border_top": null,
            "bottom": null,
            "display": null,
            "flex": null,
            "flex_flow": null,
            "grid_area": null,
            "grid_auto_columns": null,
            "grid_auto_flow": null,
            "grid_auto_rows": null,
            "grid_column": null,
            "grid_gap": null,
            "grid_row": null,
            "grid_template_areas": null,
            "grid_template_columns": null,
            "grid_template_rows": null,
            "height": null,
            "justify_content": null,
            "justify_items": null,
            "left": null,
            "margin": null,
            "max_height": null,
            "max_width": null,
            "min_height": null,
            "min_width": null,
            "object_fit": null,
            "object_position": null,
            "order": null,
            "overflow": null,
            "padding": null,
            "right": null,
            "top": null,
            "visibility": null,
            "width": null
          }
        },
        "3d744ed059b940e6a99a37836e402ebc": {
          "model_module": "@jupyter-widgets/controls",
          "model_name": "ProgressStyleModel",
          "model_module_version": "2.0.0",
          "state": {
            "_model_module": "@jupyter-widgets/controls",
            "_model_module_version": "2.0.0",
            "_model_name": "ProgressStyleModel",
            "_view_count": null,
            "_view_module": "@jupyter-widgets/base",
            "_view_module_version": "2.0.0",
            "_view_name": "StyleView",
            "bar_color": null,
            "description_width": ""
          }
        },
        "8312e37ae79a45959f784eb84b0bc467": {
          "model_module": "@jupyter-widgets/base",
          "model_name": "LayoutModel",
          "model_module_version": "2.0.0",
          "state": {
            "_model_module": "@jupyter-widgets/base",
            "_model_module_version": "2.0.0",
            "_model_name": "LayoutModel",
            "_view_count": null,
            "_view_module": "@jupyter-widgets/base",
            "_view_module_version": "2.0.0",
            "_view_name": "LayoutView",
            "align_content": null,
            "align_items": null,
            "align_self": null,
            "border_bottom": null,
            "border_left": null,
            "border_right": null,
            "border_top": null,
            "bottom": null,
            "display": null,
            "flex": null,
            "flex_flow": null,
            "grid_area": null,
            "grid_auto_columns": null,
            "grid_auto_flow": null,
            "grid_auto_rows": null,
            "grid_column": null,
            "grid_gap": null,
            "grid_row": null,
            "grid_template_areas": null,
            "grid_template_columns": null,
            "grid_template_rows": null,
            "height": null,
            "justify_content": null,
            "justify_items": null,
            "left": null,
            "margin": null,
            "max_height": null,
            "max_width": null,
            "min_height": null,
            "min_width": null,
            "object_fit": null,
            "object_position": null,
            "order": null,
            "overflow": null,
            "padding": null,
            "right": null,
            "top": null,
            "visibility": null,
            "width": null
          }
        },
        "738bc521d6d24945af07ee4be99fb6c8": {
          "model_module": "@jupyter-widgets/controls",
          "model_name": "HTMLStyleModel",
          "model_module_version": "2.0.0",
          "state": {
            "_model_module": "@jupyter-widgets/controls",
            "_model_module_version": "2.0.0",
            "_model_name": "HTMLStyleModel",
            "_view_count": null,
            "_view_module": "@jupyter-widgets/base",
            "_view_module_version": "2.0.0",
            "_view_name": "StyleView",
            "background": null,
            "description_width": "",
            "font_size": null,
            "text_color": null
          }
        },
        "aa8e4fd7ca184bd39cd4d1314dd60b0f": {
          "model_module": "@jupyter-widgets/controls",
          "model_name": "HBoxModel",
          "model_module_version": "2.0.0",
          "state": {
            "_dom_classes": [],
            "_model_module": "@jupyter-widgets/controls",
            "_model_module_version": "2.0.0",
            "_model_name": "HBoxModel",
            "_view_count": null,
            "_view_module": "@jupyter-widgets/controls",
            "_view_module_version": "2.0.0",
            "_view_name": "HBoxView",
            "box_style": "",
            "children": [
              "IPY_MODEL_94b9495bac0e438092e51a4091e2abd7",
              "IPY_MODEL_3c479d16c88641eba7f41f3368b8bc5e",
              "IPY_MODEL_4f2964cb3f2c4ad292f11b1735677917"
            ],
            "layout": "IPY_MODEL_c23551a6252944d4bba9c6374144a7de",
            "tabbable": null,
            "tooltip": null
          }
        },
        "94b9495bac0e438092e51a4091e2abd7": {
          "model_module": "@jupyter-widgets/controls",
          "model_name": "HTMLModel",
          "model_module_version": "2.0.0",
          "state": {
            "_dom_classes": [],
            "_model_module": "@jupyter-widgets/controls",
            "_model_module_version": "2.0.0",
            "_model_name": "HTMLModel",
            "_view_count": null,
            "_view_module": "@jupyter-widgets/controls",
            "_view_module_version": "2.0.0",
            "_view_name": "HTMLView",
            "description": "",
            "description_allow_html": false,
            "layout": "IPY_MODEL_c060e1bbf1594f8ca480381565c57d1a",
            "placeholder": "​",
            "style": "IPY_MODEL_8e0aa7d6c2984446a121ee4803d73e4a",
            "tabbable": null,
            "tooltip": null,
            "value": "tokenizer.json: 100%"
          }
        },
        "3c479d16c88641eba7f41f3368b8bc5e": {
          "model_module": "@jupyter-widgets/controls",
          "model_name": "FloatProgressModel",
          "model_module_version": "2.0.0",
          "state": {
            "_dom_classes": [],
            "_model_module": "@jupyter-widgets/controls",
            "_model_module_version": "2.0.0",
            "_model_name": "FloatProgressModel",
            "_view_count": null,
            "_view_module": "@jupyter-widgets/controls",
            "_view_module_version": "2.0.0",
            "_view_name": "ProgressView",
            "bar_style": "success",
            "description": "",
            "description_allow_html": false,
            "layout": "IPY_MODEL_b1f05999bfbc43fcbc866182c9d50350",
            "max": 1355863,
            "min": 0,
            "orientation": "horizontal",
            "style": "IPY_MODEL_26fec407b1ed415eacc27cfab06c8af6",
            "tabbable": null,
            "tooltip": null,
            "value": 1355863
          }
        },
        "4f2964cb3f2c4ad292f11b1735677917": {
          "model_module": "@jupyter-widgets/controls",
          "model_name": "HTMLModel",
          "model_module_version": "2.0.0",
          "state": {
            "_dom_classes": [],
            "_model_module": "@jupyter-widgets/controls",
            "_model_module_version": "2.0.0",
            "_model_name": "HTMLModel",
            "_view_count": null,
            "_view_module": "@jupyter-widgets/controls",
            "_view_module_version": "2.0.0",
            "_view_name": "HTMLView",
            "description": "",
            "description_allow_html": false,
            "layout": "IPY_MODEL_d96d6340dd694d37a515e87599f7a641",
            "placeholder": "​",
            "style": "IPY_MODEL_69cc587276b747fcafb6d473e9b6b26e",
            "tabbable": null,
            "tooltip": null,
            "value": " 1.36M/1.36M [00:01&lt;00:00, 1.31MB/s]"
          }
        },
        "c23551a6252944d4bba9c6374144a7de": {
          "model_module": "@jupyter-widgets/base",
          "model_name": "LayoutModel",
          "model_module_version": "2.0.0",
          "state": {
            "_model_module": "@jupyter-widgets/base",
            "_model_module_version": "2.0.0",
            "_model_name": "LayoutModel",
            "_view_count": null,
            "_view_module": "@jupyter-widgets/base",
            "_view_module_version": "2.0.0",
            "_view_name": "LayoutView",
            "align_content": null,
            "align_items": null,
            "align_self": null,
            "border_bottom": null,
            "border_left": null,
            "border_right": null,
            "border_top": null,
            "bottom": null,
            "display": null,
            "flex": null,
            "flex_flow": null,
            "grid_area": null,
            "grid_auto_columns": null,
            "grid_auto_flow": null,
            "grid_auto_rows": null,
            "grid_column": null,
            "grid_gap": null,
            "grid_row": null,
            "grid_template_areas": null,
            "grid_template_columns": null,
            "grid_template_rows": null,
            "height": null,
            "justify_content": null,
            "justify_items": null,
            "left": null,
            "margin": null,
            "max_height": null,
            "max_width": null,
            "min_height": null,
            "min_width": null,
            "object_fit": null,
            "object_position": null,
            "order": null,
            "overflow": null,
            "padding": null,
            "right": null,
            "top": null,
            "visibility": null,
            "width": null
          }
        },
        "c060e1bbf1594f8ca480381565c57d1a": {
          "model_module": "@jupyter-widgets/base",
          "model_name": "LayoutModel",
          "model_module_version": "2.0.0",
          "state": {
            "_model_module": "@jupyter-widgets/base",
            "_model_module_version": "2.0.0",
            "_model_name": "LayoutModel",
            "_view_count": null,
            "_view_module": "@jupyter-widgets/base",
            "_view_module_version": "2.0.0",
            "_view_name": "LayoutView",
            "align_content": null,
            "align_items": null,
            "align_self": null,
            "border_bottom": null,
            "border_left": null,
            "border_right": null,
            "border_top": null,
            "bottom": null,
            "display": null,
            "flex": null,
            "flex_flow": null,
            "grid_area": null,
            "grid_auto_columns": null,
            "grid_auto_flow": null,
            "grid_auto_rows": null,
            "grid_column": null,
            "grid_gap": null,
            "grid_row": null,
            "grid_template_areas": null,
            "grid_template_columns": null,
            "grid_template_rows": null,
            "height": null,
            "justify_content": null,
            "justify_items": null,
            "left": null,
            "margin": null,
            "max_height": null,
            "max_width": null,
            "min_height": null,
            "min_width": null,
            "object_fit": null,
            "object_position": null,
            "order": null,
            "overflow": null,
            "padding": null,
            "right": null,
            "top": null,
            "visibility": null,
            "width": null
          }
        },
        "8e0aa7d6c2984446a121ee4803d73e4a": {
          "model_module": "@jupyter-widgets/controls",
          "model_name": "HTMLStyleModel",
          "model_module_version": "2.0.0",
          "state": {
            "_model_module": "@jupyter-widgets/controls",
            "_model_module_version": "2.0.0",
            "_model_name": "HTMLStyleModel",
            "_view_count": null,
            "_view_module": "@jupyter-widgets/base",
            "_view_module_version": "2.0.0",
            "_view_name": "StyleView",
            "background": null,
            "description_width": "",
            "font_size": null,
            "text_color": null
          }
        },
        "b1f05999bfbc43fcbc866182c9d50350": {
          "model_module": "@jupyter-widgets/base",
          "model_name": "LayoutModel",
          "model_module_version": "2.0.0",
          "state": {
            "_model_module": "@jupyter-widgets/base",
            "_model_module_version": "2.0.0",
            "_model_name": "LayoutModel",
            "_view_count": null,
            "_view_module": "@jupyter-widgets/base",
            "_view_module_version": "2.0.0",
            "_view_name": "LayoutView",
            "align_content": null,
            "align_items": null,
            "align_self": null,
            "border_bottom": null,
            "border_left": null,
            "border_right": null,
            "border_top": null,
            "bottom": null,
            "display": null,
            "flex": null,
            "flex_flow": null,
            "grid_area": null,
            "grid_auto_columns": null,
            "grid_auto_flow": null,
            "grid_auto_rows": null,
            "grid_column": null,
            "grid_gap": null,
            "grid_row": null,
            "grid_template_areas": null,
            "grid_template_columns": null,
            "grid_template_rows": null,
            "height": null,
            "justify_content": null,
            "justify_items": null,
            "left": null,
            "margin": null,
            "max_height": null,
            "max_width": null,
            "min_height": null,
            "min_width": null,
            "object_fit": null,
            "object_position": null,
            "order": null,
            "overflow": null,
            "padding": null,
            "right": null,
            "top": null,
            "visibility": null,
            "width": null
          }
        },
        "26fec407b1ed415eacc27cfab06c8af6": {
          "model_module": "@jupyter-widgets/controls",
          "model_name": "ProgressStyleModel",
          "model_module_version": "2.0.0",
          "state": {
            "_model_module": "@jupyter-widgets/controls",
            "_model_module_version": "2.0.0",
            "_model_name": "ProgressStyleModel",
            "_view_count": null,
            "_view_module": "@jupyter-widgets/base",
            "_view_module_version": "2.0.0",
            "_view_name": "StyleView",
            "bar_color": null,
            "description_width": ""
          }
        },
        "d96d6340dd694d37a515e87599f7a641": {
          "model_module": "@jupyter-widgets/base",
          "model_name": "LayoutModel",
          "model_module_version": "2.0.0",
          "state": {
            "_model_module": "@jupyter-widgets/base",
            "_model_module_version": "2.0.0",
            "_model_name": "LayoutModel",
            "_view_count": null,
            "_view_module": "@jupyter-widgets/base",
            "_view_module_version": "2.0.0",
            "_view_name": "LayoutView",
            "align_content": null,
            "align_items": null,
            "align_self": null,
            "border_bottom": null,
            "border_left": null,
            "border_right": null,
            "border_top": null,
            "bottom": null,
            "display": null,
            "flex": null,
            "flex_flow": null,
            "grid_area": null,
            "grid_auto_columns": null,
            "grid_auto_flow": null,
            "grid_auto_rows": null,
            "grid_column": null,
            "grid_gap": null,
            "grid_row": null,
            "grid_template_areas": null,
            "grid_template_columns": null,
            "grid_template_rows": null,
            "height": null,
            "justify_content": null,
            "justify_items": null,
            "left": null,
            "margin": null,
            "max_height": null,
            "max_width": null,
            "min_height": null,
            "min_width": null,
            "object_fit": null,
            "object_position": null,
            "order": null,
            "overflow": null,
            "padding": null,
            "right": null,
            "top": null,
            "visibility": null,
            "width": null
          }
        },
        "69cc587276b747fcafb6d473e9b6b26e": {
          "model_module": "@jupyter-widgets/controls",
          "model_name": "HTMLStyleModel",
          "model_module_version": "2.0.0",
          "state": {
            "_model_module": "@jupyter-widgets/controls",
            "_model_module_version": "2.0.0",
            "_model_name": "HTMLStyleModel",
            "_view_count": null,
            "_view_module": "@jupyter-widgets/base",
            "_view_module_version": "2.0.0",
            "_view_name": "StyleView",
            "background": null,
            "description_width": "",
            "font_size": null,
            "text_color": null
          }
        },
        "e56d5d6f1f2e4714b240f0b8ff05ad14": {
          "model_module": "@jupyter-widgets/controls",
          "model_name": "HBoxModel",
          "model_module_version": "2.0.0",
          "state": {
            "_dom_classes": [],
            "_model_module": "@jupyter-widgets/controls",
            "_model_module_version": "2.0.0",
            "_model_name": "HBoxModel",
            "_view_count": null,
            "_view_module": "@jupyter-widgets/controls",
            "_view_module_version": "2.0.0",
            "_view_name": "HBoxView",
            "box_style": "",
            "children": [
              "IPY_MODEL_b2f8263435544c2d8d509b15d77788ac",
              "IPY_MODEL_9beb8bcfffc1490a95182877465f1187",
              "IPY_MODEL_84d8ef7658b5452aa1c0e04de699e0f0"
            ],
            "layout": "IPY_MODEL_026a780e8dcf4729a3cff1086203f2b7",
            "tabbable": null,
            "tooltip": null
          }
        },
        "b2f8263435544c2d8d509b15d77788ac": {
          "model_module": "@jupyter-widgets/controls",
          "model_name": "HTMLModel",
          "model_module_version": "2.0.0",
          "state": {
            "_dom_classes": [],
            "_model_module": "@jupyter-widgets/controls",
            "_model_module_version": "2.0.0",
            "_model_name": "HTMLModel",
            "_view_count": null,
            "_view_module": "@jupyter-widgets/controls",
            "_view_module_version": "2.0.0",
            "_view_name": "HTMLView",
            "description": "",
            "description_allow_html": false,
            "layout": "IPY_MODEL_e1f12efa780441f7920e7b477d0ebd73",
            "placeholder": "​",
            "style": "IPY_MODEL_c42a9fcbf4dc4aa981d5925ab7ca1069",
            "tabbable": null,
            "tooltip": null,
            "value": "config.json: 100%"
          }
        },
        "9beb8bcfffc1490a95182877465f1187": {
          "model_module": "@jupyter-widgets/controls",
          "model_name": "FloatProgressModel",
          "model_module_version": "2.0.0",
          "state": {
            "_dom_classes": [],
            "_model_module": "@jupyter-widgets/controls",
            "_model_module_version": "2.0.0",
            "_model_name": "FloatProgressModel",
            "_view_count": null,
            "_view_module": "@jupyter-widgets/controls",
            "_view_module_version": "2.0.0",
            "_view_name": "ProgressView",
            "bar_style": "success",
            "description": "",
            "description_allow_html": false,
            "layout": "IPY_MODEL_c9bfed03be444065bbd538c74afeeda4",
            "max": 481,
            "min": 0,
            "orientation": "horizontal",
            "style": "IPY_MODEL_4aeb16d1451e44e39779dc36de1373d2",
            "tabbable": null,
            "tooltip": null,
            "value": 481
          }
        },
        "84d8ef7658b5452aa1c0e04de699e0f0": {
          "model_module": "@jupyter-widgets/controls",
          "model_name": "HTMLModel",
          "model_module_version": "2.0.0",
          "state": {
            "_dom_classes": [],
            "_model_module": "@jupyter-widgets/controls",
            "_model_module_version": "2.0.0",
            "_model_name": "HTMLModel",
            "_view_count": null,
            "_view_module": "@jupyter-widgets/controls",
            "_view_module_version": "2.0.0",
            "_view_name": "HTMLView",
            "description": "",
            "description_allow_html": false,
            "layout": "IPY_MODEL_f2d6156d199c495da87408f88219cbe2",
            "placeholder": "​",
            "style": "IPY_MODEL_454b62650efc4a7b90121140a1cdb60f",
            "tabbable": null,
            "tooltip": null,
            "value": " 481/481 [00:00&lt;00:00, 96.2kB/s]"
          }
        },
        "026a780e8dcf4729a3cff1086203f2b7": {
          "model_module": "@jupyter-widgets/base",
          "model_name": "LayoutModel",
          "model_module_version": "2.0.0",
          "state": {
            "_model_module": "@jupyter-widgets/base",
            "_model_module_version": "2.0.0",
            "_model_name": "LayoutModel",
            "_view_count": null,
            "_view_module": "@jupyter-widgets/base",
            "_view_module_version": "2.0.0",
            "_view_name": "LayoutView",
            "align_content": null,
            "align_items": null,
            "align_self": null,
            "border_bottom": null,
            "border_left": null,
            "border_right": null,
            "border_top": null,
            "bottom": null,
            "display": null,
            "flex": null,
            "flex_flow": null,
            "grid_area": null,
            "grid_auto_columns": null,
            "grid_auto_flow": null,
            "grid_auto_rows": null,
            "grid_column": null,
            "grid_gap": null,
            "grid_row": null,
            "grid_template_areas": null,
            "grid_template_columns": null,
            "grid_template_rows": null,
            "height": null,
            "justify_content": null,
            "justify_items": null,
            "left": null,
            "margin": null,
            "max_height": null,
            "max_width": null,
            "min_height": null,
            "min_width": null,
            "object_fit": null,
            "object_position": null,
            "order": null,
            "overflow": null,
            "padding": null,
            "right": null,
            "top": null,
            "visibility": null,
            "width": null
          }
        },
        "e1f12efa780441f7920e7b477d0ebd73": {
          "model_module": "@jupyter-widgets/base",
          "model_name": "LayoutModel",
          "model_module_version": "2.0.0",
          "state": {
            "_model_module": "@jupyter-widgets/base",
            "_model_module_version": "2.0.0",
            "_model_name": "LayoutModel",
            "_view_count": null,
            "_view_module": "@jupyter-widgets/base",
            "_view_module_version": "2.0.0",
            "_view_name": "LayoutView",
            "align_content": null,
            "align_items": null,
            "align_self": null,
            "border_bottom": null,
            "border_left": null,
            "border_right": null,
            "border_top": null,
            "bottom": null,
            "display": null,
            "flex": null,
            "flex_flow": null,
            "grid_area": null,
            "grid_auto_columns": null,
            "grid_auto_flow": null,
            "grid_auto_rows": null,
            "grid_column": null,
            "grid_gap": null,
            "grid_row": null,
            "grid_template_areas": null,
            "grid_template_columns": null,
            "grid_template_rows": null,
            "height": null,
            "justify_content": null,
            "justify_items": null,
            "left": null,
            "margin": null,
            "max_height": null,
            "max_width": null,
            "min_height": null,
            "min_width": null,
            "object_fit": null,
            "object_position": null,
            "order": null,
            "overflow": null,
            "padding": null,
            "right": null,
            "top": null,
            "visibility": null,
            "width": null
          }
        },
        "c42a9fcbf4dc4aa981d5925ab7ca1069": {
          "model_module": "@jupyter-widgets/controls",
          "model_name": "HTMLStyleModel",
          "model_module_version": "2.0.0",
          "state": {
            "_model_module": "@jupyter-widgets/controls",
            "_model_module_version": "2.0.0",
            "_model_name": "HTMLStyleModel",
            "_view_count": null,
            "_view_module": "@jupyter-widgets/base",
            "_view_module_version": "2.0.0",
            "_view_name": "StyleView",
            "background": null,
            "description_width": "",
            "font_size": null,
            "text_color": null
          }
        },
        "c9bfed03be444065bbd538c74afeeda4": {
          "model_module": "@jupyter-widgets/base",
          "model_name": "LayoutModel",
          "model_module_version": "2.0.0",
          "state": {
            "_model_module": "@jupyter-widgets/base",
            "_model_module_version": "2.0.0",
            "_model_name": "LayoutModel",
            "_view_count": null,
            "_view_module": "@jupyter-widgets/base",
            "_view_module_version": "2.0.0",
            "_view_name": "LayoutView",
            "align_content": null,
            "align_items": null,
            "align_self": null,
            "border_bottom": null,
            "border_left": null,
            "border_right": null,
            "border_top": null,
            "bottom": null,
            "display": null,
            "flex": null,
            "flex_flow": null,
            "grid_area": null,
            "grid_auto_columns": null,
            "grid_auto_flow": null,
            "grid_auto_rows": null,
            "grid_column": null,
            "grid_gap": null,
            "grid_row": null,
            "grid_template_areas": null,
            "grid_template_columns": null,
            "grid_template_rows": null,
            "height": null,
            "justify_content": null,
            "justify_items": null,
            "left": null,
            "margin": null,
            "max_height": null,
            "max_width": null,
            "min_height": null,
            "min_width": null,
            "object_fit": null,
            "object_position": null,
            "order": null,
            "overflow": null,
            "padding": null,
            "right": null,
            "top": null,
            "visibility": null,
            "width": null
          }
        },
        "4aeb16d1451e44e39779dc36de1373d2": {
          "model_module": "@jupyter-widgets/controls",
          "model_name": "ProgressStyleModel",
          "model_module_version": "2.0.0",
          "state": {
            "_model_module": "@jupyter-widgets/controls",
            "_model_module_version": "2.0.0",
            "_model_name": "ProgressStyleModel",
            "_view_count": null,
            "_view_module": "@jupyter-widgets/base",
            "_view_module_version": "2.0.0",
            "_view_name": "StyleView",
            "bar_color": null,
            "description_width": ""
          }
        },
        "f2d6156d199c495da87408f88219cbe2": {
          "model_module": "@jupyter-widgets/base",
          "model_name": "LayoutModel",
          "model_module_version": "2.0.0",
          "state": {
            "_model_module": "@jupyter-widgets/base",
            "_model_module_version": "2.0.0",
            "_model_name": "LayoutModel",
            "_view_count": null,
            "_view_module": "@jupyter-widgets/base",
            "_view_module_version": "2.0.0",
            "_view_name": "LayoutView",
            "align_content": null,
            "align_items": null,
            "align_self": null,
            "border_bottom": null,
            "border_left": null,
            "border_right": null,
            "border_top": null,
            "bottom": null,
            "display": null,
            "flex": null,
            "flex_flow": null,
            "grid_area": null,
            "grid_auto_columns": null,
            "grid_auto_flow": null,
            "grid_auto_rows": null,
            "grid_column": null,
            "grid_gap": null,
            "grid_row": null,
            "grid_template_areas": null,
            "grid_template_columns": null,
            "grid_template_rows": null,
            "height": null,
            "justify_content": null,
            "justify_items": null,
            "left": null,
            "margin": null,
            "max_height": null,
            "max_width": null,
            "min_height": null,
            "min_width": null,
            "object_fit": null,
            "object_position": null,
            "order": null,
            "overflow": null,
            "padding": null,
            "right": null,
            "top": null,
            "visibility": null,
            "width": null
          }
        },
        "454b62650efc4a7b90121140a1cdb60f": {
          "model_module": "@jupyter-widgets/controls",
          "model_name": "HTMLStyleModel",
          "model_module_version": "2.0.0",
          "state": {
            "_model_module": "@jupyter-widgets/controls",
            "_model_module_version": "2.0.0",
            "_model_name": "HTMLStyleModel",
            "_view_count": null,
            "_view_module": "@jupyter-widgets/base",
            "_view_module_version": "2.0.0",
            "_view_name": "StyleView",
            "background": null,
            "description_width": "",
            "font_size": null,
            "text_color": null
          }
        },
        "b541d1a89fd7423fad7fe5f591c24b79": {
          "model_module": "@jupyter-widgets/controls",
          "model_name": "HBoxModel",
          "model_module_version": "2.0.0",
          "state": {
            "_dom_classes": [],
            "_model_module": "@jupyter-widgets/controls",
            "_model_module_version": "2.0.0",
            "_model_name": "HBoxModel",
            "_view_count": null,
            "_view_module": "@jupyter-widgets/controls",
            "_view_module_version": "2.0.0",
            "_view_name": "HBoxView",
            "box_style": "",
            "children": [
              "IPY_MODEL_666a169cc80f481d8f6b1431fac80b4d",
              "IPY_MODEL_93b6cf58b9ab4bbd886b9f59041f3acc",
              "IPY_MODEL_96faa2de1e6a4790be14999dfa4dc039"
            ],
            "layout": "IPY_MODEL_3612e427152447d19cc17a444d7564f1",
            "tabbable": null,
            "tooltip": null
          }
        },
        "666a169cc80f481d8f6b1431fac80b4d": {
          "model_module": "@jupyter-widgets/controls",
          "model_name": "HTMLModel",
          "model_module_version": "2.0.0",
          "state": {
            "_dom_classes": [],
            "_model_module": "@jupyter-widgets/controls",
            "_model_module_version": "2.0.0",
            "_model_name": "HTMLModel",
            "_view_count": null,
            "_view_module": "@jupyter-widgets/controls",
            "_view_module_version": "2.0.0",
            "_view_name": "HTMLView",
            "description": "",
            "description_allow_html": false,
            "layout": "IPY_MODEL_62352a74039b46869adb1884550d4bbe",
            "placeholder": "​",
            "style": "IPY_MODEL_0704085460de4995b9b99083b3c42cec",
            "tabbable": null,
            "tooltip": null,
            "value": "Map: 100%"
          }
        },
        "93b6cf58b9ab4bbd886b9f59041f3acc": {
          "model_module": "@jupyter-widgets/controls",
          "model_name": "FloatProgressModel",
          "model_module_version": "2.0.0",
          "state": {
            "_dom_classes": [],
            "_model_module": "@jupyter-widgets/controls",
            "_model_module_version": "2.0.0",
            "_model_name": "FloatProgressModel",
            "_view_count": null,
            "_view_module": "@jupyter-widgets/controls",
            "_view_module_version": "2.0.0",
            "_view_name": "ProgressView",
            "bar_style": "success",
            "description": "",
            "description_allow_html": false,
            "layout": "IPY_MODEL_6c00610840244dbfbcab28e015decb1a",
            "max": 27825,
            "min": 0,
            "orientation": "horizontal",
            "style": "IPY_MODEL_b4117f9320b9412f9e1f082826d28d54",
            "tabbable": null,
            "tooltip": null,
            "value": 27825
          }
        },
        "96faa2de1e6a4790be14999dfa4dc039": {
          "model_module": "@jupyter-widgets/controls",
          "model_name": "HTMLModel",
          "model_module_version": "2.0.0",
          "state": {
            "_dom_classes": [],
            "_model_module": "@jupyter-widgets/controls",
            "_model_module_version": "2.0.0",
            "_model_name": "HTMLModel",
            "_view_count": null,
            "_view_module": "@jupyter-widgets/controls",
            "_view_module_version": "2.0.0",
            "_view_name": "HTMLView",
            "description": "",
            "description_allow_html": false,
            "layout": "IPY_MODEL_7fbf02be54dc4402b99d391065f3aea1",
            "placeholder": "​",
            "style": "IPY_MODEL_8bcd83086085467592ad365dfd9a8a6b",
            "tabbable": null,
            "tooltip": null,
            "value": " 27825/27825 [00:05&lt;00:00, 5266.77 examples/s]"
          }
        },
        "3612e427152447d19cc17a444d7564f1": {
          "model_module": "@jupyter-widgets/base",
          "model_name": "LayoutModel",
          "model_module_version": "2.0.0",
          "state": {
            "_model_module": "@jupyter-widgets/base",
            "_model_module_version": "2.0.0",
            "_model_name": "LayoutModel",
            "_view_count": null,
            "_view_module": "@jupyter-widgets/base",
            "_view_module_version": "2.0.0",
            "_view_name": "LayoutView",
            "align_content": null,
            "align_items": null,
            "align_self": null,
            "border_bottom": null,
            "border_left": null,
            "border_right": null,
            "border_top": null,
            "bottom": null,
            "display": null,
            "flex": null,
            "flex_flow": null,
            "grid_area": null,
            "grid_auto_columns": null,
            "grid_auto_flow": null,
            "grid_auto_rows": null,
            "grid_column": null,
            "grid_gap": null,
            "grid_row": null,
            "grid_template_areas": null,
            "grid_template_columns": null,
            "grid_template_rows": null,
            "height": null,
            "justify_content": null,
            "justify_items": null,
            "left": null,
            "margin": null,
            "max_height": null,
            "max_width": null,
            "min_height": null,
            "min_width": null,
            "object_fit": null,
            "object_position": null,
            "order": null,
            "overflow": null,
            "padding": null,
            "right": null,
            "top": null,
            "visibility": null,
            "width": null
          }
        },
        "62352a74039b46869adb1884550d4bbe": {
          "model_module": "@jupyter-widgets/base",
          "model_name": "LayoutModel",
          "model_module_version": "2.0.0",
          "state": {
            "_model_module": "@jupyter-widgets/base",
            "_model_module_version": "2.0.0",
            "_model_name": "LayoutModel",
            "_view_count": null,
            "_view_module": "@jupyter-widgets/base",
            "_view_module_version": "2.0.0",
            "_view_name": "LayoutView",
            "align_content": null,
            "align_items": null,
            "align_self": null,
            "border_bottom": null,
            "border_left": null,
            "border_right": null,
            "border_top": null,
            "bottom": null,
            "display": null,
            "flex": null,
            "flex_flow": null,
            "grid_area": null,
            "grid_auto_columns": null,
            "grid_auto_flow": null,
            "grid_auto_rows": null,
            "grid_column": null,
            "grid_gap": null,
            "grid_row": null,
            "grid_template_areas": null,
            "grid_template_columns": null,
            "grid_template_rows": null,
            "height": null,
            "justify_content": null,
            "justify_items": null,
            "left": null,
            "margin": null,
            "max_height": null,
            "max_width": null,
            "min_height": null,
            "min_width": null,
            "object_fit": null,
            "object_position": null,
            "order": null,
            "overflow": null,
            "padding": null,
            "right": null,
            "top": null,
            "visibility": null,
            "width": null
          }
        },
        "0704085460de4995b9b99083b3c42cec": {
          "model_module": "@jupyter-widgets/controls",
          "model_name": "HTMLStyleModel",
          "model_module_version": "2.0.0",
          "state": {
            "_model_module": "@jupyter-widgets/controls",
            "_model_module_version": "2.0.0",
            "_model_name": "HTMLStyleModel",
            "_view_count": null,
            "_view_module": "@jupyter-widgets/base",
            "_view_module_version": "2.0.0",
            "_view_name": "StyleView",
            "background": null,
            "description_width": "",
            "font_size": null,
            "text_color": null
          }
        },
        "6c00610840244dbfbcab28e015decb1a": {
          "model_module": "@jupyter-widgets/base",
          "model_name": "LayoutModel",
          "model_module_version": "2.0.0",
          "state": {
            "_model_module": "@jupyter-widgets/base",
            "_model_module_version": "2.0.0",
            "_model_name": "LayoutModel",
            "_view_count": null,
            "_view_module": "@jupyter-widgets/base",
            "_view_module_version": "2.0.0",
            "_view_name": "LayoutView",
            "align_content": null,
            "align_items": null,
            "align_self": null,
            "border_bottom": null,
            "border_left": null,
            "border_right": null,
            "border_top": null,
            "bottom": null,
            "display": null,
            "flex": null,
            "flex_flow": null,
            "grid_area": null,
            "grid_auto_columns": null,
            "grid_auto_flow": null,
            "grid_auto_rows": null,
            "grid_column": null,
            "grid_gap": null,
            "grid_row": null,
            "grid_template_areas": null,
            "grid_template_columns": null,
            "grid_template_rows": null,
            "height": null,
            "justify_content": null,
            "justify_items": null,
            "left": null,
            "margin": null,
            "max_height": null,
            "max_width": null,
            "min_height": null,
            "min_width": null,
            "object_fit": null,
            "object_position": null,
            "order": null,
            "overflow": null,
            "padding": null,
            "right": null,
            "top": null,
            "visibility": null,
            "width": null
          }
        },
        "b4117f9320b9412f9e1f082826d28d54": {
          "model_module": "@jupyter-widgets/controls",
          "model_name": "ProgressStyleModel",
          "model_module_version": "2.0.0",
          "state": {
            "_model_module": "@jupyter-widgets/controls",
            "_model_module_version": "2.0.0",
            "_model_name": "ProgressStyleModel",
            "_view_count": null,
            "_view_module": "@jupyter-widgets/base",
            "_view_module_version": "2.0.0",
            "_view_name": "StyleView",
            "bar_color": null,
            "description_width": ""
          }
        },
        "7fbf02be54dc4402b99d391065f3aea1": {
          "model_module": "@jupyter-widgets/base",
          "model_name": "LayoutModel",
          "model_module_version": "2.0.0",
          "state": {
            "_model_module": "@jupyter-widgets/base",
            "_model_module_version": "2.0.0",
            "_model_name": "LayoutModel",
            "_view_count": null,
            "_view_module": "@jupyter-widgets/base",
            "_view_module_version": "2.0.0",
            "_view_name": "LayoutView",
            "align_content": null,
            "align_items": null,
            "align_self": null,
            "border_bottom": null,
            "border_left": null,
            "border_right": null,
            "border_top": null,
            "bottom": null,
            "display": null,
            "flex": null,
            "flex_flow": null,
            "grid_area": null,
            "grid_auto_columns": null,
            "grid_auto_flow": null,
            "grid_auto_rows": null,
            "grid_column": null,
            "grid_gap": null,
            "grid_row": null,
            "grid_template_areas": null,
            "grid_template_columns": null,
            "grid_template_rows": null,
            "height": null,
            "justify_content": null,
            "justify_items": null,
            "left": null,
            "margin": null,
            "max_height": null,
            "max_width": null,
            "min_height": null,
            "min_width": null,
            "object_fit": null,
            "object_position": null,
            "order": null,
            "overflow": null,
            "padding": null,
            "right": null,
            "top": null,
            "visibility": null,
            "width": null
          }
        },
        "8bcd83086085467592ad365dfd9a8a6b": {
          "model_module": "@jupyter-widgets/controls",
          "model_name": "HTMLStyleModel",
          "model_module_version": "2.0.0",
          "state": {
            "_model_module": "@jupyter-widgets/controls",
            "_model_module_version": "2.0.0",
            "_model_name": "HTMLStyleModel",
            "_view_count": null,
            "_view_module": "@jupyter-widgets/base",
            "_view_module_version": "2.0.0",
            "_view_name": "StyleView",
            "background": null,
            "description_width": "",
            "font_size": null,
            "text_color": null
          }
        },
        "b5c8dcd06ed942108bad77c2180da9d7": {
          "model_module": "@jupyter-widgets/controls",
          "model_name": "HBoxModel",
          "model_module_version": "2.0.0",
          "state": {
            "_dom_classes": [],
            "_model_module": "@jupyter-widgets/controls",
            "_model_module_version": "2.0.0",
            "_model_name": "HBoxModel",
            "_view_count": null,
            "_view_module": "@jupyter-widgets/controls",
            "_view_module_version": "2.0.0",
            "_view_name": "HBoxView",
            "box_style": "",
            "children": [
              "IPY_MODEL_a6ec135af1234d4185a36724c1d78e44",
              "IPY_MODEL_e263746745c94e638a9fb408719b79af",
              "IPY_MODEL_929ff6acb440428890d9115227b65c49"
            ],
            "layout": "IPY_MODEL_c468778ee8d74f5aabe232e4fb3fd715",
            "tabbable": null,
            "tooltip": null
          }
        },
        "a6ec135af1234d4185a36724c1d78e44": {
          "model_module": "@jupyter-widgets/controls",
          "model_name": "HTMLModel",
          "model_module_version": "2.0.0",
          "state": {
            "_dom_classes": [],
            "_model_module": "@jupyter-widgets/controls",
            "_model_module_version": "2.0.0",
            "_model_name": "HTMLModel",
            "_view_count": null,
            "_view_module": "@jupyter-widgets/controls",
            "_view_module_version": "2.0.0",
            "_view_name": "HTMLView",
            "description": "",
            "description_allow_html": false,
            "layout": "IPY_MODEL_63ed2b4cda244f7995c2e89ba260b6cb",
            "placeholder": "​",
            "style": "IPY_MODEL_fdee37bc9ee8480eb9825d4b0a0e8003",
            "tabbable": null,
            "tooltip": null,
            "value": "Map: 100%"
          }
        },
        "e263746745c94e638a9fb408719b79af": {
          "model_module": "@jupyter-widgets/controls",
          "model_name": "FloatProgressModel",
          "model_module_version": "2.0.0",
          "state": {
            "_dom_classes": [],
            "_model_module": "@jupyter-widgets/controls",
            "_model_module_version": "2.0.0",
            "_model_name": "FloatProgressModel",
            "_view_count": null,
            "_view_module": "@jupyter-widgets/controls",
            "_view_module_version": "2.0.0",
            "_view_name": "ProgressView",
            "bar_style": "success",
            "description": "",
            "description_allow_html": false,
            "layout": "IPY_MODEL_c1101e7d590f4597a871f0cf37e6a593",
            "max": 6957,
            "min": 0,
            "orientation": "horizontal",
            "style": "IPY_MODEL_668241d20f8145a6807f905152df6c69",
            "tabbable": null,
            "tooltip": null,
            "value": 6957
          }
        },
        "929ff6acb440428890d9115227b65c49": {
          "model_module": "@jupyter-widgets/controls",
          "model_name": "HTMLModel",
          "model_module_version": "2.0.0",
          "state": {
            "_dom_classes": [],
            "_model_module": "@jupyter-widgets/controls",
            "_model_module_version": "2.0.0",
            "_model_name": "HTMLModel",
            "_view_count": null,
            "_view_module": "@jupyter-widgets/controls",
            "_view_module_version": "2.0.0",
            "_view_name": "HTMLView",
            "description": "",
            "description_allow_html": false,
            "layout": "IPY_MODEL_3647a42fb2f444e0ace5d4ef53f2230b",
            "placeholder": "​",
            "style": "IPY_MODEL_28683fa52bb543949af15d22f904e202",
            "tabbable": null,
            "tooltip": null,
            "value": " 6957/6957 [00:01&lt;00:00, 5274.18 examples/s]"
          }
        },
        "c468778ee8d74f5aabe232e4fb3fd715": {
          "model_module": "@jupyter-widgets/base",
          "model_name": "LayoutModel",
          "model_module_version": "2.0.0",
          "state": {
            "_model_module": "@jupyter-widgets/base",
            "_model_module_version": "2.0.0",
            "_model_name": "LayoutModel",
            "_view_count": null,
            "_view_module": "@jupyter-widgets/base",
            "_view_module_version": "2.0.0",
            "_view_name": "LayoutView",
            "align_content": null,
            "align_items": null,
            "align_self": null,
            "border_bottom": null,
            "border_left": null,
            "border_right": null,
            "border_top": null,
            "bottom": null,
            "display": null,
            "flex": null,
            "flex_flow": null,
            "grid_area": null,
            "grid_auto_columns": null,
            "grid_auto_flow": null,
            "grid_auto_rows": null,
            "grid_column": null,
            "grid_gap": null,
            "grid_row": null,
            "grid_template_areas": null,
            "grid_template_columns": null,
            "grid_template_rows": null,
            "height": null,
            "justify_content": null,
            "justify_items": null,
            "left": null,
            "margin": null,
            "max_height": null,
            "max_width": null,
            "min_height": null,
            "min_width": null,
            "object_fit": null,
            "object_position": null,
            "order": null,
            "overflow": null,
            "padding": null,
            "right": null,
            "top": null,
            "visibility": null,
            "width": null
          }
        },
        "63ed2b4cda244f7995c2e89ba260b6cb": {
          "model_module": "@jupyter-widgets/base",
          "model_name": "LayoutModel",
          "model_module_version": "2.0.0",
          "state": {
            "_model_module": "@jupyter-widgets/base",
            "_model_module_version": "2.0.0",
            "_model_name": "LayoutModel",
            "_view_count": null,
            "_view_module": "@jupyter-widgets/base",
            "_view_module_version": "2.0.0",
            "_view_name": "LayoutView",
            "align_content": null,
            "align_items": null,
            "align_self": null,
            "border_bottom": null,
            "border_left": null,
            "border_right": null,
            "border_top": null,
            "bottom": null,
            "display": null,
            "flex": null,
            "flex_flow": null,
            "grid_area": null,
            "grid_auto_columns": null,
            "grid_auto_flow": null,
            "grid_auto_rows": null,
            "grid_column": null,
            "grid_gap": null,
            "grid_row": null,
            "grid_template_areas": null,
            "grid_template_columns": null,
            "grid_template_rows": null,
            "height": null,
            "justify_content": null,
            "justify_items": null,
            "left": null,
            "margin": null,
            "max_height": null,
            "max_width": null,
            "min_height": null,
            "min_width": null,
            "object_fit": null,
            "object_position": null,
            "order": null,
            "overflow": null,
            "padding": null,
            "right": null,
            "top": null,
            "visibility": null,
            "width": null
          }
        },
        "fdee37bc9ee8480eb9825d4b0a0e8003": {
          "model_module": "@jupyter-widgets/controls",
          "model_name": "HTMLStyleModel",
          "model_module_version": "2.0.0",
          "state": {
            "_model_module": "@jupyter-widgets/controls",
            "_model_module_version": "2.0.0",
            "_model_name": "HTMLStyleModel",
            "_view_count": null,
            "_view_module": "@jupyter-widgets/base",
            "_view_module_version": "2.0.0",
            "_view_name": "StyleView",
            "background": null,
            "description_width": "",
            "font_size": null,
            "text_color": null
          }
        },
        "c1101e7d590f4597a871f0cf37e6a593": {
          "model_module": "@jupyter-widgets/base",
          "model_name": "LayoutModel",
          "model_module_version": "2.0.0",
          "state": {
            "_model_module": "@jupyter-widgets/base",
            "_model_module_version": "2.0.0",
            "_model_name": "LayoutModel",
            "_view_count": null,
            "_view_module": "@jupyter-widgets/base",
            "_view_module_version": "2.0.0",
            "_view_name": "LayoutView",
            "align_content": null,
            "align_items": null,
            "align_self": null,
            "border_bottom": null,
            "border_left": null,
            "border_right": null,
            "border_top": null,
            "bottom": null,
            "display": null,
            "flex": null,
            "flex_flow": null,
            "grid_area": null,
            "grid_auto_columns": null,
            "grid_auto_flow": null,
            "grid_auto_rows": null,
            "grid_column": null,
            "grid_gap": null,
            "grid_row": null,
            "grid_template_areas": null,
            "grid_template_columns": null,
            "grid_template_rows": null,
            "height": null,
            "justify_content": null,
            "justify_items": null,
            "left": null,
            "margin": null,
            "max_height": null,
            "max_width": null,
            "min_height": null,
            "min_width": null,
            "object_fit": null,
            "object_position": null,
            "order": null,
            "overflow": null,
            "padding": null,
            "right": null,
            "top": null,
            "visibility": null,
            "width": null
          }
        },
        "668241d20f8145a6807f905152df6c69": {
          "model_module": "@jupyter-widgets/controls",
          "model_name": "ProgressStyleModel",
          "model_module_version": "2.0.0",
          "state": {
            "_model_module": "@jupyter-widgets/controls",
            "_model_module_version": "2.0.0",
            "_model_name": "ProgressStyleModel",
            "_view_count": null,
            "_view_module": "@jupyter-widgets/base",
            "_view_module_version": "2.0.0",
            "_view_name": "StyleView",
            "bar_color": null,
            "description_width": ""
          }
        },
        "3647a42fb2f444e0ace5d4ef53f2230b": {
          "model_module": "@jupyter-widgets/base",
          "model_name": "LayoutModel",
          "model_module_version": "2.0.0",
          "state": {
            "_model_module": "@jupyter-widgets/base",
            "_model_module_version": "2.0.0",
            "_model_name": "LayoutModel",
            "_view_count": null,
            "_view_module": "@jupyter-widgets/base",
            "_view_module_version": "2.0.0",
            "_view_name": "LayoutView",
            "align_content": null,
            "align_items": null,
            "align_self": null,
            "border_bottom": null,
            "border_left": null,
            "border_right": null,
            "border_top": null,
            "bottom": null,
            "display": null,
            "flex": null,
            "flex_flow": null,
            "grid_area": null,
            "grid_auto_columns": null,
            "grid_auto_flow": null,
            "grid_auto_rows": null,
            "grid_column": null,
            "grid_gap": null,
            "grid_row": null,
            "grid_template_areas": null,
            "grid_template_columns": null,
            "grid_template_rows": null,
            "height": null,
            "justify_content": null,
            "justify_items": null,
            "left": null,
            "margin": null,
            "max_height": null,
            "max_width": null,
            "min_height": null,
            "min_width": null,
            "object_fit": null,
            "object_position": null,
            "order": null,
            "overflow": null,
            "padding": null,
            "right": null,
            "top": null,
            "visibility": null,
            "width": null
          }
        },
        "28683fa52bb543949af15d22f904e202": {
          "model_module": "@jupyter-widgets/controls",
          "model_name": "HTMLStyleModel",
          "model_module_version": "2.0.0",
          "state": {
            "_model_module": "@jupyter-widgets/controls",
            "_model_module_version": "2.0.0",
            "_model_name": "HTMLStyleModel",
            "_view_count": null,
            "_view_module": "@jupyter-widgets/base",
            "_view_module_version": "2.0.0",
            "_view_name": "StyleView",
            "background": null,
            "description_width": "",
            "font_size": null,
            "text_color": null
          }
        },
        "4648dc887082475cb83eec332820e832": {
          "model_module": "@jupyter-widgets/controls",
          "model_name": "HBoxModel",
          "model_module_version": "2.0.0",
          "state": {
            "_dom_classes": [],
            "_model_module": "@jupyter-widgets/controls",
            "_model_module_version": "2.0.0",
            "_model_name": "HBoxModel",
            "_view_count": null,
            "_view_module": "@jupyter-widgets/controls",
            "_view_module_version": "2.0.0",
            "_view_name": "HBoxView",
            "box_style": "",
            "children": [
              "IPY_MODEL_067a9f41b1b64e9fa77ff66440e0f060",
              "IPY_MODEL_355ff96228c844d4b12b585631b56265",
              "IPY_MODEL_91ff6ed639b745ad97acbcc24d1be968"
            ],
            "layout": "IPY_MODEL_1eea2e00bc754c4da8bf848cfdecfdba",
            "tabbable": null,
            "tooltip": null
          }
        },
        "067a9f41b1b64e9fa77ff66440e0f060": {
          "model_module": "@jupyter-widgets/controls",
          "model_name": "HTMLModel",
          "model_module_version": "2.0.0",
          "state": {
            "_dom_classes": [],
            "_model_module": "@jupyter-widgets/controls",
            "_model_module_version": "2.0.0",
            "_model_name": "HTMLModel",
            "_view_count": null,
            "_view_module": "@jupyter-widgets/controls",
            "_view_module_version": "2.0.0",
            "_view_name": "HTMLView",
            "description": "",
            "description_allow_html": false,
            "layout": "IPY_MODEL_0dc55506f7a2421b8ce6da1ab5341375",
            "placeholder": "​",
            "style": "IPY_MODEL_68d5bc66788147528cba024b58b159ec",
            "tabbable": null,
            "tooltip": null,
            "value": "model.safetensors: 100%"
          }
        },
        "355ff96228c844d4b12b585631b56265": {
          "model_module": "@jupyter-widgets/controls",
          "model_name": "FloatProgressModel",
          "model_module_version": "2.0.0",
          "state": {
            "_dom_classes": [],
            "_model_module": "@jupyter-widgets/controls",
            "_model_module_version": "2.0.0",
            "_model_name": "FloatProgressModel",
            "_view_count": null,
            "_view_module": "@jupyter-widgets/controls",
            "_view_module_version": "2.0.0",
            "_view_name": "ProgressView",
            "bar_style": "success",
            "description": "",
            "description_allow_html": false,
            "layout": "IPY_MODEL_6c093860005e441d86017314d6e21209",
            "max": 498818054,
            "min": 0,
            "orientation": "horizontal",
            "style": "IPY_MODEL_7b3c1a2a251b4dc2aaa8d794d7ee1400",
            "tabbable": null,
            "tooltip": null,
            "value": 498818054
          }
        },
        "91ff6ed639b745ad97acbcc24d1be968": {
          "model_module": "@jupyter-widgets/controls",
          "model_name": "HTMLModel",
          "model_module_version": "2.0.0",
          "state": {
            "_dom_classes": [],
            "_model_module": "@jupyter-widgets/controls",
            "_model_module_version": "2.0.0",
            "_model_name": "HTMLModel",
            "_view_count": null,
            "_view_module": "@jupyter-widgets/controls",
            "_view_module_version": "2.0.0",
            "_view_name": "HTMLView",
            "description": "",
            "description_allow_html": false,
            "layout": "IPY_MODEL_57d7334838594dff9f4ccb3438badc23",
            "placeholder": "​",
            "style": "IPY_MODEL_de6c0735b8c24bf9bb3cd43f1644a78f",
            "tabbable": null,
            "tooltip": null,
            "value": " 499M/499M [00:34&lt;00:00, 14.5MB/s]"
          }
        },
        "1eea2e00bc754c4da8bf848cfdecfdba": {
          "model_module": "@jupyter-widgets/base",
          "model_name": "LayoutModel",
          "model_module_version": "2.0.0",
          "state": {
            "_model_module": "@jupyter-widgets/base",
            "_model_module_version": "2.0.0",
            "_model_name": "LayoutModel",
            "_view_count": null,
            "_view_module": "@jupyter-widgets/base",
            "_view_module_version": "2.0.0",
            "_view_name": "LayoutView",
            "align_content": null,
            "align_items": null,
            "align_self": null,
            "border_bottom": null,
            "border_left": null,
            "border_right": null,
            "border_top": null,
            "bottom": null,
            "display": null,
            "flex": null,
            "flex_flow": null,
            "grid_area": null,
            "grid_auto_columns": null,
            "grid_auto_flow": null,
            "grid_auto_rows": null,
            "grid_column": null,
            "grid_gap": null,
            "grid_row": null,
            "grid_template_areas": null,
            "grid_template_columns": null,
            "grid_template_rows": null,
            "height": null,
            "justify_content": null,
            "justify_items": null,
            "left": null,
            "margin": null,
            "max_height": null,
            "max_width": null,
            "min_height": null,
            "min_width": null,
            "object_fit": null,
            "object_position": null,
            "order": null,
            "overflow": null,
            "padding": null,
            "right": null,
            "top": null,
            "visibility": null,
            "width": null
          }
        },
        "0dc55506f7a2421b8ce6da1ab5341375": {
          "model_module": "@jupyter-widgets/base",
          "model_name": "LayoutModel",
          "model_module_version": "2.0.0",
          "state": {
            "_model_module": "@jupyter-widgets/base",
            "_model_module_version": "2.0.0",
            "_model_name": "LayoutModel",
            "_view_count": null,
            "_view_module": "@jupyter-widgets/base",
            "_view_module_version": "2.0.0",
            "_view_name": "LayoutView",
            "align_content": null,
            "align_items": null,
            "align_self": null,
            "border_bottom": null,
            "border_left": null,
            "border_right": null,
            "border_top": null,
            "bottom": null,
            "display": null,
            "flex": null,
            "flex_flow": null,
            "grid_area": null,
            "grid_auto_columns": null,
            "grid_auto_flow": null,
            "grid_auto_rows": null,
            "grid_column": null,
            "grid_gap": null,
            "grid_row": null,
            "grid_template_areas": null,
            "grid_template_columns": null,
            "grid_template_rows": null,
            "height": null,
            "justify_content": null,
            "justify_items": null,
            "left": null,
            "margin": null,
            "max_height": null,
            "max_width": null,
            "min_height": null,
            "min_width": null,
            "object_fit": null,
            "object_position": null,
            "order": null,
            "overflow": null,
            "padding": null,
            "right": null,
            "top": null,
            "visibility": null,
            "width": null
          }
        },
        "68d5bc66788147528cba024b58b159ec": {
          "model_module": "@jupyter-widgets/controls",
          "model_name": "HTMLStyleModel",
          "model_module_version": "2.0.0",
          "state": {
            "_model_module": "@jupyter-widgets/controls",
            "_model_module_version": "2.0.0",
            "_model_name": "HTMLStyleModel",
            "_view_count": null,
            "_view_module": "@jupyter-widgets/base",
            "_view_module_version": "2.0.0",
            "_view_name": "StyleView",
            "background": null,
            "description_width": "",
            "font_size": null,
            "text_color": null
          }
        },
        "6c093860005e441d86017314d6e21209": {
          "model_module": "@jupyter-widgets/base",
          "model_name": "LayoutModel",
          "model_module_version": "2.0.0",
          "state": {
            "_model_module": "@jupyter-widgets/base",
            "_model_module_version": "2.0.0",
            "_model_name": "LayoutModel",
            "_view_count": null,
            "_view_module": "@jupyter-widgets/base",
            "_view_module_version": "2.0.0",
            "_view_name": "LayoutView",
            "align_content": null,
            "align_items": null,
            "align_self": null,
            "border_bottom": null,
            "border_left": null,
            "border_right": null,
            "border_top": null,
            "bottom": null,
            "display": null,
            "flex": null,
            "flex_flow": null,
            "grid_area": null,
            "grid_auto_columns": null,
            "grid_auto_flow": null,
            "grid_auto_rows": null,
            "grid_column": null,
            "grid_gap": null,
            "grid_row": null,
            "grid_template_areas": null,
            "grid_template_columns": null,
            "grid_template_rows": null,
            "height": null,
            "justify_content": null,
            "justify_items": null,
            "left": null,
            "margin": null,
            "max_height": null,
            "max_width": null,
            "min_height": null,
            "min_width": null,
            "object_fit": null,
            "object_position": null,
            "order": null,
            "overflow": null,
            "padding": null,
            "right": null,
            "top": null,
            "visibility": null,
            "width": null
          }
        },
        "7b3c1a2a251b4dc2aaa8d794d7ee1400": {
          "model_module": "@jupyter-widgets/controls",
          "model_name": "ProgressStyleModel",
          "model_module_version": "2.0.0",
          "state": {
            "_model_module": "@jupyter-widgets/controls",
            "_model_module_version": "2.0.0",
            "_model_name": "ProgressStyleModel",
            "_view_count": null,
            "_view_module": "@jupyter-widgets/base",
            "_view_module_version": "2.0.0",
            "_view_name": "StyleView",
            "bar_color": null,
            "description_width": ""
          }
        },
        "57d7334838594dff9f4ccb3438badc23": {
          "model_module": "@jupyter-widgets/base",
          "model_name": "LayoutModel",
          "model_module_version": "2.0.0",
          "state": {
            "_model_module": "@jupyter-widgets/base",
            "_model_module_version": "2.0.0",
            "_model_name": "LayoutModel",
            "_view_count": null,
            "_view_module": "@jupyter-widgets/base",
            "_view_module_version": "2.0.0",
            "_view_name": "LayoutView",
            "align_content": null,
            "align_items": null,
            "align_self": null,
            "border_bottom": null,
            "border_left": null,
            "border_right": null,
            "border_top": null,
            "bottom": null,
            "display": null,
            "flex": null,
            "flex_flow": null,
            "grid_area": null,
            "grid_auto_columns": null,
            "grid_auto_flow": null,
            "grid_auto_rows": null,
            "grid_column": null,
            "grid_gap": null,
            "grid_row": null,
            "grid_template_areas": null,
            "grid_template_columns": null,
            "grid_template_rows": null,
            "height": null,
            "justify_content": null,
            "justify_items": null,
            "left": null,
            "margin": null,
            "max_height": null,
            "max_width": null,
            "min_height": null,
            "min_width": null,
            "object_fit": null,
            "object_position": null,
            "order": null,
            "overflow": null,
            "padding": null,
            "right": null,
            "top": null,
            "visibility": null,
            "width": null
          }
        },
        "de6c0735b8c24bf9bb3cd43f1644a78f": {
          "model_module": "@jupyter-widgets/controls",
          "model_name": "HTMLStyleModel",
          "model_module_version": "2.0.0",
          "state": {
            "_model_module": "@jupyter-widgets/controls",
            "_model_module_version": "2.0.0",
            "_model_name": "HTMLStyleModel",
            "_view_count": null,
            "_view_module": "@jupyter-widgets/base",
            "_view_module_version": "2.0.0",
            "_view_name": "StyleView",
            "background": null,
            "description_width": "",
            "font_size": null,
            "text_color": null
          }
        }
      }
    }
  },
  "cells": [
    {
      "cell_type": "markdown",
      "source": [
        "# GPT\n"
      ],
      "metadata": {
        "id": "rZh9sFwLPt10"
      }
    },
    {
      "cell_type": "code",
      "metadata": {
        "colab": {
          "base_uri": "https://localhost:8080/"
        },
        "id": "c490b364",
        "outputId": "645d90b3-6be5-4c0c-ffb3-fa36d4b473eb"
      },
      "source": [
        "!pip install datasets pandas matplotlib seaborn"
      ],
      "execution_count": null,
      "outputs": [
        {
          "output_type": "stream",
          "name": "stdout",
          "text": [
            "Requirement already satisfied: datasets in c:\\programdata\\miniconda3\\envs\\dairemotion\\lib\\site-packages (4.1.1)\n",
            "Requirement already satisfied: pandas in c:\\programdata\\miniconda3\\envs\\dairemotion\\lib\\site-packages (2.3.2)\n",
            "Requirement already satisfied: matplotlib in c:\\programdata\\miniconda3\\envs\\dairemotion\\lib\\site-packages (3.10.6)\n",
            "Requirement already satisfied: seaborn in c:\\programdata\\miniconda3\\envs\\dairemotion\\lib\\site-packages (0.13.2)\n",
            "Requirement already satisfied: filelock in c:\\programdata\\miniconda3\\envs\\dairemotion\\lib\\site-packages (from datasets) (3.17.0)\n",
            "Requirement already satisfied: numpy>=1.17 in c:\\programdata\\miniconda3\\envs\\dairemotion\\lib\\site-packages (from datasets) (2.0.1)\n",
            "Requirement already satisfied: pyarrow>=21.0.0 in c:\\programdata\\miniconda3\\envs\\dairemotion\\lib\\site-packages (from datasets) (21.0.0)\n",
            "Requirement already satisfied: dill<0.4.1,>=0.3.0 in c:\\programdata\\miniconda3\\envs\\dairemotion\\lib\\site-packages (from datasets) (0.4.0)\n",
            "Requirement already satisfied: requests>=2.32.2 in c:\\programdata\\miniconda3\\envs\\dairemotion\\lib\\site-packages (from datasets) (2.32.5)\n",
            "Requirement already satisfied: tqdm>=4.66.3 in c:\\programdata\\miniconda3\\envs\\dairemotion\\lib\\site-packages (from datasets) (4.67.1)\n",
            "Requirement already satisfied: xxhash in c:\\programdata\\miniconda3\\envs\\dairemotion\\lib\\site-packages (from datasets) (3.5.0)\n",
            "Requirement already satisfied: multiprocess<0.70.17 in c:\\programdata\\miniconda3\\envs\\dairemotion\\lib\\site-packages (from datasets) (0.70.16)\n",
            "Requirement already satisfied: fsspec<=2025.9.0,>=2023.1.0 in c:\\programdata\\miniconda3\\envs\\dairemotion\\lib\\site-packages (from fsspec[http]<=2025.9.0,>=2023.1.0->datasets) (2025.9.0)\n",
            "Requirement already satisfied: huggingface-hub>=0.24.0 in c:\\programdata\\miniconda3\\envs\\dairemotion\\lib\\site-packages (from datasets) (0.35.1)\n",
            "Requirement already satisfied: packaging in c:\\programdata\\miniconda3\\envs\\dairemotion\\lib\\site-packages (from datasets) (25.0)\n",
            "Requirement already satisfied: pyyaml>=5.1 in c:\\programdata\\miniconda3\\envs\\dairemotion\\lib\\site-packages (from datasets) (6.0.2)\n",
            "Requirement already satisfied: aiohttp!=4.0.0a0,!=4.0.0a1 in c:\\programdata\\miniconda3\\envs\\dairemotion\\lib\\site-packages (from fsspec[http]<=2025.9.0,>=2023.1.0->datasets) (3.12.15)\n",
            "Requirement already satisfied: python-dateutil>=2.8.2 in c:\\programdata\\miniconda3\\envs\\dairemotion\\lib\\site-packages (from pandas) (2.9.0.post0)\n",
            "Requirement already satisfied: pytz>=2020.1 in c:\\programdata\\miniconda3\\envs\\dairemotion\\lib\\site-packages (from pandas) (2025.2)\n",
            "Requirement already satisfied: tzdata>=2022.7 in c:\\programdata\\miniconda3\\envs\\dairemotion\\lib\\site-packages (from pandas) (2025.2)\n",
            "Requirement already satisfied: contourpy>=1.0.1 in c:\\programdata\\miniconda3\\envs\\dairemotion\\lib\\site-packages (from matplotlib) (1.3.2)\n",
            "Requirement already satisfied: cycler>=0.10 in c:\\programdata\\miniconda3\\envs\\dairemotion\\lib\\site-packages (from matplotlib) (0.12.1)\n",
            "Requirement already satisfied: fonttools>=4.22.0 in c:\\programdata\\miniconda3\\envs\\dairemotion\\lib\\site-packages (from matplotlib) (4.60.0)\n",
            "Requirement already satisfied: kiwisolver>=1.3.1 in c:\\programdata\\miniconda3\\envs\\dairemotion\\lib\\site-packages (from matplotlib) (1.4.9)\n",
            "Requirement already satisfied: pillow>=8 in c:\\programdata\\miniconda3\\envs\\dairemotion\\lib\\site-packages (from matplotlib) (11.1.0)\n",
            "Requirement already satisfied: pyparsing>=2.3.1 in c:\\programdata\\miniconda3\\envs\\dairemotion\\lib\\site-packages (from matplotlib) (3.2.5)\n",
            "Requirement already satisfied: aiohappyeyeballs>=2.5.0 in c:\\programdata\\miniconda3\\envs\\dairemotion\\lib\\site-packages (from aiohttp!=4.0.0a0,!=4.0.0a1->fsspec[http]<=2025.9.0,>=2023.1.0->datasets) (2.6.1)\n",
            "Requirement already satisfied: aiosignal>=1.4.0 in c:\\programdata\\miniconda3\\envs\\dairemotion\\lib\\site-packages (from aiohttp!=4.0.0a0,!=4.0.0a1->fsspec[http]<=2025.9.0,>=2023.1.0->datasets) (1.4.0)\n",
            "Requirement already satisfied: async-timeout<6.0,>=4.0 in c:\\programdata\\miniconda3\\envs\\dairemotion\\lib\\site-packages (from aiohttp!=4.0.0a0,!=4.0.0a1->fsspec[http]<=2025.9.0,>=2023.1.0->datasets) (5.0.1)\n",
            "Requirement already satisfied: attrs>=17.3.0 in c:\\programdata\\miniconda3\\envs\\dairemotion\\lib\\site-packages (from aiohttp!=4.0.0a0,!=4.0.0a1->fsspec[http]<=2025.9.0,>=2023.1.0->datasets) (24.3.0)\n",
            "Requirement already satisfied: frozenlist>=1.1.1 in c:\\programdata\\miniconda3\\envs\\dairemotion\\lib\\site-packages (from aiohttp!=4.0.0a0,!=4.0.0a1->fsspec[http]<=2025.9.0,>=2023.1.0->datasets) (1.7.0)\n",
            "Requirement already satisfied: multidict<7.0,>=4.5 in c:\\programdata\\miniconda3\\envs\\dairemotion\\lib\\site-packages (from aiohttp!=4.0.0a0,!=4.0.0a1->fsspec[http]<=2025.9.0,>=2023.1.0->datasets) (6.6.4)\n",
            "Requirement already satisfied: propcache>=0.2.0 in c:\\programdata\\miniconda3\\envs\\dairemotion\\lib\\site-packages (from aiohttp!=4.0.0a0,!=4.0.0a1->fsspec[http]<=2025.9.0,>=2023.1.0->datasets) (0.3.2)\n",
            "Requirement already satisfied: yarl<2.0,>=1.17.0 in c:\\programdata\\miniconda3\\envs\\dairemotion\\lib\\site-packages (from aiohttp!=4.0.0a0,!=4.0.0a1->fsspec[http]<=2025.9.0,>=2023.1.0->datasets) (1.20.1)\n",
            "Requirement already satisfied: typing-extensions>=4.1.0 in c:\\programdata\\miniconda3\\envs\\dairemotion\\lib\\site-packages (from multidict<7.0,>=4.5->aiohttp!=4.0.0a0,!=4.0.0a1->fsspec[http]<=2025.9.0,>=2023.1.0->datasets) (4.15.0)\n",
            "Requirement already satisfied: idna>=2.0 in c:\\programdata\\miniconda3\\envs\\dairemotion\\lib\\site-packages (from yarl<2.0,>=1.17.0->aiohttp!=4.0.0a0,!=4.0.0a1->fsspec[http]<=2025.9.0,>=2023.1.0->datasets) (3.7)\n",
            "Requirement already satisfied: six>=1.5 in c:\\programdata\\miniconda3\\envs\\dairemotion\\lib\\site-packages (from python-dateutil>=2.8.2->pandas) (1.17.0)\n",
            "Requirement already satisfied: charset_normalizer<4,>=2 in c:\\programdata\\miniconda3\\envs\\dairemotion\\lib\\site-packages (from requests>=2.32.2->datasets) (3.3.2)\n",
            "Requirement already satisfied: urllib3<3,>=1.21.1 in c:\\programdata\\miniconda3\\envs\\dairemotion\\lib\\site-packages (from requests>=2.32.2->datasets) (2.5.0)\n",
            "Requirement already satisfied: certifi>=2017.4.17 in c:\\programdata\\miniconda3\\envs\\dairemotion\\lib\\site-packages (from requests>=2.32.2->datasets) (2025.8.3)\n",
            "Requirement already satisfied: colorama in c:\\programdata\\miniconda3\\envs\\dairemotion\\lib\\site-packages (from tqdm>=4.66.3->datasets) (0.4.6)\n"
          ]
        }
      ]
    },
    {
      "cell_type": "markdown",
      "metadata": {
        "id": "d988af4f"
      },
      "source": [
        "Now, let's load the DAIR-Emo dataset. We will use the `datasets` library for this."
      ]
    },
    {
      "cell_type": "code",
      "metadata": {
        "colab": {
          "base_uri": "https://localhost:8080/"
        },
        "id": "ec728dd6",
        "outputId": "ca61d22b-36c3-4ab5-e681-056ed9865cf2"
      },
      "source": [
        "from datasets import load_dataset\n",
        "\n",
        "# Load the DAIR-Emo dataset\n",
        "# You might need to specify a sub-configuration if available, check the dataset documentation.\n",
        "# For example, if there is a 'plain_text' config, you might use:\n",
        "# dataset = load_dataset('dair-ai/emotion', 'plain_text')\n",
        "# For this example, we will try loading without a specific config first.\n",
        "try:\n",
        "    dataset = load_dataset('dair-ai/emotion')\n",
        "    print(\"Dataset loaded successfully.\")\n",
        "    print(dataset)\n",
        "except Exception as e:\n",
        "    print(f\"Error loading dataset: {e}\")\n",
        "    print(\"Please check the dataset documentation for available configurations and features.\")"
      ],
      "execution_count": null,
      "outputs": [
        {
          "output_type": "stream",
          "name": "stdout",
          "text": [
            "Dataset loaded successfully.\n",
            "DatasetDict({\n",
            "    train: Dataset({\n",
            "        features: ['text', 'label'],\n",
            "        num_rows: 16000\n",
            "    })\n",
            "    validation: Dataset({\n",
            "        features: ['text', 'label'],\n",
            "        num_rows: 2000\n",
            "    })\n",
            "    test: Dataset({\n",
            "        features: ['text', 'label'],\n",
            "        num_rows: 2000\n",
            "    })\n",
            "})\n"
          ]
        }
      ]
    },
    {
      "cell_type": "markdown",
      "metadata": {
        "id": "a4e18705"
      },
      "source": [
        "Let's examine the distribution of the emotion labels in the training set."
      ]
    },
    {
      "cell_type": "code",
      "metadata": {
        "colab": {
          "base_uri": "https://localhost:8080/"
        },
        "id": "7e083303",
        "outputId": "c12b2626-6914-4ed1-a648-db7f974d19ad"
      },
      "source": [
        "import pandas as pd\n",
        "\n",
        "# Convert the training split to a pandas DataFrame for easier analysis\n",
        "train_df = dataset['train'].to_pandas()\n",
        "\n",
        "# Get the value counts of the 'label' column\n",
        "label_counts = train_df['label'].value_counts()\n",
        "\n",
        "print(\"Label distribution in the training set:\")\n",
        "print(label_counts)"
      ],
      "execution_count": null,
      "outputs": [
        {
          "output_type": "stream",
          "name": "stdout",
          "text": [
            "Label distribution in the training set:\n",
            "label\n",
            "1    5362\n",
            "0    4666\n",
            "3    2159\n",
            "4    1937\n",
            "2    1304\n",
            "5     572\n",
            "Name: count, dtype: int64\n"
          ]
        }
      ]
    },
    {
      "cell_type": "markdown",
      "metadata": {
        "id": "219d0e2d"
      },
      "source": [
        "Let's visualize the distribution of the emotion labels using a bar chart."
      ]
    },
    {
      "cell_type": "code",
      "metadata": {
        "colab": {
          "base_uri": "https://localhost:8080/",
          "height": 542
        },
        "id": "3d226384",
        "outputId": "d139b34e-e151-4799-e6c8-5ec3448f255b"
      },
      "source": [
        "import matplotlib.pyplot as plt\n",
        "import seaborn as sns\n",
        "\n",
        "# Visualize the label distribution\n",
        "plt.figure(figsize=(10, 6))\n",
        "sns.barplot(x=label_counts.index, y=label_counts.values)\n",
        "plt.title('Distribution of Emotion Labels in Training Set')\n",
        "plt.xlabel('Emotion Label')\n",
        "plt.ylabel('Number of Samples')\n",
        "plt.xticks(rotation=0)\n",
        "plt.show()"
      ],
      "execution_count": null,
      "outputs": [
        {
          "output_type": "display_data",
          "data": {
            "text/plain": [
              "<Figure size 1000x600 with 1 Axes>"
            ],
            "image/png": "[encoded data removed]"
          },
          "metadata": {}
        }
      ]
    },
    {
      "cell_type": "markdown",
      "metadata": {
        "id": "8516ff09"
      },
      "source": [
        "Let's merge the training, validation, and test splits into a single DataFrame."
      ]
    },
    {
      "cell_type": "code",
      "metadata": {
        "colab": {
          "base_uri": "https://localhost:8080/",
          "height": 223
        },
        "id": "1d7cfdc8",
        "outputId": "84401fc3-c257-4e92-8ccc-cb358c6a2865"
      },
      "source": [
        "# Concatenate the train, validation, and test splits\n",
        "merged_df = pd.concat([dataset['train'].to_pandas(),\n",
        "                       dataset['validation'].to_pandas(),\n",
        "                       dataset['test'].to_pandas()])\n",
        "\n",
        "print(\"Merged DataFrame shape:\", merged_df.shape)\n",
        "display(merged_df.head())"
      ],
      "execution_count": null,
      "outputs": [
        {
          "output_type": "stream",
          "name": "stdout",
          "text": [
            "Merged DataFrame shape: (20000, 2)\n"
          ]
        },
        {
          "output_type": "display_data",
          "data": {
            "text/plain": [
              "                                                text  label\n",
              "0                            i didnt feel humiliated      0\n",
              "1  i can go from feeling so hopeless to so damned...      0\n",
              "2   im grabbing a minute to post i feel greedy wrong      3\n",
              "3  i am ever feeling nostalgic about the fireplac...      2\n",
              "4                               i am feeling grouchy      3"
            ],
            "text/html": [
              "<div>\n",
              "<style scoped>\n",
              "    .dataframe tbody tr th:only-of-type {\n",
              "        vertical-align: middle;\n",
              "    }\n",
              "\n",
              "    .dataframe tbody tr th {\n",
              "        vertical-align: top;\n",
              "    }\n",
              "\n",
              "    .dataframe thead th {\n",
              "        text-align: right;\n",
              "    }\n",
              "</style>\n",
              "<table border=\"1\" class=\"dataframe\">\n",
              "  <thead>\n",
              "    <tr style=\"text-align: right;\">\n",
              "      <th></th>\n",
              "      <th>text</th>\n",
              "      <th>label</th>\n",
              "    </tr>\n",
              "  </thead>\n",
              "  <tbody>\n",
              "    <tr>\n",
              "      <th>0</th>\n",
              "      <td>i didnt feel humiliated</td>\n",
              "      <td>0</td>\n",
              "    </tr>\n",
              "    <tr>\n",
              "      <th>1</th>\n",
              "      <td>i can go from feeling so hopeless to so damned...</td>\n",
              "      <td>0</td>\n",
              "    </tr>\n",
              "    <tr>\n",
              "      <th>2</th>\n",
              "      <td>im grabbing a minute to post i feel greedy wrong</td>\n",
              "      <td>3</td>\n",
              "    </tr>\n",
              "    <tr>\n",
              "      <th>3</th>\n",
              "      <td>i am ever feeling nostalgic about the fireplac...</td>\n",
              "      <td>2</td>\n",
              "    </tr>\n",
              "    <tr>\n",
              "      <th>4</th>\n",
              "      <td>i am feeling grouchy</td>\n",
              "      <td>3</td>\n",
              "    </tr>\n",
              "  </tbody>\n",
              "</table>\n",
              "</div>"
            ]
          },
          "metadata": {}
        }
      ]
    },
    {
      "cell_type": "code",
      "metadata": {
        "colab": {
          "base_uri": "https://localhost:8080/",
          "height": 397
        },
        "id": "44e27451",
        "outputId": "5a2a0e36-ba2b-4f6f-a3ec-3859aac199d1"
      },
      "source": [
        "# Create a mapping from numerical labels to emotion names\n",
        "label_to_emotion = {\n",
        "    0: 'sadness',\n",
        "    1: 'joy',\n",
        "    2: 'love',\n",
        "    3: 'anger',\n",
        "    4: 'fear',\n",
        "    5: 'surprise'\n",
        "}\n",
        "\n",
        "# Apply the mapping to the 'label' column of the merged_df (or the relevant DataFrame you are working with)\n",
        "# We need to ensure the label column is of a type that can be mapped (e.g., int)\n",
        "merged_df['emotion'] = merged_df['label'].map(label_to_emotion)\n",
        "\n",
        "print(\"Labels have been mapped to emotion names.\")\n",
        "display(merged_df.head())\n",
        "\n",
        "# You can verify the new distribution by counting the emotion names\n",
        "print(\"\\nDistribution of emotion names:\")\n",
        "print(merged_df['emotion'].value_counts())"
      ],
      "execution_count": null,
      "outputs": [
        {
          "output_type": "stream",
          "name": "stdout",
          "text": [
            "Labels have been mapped to emotion names.\n"
          ]
        },
        {
          "output_type": "display_data",
          "data": {
            "text/plain": [
              "                                                text  label  emotion\n",
              "0                            i didnt feel humiliated      0  sadness\n",
              "1  i can go from feeling so hopeless to so damned...      0  sadness\n",
              "2   im grabbing a minute to post i feel greedy wrong      3    anger\n",
              "3  i am ever feeling nostalgic about the fireplac...      2     love\n",
              "4                               i am feeling grouchy      3    anger"
            ],
            "text/html": [
              "<div>\n",
              "<style scoped>\n",
              "    .dataframe tbody tr th:only-of-type {\n",
              "        vertical-align: middle;\n",
              "    }\n",
              "\n",
              "    .dataframe tbody tr th {\n",
              "        vertical-align: top;\n",
              "    }\n",
              "\n",
              "    .dataframe thead th {\n",
              "        text-align: right;\n",
              "    }\n",
              "</style>\n",
              "<table border=\"1\" class=\"dataframe\">\n",
              "  <thead>\n",
              "    <tr style=\"text-align: right;\">\n",
              "      <th></th>\n",
              "      <th>text</th>\n",
              "      <th>label</th>\n",
              "      <th>emotion</th>\n",
              "    </tr>\n",
              "  </thead>\n",
              "  <tbody>\n",
              "    <tr>\n",
              "      <th>0</th>\n",
              "      <td>i didnt feel humiliated</td>\n",
              "      <td>0</td>\n",
              "      <td>sadness</td>\n",
              "    </tr>\n",
              "    <tr>\n",
              "      <th>1</th>\n",
              "      <td>i can go from feeling so hopeless to so damned...</td>\n",
              "      <td>0</td>\n",
              "      <td>sadness</td>\n",
              "    </tr>\n",
              "    <tr>\n",
              "      <th>2</th>\n",
              "      <td>im grabbing a minute to post i feel greedy wrong</td>\n",
              "      <td>3</td>\n",
              "      <td>anger</td>\n",
              "    </tr>\n",
              "    <tr>\n",
              "      <th>3</th>\n",
              "      <td>i am ever feeling nostalgic about the fireplac...</td>\n",
              "      <td>2</td>\n",
              "      <td>love</td>\n",
              "    </tr>\n",
              "    <tr>\n",
              "      <th>4</th>\n",
              "      <td>i am feeling grouchy</td>\n",
              "      <td>3</td>\n",
              "      <td>anger</td>\n",
              "    </tr>\n",
              "  </tbody>\n",
              "</table>\n",
              "</div>"
            ]
          },
          "metadata": {}
        },
        {
          "output_type": "stream",
          "name": "stdout",
          "text": [
            "\n",
            "Distribution of emotion names:\n",
            "emotion\n",
            "joy         6761\n",
            "sadness     5797\n",
            "anger       2709\n",
            "fear        2373\n",
            "love        1641\n",
            "surprise     719\n",
            "Name: count, dtype: int64\n"
          ]
        }
      ]
    },
    {
      "cell_type": "code",
      "source": [
        "import matplotlib.pyplot as plt\n",
        "import seaborn as sns\n",
        "\n",
        "# Get the value counts of the 'emotion' column in the merged DataFrame\n",
        "emotion_counts = merged_df['emotion'].value_counts()\n",
        "\n",
        "print(\"Emotion distribution in the merged DataFrame:\")\n",
        "print(emotion_counts)\n",
        "\n",
        "# Visualize the emotion distribution\n",
        "plt.figure(figsize=(10, 6))\n",
        "sns.barplot(x=emotion_counts.index, y=emotion_counts.values)\n",
        "plt.title('Distribution of Emotion Labels in Merged Dataset')\n",
        "plt.xlabel('Emotion Label')\n",
        "plt.ylabel('Number of Samples')\n",
        "plt.xticks(rotation=45) # Rotate labels for better readability\n",
        "plt.tight_layout() # Adjust layout to prevent labels overlapping\n",
        "plt.show()"
      ],
      "metadata": {
        "colab": {
          "base_uri": "https://localhost:8080/",
          "height": 665
        },
        "id": "7SXGeMIaE-je",
        "outputId": "657fde25-566c-4a2c-a517-afc7d0fc9fec"
      },
      "execution_count": null,
      "outputs": [
        {
          "output_type": "stream",
          "name": "stdout",
          "text": [
            "Emotion distribution in the merged DataFrame:\n",
            "emotion\n",
            "joy         6761\n",
            "sadness     5797\n",
            "anger       2709\n",
            "fear        2373\n",
            "love        1641\n",
            "surprise     719\n",
            "Name: count, dtype: int64\n"
          ]
        },
        {
          "output_type": "display_data",
          "data": {
            "text/plain": [
              "<Figure size 1000x600 with 1 Axes>"
            ],
            "image/png": "[encoded data removed]"
          },
          "metadata": {}
        }
      ]
    },
    {
      "cell_type": "code",
      "metadata": {
        "colab": {
          "base_uri": "https://localhost:8080/",
          "height": 223
        },
        "id": "cccc74a1",
        "outputId": "3ce6fc0c-82ce-40dd-aeac-2df1d8b93da4"
      },
      "source": [
        "# Remove rows with labels 0 and 1\n",
        "filtered_df = merged_df[~merged_df['label'].isin([0, 1])]\n",
        "\n",
        "print(\"Filtered DataFrame shape:\", filtered_df.shape)\n",
        "display(filtered_df.head())"
      ],
      "execution_count": null,
      "outputs": [
        {
          "output_type": "stream",
          "name": "stdout",
          "text": [
            "Filtered DataFrame shape: (7442, 2)\n"
          ]
        },
        {
          "output_type": "display_data",
          "data": {
            "text/plain": [
              "                                                text  label\n",
              "2   im grabbing a minute to post i feel greedy wrong      3\n",
              "3  i am ever feeling nostalgic about the fireplac...      2\n",
              "4                               i am feeling grouchy      3\n",
              "6  ive been taking or milligrams or times recomme...      5\n",
              "7  i feel as confused about life as a teenager or...      4"
            ],
            "text/html": [
              "<div>\n",
              "<style scoped>\n",
              "    .dataframe tbody tr th:only-of-type {\n",
              "        vertical-align: middle;\n",
              "    }\n",
              "\n",
              "    .dataframe tbody tr th {\n",
              "        vertical-align: top;\n",
              "    }\n",
              "\n",
              "    .dataframe thead th {\n",
              "        text-align: right;\n",
              "    }\n",
              "</style>\n",
              "<table border=\"1\" class=\"dataframe\">\n",
              "  <thead>\n",
              "    <tr style=\"text-align: right;\">\n",
              "      <th></th>\n",
              "      <th>text</th>\n",
              "      <th>label</th>\n",
              "    </tr>\n",
              "  </thead>\n",
              "  <tbody>\n",
              "    <tr>\n",
              "      <th>2</th>\n",
              "      <td>im grabbing a minute to post i feel greedy wrong</td>\n",
              "      <td>3</td>\n",
              "    </tr>\n",
              "    <tr>\n",
              "      <th>3</th>\n",
              "      <td>i am ever feeling nostalgic about the fireplac...</td>\n",
              "      <td>2</td>\n",
              "    </tr>\n",
              "    <tr>\n",
              "      <th>4</th>\n",
              "      <td>i am feeling grouchy</td>\n",
              "      <td>3</td>\n",
              "    </tr>\n",
              "    <tr>\n",
              "      <th>6</th>\n",
              "      <td>ive been taking or milligrams or times recomme...</td>\n",
              "      <td>5</td>\n",
              "    </tr>\n",
              "    <tr>\n",
              "      <th>7</th>\n",
              "      <td>i feel as confused about life as a teenager or...</td>\n",
              "      <td>4</td>\n",
              "    </tr>\n",
              "  </tbody>\n",
              "</table>\n",
              "</div>"
            ]
          },
          "metadata": {}
        }
      ]
    },
    {
      "cell_type": "code",
      "metadata": {
        "colab": {
          "base_uri": "https://localhost:8080/"
        },
        "id": "80ccfdcf",
        "outputId": "dd9f53d7-ad95-4c9a-ae5e-1688bdba1741"
      },
      "source": [
        "# Get the value counts of the 'label' column in the filtered DataFrame\n",
        "filtered_label_counts = filtered_df['label'].value_counts()\n",
        "\n",
        "print(\"Label distribution in the filtered DataFrame:\")\n",
        "print(filtered_label_counts)"
      ],
      "execution_count": null,
      "outputs": [
        {
          "output_type": "stream",
          "name": "stdout",
          "text": [
            "Label distribution in the filtered DataFrame:\n",
            "label\n",
            "3    2709\n",
            "4    2373\n",
            "2    1641\n",
            "5     719\n",
            "Name: count, dtype: int64\n"
          ]
        }
      ]
    },
    {
      "cell_type": "code",
      "metadata": {
        "colab": {
          "base_uri": "https://localhost:8080/",
          "height": 486
        },
        "id": "34eb5ce9",
        "outputId": "e726ed5a-a2c9-491b-9906-817c93c9854c"
      },
      "source": [
        "# Create a mapping from numerical labels to emotion names\n",
        "label_to_emotion = {\n",
        "    0: 'sadness',\n",
        "    1: 'joy',\n",
        "    2: 'love',\n",
        "    3: 'anger',\n",
        "    4: 'fear',\n",
        "    5: 'surprise'\n",
        "}\n",
        "\n",
        "# Apply the mapping to the 'label' column of the filtered_df\n",
        "# We need to ensure the label column is of a type that can be mapped (e.g., int)\n",
        "filtered_df['emotion'] = filtered_df['label'].map(label_to_emotion)\n",
        "\n",
        "print(\"Labels in filtered_df have been mapped to emotion names.\")\n",
        "display(filtered_df.head())\n",
        "\n",
        "# You can verify the new distribution by counting the emotion names\n",
        "print(\"\\nDistribution of emotion names in the filtered DataFrame:\")\n",
        "print(filtered_df['emotion'].value_counts())"
      ],
      "execution_count": null,
      "outputs": [
        {
          "output_type": "stream",
          "name": "stdout",
          "text": [
            "Labels in filtered_df have been mapped to emotion names.\n"
          ]
        },
        {
          "output_type": "stream",
          "name": "stderr",
          "text": [
            "C:\\Users\\adria\\AppData\\Local\\Temp\\ipykernel_10876\\1208960816.py:13: SettingWithCopyWarning: \n",
            "A value is trying to be set on a copy of a slice from a DataFrame.\n",
            "Try using .loc[row_indexer,col_indexer] = value instead\n",
            "\n",
            "See the caveats in the documentation: https://pandas.pydata.org/pandas-docs/stable/user_guide/indexing.html#returning-a-view-versus-a-copy\n",
            "  filtered_df['emotion'] = filtered_df['label'].map(label_to_emotion)\n"
          ]
        },
        {
          "output_type": "display_data",
          "data": {
            "text/plain": [
              "                                                text  label   emotion\n",
              "2   im grabbing a minute to post i feel greedy wrong      3     anger\n",
              "3  i am ever feeling nostalgic about the fireplac...      2      love\n",
              "4                               i am feeling grouchy      3     anger\n",
              "6  ive been taking or milligrams or times recomme...      5  surprise\n",
              "7  i feel as confused about life as a teenager or...      4      fear"
            ],
            "text/html": [
              "<div>\n",
              "<style scoped>\n",
              "    .dataframe tbody tr th:only-of-type {\n",
              "        vertical-align: middle;\n",
              "    }\n",
              "\n",
              "    .dataframe tbody tr th {\n",
              "        vertical-align: top;\n",
              "    }\n",
              "\n",
              "    .dataframe thead th {\n",
              "        text-align: right;\n",
              "    }\n",
              "</style>\n",
              "<table border=\"1\" class=\"dataframe\">\n",
              "  <thead>\n",
              "    <tr style=\"text-align: right;\">\n",
              "      <th></th>\n",
              "      <th>text</th>\n",
              "      <th>label</th>\n",
              "      <th>emotion</th>\n",
              "    </tr>\n",
              "  </thead>\n",
              "  <tbody>\n",
              "    <tr>\n",
              "      <th>2</th>\n",
              "      <td>im grabbing a minute to post i feel greedy wrong</td>\n",
              "      <td>3</td>\n",
              "      <td>anger</td>\n",
              "    </tr>\n",
              "    <tr>\n",
              "      <th>3</th>\n",
              "      <td>i am ever feeling nostalgic about the fireplac...</td>\n",
              "      <td>2</td>\n",
              "      <td>love</td>\n",
              "    </tr>\n",
              "    <tr>\n",
              "      <th>4</th>\n",
              "      <td>i am feeling grouchy</td>\n",
              "      <td>3</td>\n",
              "      <td>anger</td>\n",
              "    </tr>\n",
              "    <tr>\n",
              "      <th>6</th>\n",
              "      <td>ive been taking or milligrams or times recomme...</td>\n",
              "      <td>5</td>\n",
              "      <td>surprise</td>\n",
              "    </tr>\n",
              "    <tr>\n",
              "      <th>7</th>\n",
              "      <td>i feel as confused about life as a teenager or...</td>\n",
              "      <td>4</td>\n",
              "      <td>fear</td>\n",
              "    </tr>\n",
              "  </tbody>\n",
              "</table>\n",
              "</div>"
            ]
          },
          "metadata": {}
        },
        {
          "output_type": "stream",
          "name": "stdout",
          "text": [
            "\n",
            "Distribution of emotion names in the filtered DataFrame:\n",
            "emotion\n",
            "anger       2709\n",
            "fear        2373\n",
            "love        1641\n",
            "surprise     719\n",
            "Name: count, dtype: int64\n"
          ]
        }
      ]
    },
    {
      "cell_type": "markdown",
      "metadata": {
        "id": "d0854b2c"
      },
      "source": [
        "## Prepare Data for Conditional Generation\n",
        "\n",
        "Format the data by prepending the emotion name to the text."
      ]
    },
    {
      "cell_type": "code",
      "metadata": {
        "colab": {
          "base_uri": "https://localhost:8080/",
          "height": 347
        },
        "id": "d8bffcef",
        "outputId": "e0a38cc3-3c24-43cb-bdc7-8b163e2d7811"
      },
      "source": [
        "# Ensure the 'emotion' column exists (from the previous step)\n",
        "if 'emotion' not in filtered_df.columns:\n",
        "    # Re-create the 'emotion' column if it was not successfully created before\n",
        "    label_to_emotion = {\n",
        "        0: 'sadness', 1: 'joy', 2: 'love', 3: 'anger', 4: 'fear', 5: 'surprise'\n",
        "    }\n",
        "    filtered_df['emotion'] = filtered_df['label'].map(label_to_emotion)\n",
        "    print(\"Re-created 'emotion' column.\")\n",
        "\n",
        "\n",
        "# Create the formatted text for conditional generation\n",
        "# Format: \"[Emotion Name]: [text]\"\n",
        "filtered_df['formatted_text'] = filtered_df.apply(lambda row: f\"{row['emotion']}: {row['text']}\", axis=1)\n",
        "\n",
        "print(\"Data formatted for conditional generation.\")\n",
        "display(filtered_df.head())"
      ],
      "execution_count": null,
      "outputs": [
        {
          "output_type": "stream",
          "name": "stdout",
          "text": [
            "Data formatted for conditional generation.\n"
          ]
        },
        {
          "output_type": "stream",
          "name": "stderr",
          "text": [
            "C:\\Users\\adria\\AppData\\Local\\Temp\\ipykernel_10876\\2470532479.py:13: SettingWithCopyWarning: \n",
            "A value is trying to be set on a copy of a slice from a DataFrame.\n",
            "Try using .loc[row_indexer,col_indexer] = value instead\n",
            "\n",
            "See the caveats in the documentation: https://pandas.pydata.org/pandas-docs/stable/user_guide/indexing.html#returning-a-view-versus-a-copy\n",
            "  filtered_df['formatted_text'] = filtered_df.apply(lambda row: f\"{row['emotion']}: {row['text']}\", axis=1)\n"
          ]
        },
        {
          "output_type": "display_data",
          "data": {
            "text/plain": [
              "                                                text  label   emotion  \\\n",
              "2   im grabbing a minute to post i feel greedy wrong      3     anger   \n",
              "3  i am ever feeling nostalgic about the fireplac...      2      love   \n",
              "4                               i am feeling grouchy      3     anger   \n",
              "6  ive been taking or milligrams or times recomme...      5  surprise   \n",
              "7  i feel as confused about life as a teenager or...      4      fear   \n",
              "\n",
              "                                      formatted_text  \n",
              "2  anger: im grabbing a minute to post i feel gre...  \n",
              "3  love: i am ever feeling nostalgic about the fi...  \n",
              "4                        anger: i am feeling grouchy  \n",
              "6  surprise: ive been taking or milligrams or tim...  \n",
              "7  fear: i feel as confused about life as a teena...  "
            ],
            "text/html": [
              "<div>\n",
              "<style scoped>\n",
              "    .dataframe tbody tr th:only-of-type {\n",
              "        vertical-align: middle;\n",
              "    }\n",
              "\n",
              "    .dataframe tbody tr th {\n",
              "        vertical-align: top;\n",
              "    }\n",
              "\n",
              "    .dataframe thead th {\n",
              "        text-align: right;\n",
              "    }\n",
              "</style>\n",
              "<table border=\"1\" class=\"dataframe\">\n",
              "  <thead>\n",
              "    <tr style=\"text-align: right;\">\n",
              "      <th></th>\n",
              "      <th>text</th>\n",
              "      <th>label</th>\n",
              "      <th>emotion</th>\n",
              "      <th>formatted_text</th>\n",
              "    </tr>\n",
              "  </thead>\n",
              "  <tbody>\n",
              "    <tr>\n",
              "      <th>2</th>\n",
              "      <td>im grabbing a minute to post i feel greedy wrong</td>\n",
              "      <td>3</td>\n",
              "      <td>anger</td>\n",
              "      <td>anger: im grabbing a minute to post i feel gre...</td>\n",
              "    </tr>\n",
              "    <tr>\n",
              "      <th>3</th>\n",
              "      <td>i am ever feeling nostalgic about the fireplac...</td>\n",
              "      <td>2</td>\n",
              "      <td>love</td>\n",
              "      <td>love: i am ever feeling nostalgic about the fi...</td>\n",
              "    </tr>\n",
              "    <tr>\n",
              "      <th>4</th>\n",
              "      <td>i am feeling grouchy</td>\n",
              "      <td>3</td>\n",
              "      <td>anger</td>\n",
              "      <td>anger: i am feeling grouchy</td>\n",
              "    </tr>\n",
              "    <tr>\n",
              "      <th>6</th>\n",
              "      <td>ive been taking or milligrams or times recomme...</td>\n",
              "      <td>5</td>\n",
              "      <td>surprise</td>\n",
              "      <td>surprise: ive been taking or milligrams or tim...</td>\n",
              "    </tr>\n",
              "    <tr>\n",
              "      <th>7</th>\n",
              "      <td>i feel as confused about life as a teenager or...</td>\n",
              "      <td>4</td>\n",
              "      <td>fear</td>\n",
              "      <td>fear: i feel as confused about life as a teena...</td>\n",
              "    </tr>\n",
              "  </tbody>\n",
              "</table>\n",
              "</div>"
            ]
          },
          "metadata": {}
        }
      ]
    },
    {
      "cell_type": "markdown",
      "metadata": {
        "id": "30d8b5b7"
      },
      "source": [
        "## Split Data into Train and Test\n",
        "\n",
        "Split the formatted data into training and testing sets for fine-tuning the generative model."
      ]
    },
    {
      "cell_type": "code",
      "metadata": {
        "colab": {
          "base_uri": "https://localhost:8080/"
        },
        "id": "339a3fed",
        "outputId": "4fe787d7-70c9-40bf-9940-c44df9410062"
      },
      "source": [
        "!pip install scikit-learn"
      ],
      "execution_count": null,
      "outputs": [
        {
          "output_type": "stream",
          "name": "stdout",
          "text": [
            "Requirement already satisfied: scikit-learn in c:\\programdata\\miniconda3\\envs\\dairemotion\\lib\\site-packages (1.7.2)\n",
            "Requirement already satisfied: numpy>=1.22.0 in c:\\programdata\\miniconda3\\envs\\dairemotion\\lib\\site-packages (from scikit-learn) (2.0.1)\n",
            "Requirement already satisfied: scipy>=1.8.0 in c:\\programdata\\miniconda3\\envs\\dairemotion\\lib\\site-packages (from scikit-learn) (1.15.3)\n",
            "Requirement already satisfied: joblib>=1.2.0 in c:\\programdata\\miniconda3\\envs\\dairemotion\\lib\\site-packages (from scikit-learn) (1.5.2)\n",
            "Requirement already satisfied: threadpoolctl>=3.1.0 in c:\\programdata\\miniconda3\\envs\\dairemotion\\lib\\site-packages (from scikit-learn) (3.6.0)\n"
          ]
        }
      ]
    },
    {
      "cell_type": "code",
      "metadata": {
        "colab": {
          "base_uri": "https://localhost:8080/"
        },
        "id": "e57e5841",
        "outputId": "603b6cfb-1f17-4def-bd46-080179cf287c"
      },
      "source": [
        "!pip install transformers"
      ],
      "execution_count": null,
      "outputs": [
        {
          "output_type": "stream",
          "name": "stdout",
          "text": [
            "Requirement already satisfied: transformers in c:\\programdata\\miniconda3\\envs\\dairemotion\\lib\\site-packages (4.56.2)\n",
            "Requirement already satisfied: filelock in c:\\programdata\\miniconda3\\envs\\dairemotion\\lib\\site-packages (from transformers) (3.17.0)\n",
            "Requirement already satisfied: huggingface-hub<1.0,>=0.34.0 in c:\\programdata\\miniconda3\\envs\\dairemotion\\lib\\site-packages (from transformers) (0.35.1)\n",
            "Requirement already satisfied: numpy>=1.17 in c:\\programdata\\miniconda3\\envs\\dairemotion\\lib\\site-packages (from transformers) (2.0.1)\n",
            "Requirement already satisfied: packaging>=20.0 in c:\\programdata\\miniconda3\\envs\\dairemotion\\lib\\site-packages (from transformers) (25.0)\n",
            "Requirement already satisfied: pyyaml>=5.1 in c:\\programdata\\miniconda3\\envs\\dairemotion\\lib\\site-packages (from transformers) (6.0.2)\n",
            "Requirement already satisfied: regex!=2019.12.17 in c:\\programdata\\miniconda3\\envs\\dairemotion\\lib\\site-packages (from transformers) (2025.9.18)\n",
            "Requirement already satisfied: requests in c:\\programdata\\miniconda3\\envs\\dairemotion\\lib\\site-packages (from transformers) (2.32.5)\n",
            "Requirement already satisfied: tokenizers<=0.23.0,>=0.22.0 in c:\\programdata\\miniconda3\\envs\\dairemotion\\lib\\site-packages (from transformers) (0.22.1)\n",
            "Requirement already satisfied: safetensors>=0.4.3 in c:\\programdata\\miniconda3\\envs\\dairemotion\\lib\\site-packages (from transformers) (0.6.2)\n",
            "Requirement already satisfied: tqdm>=4.27 in c:\\programdata\\miniconda3\\envs\\dairemotion\\lib\\site-packages (from transformers) (4.67.1)\n",
            "Requirement already satisfied: fsspec>=2023.5.0 in c:\\programdata\\miniconda3\\envs\\dairemotion\\lib\\site-packages (from huggingface-hub<1.0,>=0.34.0->transformers) (2025.9.0)\n",
            "Requirement already satisfied: typing-extensions>=3.7.4.3 in c:\\programdata\\miniconda3\\envs\\dairemotion\\lib\\site-packages (from huggingface-hub<1.0,>=0.34.0->transformers) (4.15.0)\n",
            "Requirement already satisfied: colorama in c:\\programdata\\miniconda3\\envs\\dairemotion\\lib\\site-packages (from tqdm>=4.27->transformers) (0.4.6)\n",
            "Requirement already satisfied: charset_normalizer<4,>=2 in c:\\programdata\\miniconda3\\envs\\dairemotion\\lib\\site-packages (from requests->transformers) (3.3.2)\n",
            "Requirement already satisfied: idna<4,>=2.5 in c:\\programdata\\miniconda3\\envs\\dairemotion\\lib\\site-packages (from requests->transformers) (3.7)\n",
            "Requirement already satisfied: urllib3<3,>=1.21.1 in c:\\programdata\\miniconda3\\envs\\dairemotion\\lib\\site-packages (from requests->transformers) (2.5.0)\n",
            "Requirement already satisfied: certifi>=2017.4.17 in c:\\programdata\\miniconda3\\envs\\dairemotion\\lib\\site-packages (from requests->transformers) (2025.8.3)\n"
          ]
        }
      ]
    },
    {
      "cell_type": "code",
      "metadata": {
        "colab": {
          "base_uri": "https://localhost:8080/"
        },
        "id": "da27a422",
        "outputId": "ad43d4b5-35a2-4a4f-b5ef-0a5ebd045046"
      },
      "source": [
        "from transformers import GPT2LMHeadModel, GPT2Tokenizer\n",
        "\n",
        "# Load a pre-trained GPT-2 model for text generation\n",
        "# This is the correct model type for generating text\n",
        "generation_model = GPT2LMHeadModel.from_pretrained('gpt2')\n",
        "generation_tokenizer = GPT2Tokenizer.from_pretrained('gpt2')\n",
        "\n",
        "print(\"GPT-2 model for text generation and tokenizer loaded successfully.\")"
      ],
      "execution_count": null,
      "outputs": [
        {
          "output_type": "stream",
          "name": "stdout",
          "text": [
            "GPT-2 model for text generation and tokenizer loaded successfully.\n"
          ]
        }
      ]
    },
    {
      "cell_type": "code",
      "metadata": {
        "colab": {
          "base_uri": "https://localhost:8080/",
          "height": 430
        },
        "id": "1930ca75",
        "outputId": "736cb83e-8d84-41e2-a0b3-a0775fb1542c"
      },
      "source": [
        "from sklearn.model_selection import train_test_split\n",
        "\n",
        "# Split the filtered_df based on the 'formatted_text' column\n",
        "train_df_gen, test_df_gen = train_test_split(filtered_df, test_size=0.2, random_state=42)\n",
        "\n",
        "print(\"Shape of training set for generation:\", train_df_gen.shape)\n",
        "print(\"Shape of testing set for generation:\", test_df_gen.shape)\n",
        "\n",
        "display(train_df_gen.head())\n",
        "display(test_df_gen.head())"
      ],
      "execution_count": null,
      "outputs": [
        {
          "output_type": "stream",
          "name": "stdout",
          "text": [
            "Shape of training set for generation: (5953, 4)\n",
            "Shape of testing set for generation: (1489, 4)\n"
          ]
        },
        {
          "output_type": "display_data",
          "data": {
            "text/plain": [
              "                                                   text  label   emotion  \\\n",
              "1253  i don t feel betrayed coz the backstabber had ...      5  surprise   \n",
              "4331  ive been feeling very intimidated and overwhel...      4      fear   \n",
              "1387  im not sure but theres nothing that will get a...      2      love   \n",
              "5923  i feel more terrified than the customers will ...      4      fear   \n",
              "854   i feel i would give up the sense of touch feel...      4      fear   \n",
              "\n",
              "                                         formatted_text  \n",
              "1253  surprise: i don t feel betrayed coz the backst...  \n",
              "4331  fear: ive been feeling very intimidated and ov...  \n",
              "1387  love: im not sure but theres nothing that will...  \n",
              "5923  fear: i feel more terrified than the customers...  \n",
              "854   fear: i feel i would give up the sense of touc...  "
            ],
            "text/html": [
              "<div>\n",
              "<style scoped>\n",
              "    .dataframe tbody tr th:only-of-type {\n",
              "        vertical-align: middle;\n",
              "    }\n",
              "\n",
              "    .dataframe tbody tr th {\n",
              "        vertical-align: top;\n",
              "    }\n",
              "\n",
              "    .dataframe thead th {\n",
              "        text-align: right;\n",
              "    }\n",
              "</style>\n",
              "<table border=\"1\" class=\"dataframe\">\n",
              "  <thead>\n",
              "    <tr style=\"text-align: right;\">\n",
              "      <th></th>\n",
              "      <th>text</th>\n",
              "      <th>label</th>\n",
              "      <th>emotion</th>\n",
              "      <th>formatted_text</th>\n",
              "    </tr>\n",
              "  </thead>\n",
              "  <tbody>\n",
              "    <tr>\n",
              "      <th>1253</th>\n",
              "      <td>i don t feel betrayed coz the backstabber had ...</td>\n",
              "      <td>5</td>\n",
              "      <td>surprise</td>\n",
              "      <td>surprise: i don t feel betrayed coz the backst...</td>\n",
              "    </tr>\n",
              "    <tr>\n",
              "      <th>4331</th>\n",
              "      <td>ive been feeling very intimidated and overwhel...</td>\n",
              "      <td>4</td>\n",
              "      <td>fear</td>\n",
              "      <td>fear: ive been feeling very intimidated and ov...</td>\n",
              "    </tr>\n",
              "    <tr>\n",
              "      <th>1387</th>\n",
              "      <td>im not sure but theres nothing that will get a...</td>\n",
              "      <td>2</td>\n",
              "      <td>love</td>\n",
              "      <td>love: im not sure but theres nothing that will...</td>\n",
              "    </tr>\n",
              "    <tr>\n",
              "      <th>5923</th>\n",
              "      <td>i feel more terrified than the customers will ...</td>\n",
              "      <td>4</td>\n",
              "      <td>fear</td>\n",
              "      <td>fear: i feel more terrified than the customers...</td>\n",
              "    </tr>\n",
              "    <tr>\n",
              "      <th>854</th>\n",
              "      <td>i feel i would give up the sense of touch feel...</td>\n",
              "      <td>4</td>\n",
              "      <td>fear</td>\n",
              "      <td>fear: i feel i would give up the sense of touc...</td>\n",
              "    </tr>\n",
              "  </tbody>\n",
              "</table>\n",
              "</div>"
            ]
          },
          "metadata": {}
        },
        {
          "output_type": "display_data",
          "data": {
            "text/plain": [
              "                                                    text  label emotion  \\\n",
              "15098  i watch my friends going through changes and i...      3   anger   \n",
              "4754   i am still working through the guilt of feelin...      3   anger   \n",
              "12486                           i feel genuinely wronged      3   anger   \n",
              "12891  i feel scared rather than curl up like a threa...      4    fear   \n",
              "3814   i have eternal hope he says and when they arri...      2    love   \n",
              "\n",
              "                                          formatted_text  \n",
              "15098  anger: i watch my friends going through change...  \n",
              "4754   anger: i am still working through the guilt of...  \n",
              "12486                    anger: i feel genuinely wronged  \n",
              "12891  fear: i feel scared rather than curl up like a...  \n",
              "3814   love: i have eternal hope he says and when the...  "
            ],
            "text/html": [
              "<div>\n",
              "<style scoped>\n",
              "    .dataframe tbody tr th:only-of-type {\n",
              "        vertical-align: middle;\n",
              "    }\n",
              "\n",
              "    .dataframe tbody tr th {\n",
              "        vertical-align: top;\n",
              "    }\n",
              "\n",
              "    .dataframe thead th {\n",
              "        text-align: right;\n",
              "    }\n",
              "</style>\n",
              "<table border=\"1\" class=\"dataframe\">\n",
              "  <thead>\n",
              "    <tr style=\"text-align: right;\">\n",
              "      <th></th>\n",
              "      <th>text</th>\n",
              "      <th>label</th>\n",
              "      <th>emotion</th>\n",
              "      <th>formatted_text</th>\n",
              "    </tr>\n",
              "  </thead>\n",
              "  <tbody>\n",
              "    <tr>\n",
              "      <th>15098</th>\n",
              "      <td>i watch my friends going through changes and i...</td>\n",
              "      <td>3</td>\n",
              "      <td>anger</td>\n",
              "      <td>anger: i watch my friends going through change...</td>\n",
              "    </tr>\n",
              "    <tr>\n",
              "      <th>4754</th>\n",
              "      <td>i am still working through the guilt of feelin...</td>\n",
              "      <td>3</td>\n",
              "      <td>anger</td>\n",
              "      <td>anger: i am still working through the guilt of...</td>\n",
              "    </tr>\n",
              "    <tr>\n",
              "      <th>12486</th>\n",
              "      <td>i feel genuinely wronged</td>\n",
              "      <td>3</td>\n",
              "      <td>anger</td>\n",
              "      <td>anger: i feel genuinely wronged</td>\n",
              "    </tr>\n",
              "    <tr>\n",
              "      <th>12891</th>\n",
              "      <td>i feel scared rather than curl up like a threa...</td>\n",
              "      <td>4</td>\n",
              "      <td>fear</td>\n",
              "      <td>fear: i feel scared rather than curl up like a...</td>\n",
              "    </tr>\n",
              "    <tr>\n",
              "      <th>3814</th>\n",
              "      <td>i have eternal hope he says and when they arri...</td>\n",
              "      <td>2</td>\n",
              "      <td>love</td>\n",
              "      <td>love: i have eternal hope he says and when the...</td>\n",
              "    </tr>\n",
              "  </tbody>\n",
              "</table>\n",
              "</div>"
            ]
          },
          "metadata": {}
        }
      ]
    },
    {
      "cell_type": "code",
      "metadata": {
        "colab": {
          "base_uri": "https://localhost:8080/",
          "height": 193,
          "referenced_widgets": [
            "3bd1d00df2ac4d9680ea62fe1082d481",
            "d7aa174e4494431995e4c83d5f9e8af2",
            "efc1fcb29de947fc999f81fb2dad5f85",
            "552051b8c8dc4f6bb320bbc7c04bb95e",
            "968de8fc2e4e4c3ebfb28c6eae3080bc",
            "832883f06615433b8aca6fbea21e3795",
            "e6e0bffe80bf4af0a55195cba578e07d",
            "1d5b6591cf3246d8a53d4b0ecc44e5ee",
            "e8b573ad2db1418d9f93e4ab902f8db5",
            "4a78c435aed244d8bd6d70d7c2f04dc0",
            "500e7104370a437d8bebe6d484e05a3c",
            "f664e14db0714ce5bc4436aa0e42e9eb",
            "def484cabd234053b039b06f0ab2e911",
            "1ff3f43794f84679acdb62bccb01ba7d",
            "17f2388d55c7412da0df356ca834cc81",
            "61eac7483c2741228fa69fa1ea23c4e6",
            "8e6710cac86d4eb6bf7b60716dea8a3f",
            "9f0f8f666a864948a3c71b12de572139",
            "9a8041435c724e6e89a4cd00561e159a",
            "9ffbbf62de434a4588263650f444d498",
            "23dd197b62174720a19bc816c9905b92",
            "9df2c8571cfe48cf8fc7428d9e79da77"
          ]
        },
        "id": "41814155",
        "outputId": "0161c0fc-90a7-4019-cda4-ba571ad25671"
      },
      "source": [
        "from datasets import Dataset\n",
        "\n",
        "# Convert DataFrames to Hugging Face Dataset objects\n",
        "train_dataset_gen = Dataset.from_pandas(train_df_gen)\n",
        "test_dataset_gen = Dataset.from_pandas(test_df_gen)\n",
        "\n",
        "# Add a padding token if the tokenizer doesn't have one\n",
        "if generation_tokenizer.pad_token is None:\n",
        "    generation_tokenizer.pad_token = generation_tokenizer.eos_token\n",
        "\n",
        "# Function to tokenize the 'formatted_text' and add 'labels'\n",
        "def tokenize_function_gen(examples):\n",
        "    tokenized_inputs = generation_tokenizer(\n",
        "        examples['formatted_text'], padding=\"max_length\", truncation=True, max_length=128\n",
        "    )\n",
        "    # Add 'labels' which are a copy of 'input_ids' for language modeling\n",
        "    tokenized_inputs[\"labels\"] = tokenized_inputs[\"input_ids\"].copy()\n",
        "    return tokenized_inputs\n",
        "\n",
        "# Apply tokenization and add labels\n",
        "tokenized_train_dataset_gen = train_dataset_gen.map(tokenize_function_gen, batched=True)\n",
        "tokenized_test_dataset_gen = test_dataset_gen.map(tokenize_function_gen, batched=True)\n",
        "\n",
        "print(\"Tokenization of generation data complete with labels added.\")\n",
        "print(tokenized_train_dataset_gen)\n",
        "print(tokenized_test_dataset_gen)"
      ],
      "execution_count": null,
      "outputs": [
        {
          "output_type": "display_data",
          "data": {
            "text/plain": [
              "Map:   0%|          | 0/5953 [00:00<?, ? examples/s]"
            ],
            "application/vnd.jupyter.widget-view+json": {
              "version_major": 2,
              "version_minor": 0,
              "model_id": "3bd1d00df2ac4d9680ea62fe1082d481"
            }
          },
          "metadata": {}
        },
        {
          "output_type": "display_data",
          "data": {
            "text/plain": [
              "Map:   0%|          | 0/1489 [00:00<?, ? examples/s]"
            ],
            "application/vnd.jupyter.widget-view+json": {
              "version_major": 2,
              "version_minor": 0,
              "model_id": "f664e14db0714ce5bc4436aa0e42e9eb"
            }
          },
          "metadata": {}
        },
        {
          "output_type": "stream",
          "name": "stdout",
          "text": [
            "Tokenization of generation data complete with labels added.\n",
            "Dataset({\n",
            "    features: ['text', 'label', 'emotion', 'formatted_text', '__index_level_0__', 'input_ids', 'attention_mask', 'labels'],\n",
            "    num_rows: 5953\n",
            "})\n",
            "Dataset({\n",
            "    features: ['text', 'label', 'emotion', 'formatted_text', '__index_level_0__', 'input_ids', 'attention_mask', 'labels'],\n",
            "    num_rows: 1489\n",
            "})\n"
          ]
        }
      ]
    },
    {
      "cell_type": "markdown",
      "metadata": {
        "id": "50bb1f23"
      },
      "source": [
        "## Define training arguments\n",
        "\n",
        "### Subtask:\n",
        "Define the TrainingArguments for fine-tuning the generative model."
      ]
    },
    {
      "cell_type": "code",
      "metadata": {
        "colab": {
          "base_uri": "https://localhost:8080/"
        },
        "id": "8a88b27a",
        "outputId": "6fe12a88-d9e1-42c1-f544-cd92bf894d9c"
      },
      "source": [
        "# Print one row from the tokenized training dataset for generation\n",
        "print(tokenized_train_dataset_gen[0])"
      ],
      "execution_count": null,
      "outputs": [
        {
          "output_type": "stream",
          "name": "stdout",
          "text": [
            "{'text': 'i don t feel betrayed coz the backstabber had no grounds for their accusation but i m just amazed at some people s ability to do such things', 'label': 5, 'emotion': 'surprise', 'formatted_text': 'surprise: i don t feel betrayed coz the backstabber had no grounds for their accusation but i m just amazed at some people s ability to do such things', '__index_level_0__': 1253, 'input_ids': [11793, 7919, 25, 1312, 836, 256, 1254, 26281, 763, 89, 262, 736, 39029, 527, 550, 645, 9384, 329, 511, 25984, 475, 1312, 285, 655, 24562, 379, 617, 661, 264, 2694, 284, 466, 884, 1243, 50256, 50256, 50256, 50256, 50256, 50256, 50256, 50256, 50256, 50256, 50256, 50256, 50256, 50256, 50256, 50256, 50256, 50256, 50256, 50256, 50256, 50256, 50256, 50256, 50256, 50256, 50256, 50256, 50256, 50256, 50256, 50256, 50256, 50256, 50256, 50256, 50256, 50256, 50256, 50256, 50256, 50256, 50256, 50256, 50256, 50256, 50256, 50256, 50256, 50256, 50256, 50256, 50256, 50256, 50256, 50256, 50256, 50256, 50256, 50256, 50256, 50256, 50256, 50256, 50256, 50256, 50256, 50256, 50256, 50256, 50256, 50256, 50256, 50256, 50256, 50256, 50256, 50256, 50256, 50256, 50256, 50256, 50256, 50256, 50256, 50256, 50256, 50256, 50256, 50256, 50256, 50256, 50256, 50256], 'attention_mask': [1, 1, 1, 1, 1, 1, 1, 1, 1, 1, 1, 1, 1, 1, 1, 1, 1, 1, 1, 1, 1, 1, 1, 1, 1, 1, 1, 1, 1, 1, 1, 1, 1, 1, 0, 0, 0, 0, 0, 0, 0, 0, 0, 0, 0, 0, 0, 0, 0, 0, 0, 0, 0, 0, 0, 0, 0, 0, 0, 0, 0, 0, 0, 0, 0, 0, 0, 0, 0, 0, 0, 0, 0, 0, 0, 0, 0, 0, 0, 0, 0, 0, 0, 0, 0, 0, 0, 0, 0, 0, 0, 0, 0, 0, 0, 0, 0, 0, 0, 0, 0, 0, 0, 0, 0, 0, 0, 0, 0, 0, 0, 0, 0, 0, 0, 0, 0, 0, 0, 0, 0, 0, 0, 0, 0, 0, 0, 0], 'labels': [11793, 7919, 25, 1312, 836, 256, 1254, 26281, 763, 89, 262, 736, 39029, 527, 550, 645, 9384, 329, 511, 25984, 475, 1312, 285, 655, 24562, 379, 617, 661, 264, 2694, 284, 466, 884, 1243, 50256, 50256, 50256, 50256, 50256, 50256, 50256, 50256, 50256, 50256, 50256, 50256, 50256, 50256, 50256, 50256, 50256, 50256, 50256, 50256, 50256, 50256, 50256, 50256, 50256, 50256, 50256, 50256, 50256, 50256, 50256, 50256, 50256, 50256, 50256, 50256, 50256, 50256, 50256, 50256, 50256, 50256, 50256, 50256, 50256, 50256, 50256, 50256, 50256, 50256, 50256, 50256, 50256, 50256, 50256, 50256, 50256, 50256, 50256, 50256, 50256, 50256, 50256, 50256, 50256, 50256, 50256, 50256, 50256, 50256, 50256, 50256, 50256, 50256, 50256, 50256, 50256, 50256, 50256, 50256, 50256, 50256, 50256, 50256, 50256, 50256, 50256, 50256, 50256, 50256, 50256, 50256, 50256, 50256]}\n"
          ]
        }
      ]
    },
    {
      "cell_type": "code",
      "metadata": {
        "id": "a15bdbf2"
      },
      "source": [
        "!pip install accelerate>=0.26.0"
      ],
      "execution_count": null,
      "outputs": []
    },
    {
      "cell_type": "code",
      "metadata": {
        "colab": {
          "base_uri": "https://localhost:8080/"
        },
        "id": "0d093b58",
        "outputId": "53f6b464-7b33-47f6-c3f3-6793c567448c"
      },
      "source": [
        "from transformers import TrainingArguments\n",
        "\n",
        "# Define training arguments for generative model fine-tuning\n",
        "training_args = TrainingArguments(\n",
        "    output_dir=\"./generation_results\",  # Output directory for generation fine-tuning\n",
        "    num_train_epochs=3,  # Total number of training epochs\n",
        "    per_device_train_batch_size=8,  # Batch size per device during training\n",
        "    per_device_eval_batch_size=8,  # Batch size for evaluation\n",
        "    weight_decay=0.01,  # Strength of weight decay\n",
        "    logging_dir=\"./generation_logs\",  # Directory for storing logs\n",
        "    logging_steps=10,\n",
        "    report_to=\"none\", # Do not report to any online service\n",
        "    fp16=True, # Enable mixed precision training\n",
        "    eval_strategy=\"epoch\", # Evaluate at the end of each epoch for hyperparameter search\n",
        "    # Removed no_cuda=True to enable GPU usage\n",
        ")\n",
        "\n",
        "print(\"Training arguments for generation defined successfully.\")"
      ],
      "execution_count": null,
      "outputs": [
        {
          "output_type": "stream",
          "name": "stdout",
          "text": [
            "Training arguments for generation defined successfully.\n"
          ]
        }
      ]
    },
    {
      "cell_type": "markdown",
      "metadata": {
        "id": "828ae8cf"
      },
      "source": [
        "## Define Model Initialization for Hyperparameter Search\n",
        "\n",
        "### Subtask:\n",
        "Create a function that initializes a new `GPT2LMHeadModel` for each trial of the hyperparameter search."
      ]
    },
    {
      "cell_type": "code",
      "metadata": {
        "id": "1b9112fb"
      },
      "source": [
        "from transformers import GPT2LMHeadModel\n",
        "\n",
        "def model_init():\n",
        "    # Load a pre-trained GPT-2 model for text generation\n",
        "    # This function will be called by the Trainer for each trial\n",
        "    return GPT2LMHeadModel.from_pretrained('gpt2')"
      ],
      "execution_count": null,
      "outputs": []
    },
    {
      "cell_type": "markdown",
      "metadata": {
        "id": "fc3e6dd5"
      },
      "source": [
        "## Define Objective Function for Hyperparameter Search\n",
        "\n",
        "### Subtask:\n",
        "Create a function that sets up the Trainer, trains the model with given hyperparameters, evaluates at each epoch, and returns the metric to be optimized."
      ]
    },
    {
      "cell_type": "code",
      "metadata": {
        "id": "6dbff5d0"
      },
      "source": [
        "from transformers import Trainer\n",
        "import numpy as np\n",
        "\n",
        "def objective(trial):\n",
        "    # Define hyperparameters to search\n",
        "    learning_rate = trial.suggest_float(\"learning_rate\", 1e-5, 5e-5, log=True)\n",
        "    # Removed per_device_train_batch_size from hyperparameter search\n",
        "    num_train_epochs = trial.suggest_int(\"num_train_epochs\", 1, 3) # Adjust max epochs if needed\n",
        "\n",
        "    # Update training arguments with suggested hyperparameters\n",
        "    training_args.learning_rate = learning_rate\n",
        "    # Use the batch size from training_args, not suggested by Optuna\n",
        "    # training_args.per_device_train_batch_size = per_device_train_batch_size\n",
        "    training_args.num_train_epochs = num_train_epochs\n",
        "\n",
        "    # Initialize Trainer\n",
        "    # The model_init function is used here to create a new model for each trial\n",
        "    trainer = Trainer(\n",
        "        model_init=model_init, # Use the model_init function\n",
        "        args=training_args,\n",
        "        train_dataset=tokenized_train_dataset_gen, # Use the tokenized generation data\n",
        "        eval_dataset=tokenized_test_dataset_gen,   # Use the tokenized generation data\n",
        "        # For language modeling, compute_metrics is often not needed as loss is the primary metric\n",
        "        # compute_metrics=compute_metrics, # Remove or adapt for generation task\n",
        "    )\n",
        "\n",
        "    # Set the padding token ID for the model config\n",
        "    # This is important for generative models when using padding\n",
        "    if trainer.model.config.pad_token_id is None:\n",
        "         trainer.model.config.pad_token_id = generation_tokenizer.pad_token_id\n",
        "\n",
        "\n",
        "    # Train the model\n",
        "    trainer.train()\n",
        "\n",
        "    # Evaluate the model and return the metric to optimize\n",
        "    # For language modeling, evaluation loss is a common metric to minimize\n",
        "    eval_results = trainer.evaluate()\n",
        "    # We want to minimize the evaluation loss\n",
        "    return -eval_results[\"eval_loss\"] # Return negative loss to maximize in Optuna"
      ],
      "execution_count": null,
      "outputs": []
    },
    {
      "cell_type": "code",
      "metadata": {
        "colab": {
          "base_uri": "https://localhost:8080/"
        },
        "id": "f295be63",
        "outputId": "4858dc63-ae7d-4b0f-a08d-4a1f8c3d280f"
      },
      "source": [
        "!pip install optuna"
      ],
      "execution_count": null,
      "outputs": [
        {
          "output_type": "stream",
          "name": "stdout",
          "text": [
            "Requirement already satisfied: optuna in c:\\programdata\\miniconda3\\envs\\dairemotion\\lib\\site-packages (4.5.0)\n",
            "Requirement already satisfied: alembic>=1.5.0 in c:\\programdata\\miniconda3\\envs\\dairemotion\\lib\\site-packages (from optuna) (1.16.5)\n",
            "Requirement already satisfied: colorlog in c:\\programdata\\miniconda3\\envs\\dairemotion\\lib\\site-packages (from optuna) (6.9.0)\n",
            "Requirement already satisfied: numpy in c:\\programdata\\miniconda3\\envs\\dairemotion\\lib\\site-packages (from optuna) (2.0.1)\n",
            "Requirement already satisfied: packaging>=20.0 in c:\\programdata\\miniconda3\\envs\\dairemotion\\lib\\site-packages (from optuna) (25.0)\n",
            "Requirement already satisfied: sqlalchemy>=1.4.2 in c:\\programdata\\miniconda3\\envs\\dairemotion\\lib\\site-packages (from optuna) (2.0.43)\n",
            "Requirement already satisfied: tqdm in c:\\programdata\\miniconda3\\envs\\dairemotion\\lib\\site-packages (from optuna) (4.67.1)\n",
            "Requirement already satisfied: PyYAML in c:\\programdata\\miniconda3\\envs\\dairemotion\\lib\\site-packages (from optuna) (6.0.2)\n",
            "Requirement already satisfied: Mako in c:\\programdata\\miniconda3\\envs\\dairemotion\\lib\\site-packages (from alembic>=1.5.0->optuna) (1.3.10)\n",
            "Requirement already satisfied: typing-extensions>=4.12 in c:\\programdata\\miniconda3\\envs\\dairemotion\\lib\\site-packages (from alembic>=1.5.0->optuna) (4.15.0)\n",
            "Requirement already satisfied: tomli in c:\\programdata\\miniconda3\\envs\\dairemotion\\lib\\site-packages (from alembic>=1.5.0->optuna) (2.2.1)\n",
            "Requirement already satisfied: greenlet>=1 in c:\\programdata\\miniconda3\\envs\\dairemotion\\lib\\site-packages (from sqlalchemy>=1.4.2->optuna) (3.2.4)\n",
            "Requirement already satisfied: colorama in c:\\programdata\\miniconda3\\envs\\dairemotion\\lib\\site-packages (from colorlog->optuna) (0.4.6)\n",
            "Requirement already satisfied: MarkupSafe>=0.9.2 in c:\\programdata\\miniconda3\\envs\\dairemotion\\lib\\site-packages (from Mako->alembic>=1.5.0->optuna) (3.0.2)\n"
          ]
        }
      ]
    },
    {
      "cell_type": "code",
      "metadata": {
        "colab": {
          "base_uri": "https://localhost:8080/",
          "height": 647
        },
        "id": "0fa90a65",
        "outputId": "40332ead-c43f-4dcb-b02f-9486f5f9612f",
        "collapsed": true
      },
      "source": [
        "import optuna\n",
        "# Create an Optuna study\n",
        "# We are minimizing the evaluation loss, so we set direction=\"minimize\" or return negative loss and maximize\n",
        "study = optuna.create_study(direction=\"maximize\", pruner=optuna.pruners.MedianPruner()) # Using MedianPruner for efficiency\n",
        "\n",
        "# Run the hyperparameter search\n",
        "study.optimize(objective, n_trials=3) # You can adjust the number of trials\n",
        "\n",
        "# Print the best trial\n",
        "print(\"Best trial:\")\n",
        "print(study.best_trial)\n",
        "\n",
        "# Print the best hyperparameters\n",
        "print(\"Best hyperparameters:\")\n",
        "print(study.best_params)"
      ],
      "execution_count": null,
      "outputs": [
        {
          "output_type": "stream",
          "name": "stderr",
          "text": [
            "[I 2025-09-24 15:28:26,273] A new study created in memory with name: no-name-7da82698-6aa4-4e57-ae64-60bf89d5684f\n",
            "`loss_type=None` was set in the config but it is unrecognized. Using the default loss: `ForCausalLMLoss`.\n"
          ]
        },
        {
          "output_type": "display_data",
          "data": {
            "text/plain": [
              "<IPython.core.display.HTML object>"
            ],
            "text/html": [
              "\n",
              "    <div>\n",
              "      \n",
              "      <progress value='2235' max='2235' style='width:300px; height:20px; vertical-align: middle;'></progress>\n",
              "      [2235/2235 06:52, Epoch 3/3]\n",
              "    </div>\n",
              "    <table border=\"1\" class=\"dataframe\">\n",
              "  <thead>\n",
              " <tr style=\"text-align: left;\">\n",
              "      <th>Epoch</th>\n",
              "      <th>Training Loss</th>\n",
              "      <th>Validation Loss</th>\n",
              "    </tr>\n",
              "  </thead>\n",
              "  <tbody>\n",
              "    <tr>\n",
              "      <td>1</td>\n",
              "      <td>0.688100</td>\n",
              "      <td>0.624078</td>\n",
              "    </tr>\n",
              "    <tr>\n",
              "      <td>2</td>\n",
              "      <td>0.605900</td>\n",
              "      <td>0.618948</td>\n",
              "    </tr>\n",
              "    <tr>\n",
              "      <td>3</td>\n",
              "      <td>0.629400</td>\n",
              "      <td>0.618888</td>\n",
              "    </tr>\n",
              "  </tbody>\n",
              "</table><p>"
            ]
          },
          "metadata": {}
        },
        {
          "output_type": "display_data",
          "data": {
            "text/plain": [
              "<IPython.core.display.HTML object>"
            ],
            "text/html": [
              "\n",
              "    <div>\n",
              "      \n",
              "      <progress value='187' max='187' style='width:300px; height:20px; vertical-align: middle;'></progress>\n",
              "      [187/187 00:07]\n",
              "    </div>\n",
              "    "
            ]
          },
          "metadata": {}
        },
        {
          "output_type": "stream",
          "name": "stderr",
          "text": [
            "[I 2025-09-24 15:35:31,381] Trial 0 finished with value: -0.6188881993293762 and parameters: {'learning_rate': 1.7092979268689306e-05, 'num_train_epochs': 3}. Best is trial 0 with value: -0.6188881993293762.\n"
          ]
        },
        {
          "output_type": "display_data",
          "data": {
            "text/plain": [
              "<IPython.core.display.HTML object>"
            ],
            "text/html": [
              "\n",
              "    <div>\n",
              "      \n",
              "      <progress value='2235' max='2235' style='width:300px; height:20px; vertical-align: middle;'></progress>\n",
              "      [2235/2235 06:57, Epoch 3/3]\n",
              "    </div>\n",
              "    <table border=\"1\" class=\"dataframe\">\n",
              "  <thead>\n",
              " <tr style=\"text-align: left;\">\n",
              "      <th>Epoch</th>\n",
              "      <th>Training Loss</th>\n",
              "      <th>Validation Loss</th>\n",
              "    </tr>\n",
              "  </thead>\n",
              "  <tbody>\n",
              "    <tr>\n",
              "      <td>1</td>\n",
              "      <td>0.684400</td>\n",
              "      <td>0.621515</td>\n",
              "    </tr>\n",
              "    <tr>\n",
              "      <td>2</td>\n",
              "      <td>0.594900</td>\n",
              "      <td>0.620192</td>\n",
              "    </tr>\n",
              "    <tr>\n",
              "      <td>3</td>\n",
              "      <td>0.608800</td>\n",
              "      <td>0.621603</td>\n",
              "    </tr>\n",
              "  </tbody>\n",
              "</table><p>"
            ]
          },
          "metadata": {}
        },
        {
          "output_type": "display_data",
          "data": {
            "text/plain": [
              "<IPython.core.display.HTML object>"
            ],
            "text/html": [
              "\n",
              "    <div>\n",
              "      \n",
              "      <progress value='187' max='187' style='width:300px; height:20px; vertical-align: middle;'></progress>\n",
              "      [187/187 00:07]\n",
              "    </div>\n",
              "    "
            ]
          },
          "metadata": {}
        },
        {
          "output_type": "stream",
          "name": "stderr",
          "text": [
            "[I 2025-09-24 15:42:40,465] Trial 1 finished with value: -0.6216028332710266 and parameters: {'learning_rate': 2.847268482210051e-05, 'num_train_epochs': 3}. Best is trial 0 with value: -0.6188881993293762.\n"
          ]
        },
        {
          "output_type": "display_data",
          "data": {
            "text/plain": [
              "<IPython.core.display.HTML object>"
            ],
            "text/html": [
              "\n",
              "    <div>\n",
              "      \n",
              "      <progress value='745' max='745' style='width:300px; height:20px; vertical-align: middle;'></progress>\n",
              "      [745/745 02:22, Epoch 1/1]\n",
              "    </div>\n",
              "    <table border=\"1\" class=\"dataframe\">\n",
              "  <thead>\n",
              " <tr style=\"text-align: left;\">\n",
              "      <th>Epoch</th>\n",
              "      <th>Training Loss</th>\n",
              "      <th>Validation Loss</th>\n",
              "    </tr>\n",
              "  </thead>\n",
              "  <tbody>\n",
              "    <tr>\n",
              "      <td>1</td>\n",
              "      <td>0.687800</td>\n",
              "      <td>0.623227</td>\n",
              "    </tr>\n",
              "  </tbody>\n",
              "</table><p>"
            ]
          },
          "metadata": {}
        },
        {
          "output_type": "display_data",
          "data": {
            "text/plain": [
              "<IPython.core.display.HTML object>"
            ],
            "text/html": [
              "\n",
              "    <div>\n",
              "      \n",
              "      <progress value='187' max='187' style='width:300px; height:20px; vertical-align: middle;'></progress>\n",
              "      [187/187 00:07]\n",
              "    </div>\n",
              "    "
            ]
          },
          "metadata": {}
        },
        {
          "output_type": "stream",
          "name": "stderr",
          "text": [
            "[I 2025-09-24 15:45:14,764] Trial 2 finished with value: -0.6232267618179321 and parameters: {'learning_rate': 2.8659846607466346e-05, 'num_train_epochs': 1}. Best is trial 0 with value: -0.6188881993293762.\n"
          ]
        },
        {
          "output_type": "stream",
          "name": "stdout",
          "text": [
            "Best trial:\n",
            "FrozenTrial(number=0, state=TrialState.COMPLETE, values=[-0.6188881993293762], datetime_start=datetime.datetime(2025, 9, 24, 15, 28, 26, 274249), datetime_complete=datetime.datetime(2025, 9, 24, 15, 35, 31, 381874), params={'learning_rate': 1.7092979268689306e-05, 'num_train_epochs': 3}, user_attrs={}, system_attrs={}, intermediate_values={}, distributions={'learning_rate': FloatDistribution(high=5e-05, log=True, low=1e-05, step=None), 'num_train_epochs': IntDistribution(high=3, log=False, low=1, step=1)}, trial_id=0, value=None)\n",
            "Best hyperparameters:\n",
            "{'learning_rate': 1.7092979268689306e-05, 'num_train_epochs': 3}\n"
          ]
        }
      ]
    },
    {
      "cell_type": "markdown",
      "metadata": {
        "id": "ca50164c"
      },
      "source": [
        "## Train Model with Best Hyperparameters and Save\n",
        "\n",
        "### Subtask:\n",
        "Initialize and train the model with the best hyperparameters found by Optuna and save the trained model and tokenizer to the specified path."
      ]
    },
    {
      "cell_type": "code",
      "metadata": {
        "colab": {
          "base_uri": "https://localhost:8080/",
          "height": 187
        },
        "id": "55ea5935",
        "outputId": "36438c29-f312-453a-923b-5887a39d386d"
      },
      "source": [
        "# Get the best hyperparameters\n",
        "best_hyperparameters = study.best_params\n",
        "\n",
        "# Update training arguments with the best hyperparameters\n",
        "training_args.learning_rate = best_hyperparameters[\"learning_rate\"]\n",
        "# Note: batch size is not searched by Optuna in the current objective function\n",
        "# training_args.per_device_train_batch_size = best_hyperparameters[\"per_device_train_batch_size\"]\n",
        "training_args.num_train_epochs = best_hyperparameters[\"num_train_epochs\"]\n",
        "\n",
        "# Initialize a new model with the best hyperparameters\n",
        "# We use model_init to get a fresh model instance\n",
        "model = model_init()\n",
        "\n",
        "# Set the padding token ID for the model config\n",
        "if model.config.pad_token_id is None:\n",
        "     model.config.pad_token_id = generation_tokenizer.pad_token_id\n",
        "\n",
        "\n",
        "# Initialize Trainer with best hyperparameters\n",
        "trainer = Trainer(\n",
        "    model=model,\n",
        "    args=training_args,\n",
        "    train_dataset=tokenized_train_dataset_gen,\n",
        "    eval_dataset=tokenized_test_dataset_gen,\n",
        "    # compute_metrics=compute_metrics, # Not needed for language modeling loss optimization\n",
        ")\n",
        "\n",
        "# Train the model\n",
        "trainer.train()\n",
        "\n",
        "# Define the path to save the model and tokenizer\n",
        "save_path = \"C:/Users/adria/OneDrive/Desktop/CODING/jupyter/models/dairemotion/gpt2\"\n",
        "\n",
        "# Save the trained model\n",
        "trainer.save_model(save_path)\n",
        "\n",
        "# Save the tokenizer\n",
        "generation_tokenizer.save_pretrained(save_path)\n",
        "\n",
        "\n",
        "print(f\"Best model and tokenizer saved to {save_path}\")"
      ],
      "execution_count": null,
      "outputs": [
        {
          "output_type": "display_data",
          "data": {
            "text/plain": [
              "<IPython.core.display.HTML object>"
            ],
            "text/html": [
              "\n",
              "    <div>\n",
              "      \n",
              "      <progress value='2235' max='2235' style='width:300px; height:20px; vertical-align: middle;'></progress>\n",
              "      [2235/2235 07:07, Epoch 3/3]\n",
              "    </div>\n",
              "    <table border=\"1\" class=\"dataframe\">\n",
              "  <thead>\n",
              " <tr style=\"text-align: left;\">\n",
              "      <th>Epoch</th>\n",
              "      <th>Training Loss</th>\n",
              "      <th>Validation Loss</th>\n",
              "    </tr>\n",
              "  </thead>\n",
              "  <tbody>\n",
              "    <tr>\n",
              "      <td>1</td>\n",
              "      <td>0.688100</td>\n",
              "      <td>0.624078</td>\n",
              "    </tr>\n",
              "    <tr>\n",
              "      <td>2</td>\n",
              "      <td>0.605900</td>\n",
              "      <td>0.618948</td>\n",
              "    </tr>\n",
              "    <tr>\n",
              "      <td>3</td>\n",
              "      <td>0.629400</td>\n",
              "      <td>0.618888</td>\n",
              "    </tr>\n",
              "  </tbody>\n",
              "</table><p>"
            ]
          },
          "metadata": {}
        },
        {
          "output_type": "stream",
          "name": "stdout",
          "text": [
            "Best model and tokenizer saved to C:/Users/adria/OneDrive/Desktop/CODING/jupyter/models/dairemotion/gpt2\n"
          ]
        }
      ]
    },
    {
      "cell_type": "markdown",
      "source": [
        "# Data Augmentation"
      ],
      "metadata": {
        "id": "w3p6RJNmP0D7"
      }
    },
    {
      "cell_type": "code",
      "metadata": {
        "colab": {
          "base_uri": "https://localhost:8080/"
        },
        "id": "2a1a8ded",
        "outputId": "b4636d3f-453b-4fc3-efc3-9de054ed4ddf"
      },
      "source": [
        "from transformers import GPT2LMHeadModel, GPT2Tokenizer\n",
        "\n",
        "# Define the path to load the model and tokenizer\n",
        "load_path = \"C:/Users/adria/OneDrive/Desktop/CODING/jupyter/models/dairemotion/gpt2\"\n",
        "\n",
        "# Load the fine-tuned model\n",
        "loaded_model = GPT2LMHeadModel.from_pretrained(load_path)\n",
        "\n",
        "# Load the tokenizer\n",
        "loaded_tokenizer = GPT2Tokenizer.from_pretrained(load_path)\n",
        "\n",
        "print(f\"Model and tokenizer loaded successfully from {load_path}\")"
      ],
      "execution_count": null,
      "outputs": [
        {
          "output_type": "stream",
          "name": "stdout",
          "text": [
            "Model and tokenizer loaded successfully from C:/Users/adria/OneDrive/Desktop/CODING/jupyter/models/dairemotion/gpt2\n"
          ]
        }
      ]
    },
    {
      "cell_type": "markdown",
      "metadata": {
        "id": "76740edc"
      },
      "source": [
        "## Load and merge dataset\n",
        "\n",
        "### Subtask:\n",
        "Load the 'dair-ai/emotion' dataset and merge the train, validation, and test splits into a single DataFrame.\n"
      ]
    },
    {
      "cell_type": "markdown",
      "metadata": {
        "id": "514aa8c4"
      },
      "source": [
        "**Reasoning**:\n",
        "Load the 'dair-ai/emotion' dataset, convert the splits to DataFrames, and merge them into a single DataFrame as instructed.\n",
        "\n"
      ]
    },
    {
      "cell_type": "code",
      "metadata": {
        "colab": {
          "base_uri": "https://localhost:8080/",
          "height": 223
        },
        "id": "a8cd12ff",
        "outputId": "7d21cf36-29d7-417e-f192-0c3533e616f2"
      },
      "source": [
        "from datasets import load_dataset\n",
        "import pandas as pd\n",
        "\n",
        "# Load the DAIR-Emo dataset\n",
        "dataset = load_dataset('dair-ai/emotion')\n",
        "\n",
        "# Concatenate the train, validation, and test splits\n",
        "merged_df = pd.concat([dataset['train'].to_pandas(),\n",
        "                       dataset['validation'].to_pandas(),\n",
        "                       dataset['test'].to_pandas()])\n",
        "\n",
        "print(\"Merged DataFrame shape:\", merged_df.shape)\n",
        "display(merged_df.head())"
      ],
      "execution_count": null,
      "outputs": [
        {
          "output_type": "stream",
          "name": "stdout",
          "text": [
            "Merged DataFrame shape: (20000, 2)\n"
          ]
        },
        {
          "output_type": "display_data",
          "data": {
            "text/plain": [
              "                                                text  label\n",
              "0                            i didnt feel humiliated      0\n",
              "1  i can go from feeling so hopeless to so damned...      0\n",
              "2   im grabbing a minute to post i feel greedy wrong      3\n",
              "3  i am ever feeling nostalgic about the fireplac...      2\n",
              "4                               i am feeling grouchy      3"
            ],
            "text/html": [
              "<div>\n",
              "<style scoped>\n",
              "    .dataframe tbody tr th:only-of-type {\n",
              "        vertical-align: middle;\n",
              "    }\n",
              "\n",
              "    .dataframe tbody tr th {\n",
              "        vertical-align: top;\n",
              "    }\n",
              "\n",
              "    .dataframe thead th {\n",
              "        text-align: right;\n",
              "    }\n",
              "</style>\n",
              "<table border=\"1\" class=\"dataframe\">\n",
              "  <thead>\n",
              "    <tr style=\"text-align: right;\">\n",
              "      <th></th>\n",
              "      <th>text</th>\n",
              "      <th>label</th>\n",
              "    </tr>\n",
              "  </thead>\n",
              "  <tbody>\n",
              "    <tr>\n",
              "      <th>0</th>\n",
              "      <td>i didnt feel humiliated</td>\n",
              "      <td>0</td>\n",
              "    </tr>\n",
              "    <tr>\n",
              "      <th>1</th>\n",
              "      <td>i can go from feeling so hopeless to so damned...</td>\n",
              "      <td>0</td>\n",
              "    </tr>\n",
              "    <tr>\n",
              "      <th>2</th>\n",
              "      <td>im grabbing a minute to post i feel greedy wrong</td>\n",
              "      <td>3</td>\n",
              "    </tr>\n",
              "    <tr>\n",
              "      <th>3</th>\n",
              "      <td>i am ever feeling nostalgic about the fireplac...</td>\n",
              "      <td>2</td>\n",
              "    </tr>\n",
              "    <tr>\n",
              "      <th>4</th>\n",
              "      <td>i am feeling grouchy</td>\n",
              "      <td>3</td>\n",
              "    </tr>\n",
              "  </tbody>\n",
              "</table>\n",
              "</div>"
            ]
          },
          "metadata": {}
        }
      ]
    },
    {
      "cell_type": "markdown",
      "metadata": {
        "id": "3198f9a2"
      },
      "source": [
        "## Analyze class distribution\n",
        "\n",
        "### Subtask:\n",
        "Check the distribution of emotion labels in the merged dataset and identify the majority class and its size.\n"
      ]
    },
    {
      "cell_type": "markdown",
      "metadata": {
        "id": "fc2be6c9"
      },
      "source": [
        "**Reasoning**:\n",
        "Calculate and print the value counts of the 'label' column in the merged DataFrame to identify the majority class and its size.\n",
        "\n"
      ]
    },
    {
      "cell_type": "code",
      "metadata": {
        "colab": {
          "base_uri": "https://localhost:8080/"
        },
        "id": "f7f5cb1d",
        "outputId": "f7570991-3ad8-491b-855f-6b7337c804d8"
      },
      "source": [
        "# Get the value counts of the 'label' column in the merged DataFrame\n",
        "label_counts = merged_df['label'].value_counts()\n",
        "\n",
        "print(\"Label distribution in the merged DataFrame:\")\n",
        "print(label_counts)\n",
        "\n",
        "# Identify the majority class and its size\n",
        "majority_class_label = label_counts.idxmax()\n",
        "majority_class_size = label_counts.max()\n",
        "\n",
        "print(f\"\\nThe majority class label is: {majority_class_label}\")\n",
        "print(f\"The size of the majority class is: {majority_class_size}\")"
      ],
      "execution_count": null,
      "outputs": [
        {
          "output_type": "stream",
          "name": "stdout",
          "text": [
            "Label distribution in the merged DataFrame:\n",
            "label\n",
            "1    6761\n",
            "0    5797\n",
            "3    2709\n",
            "4    2373\n",
            "2    1641\n",
            "5     719\n",
            "Name: count, dtype: int64\n",
            "\n",
            "The majority class label is: 1\n",
            "The size of the majority class is: 6761\n"
          ]
        }
      ]
    },
    {
      "cell_type": "markdown",
      "metadata": {
        "id": "b7a02529"
      },
      "source": [
        "## Identify minority classes for generation\n",
        "\n",
        "### Subtask:\n",
        "Confirm the target minority classes for generation are 2, 3, 4, and 5.\n"
      ]
    },
    {
      "cell_type": "markdown",
      "metadata": {
        "id": "b4f17fb2"
      },
      "source": [
        "**Reasoning**:\n",
        "Based on the previous analysis of the label distribution, I will print the label counts again to confirm the minority classes and their sizes relative to the majority class.\n",
        "\n"
      ]
    },
    {
      "cell_type": "code",
      "metadata": {
        "colab": {
          "base_uri": "https://localhost:8080/"
        },
        "id": "97a5f8d0",
        "outputId": "66e7b592-d4cb-40a6-d2ad-a557d0adc681"
      },
      "source": [
        "# Refer to the previously calculated label_counts\n",
        "print(\"Label distribution in the merged DataFrame:\")\n",
        "print(label_counts)\n",
        "\n",
        "# List the labels that represent the minority classes intended for text generation (2, 3, 4, and 5).\n",
        "minority_classes_for_generation = [2, 3, 4, 5]\n",
        "print(f\"\\nMinority classes targeted for text generation: {minority_classes_for_generation}\")\n",
        "\n",
        "# Briefly explain why these specific classes were chosen as minority classes based on their counts relative to the majority class (label 1).\n",
        "majority_class_size = label_counts.max()\n",
        "print(f\"\\nThe majority class (label 1) has a size of: {majority_class_size}\")\n",
        "print(\"\\nThe targeted minority classes (2, 3, 4, and 5) were chosen because their counts are significantly lower than the majority class (label 1).\")\n",
        "print(\"Augmenting these classes will help balance the dataset for downstream tasks.\")"
      ],
      "execution_count": null,
      "outputs": [
        {
          "output_type": "stream",
          "name": "stdout",
          "text": [
            "Label distribution in the merged DataFrame:\n",
            "label\n",
            "1    6761\n",
            "0    5797\n",
            "3    2709\n",
            "4    2373\n",
            "2    1641\n",
            "5     719\n",
            "Name: count, dtype: int64\n",
            "\n",
            "Minority classes targeted for text generation: [2, 3, 4, 5]\n",
            "\n",
            "The majority class (label 1) has a size of: 6761\n",
            "\n",
            "The targeted minority classes (2, 3, 4, and 5) were chosen because their counts are significantly lower than the majority class (label 1).\n",
            "Augmenting these classes will help balance the dataset for downstream tasks.\n"
          ]
        }
      ]
    },
    {
      "cell_type": "markdown",
      "metadata": {
        "id": "8bde3b2b"
      },
      "source": [
        "## Determine samples to generate per minority class\n",
        "\n",
        "### Subtask:\n",
        "Calculate how many samples need to be generated for each minority class (2, 3, 4, and 5) to match the majority class size.\n"
      ]
    },
    {
      "cell_type": "markdown",
      "metadata": {
        "id": "214c9d58"
      },
      "source": [
        "**Reasoning**:\n",
        "Calculate the number of samples to generate for each minority class to match the majority class size.\n",
        "\n"
      ]
    },
    {
      "cell_type": "code",
      "metadata": {
        "colab": {
          "base_uri": "https://localhost:8080/"
        },
        "id": "379461cc",
        "outputId": "d1dd92b0-5e7d-4655-f67c-0d146e0136d7"
      },
      "source": [
        "# Get the size of the majority class (label 1)\n",
        "majority_class_size = label_counts[1]\n",
        "\n",
        "# Create a dictionary to store the number of samples to generate for each minority class\n",
        "samples_to_generate = {}\n",
        "\n",
        "# Calculate the number of samples to generate for each minority class (2, 3, 4, and 5)\n",
        "minority_classes = [2, 3, 4, 5]\n",
        "for minority_class in minority_classes:\n",
        "    current_count = label_counts[minority_class]\n",
        "    num_to_generate = majority_class_size - current_count\n",
        "    samples_to_generate[minority_class] = num_to_generate\n",
        "\n",
        "# Print the number of samples to generate for each minority class\n",
        "print(\"Number of samples to generate for each minority class to match the majority class size:\")\n",
        "for label, count in samples_to_generate.items():\n",
        "    print(f\"Label {label}: {count} samples\")"
      ],
      "execution_count": null,
      "outputs": [
        {
          "output_type": "stream",
          "name": "stdout",
          "text": [
            "Number of samples to generate for each minority class to match the majority class size:\n",
            "Label 2: 5120 samples\n",
            "Label 3: 4052 samples\n",
            "Label 4: 4388 samples\n",
            "Label 5: 6042 samples\n"
          ]
        }
      ]
    },
    {
      "cell_type": "markdown",
      "metadata": {
        "id": "f45864ac"
      },
      "source": [
        "## Generate text for minority classes\n",
        "\n",
        "### Subtask:\n",
        "Use the loaded and fine-tuned GPT-2 model to generate the required number of text samples for each target minority emotion, conditioned on the emotion label.\n"
      ]
    },
    {
      "cell_type": "markdown",
      "metadata": {
        "id": "288acaef"
      },
      "source": [
        "**Reasoning**:\n",
        "Use the loaded fine-tuned GPT-2 model and tokenizer to generate text for each minority emotion label based on the calculated number of samples needed, and store the generated text and corresponding labels in a list.\n",
        "\n"
      ]
    },
    {
      "cell_type": "code",
      "source": [
        "pip install tqdm"
      ],
      "metadata": {
        "colab": {
          "base_uri": "https://localhost:8080/"
        },
        "id": "x1UocO36ZGJ9",
        "outputId": "4f905721-5bb2-4f51-9df4-0d9c05bcf84b"
      },
      "execution_count": null,
      "outputs": [
        {
          "output_type": "stream",
          "name": "stdout",
          "text": [
            "Requirement already satisfied: tqdm in c:\\programdata\\miniconda3\\envs\\dairemotion\\lib\\site-packages (4.67.1)\n",
            "Requirement already satisfied: colorama in c:\\programdata\\miniconda3\\envs\\dairemotion\\lib\\site-packages (from tqdm) (0.4.6)\n",
            "Note: you may need to restart the kernel to use updated packages.\n"
          ]
        }
      ]
    },
    {
      "cell_type": "code",
      "metadata": {
        "colab": {
          "base_uri": "https://localhost:8080/"
        },
        "id": "01b9d84e",
        "outputId": "9ccedc9f-fd8c-4341-c1b4-034611ec6117"
      },
      "source": [
        "import torch\n",
        "import pandas as pd\n",
        "# Removed tqdm import since we're using print statements for progress\n",
        "# from tqdm.auto import tqdm\n",
        "\n",
        "# Set the model to evaluation mode\n",
        "loaded_model.eval()\n",
        "\n",
        "# Define the mapping from numerical labels to emotion names\n",
        "label_to_emotion_gen = {\n",
        "    2: 'love',\n",
        "    3: 'anger',\n",
        "    4: 'fear',\n",
        "    5: 'surprise'\n",
        "}\n",
        "\n",
        "# Move model to GPU if available\n",
        "device = torch.device(\"cuda\" if torch.cuda.is_available() else \"cpu\")\n",
        "loaded_model.to(device)\n",
        "\n",
        "# Add a small test generation to verify (Keeping this as it was helpful)\n",
        "print(\"Performing a small test generation...\")\n",
        "test_samples_to_generate = 2 # Generate 2 samples per test emotion\n",
        "test_emotions = [3, 4] # Test with anger and fear\n",
        "\n",
        "test_generated_samples = []\n",
        "\n",
        "for label in test_emotions:\n",
        "    emotion_name = label_to_emotion_gen[label]\n",
        "    prompt_text = f\"{emotion_name}: \"\n",
        "\n",
        "    input_ids = loaded_tokenizer.encode(prompt_text, return_tensors='pt').to(device)\n",
        "\n",
        "    # Clear CUDA cache before test generation\n",
        "    if torch.cuda.is_available():\n",
        "        torch.cuda.empty_cache()\n",
        "\n",
        "    # Generate a small number of test samples\n",
        "    test_output_sequences = loaded_model.generate(\n",
        "        input_ids=input_ids,\n",
        "        max_length=128,\n",
        "        num_return_sequences=test_samples_to_generate,\n",
        "        no_repeat_ngram_size=2,\n",
        "        do_sample=True,\n",
        "        top_k=50,\n",
        "        top_p=0.95,\n",
        "        temperature=0.7,\n",
        "        pad_token_id=loaded_tokenizer.eos_token_id\n",
        "    )\n",
        "\n",
        "    for generated_sequence in test_output_sequences:\n",
        "        decoded_text = loaded_tokenizer.decode(generated_sequence, skip_special_tokens=True)\n",
        "        generated_text = decoded_text.replace(prompt_text, \"\", 1).strip()\n",
        "        if generated_text.endswith(loaded_tokenizer.eos_token):\n",
        "             generated_text = generated_text[:-len(loaded_tokenizer.eos_token)].strip()\n",
        "        test_generated_samples.append({'text': generated_text, 'label': label, 'emotion': emotion_name})\n",
        "\n",
        "print(\"\\nTest generation completed. Displaying test samples:\")\n",
        "for sample in test_generated_samples:\n",
        "    print(f\"[{sample['emotion']}] {sample['text']}\")\n",
        "\n",
        "print(\"\\nProceeding with full data augmentation...\")\n",
        "\n",
        "# --- Code to define merged_label_counts, target_sample_size, and samples_to_generate ---\n",
        "# This data should ideally come from previous executed cells, but re-calculating here\n",
        "# to ensure the cell runs independently after fixing the NameError.\n",
        "# In a standard sequential run, these would be available.\n",
        "\n",
        "# Get the value counts of the 'label' column in the merged DataFrame (assuming merged_df is available)\n",
        "# If merged_df is not available, you might need to load it here or run the previous cells.\n",
        "if 'merged_df' in locals() or 'merged_df' in globals():\n",
        "    merged_label_counts = merged_df['label'].value_counts()\n",
        "    print(\"\\nRecalculated merged_label_counts:\")\n",
        "    print(merged_label_counts)\n",
        "\n",
        "    # Identify the majority class and its size\n",
        "    majority_class_label = merged_label_counts.idxmax()\n",
        "    target_sample_size = merged_label_counts.max() # Target size is majority class size\n",
        "\n",
        "    print(f\"\\nMajority class label: {majority_class_label}, Target sample size: {target_sample_size}\")\n",
        "\n",
        "    # Create a dictionary to store the number of samples to generate for each minority class\n",
        "    samples_to_generate = {}\n",
        "\n",
        "    # Calculate the number of samples to generate for each minority class (2, 3, 4, and 5)\n",
        "    minority_classes_for_generation = [2, 3, 4, 5]\n",
        "    for minority_class in minority_classes_for_generation:\n",
        "        if minority_class in merged_label_counts:\n",
        "             current_count = merged_label_counts[minority_class]\n",
        "             num_to_generate = max(0, target_sample_size - current_count) # Ensure num_to_generate is not negative\n",
        "             samples_to_generate[minority_class] = num_to_generate\n",
        "        else:\n",
        "             # If a minority class is not in the original data, generate target_sample_size samples\n",
        "             samples_to_generate[minority_class] = target_sample_size\n",
        "             print(f\"Warning: Minority class {minority_class} not found in merged_label_counts. Generating {target_sample_size} samples.\")\n",
        "\n",
        "\n",
        "    print(\"\\nSamples to generate per minority class:\")\n",
        "    print(samples_to_generate)\n",
        "\n",
        "else:\n",
        "    print(\"\\nError: merged_df is not available. Please run the cells to load and merge the dataset first.\")\n",
        "    samples_to_generate = {} # Initialize as empty to prevent further errors\n",
        "\n",
        "# --- End of code to define variables ---\n",
        "\n",
        "\n",
        "generated_samples = []\n",
        "\n",
        "# Iterate through the minority classes\n",
        "# Removed outer tqdm\n",
        "for label in samples_to_generate.keys():\n",
        "    # Ensure we only proceed if there are samples to generate for this label\n",
        "    if samples_to_generate[label] > 0:\n",
        "        num_samples = samples_to_generate[label] # Assign the calculated value to num_samples\n",
        "\n",
        "        # Check if label_to_emotion_gen contains the current label\n",
        "        if label in label_to_emotion_gen:\n",
        "            emotion_name = label_to_emotion_gen[label]\n",
        "            prompt_text = f\"{emotion_name}: \"\n",
        "\n",
        "            print(f\"\\nStarting generation for emotion: {emotion_name} (label: {label}). Samples required to match majority class: {samples_to_generate[label]}. Total samples to generate: {num_samples}\")\n",
        "\n",
        "\n",
        "            # Encode the prompt and move to the same device as the model\n",
        "            input_ids = loaded_tokenizer.encode(prompt_text, return_tensors='pt').to(device)\n",
        "\n",
        "            # Generate text in batches\n",
        "            batch_size = 16 # Reduced batch size\n",
        "            generated_texts_for_label = []\n",
        "            total_batches = (num_samples + batch_size - 1) // batch_size # Calculate total batches\n",
        "\n",
        "            # Clear CUDA cache before generation for this label\n",
        "            if torch.cuda.is_available():\n",
        "                torch.cuda.empty_cache()\n",
        "\n",
        "            # Use print statements for progress instead of tqdm\n",
        "            for i in range(0, num_samples, batch_size):\n",
        "                current_batch_size = min(batch_size, num_samples - i)\n",
        "                if current_batch_size <= 0:\n",
        "                    break\n",
        "\n",
        "                batch_num = i // batch_size + 1\n",
        "                print(f\"  Generating batch {batch_num}/{total_batches} with size {current_batch_size}...\")\n",
        "\n",
        "\n",
        "                # Expand input_ids for the batch size\n",
        "                input_ids_batch = input_ids.repeat(current_batch_size, 1)\n",
        "                attention_mask_batch = torch.ones_like(input_ids_batch).to(device)\n",
        "\n",
        "\n",
        "                output_sequences = loaded_model.generate(\n",
        "                    input_ids=input_ids_batch,\n",
        "                    attention_mask=attention_mask_batch,\n",
        "                    max_length=128,  # Set a reasonable max length for generated text\n",
        "                    num_return_sequences=current_batch_size,\n",
        "                    no_repeat_ngram_size=2, # Reduce repetition\n",
        "                    do_sample=True,\n",
        "                    top_k=50, # Use top-k sampling\n",
        "                    top_p=0.95, # Use top-p sampling\n",
        "                    temperature=0.7, # Control randomness\n",
        "                    pad_token_id=loaded_tokenizer.eos_token_id # Set pad_token_id for generation\n",
        "                )\n",
        "\n",
        "                # Decode and store the generated samples for this batch\n",
        "                for generated_sequence in output_sequences:\n",
        "                    decoded_text = loaded_tokenizer.decode(generated_sequence, skip_special_tokens=True)\n",
        "                    # Remove the prompt from the generated text\n",
        "                    generated_text = decoded_text.replace(prompt_text, \"\", 1).strip()\n",
        "                    # Remove the trailing end-of-sequence token if present (it was used as pad_token_id)\n",
        "                    if generated_text.endswith(loaded_tokenizer.eos_token):\n",
        "                         generated_text = generated_text[:-len(loaded_tokenizer.eos_token)].strip()\n",
        "\n",
        "                    generated_texts_for_label.append({'text': generated_text, 'label': label})\n",
        "\n",
        "                # print(f\"  Finished batch {batch_num}.\") # Optional: print when batch is finished\n",
        "\n",
        "\n",
        "            generated_samples.extend(generated_texts_for_label)\n",
        "            print(f\"Finished generation for emotion: {emotion_name}. Generated {len(generated_texts_for_label)} samples.\")\n",
        "        else:\n",
        "            print(f\"\\nSkipping generation for label {label} as it is not in label_to_emotion_gen mapping.\")\n",
        "\n",
        "\n",
        "# Convert the list of generated samples to a DataFrame\n",
        "generated_df = pd.DataFrame(generated_samples)\n",
        "\n",
        "print(\"\\nGenerated samples DataFrame shape:\", generated_df.shape)\n",
        "display(generated_df.head())\n",
        "\n",
        "# Display the first generated sentence for each label to confirm\n",
        "print(\"\\nFirst generated sentence for each minority label:\")\n",
        "for label in label_to_emotion_gen.keys():\n",
        "    if label in generated_df['label'].unique():\n",
        "        emotion_name = label_to_emotion_gen[label]\n",
        "        # Filter for the current label and get the first text sample\n",
        "        first_sample = generated_df[generated_df['label'] == label]['text'].iloc[0]\n",
        "        print(f\"{emotion_name} ({label}): {first_sample}\")\n",
        "    else:\n",
        "        print(f\"No samples generated for label {label} ({label_to_emotion_gen[label]}) in generated_df.\")"
      ],
      "execution_count": null,
      "outputs": [
        {
          "output_type": "stream",
          "name": "stdout",
          "text": [
            "Performing a small test generation...\n",
            "\n",
            "Test generation completed. Displaying test samples:\n",
            "[anger] ive been feeling less and less sympathetic towards the current government\n",
            "[anger] ive been feeling a bit grumpy lately\n",
            "[fear] ive been feeling extremely stressed lately\n",
            "[fear] ive had the pleasure of feeling the tears of sadness as they pour down my face\n",
            "\n",
            "Proceeding with full data augmentation...\n",
            "\n",
            "Recalculated merged_label_counts:\n",
            "label\n",
            "1    6761\n",
            "0    5797\n",
            "3    2709\n",
            "4    2373\n",
            "2    1641\n",
            "5     719\n",
            "Name: count, dtype: int64\n",
            "\n",
            "Majority class label: 1, Target sample size: 6761\n",
            "\n",
            "Samples to generate per minority class:\n",
            "{2: np.int64(5120), 3: np.int64(4052), 4: np.int64(4388), 5: np.int64(6042)}\n",
            "\n",
            "Starting generation for emotion: love (label: 2). Samples required to match majority class: 5120. Total samples to generate: 5120\n",
            "  Generating batch 1/320 with size 16...\n",
            "  Generating batch 2/320 with size 16...\n",
            "  Generating batch 3/320 with size 16...\n",
            "  Generating batch 4/320 with size 16...\n",
            "  Generating batch 5/320 with size 16...\n",
            "  Generating batch 6/320 with size 16...\n"
          ]
        },
        {
          "output_type": "stream",
          "name": "stderr",
          "text": [
            "\n",
            "KeyboardInterrupt\n",
            "\n"
          ]
        }
      ]
    },
    {
      "cell_type": "code",
      "metadata": {
        "colab": {
          "base_uri": "https://localhost:8080/",
          "height": 278
        },
        "id": "6d5f2705",
        "outputId": "7631c200-5da8-46a9-cb34-b95063f2ba93"
      },
      "source": [
        "import pandas as pd\n",
        "import os\n",
        "\n",
        "# Combine the original merged_df and the generated_df\n",
        "augmented_df = pd.concat([merged_df, generated_df], ignore_index=True)\n",
        "\n",
        "print(\"Augmented DataFrame shape:\", augmented_df.shape)\n",
        "display(augmented_df.head())\n",
        "\n",
        "# Define the directory and file path to save the augmented dataset\n",
        "save_directory = \"C:/Users/adria/OneDrive/Desktop/CODING/jupyter/datasets/dairemotion\"\n",
        "save_file_path = os.path.join(save_directory, \"augmented_emotion_dataset.csv\")\n",
        "\n",
        "# Create the directory if it doesn't exist\n",
        "os.makedirs(save_directory, exist_ok=True)\n",
        "\n",
        "# Save the augmented DataFrame to a CSV file\n",
        "augmented_df.to_csv(save_file_path, index=False)\n",
        "\n",
        "print(f\"\\nAugmented dataset saved to {save_file_path}\")"
      ],
      "execution_count": null,
      "outputs": [
        {
          "output_type": "stream",
          "name": "stdout",
          "text": [
            "Augmented DataFrame shape: (333476, 2)\n"
          ]
        },
        {
          "output_type": "display_data",
          "data": {
            "text/plain": [
              "                                                text  label\n",
              "0                            i didnt feel humiliated      0\n",
              "1  i can go from feeling so hopeless to so damned...      0\n",
              "2   im grabbing a minute to post i feel greedy wrong      3\n",
              "3  i am ever feeling nostalgic about the fireplac...      2\n",
              "4                               i am feeling grouchy      3"
            ],
            "text/html": [
              "<div>\n",
              "<style scoped>\n",
              "    .dataframe tbody tr th:only-of-type {\n",
              "        vertical-align: middle;\n",
              "    }\n",
              "\n",
              "    .dataframe tbody tr th {\n",
              "        vertical-align: top;\n",
              "    }\n",
              "\n",
              "    .dataframe thead th {\n",
              "        text-align: right;\n",
              "    }\n",
              "</style>\n",
              "<table border=\"1\" class=\"dataframe\">\n",
              "  <thead>\n",
              "    <tr style=\"text-align: right;\">\n",
              "      <th></th>\n",
              "      <th>text</th>\n",
              "      <th>label</th>\n",
              "    </tr>\n",
              "  </thead>\n",
              "  <tbody>\n",
              "    <tr>\n",
              "      <th>0</th>\n",
              "      <td>i didnt feel humiliated</td>\n",
              "      <td>0</td>\n",
              "    </tr>\n",
              "    <tr>\n",
              "      <th>1</th>\n",
              "      <td>i can go from feeling so hopeless to so damned...</td>\n",
              "      <td>0</td>\n",
              "    </tr>\n",
              "    <tr>\n",
              "      <th>2</th>\n",
              "      <td>im grabbing a minute to post i feel greedy wrong</td>\n",
              "      <td>3</td>\n",
              "    </tr>\n",
              "    <tr>\n",
              "      <th>3</th>\n",
              "      <td>i am ever feeling nostalgic about the fireplac...</td>\n",
              "      <td>2</td>\n",
              "    </tr>\n",
              "    <tr>\n",
              "      <th>4</th>\n",
              "      <td>i am feeling grouchy</td>\n",
              "      <td>3</td>\n",
              "    </tr>\n",
              "  </tbody>\n",
              "</table>\n",
              "</div>"
            ]
          },
          "metadata": {}
        },
        {
          "output_type": "stream",
          "name": "stdout",
          "text": [
            "\n",
            "Augmented dataset saved to C:/Users/adria/OneDrive/Desktop/CODING/jupyter/datasets/dairemotion\\augmented_emotion_dataset.csv\n"
          ]
        }
      ]
    },
    {
      "cell_type": "code",
      "metadata": {
        "colab": {
          "base_uri": "https://localhost:8080/"
        },
        "id": "e63f8c9d",
        "outputId": "829b1e99-0b1f-4cd0-f55c-b920ad0eab6e"
      },
      "source": [
        "# Get the value counts of the 'label' column in the augmented DataFrame\n",
        "augmented_label_counts = augmented_df['label'].value_counts()\n",
        "\n",
        "print(\"Label distribution in the augmented DataFrame:\")\n",
        "print(augmented_label_counts)"
      ],
      "execution_count": null,
      "outputs": [
        {
          "output_type": "stream",
          "name": "stdout",
          "text": [
            "Label distribution in the augmented DataFrame:\n",
            "label\n",
            "5    97331\n",
            "2    83561\n",
            "4    72533\n",
            "3    67493\n",
            "1     6761\n",
            "0     5797\n",
            "Name: count, dtype: int64\n"
          ]
        }
      ]
    },
    {
      "cell_type": "markdown",
      "source": [
        "# Roberta"
      ],
      "metadata": {
        "id": "jl-6J98xxIPL"
      }
    },
    {
      "cell_type": "markdown",
      "metadata": {
        "id": "cc4a374f"
      },
      "source": [
        "## Load the augmented dataset\n",
        "\n",
        "### Subtask:\n",
        "Load the dataset from the specified path \"C:/Users/adria/OneDrive/Desktop/CODING/jupyter/datasets/dairemotion/augmented_emotion_dataset.csv\" into a pandas DataFrame.\n"
      ]
    },
    {
      "cell_type": "markdown",
      "metadata": {
        "id": "876992b3"
      },
      "source": [
        "**Reasoning**:\n",
        "Load the augmented dataset from the specified path into a pandas DataFrame and display its head and shape.\n",
        "\n"
      ]
    },
    {
      "cell_type": "code",
      "metadata": {
        "colab": {
          "base_uri": "https://localhost:8080/",
          "height": 223
        },
        "id": "1ab8827c",
        "outputId": "41789f2e-6b3d-478b-f49d-0388c3ca168c"
      },
      "source": [
        "import pandas as pd\n",
        "\n",
        "# Define the file path to the augmented dataset\n",
        "file_path = \"C:/Users/adria/OneDrive/Desktop/CODING/jupyter/datasets/dairemotion/augmented_emotion_dataset.csv\"\n",
        "\n",
        "# Read the CSV file into a pandas DataFrame\n",
        "augmented_df = pd.read_csv(file_path)\n",
        "\n",
        "# Display the first few rows of the loaded DataFrame and its shape\n",
        "print(\"Loaded Augmented DataFrame shape:\", augmented_df.shape)\n",
        "display(augmented_df.head())"
      ],
      "execution_count": null,
      "outputs": [
        {
          "output_type": "stream",
          "name": "stdout",
          "text": [
            "Loaded Augmented DataFrame shape: (333476, 2)\n"
          ]
        },
        {
          "output_type": "display_data",
          "data": {
            "text/plain": [
              "                                                text  label\n",
              "0                            i didnt feel humiliated      0\n",
              "1  i can go from feeling so hopeless to so damned...      0\n",
              "2   im grabbing a minute to post i feel greedy wrong      3\n",
              "3  i am ever feeling nostalgic about the fireplac...      2\n",
              "4                               i am feeling grouchy      3"
            ],
            "text/html": [
              "<div>\n",
              "<style scoped>\n",
              "    .dataframe tbody tr th:only-of-type {\n",
              "        vertical-align: middle;\n",
              "    }\n",
              "\n",
              "    .dataframe tbody tr th {\n",
              "        vertical-align: top;\n",
              "    }\n",
              "\n",
              "    .dataframe thead th {\n",
              "        text-align: right;\n",
              "    }\n",
              "</style>\n",
              "<table border=\"1\" class=\"dataframe\">\n",
              "  <thead>\n",
              "    <tr style=\"text-align: right;\">\n",
              "      <th></th>\n",
              "      <th>text</th>\n",
              "      <th>label</th>\n",
              "    </tr>\n",
              "  </thead>\n",
              "  <tbody>\n",
              "    <tr>\n",
              "      <th>0</th>\n",
              "      <td>i didnt feel humiliated</td>\n",
              "      <td>0</td>\n",
              "    </tr>\n",
              "    <tr>\n",
              "      <th>1</th>\n",
              "      <td>i can go from feeling so hopeless to so damned...</td>\n",
              "      <td>0</td>\n",
              "    </tr>\n",
              "    <tr>\n",
              "      <th>2</th>\n",
              "      <td>im grabbing a minute to post i feel greedy wrong</td>\n",
              "      <td>3</td>\n",
              "    </tr>\n",
              "    <tr>\n",
              "      <th>3</th>\n",
              "      <td>i am ever feeling nostalgic about the fireplac...</td>\n",
              "      <td>2</td>\n",
              "    </tr>\n",
              "    <tr>\n",
              "      <th>4</th>\n",
              "      <td>i am feeling grouchy</td>\n",
              "      <td>3</td>\n",
              "    </tr>\n",
              "  </tbody>\n",
              "</table>\n",
              "</div>"
            ]
          },
          "metadata": {}
        }
      ]
    },
    {
      "cell_type": "markdown",
      "metadata": {
        "id": "e1aa1d10"
      },
      "source": [
        "## Plot initial distribution\n",
        "\n",
        "### Subtask:\n",
        "Visualize the class distribution of the loaded augmented dataset using a bar chart.\n"
      ]
    },
    {
      "cell_type": "markdown",
      "metadata": {
        "id": "41164a11"
      },
      "source": [
        "**Reasoning**:\n",
        "Visualize the class distribution of the loaded augmented dataset using a bar chart.\n",
        "\n"
      ]
    },
    {
      "cell_type": "code",
      "metadata": {
        "colab": {
          "base_uri": "https://localhost:8080/",
          "height": 532
        },
        "id": "f1156127",
        "outputId": "7311ebfd-2779-4a0d-f224-9346d362c62c"
      },
      "source": [
        "import matplotlib.pyplot as plt\n",
        "import seaborn as sns\n",
        "\n",
        "# Calculate the value counts of the 'label' column\n",
        "augmented_label_counts = augmented_df['label'].value_counts()\n",
        "\n",
        "# Create a bar plot\n",
        "plt.figure(figsize=(10, 6))\n",
        "sns.barplot(x=augmented_label_counts.index, y=augmented_label_counts.values)\n",
        "plt.title('Initial Distribution of Emotion Labels in Augmented Dataset')\n",
        "plt.xlabel('Emotion Label')\n",
        "plt.ylabel('Number of Samples')\n",
        "plt.xticks(rotation=0)\n",
        "plt.show()"
      ],
      "execution_count": null,
      "outputs": [
        {
          "output_type": "display_data",
          "data": {
            "text/plain": [
              "<Figure size 1000x600 with 1 Axes>"
            ],
            "image/png": "[encoded data removed]"
          },
          "metadata": {}
        }
      ]
    },
    {
      "cell_type": "markdown",
      "metadata": {
        "id": "66b7de94"
      },
      "source": [
        "## Identify target sample size for downsampling\n",
        "\n",
        "### Subtask:\n",
        "Determine the size of the minority class to set as the target size for downsampling the majority classes.\n"
      ]
    },
    {
      "cell_type": "markdown",
      "metadata": {
        "id": "e7733b2d"
      },
      "source": [
        "**Reasoning**:\n",
        "Calculate the value counts of the 'label' column in the augmented DataFrame and find the size of the smallest class.\n",
        "\n"
      ]
    },
    {
      "cell_type": "code",
      "metadata": {
        "colab": {
          "base_uri": "https://localhost:8080/"
        },
        "id": "88f71964",
        "outputId": "9269bc5f-18b0-4c12-b17e-b267d69398e6"
      },
      "source": [
        "# Calculate the value counts of the 'label' column in the augmented DataFrame\n",
        "augmented_label_counts = augmented_df['label'].value_counts()\n",
        "\n",
        "print(\"Label distribution in the augmented DataFrame:\")\n",
        "print(augmented_label_counts)\n",
        "\n",
        "# Identify the size of the smallest class (minority class)\n",
        "minority_class_size = augmented_label_counts.min()\n",
        "\n",
        "print(f\"\\nThe size of the minority class (target for downsampling) is: {minority_class_size}\")"
      ],
      "execution_count": null,
      "outputs": [
        {
          "output_type": "stream",
          "name": "stdout",
          "text": [
            "Label distribution in the augmented DataFrame:\n",
            "label\n",
            "5    97331\n",
            "2    83561\n",
            "4    72533\n",
            "3    67493\n",
            "1     6761\n",
            "0     5797\n",
            "Name: count, dtype: int64\n",
            "\n",
            "The size of the minority class (target for downsampling) is: 5797\n"
          ]
        }
      ]
    },
    {
      "cell_type": "markdown",
      "metadata": {
        "id": "936cf1b7"
      },
      "source": [
        "**Reasoning**:\n",
        "Downsample each class in the augmented DataFrame to the size of the minority class and then plot the new distribution to verify the balancing.\n",
        "\n"
      ]
    },
    {
      "cell_type": "code",
      "metadata": {
        "colab": {
          "base_uri": "https://localhost:8080/",
          "height": 943
        },
        "id": "07f817ad",
        "outputId": "2761aa0c-4ef8-4299-a0b0-21b7db55ddf5"
      },
      "source": [
        "import matplotlib.pyplot as plt\n",
        "import seaborn as sns\n",
        "\n",
        "# Get the target sample size (size of the minority class)\n",
        "target_sample_size = augmented_label_counts.min()\n",
        "\n",
        "# Downsample each class to the target sample size\n",
        "balanced_df = augmented_df.groupby('label').apply(\n",
        "    lambda x: x.sample(target_sample_size, random_state=42)\n",
        ").reset_index(drop=True)\n",
        "\n",
        "# Add an 'emotion' column to the balanced_df for plotting with names\n",
        "label_to_emotion = {\n",
        "    0: 'sadness',\n",
        "    1: 'joy',\n",
        "    2: 'love',\n",
        "    3: 'anger',\n",
        "    4: 'fear',\n",
        "    5: 'surprise'\n",
        "}\n",
        "balanced_df['emotion'] = balanced_df['label'].map(label_to_emotion)\n",
        "\n",
        "\n",
        "# Display the shape of the balanced DataFrame\n",
        "print(\"Balanced DataFrame shape:\", balanced_df.shape)\n",
        "display(balanced_df.head())\n",
        "\n",
        "# Calculate and plot the label distribution in the balanced DataFrame\n",
        "balanced_label_counts = balanced_df['emotion'].value_counts() # Use 'emotion' column for counts\n",
        "\n",
        "print(\"\\nLabel distribution in the balanced DataFrame (with emotion names):\")\n",
        "print(balanced_label_counts)\n",
        "\n",
        "# Create a bar plot for the balanced distribution\n",
        "plt.figure(figsize=(10, 6))\n",
        "sns.barplot(x=balanced_label_counts.index, y=balanced_label_counts.values) # Use emotion names for x-axis\n",
        "plt.title('Distribution of Emotion Labels in Balanced Dataset ')\n",
        "plt.xlabel('Emotion Name') # Updated label\n",
        "plt.ylabel('Number of Samples')\n",
        "plt.xticks(rotation=45) # Rotate labels for better readability\n",
        "plt.tight_layout() # Adjust layout\n",
        "plt.show()"
      ],
      "execution_count": null,
      "outputs": [
        {
          "output_type": "stream",
          "name": "stdout",
          "text": [
            "Balanced DataFrame shape: (34782, 3)\n"
          ]
        },
        {
          "output_type": "stream",
          "name": "stderr",
          "text": [
            "C:\\Users\\adria\\AppData\\Local\\Temp\\ipykernel_50532\\3563005290.py:8: FutureWarning: DataFrameGroupBy.apply operated on the grouping columns. This behavior is deprecated, and in a future version of pandas the grouping columns will be excluded from the operation. Either pass `include_groups=False` to exclude the groupings or explicitly select the grouping columns after groupby to silence this warning.\n",
            "  balanced_df = augmented_df.groupby('label').apply(\n"
          ]
        },
        {
          "output_type": "display_data",
          "data": {
            "text/plain": [
              "                                                text  label  emotion\n",
              "0                         i feel somewhat victimized      0  sadness\n",
              "1  i feel devastated betrayed and abandoned i ask...      0  sadness\n",
              "2  i cant find it in my heart to feel the least b...      0  sadness\n",
              "3  i cannot deny that right now i am feeling disi...      0  sadness\n",
              "4  i feel pretty lame all together so i will stop...      0  sadness"
            ],
            "text/html": [
              "<div>\n",
              "<style scoped>\n",
              "    .dataframe tbody tr th:only-of-type {\n",
              "        vertical-align: middle;\n",
              "    }\n",
              "\n",
              "    .dataframe tbody tr th {\n",
              "        vertical-align: top;\n",
              "    }\n",
              "\n",
              "    .dataframe thead th {\n",
              "        text-align: right;\n",
              "    }\n",
              "</style>\n",
              "<table border=\"1\" class=\"dataframe\">\n",
              "  <thead>\n",
              "    <tr style=\"text-align: right;\">\n",
              "      <th></th>\n",
              "      <th>text</th>\n",
              "      <th>label</th>\n",
              "      <th>emotion</th>\n",
              "    </tr>\n",
              "  </thead>\n",
              "  <tbody>\n",
              "    <tr>\n",
              "      <th>0</th>\n",
              "      <td>i feel somewhat victimized</td>\n",
              "      <td>0</td>\n",
              "      <td>sadness</td>\n",
              "    </tr>\n",
              "    <tr>\n",
              "      <th>1</th>\n",
              "      <td>i feel devastated betrayed and abandoned i ask...</td>\n",
              "      <td>0</td>\n",
              "      <td>sadness</td>\n",
              "    </tr>\n",
              "    <tr>\n",
              "      <th>2</th>\n",
              "      <td>i cant find it in my heart to feel the least b...</td>\n",
              "      <td>0</td>\n",
              "      <td>sadness</td>\n",
              "    </tr>\n",
              "    <tr>\n",
              "      <th>3</th>\n",
              "      <td>i cannot deny that right now i am feeling disi...</td>\n",
              "      <td>0</td>\n",
              "      <td>sadness</td>\n",
              "    </tr>\n",
              "    <tr>\n",
              "      <th>4</th>\n",
              "      <td>i feel pretty lame all together so i will stop...</td>\n",
              "      <td>0</td>\n",
              "      <td>sadness</td>\n",
              "    </tr>\n",
              "  </tbody>\n",
              "</table>\n",
              "</div>"
            ]
          },
          "metadata": {}
        },
        {
          "output_type": "stream",
          "name": "stdout",
          "text": [
            "\n",
            "Label distribution in the balanced DataFrame (with emotion names):\n",
            "emotion\n",
            "sadness     5797\n",
            "joy         5797\n",
            "love        5797\n",
            "anger       5797\n",
            "fear        5797\n",
            "surprise    5797\n",
            "Name: count, dtype: int64\n"
          ]
        },
        {
          "output_type": "display_data",
          "data": {
            "text/plain": [
              "<Figure size 1000x600 with 1 Axes>"
            ],
            "image/png": "[encoded data removed]"
          },
          "metadata": {}
        }
      ]
    },
    {
      "cell_type": "markdown",
      "metadata": {
        "id": "141c3286"
      },
      "source": [
        "## Plot balanced distribution\n",
        "\n",
        "### Subtask:\n",
        "Visualize the class distribution of the downsampled dataset using a bar chart to verify balance.\n"
      ]
    },
    {
      "cell_type": "markdown",
      "metadata": {
        "id": "a74fec6c"
      },
      "source": [
        "**Reasoning**:\n",
        "Calculate the value counts of the 'label' column in the balanced_df and create a bar plot to visualize the distribution.\n",
        "\n"
      ]
    },
    {
      "cell_type": "code",
      "metadata": {
        "colab": {
          "base_uri": "https://localhost:8080/",
          "height": 542
        },
        "id": "a38ca91e",
        "outputId": "d6151bfd-7187-40a2-b82a-cb44e7072387"
      },
      "source": [
        "# Calculate the value counts of the 'label' column in the balanced DataFrame\n",
        "balanced_label_counts = balanced_df['label'].value_counts()\n",
        "\n",
        "# Create a bar plot for the balanced distribution\n",
        "plt.figure(figsize=(10, 6))\n",
        "sns.barplot(x=balanced_label_counts.index, y=balanced_label_counts.values)\n",
        "plt.title('Distribution of Emotion Labels in Balanced Dataset (Downsampled)')\n",
        "plt.xlabel('Emotion Label')\n",
        "plt.ylabel('Number of Samples')\n",
        "plt.xticks(rotation=0)\n",
        "plt.show()"
      ],
      "execution_count": null,
      "outputs": [
        {
          "output_type": "display_data",
          "data": {
            "text/plain": [
              "<Figure size 1000x600 with 1 Axes>"
            ],
            "image/png": "[encoded data removed]"
          },
          "metadata": {}
        }
      ]
    },
    {
      "cell_type": "code",
      "metadata": {
        "colab": {
          "base_uri": "https://localhost:8080/",
          "height": 225,
          "referenced_widgets": [
            "27c08aa6670643db8c0a2ad5110803b9",
            "694229b7e1f74757a44c256f6303424c",
            "83ea8768f5a74f989e1f0a1093770743",
            "e0f0998c8bd3421288eb6ca3251992cc",
            "7538f2eb9e6840fb8099630610e72fab",
            "100be7138a984c9fb5c646ea3d8a2231",
            "4c7137b8bbdf44dc8381f29157ab1499",
            "609c91b3146d4309ad838f24d9cb8244",
            "56bcaf38246442db97fd653b66def49e",
            "c786dcbf342440b6b1d52d5879eef78e",
            "1fd1e13ac9d9451f8b280e49da65ebdb",
            "336839393f4c408fa5eafc3a2fc371b3",
            "1555e621670f4ec9b133b3fb003b4cda",
            "30171c63487e4b3c97e655c8ab8c9118",
            "4127feee41ff4da193ac24fb75d43cd2",
            "5b69a01e97d24df6b15e8d52e0f6b8d1",
            "f8ca04d95329476a8234c8238a2f3398",
            "aae9ff5d43054730b8f8aa15fa0b679a",
            "e039b9c9d9774b07911b1fbe8b0ef682",
            "ff67f22cfad74394a336d17257190587",
            "6af04cfa28e6419987ce897948e0b7c7",
            "1619bc650dc34ce79bba350c64c89ca9",
            "86c63adf8dbf4ce583804ba5dd3496e4",
            "453607a910bd4eaab331845670b348dc",
            "88e21d2503024f8381cd01549084ddd1",
            "fa48bfa5fe2a421a8e3171d032741a05",
            "4b894323ea704277b127cc79f1fa6045",
            "50c76fefd7ad40e2a01cbcfe32710259",
            "944f9fbf27914edbacfa351f6a7f96f5",
            "98d35c45638f4e3a9943ed6df36ed1e1",
            "3d744ed059b940e6a99a37836e402ebc",
            "8312e37ae79a45959f784eb84b0bc467",
            "738bc521d6d24945af07ee4be99fb6c8",
            "aa8e4fd7ca184bd39cd4d1314dd60b0f",
            "94b9495bac0e438092e51a4091e2abd7",
            "3c479d16c88641eba7f41f3368b8bc5e",
            "4f2964cb3f2c4ad292f11b1735677917",
            "c23551a6252944d4bba9c6374144a7de",
            "c060e1bbf1594f8ca480381565c57d1a",
            "8e0aa7d6c2984446a121ee4803d73e4a",
            "b1f05999bfbc43fcbc866182c9d50350",
            "26fec407b1ed415eacc27cfab06c8af6",
            "d96d6340dd694d37a515e87599f7a641",
            "69cc587276b747fcafb6d473e9b6b26e",
            "e56d5d6f1f2e4714b240f0b8ff05ad14",
            "b2f8263435544c2d8d509b15d77788ac",
            "9beb8bcfffc1490a95182877465f1187",
            "84d8ef7658b5452aa1c0e04de699e0f0",
            "026a780e8dcf4729a3cff1086203f2b7",
            "e1f12efa780441f7920e7b477d0ebd73",
            "c42a9fcbf4dc4aa981d5925ab7ca1069",
            "c9bfed03be444065bbd538c74afeeda4",
            "4aeb16d1451e44e39779dc36de1373d2",
            "f2d6156d199c495da87408f88219cbe2",
            "454b62650efc4a7b90121140a1cdb60f",
            "b541d1a89fd7423fad7fe5f591c24b79",
            "666a169cc80f481d8f6b1431fac80b4d",
            "93b6cf58b9ab4bbd886b9f59041f3acc",
            "96faa2de1e6a4790be14999dfa4dc039",
            "3612e427152447d19cc17a444d7564f1",
            "62352a74039b46869adb1884550d4bbe",
            "0704085460de4995b9b99083b3c42cec",
            "6c00610840244dbfbcab28e015decb1a",
            "b4117f9320b9412f9e1f082826d28d54",
            "7fbf02be54dc4402b99d391065f3aea1",
            "8bcd83086085467592ad365dfd9a8a6b",
            "b5c8dcd06ed942108bad77c2180da9d7",
            "a6ec135af1234d4185a36724c1d78e44",
            "e263746745c94e638a9fb408719b79af",
            "929ff6acb440428890d9115227b65c49",
            "c468778ee8d74f5aabe232e4fb3fd715",
            "63ed2b4cda244f7995c2e89ba260b6cb",
            "fdee37bc9ee8480eb9825d4b0a0e8003",
            "c1101e7d590f4597a871f0cf37e6a593",
            "668241d20f8145a6807f905152df6c69",
            "3647a42fb2f444e0ace5d4ef53f2230b",
            "28683fa52bb543949af15d22f904e202"
          ]
        },
        "id": "d3da449c",
        "outputId": "1cdc415d-bb47-43d0-f872-efac69240bb5"
      },
      "source": [
        "from transformers import RobertaTokenizer\n",
        "from sklearn.model_selection import train_test_split\n",
        "from datasets import Dataset\n",
        "\n",
        "# Load the Roberta tokenizer\n",
        "# We will use 'roberta-base' as the base model for classification\n",
        "tokenizer = RobertaTokenizer.from_pretrained('roberta-base')\n",
        "\n",
        "# Split the balanced DataFrame into training and testing sets\n",
        "train_df_clf, test_df_clf = train_test_split(balanced_df, test_size=0.2, random_state=42, stratify=balanced_df['label'])\n",
        "\n",
        "print(\"Shape of training set for classification:\", train_df_clf.shape)\n",
        "print(\"Shape of testing set for classification:\", test_df_clf.shape)\n",
        "\n",
        "# Convert pandas DataFrames to Hugging Face Dataset objects\n",
        "train_dataset_clf = Dataset.from_pandas(train_df_clf)\n",
        "test_dataset_clf = Dataset.from_pandas(test_df_clf)\n",
        "\n",
        "# Function to tokenize the text and prepare inputs for Roberta\n",
        "def tokenize_function_clf(examples):\n",
        "    # Use batch=True for faster processing\n",
        "    return tokenizer(examples['text'], padding=\"max_length\", truncation=True, max_length=128) # Adjust max_length if needed\n",
        "\n",
        "# Apply tokenization to the datasets\n",
        "tokenized_train_dataset_clf = train_dataset_clf.map(tokenize_function_clf, batched=True)\n",
        "tokenized_test_dataset_clf = test_dataset_clf.map(tokenize_function_clf, batched=True)\n",
        "\n",
        "\n",
        "# Add the 'label' column to the tokenized datasets\n",
        "# The Trainer expects the labels to be named 'labels'\n",
        "tokenized_train_dataset_clf = tokenized_train_dataset_clf.rename_column(\"label\", \"labels\")\n",
        "tokenized_test_dataset_clf = tokenized_test_dataset_clf.rename_column(\"label\", \"labels\")\n",
        "\n",
        "# Remove original text column and other unnecessary columns\n",
        "tokenized_train_dataset_clf = tokenized_train_dataset_clf.remove_columns([\"text\", \"__index_level_0__\"])\n",
        "tokenized_test_dataset_clf = tokenized_test_dataset_clf.remove_columns([\"text\", \"__index_level_0__\"])\n",
        "\n",
        "\n",
        "print(\"\\nTokenization and data preparation for classification complete.\")\n",
        "print(tokenized_train_dataset_clf)\n",
        "print(tokenized_test_dataset_clf)"
      ],
      "execution_count": null,
      "outputs": [
        {
          "output_type": "display_data",
          "data": {
            "text/plain": [
              "tokenizer_config.json:   0%|          | 0.00/25.0 [00:00<?, ?B/s]"
            ],
            "application/vnd.jupyter.widget-view+json": {
              "version_major": 2,
              "version_minor": 0,
              "model_id": "27c08aa6670643db8c0a2ad5110803b9"
            }
          },
          "metadata": {}
        },
        {
          "output_type": "display_data",
          "data": {
            "text/plain": [
              "vocab.json:   0%|          | 0.00/899k [00:00<?, ?B/s]"
            ],
            "application/vnd.jupyter.widget-view+json": {
              "version_major": 2,
              "version_minor": 0,
              "model_id": "336839393f4c408fa5eafc3a2fc371b3"
            }
          },
          "metadata": {}
        },
        {
          "output_type": "display_data",
          "data": {
            "text/plain": [
              "merges.txt:   0%|          | 0.00/456k [00:00<?, ?B/s]"
            ],
            "application/vnd.jupyter.widget-view+json": {
              "version_major": 2,
              "version_minor": 0,
              "model_id": "86c63adf8dbf4ce583804ba5dd3496e4"
            }
          },
          "metadata": {}
        },
        {
          "output_type": "display_data",
          "data": {
            "text/plain": [
              "tokenizer.json:   0%|          | 0.00/1.36M [00:00<?, ?B/s]"
            ],
            "application/vnd.jupyter.widget-view+json": {
              "version_major": 2,
              "version_minor": 0,
              "model_id": "aa8e4fd7ca184bd39cd4d1314dd60b0f"
            }
          },
          "metadata": {}
        },
        {
          "output_type": "display_data",
          "data": {
            "text/plain": [
              "config.json:   0%|          | 0.00/481 [00:00<?, ?B/s]"
            ],
            "application/vnd.jupyter.widget-view+json": {
              "version_major": 2,
              "version_minor": 0,
              "model_id": "e56d5d6f1f2e4714b240f0b8ff05ad14"
            }
          },
          "metadata": {}
        },
        {
          "output_type": "stream",
          "name": "stdout",
          "text": [
            "Shape of training set for classification: (27825, 2)\n",
            "Shape of testing set for classification: (6957, 2)\n"
          ]
        },
        {
          "output_type": "display_data",
          "data": {
            "text/plain": [
              "Map:   0%|          | 0/27825 [00:00<?, ? examples/s]"
            ],
            "application/vnd.jupyter.widget-view+json": {
              "version_major": 2,
              "version_minor": 0,
              "model_id": "b541d1a89fd7423fad7fe5f591c24b79"
            }
          },
          "metadata": {}
        },
        {
          "output_type": "display_data",
          "data": {
            "text/plain": [
              "Map:   0%|          | 0/6957 [00:00<?, ? examples/s]"
            ],
            "application/vnd.jupyter.widget-view+json": {
              "version_major": 2,
              "version_minor": 0,
              "model_id": "b5c8dcd06ed942108bad77c2180da9d7"
            }
          },
          "metadata": {}
        },
        {
          "output_type": "stream",
          "name": "stdout",
          "text": [
            "\n",
            "Tokenization and data preparation for classification complete.\n",
            "Dataset({\n",
            "    features: ['labels', 'input_ids', 'attention_mask'],\n",
            "    num_rows: 27825\n",
            "})\n",
            "Dataset({\n",
            "    features: ['labels', 'input_ids', 'attention_mask'],\n",
            "    num_rows: 6957\n",
            "})\n"
          ]
        }
      ]
    },
    {
      "cell_type": "code",
      "metadata": {
        "colab": {
          "base_uri": "https://localhost:8080/",
          "height": 141,
          "referenced_widgets": [
            "4648dc887082475cb83eec332820e832",
            "067a9f41b1b64e9fa77ff66440e0f060",
            "355ff96228c844d4b12b585631b56265",
            "91ff6ed639b745ad97acbcc24d1be968",
            "1eea2e00bc754c4da8bf848cfdecfdba",
            "0dc55506f7a2421b8ce6da1ab5341375",
            "68d5bc66788147528cba024b58b159ec",
            "6c093860005e441d86017314d6e21209",
            "7b3c1a2a251b4dc2aaa8d794d7ee1400",
            "57d7334838594dff9f4ccb3438badc23",
            "de6c0735b8c24bf9bb3cd43f1644a78f"
          ]
        },
        "id": "d8f3df5f",
        "outputId": "3181faad-6cf9-4084-d06f-c8d579ec5d52"
      },
      "source": [
        "from transformers import RobertaForSequenceClassification, RobertaTokenizer\n",
        "\n",
        "# Define the number of unique labels in your dataset\n",
        "# Assuming balanced_df has been loaded and processed, get the number of unique labels\n",
        "num_labels = balanced_df['label'].nunique()\n",
        "print(f\"Number of unique labels: {num_labels}\")\n",
        "\n",
        "# Load the pre-trained Roberta model for sequence classification\n",
        "# Configure it for the number of unique labels\n",
        "model_clf = RobertaForSequenceClassification.from_pretrained('roberta-base', num_labels=num_labels)\n",
        "\n",
        "# Load the corresponding Roberta tokenizer\n",
        "tokenizer_clf = RobertaTokenizer.from_pretrained('roberta-base')\n",
        "\n",
        "print(\"\\nRoberta model for classification and tokenizer loaded successfully.\")"
      ],
      "execution_count": null,
      "outputs": [
        {
          "output_type": "stream",
          "name": "stdout",
          "text": [
            "Number of unique labels: 6\n"
          ]
        },
        {
          "output_type": "stream",
          "name": "stderr",
          "text": [
            "Xet Storage is enabled for this repo, but the 'hf_xet' package is not installed. Falling back to regular HTTP download. For better performance, install the package with: `pip install huggingface_hub[hf_xet]` or `pip install hf_xet`\n"
          ]
        },
        {
          "output_type": "display_data",
          "data": {
            "text/plain": [
              "model.safetensors:   0%|          | 0.00/499M [00:00<?, ?B/s]"
            ],
            "application/vnd.jupyter.widget-view+json": {
              "version_major": 2,
              "version_minor": 0,
              "model_id": "4648dc887082475cb83eec332820e832"
            }
          },
          "metadata": {}
        },
        {
          "output_type": "stream",
          "name": "stderr",
          "text": [
            "Some weights of RobertaForSequenceClassification were not initialized from the model checkpoint at roberta-base and are newly initialized: ['classifier.dense.bias', 'classifier.dense.weight', 'classifier.out_proj.bias', 'classifier.out_proj.weight']\n",
            "You should probably TRAIN this model on a down-stream task to be able to use it for predictions and inference.\n"
          ]
        },
        {
          "output_type": "stream",
          "name": "stdout",
          "text": [
            "\n",
            "Roberta model for classification and tokenizer loaded successfully.\n"
          ]
        }
      ]
    },
    {
      "cell_type": "code",
      "metadata": {
        "colab": {
          "base_uri": "https://localhost:8080/"
        },
        "id": "c8e896d7",
        "outputId": "2db541f0-80d1-4c53-8ff5-7727d40cb01f"
      },
      "source": [
        "from transformers import TrainingArguments\n",
        "\n",
        "# Define training arguments\n",
        "training_args_clf = TrainingArguments(\n",
        "    output_dir=\"./classification_results\",  # Output directory\n",
        "    num_train_epochs=3,  # Default number of training epochs\n",
        "    per_device_train_batch_size=16,  # Batch size per device during training\n",
        "    per_device_eval_batch_size=64,  # Batch size for evaluation\n",
        "    weight_decay=0.01,  # Strength of weight decay\n",
        "    logging_dir=\"./classification_logs\",  # Directory for storing logs\n",
        "    logging_steps=50,\n",
        "    eval_strategy=\"epoch\",  # Evaluate at the end of each epoch\n",
        "    save_strategy=\"epoch\", # Save checkpoint at the end of each epoch\n",
        "    load_best_model_at_end=True, # Load the best model based on eval_loss at the end of training\n",
        "    metric_for_best_model=\"eval_loss\", # Metric to use to load the best model\n",
        "    greater_is_better=False, # Smaller eval_loss is better\n",
        "    report_to=\"none\", # Do not report to any online service\n",
        "    fp16=True, # Enable mixed precision training\n",
        "    # Removed no_cuda=True to enable GPU usage\n",
        ")\n",
        "\n",
        "print(\"Default Training arguments for classification defined successfully (with fp16 enabled).\")"
      ],
      "execution_count": null,
      "outputs": [
        {
          "output_type": "stream",
          "name": "stdout",
          "text": [
            "Default Training arguments for classification defined successfully (with fp16 enabled).\n"
          ]
        }
      ]
    },
    {
      "cell_type": "markdown",
      "metadata": {
        "id": "311c1f8c"
      },
      "source": [
        "## Define model initialization for hyperparameter search\n",
        "\n",
        "### Subtask:\n",
        "Create a function that initializes a new `RobertaForSequenceClassification` model for each trial of the hyperparameter search."
      ]
    },
    {
      "cell_type": "markdown",
      "metadata": {
        "id": "1d739328"
      },
      "source": [
        "**Reasoning**:\n",
        "Define a `model_init` function that will be called by the Hugging Face Trainer during hyperparameter search. This function is responsible for loading a fresh instance of the `RobertaForSequenceClassification` model from the pre-trained weights for each new trial, ensuring that each trial starts with the same initial model state. It also configures the model with the correct number of labels."
      ]
    },
    {
      "cell_type": "code",
      "metadata": {
        "colab": {
          "base_uri": "https://localhost:8080/"
        },
        "id": "17d410cd",
        "outputId": "cfe4b5c7-aeeb-461f-cbf1-6774d7e9de51"
      },
      "source": [
        "from transformers import RobertaForSequenceClassification\n",
        "\n",
        "def model_init_clf(trial):\n",
        "    # Load a pre-trained Roberta model for sequence classification\n",
        "    # Configure it for the number of unique labels\n",
        "    # We need the number of labels which was determined earlier\n",
        "    # Assuming num_labels is available from previous steps\n",
        "    return RobertaForSequenceClassification.from_pretrained('roberta-base', num_labels=num_labels)\n",
        "\n",
        "print(\"Model initialization function for classification defined.\")"
      ],
      "execution_count": null,
      "outputs": [
        {
          "output_type": "stream",
          "name": "stdout",
          "text": [
            "Model initialization function for classification defined.\n"
          ]
        }
      ]
    },
    {
      "cell_type": "markdown",
      "metadata": {
        "id": "70263f21"
      },
      "source": [
        "## Define compute_metrics function\n",
        "\n",
        "### Subtask:\n",
        "Create a function to compute evaluation metrics during training."
      ]
    },
    {
      "cell_type": "markdown",
      "metadata": {
        "id": "d9712b90"
      },
      "source": [
        "**Reasoning**:\n",
        "Define a `compute_metrics` function that takes evaluation predictions and labels and returns a dictionary of metrics. For classification, common metrics include accuracy, precision, recall, and F1-score. This function will be used by the Trainer during evaluation."
      ]
    },
    {
      "cell_type": "code",
      "metadata": {
        "colab": {
          "base_uri": "https://localhost:8080/"
        },
        "id": "9ae3a239",
        "outputId": "19f4d418-7b92-4a07-d18f-1ef5116ec936"
      },
      "source": [
        "from sklearn.metrics import accuracy_score, precision_recall_fscore_support\n",
        "import numpy as np\n",
        "\n",
        "def compute_metrics(p):\n",
        "    predictions, labels = p\n",
        "    predictions = np.argmax(predictions, axis=1)\n",
        "    accuracy = accuracy_score(labels, predictions)\n",
        "    precision, recall, f1, _ = precision_recall_fscore_support(labels, predictions, average='weighted')\n",
        "    return {\"accuracy\": accuracy, \"precision\": precision, \"recall\": recall, \"f1\": f1}\n",
        "\n",
        "print(\"Compute metrics function defined.\")"
      ],
      "execution_count": null,
      "outputs": [
        {
          "output_type": "stream",
          "name": "stdout",
          "text": [
            "Compute metrics function defined.\n"
          ]
        }
      ]
    },
    {
      "cell_type": "markdown",
      "metadata": {
        "id": "33447a0f"
      },
      "source": [
        "## Define Objective Function for Hyperparameter Search\n",
        "\n",
        "### Subtask:\n",
        "Create a function that sets up the Trainer, trains the model with given hyperparameters, evaluates at each epoch, and returns the metric to be optimized."
      ]
    },
    {
      "cell_type": "markdown",
      "metadata": {
        "id": "823284ed"
      },
      "source": [
        "**Reasoning**:\n",
        "Define the `objective` function for Optuna. This function takes a `trial` object, suggests hyperparameters (learning rate and number of epochs), updates the training arguments, initializes the Trainer with the `model_init_clf` function and `compute_metrics` function, trains and evaluates the model, and returns the evaluation metric (e.g., F1-score or accuracy) that Optuna will try to maximize or minimize."
      ]
    },
    {
      "cell_type": "code",
      "metadata": {
        "colab": {
          "base_uri": "https://localhost:8080/"
        },
        "id": "97e89e6e",
        "outputId": "30d50412-0eda-417a-8ccc-5236a663fd78"
      },
      "source": [
        "from transformers import Trainer\n",
        "import optuna # Import optuna here as well for the objective function definition\n",
        "from transformers import TrainingArguments # Import TrainingArguments here for the objective function\n",
        "\n",
        "\n",
        "def objective_clf(trial):\n",
        "    # Define hyperparameters to search\n",
        "    learning_rate = trial.suggest_float(\"learning_rate\", 1e-5, 5e-5, log=True)\n",
        "    num_train_epochs = trial.suggest_int(\"num_train_epochs\", 2, 5) # Suggest between 2 and 5 epochs\n",
        "\n",
        "    # Update training arguments with suggested hyperparameters\n",
        "    # We will use a copy of the base training_args_clf to avoid modifying it directly\n",
        "    current_training_args = TrainingArguments(\n",
        "        output_dir=f\"./classification_results_trial_{trial.number}\",  # Unique output dir for each trial\n",
        "        num_train_epochs=num_train_epochs,\n",
        "        per_device_train_batch_size=training_args_clf.per_device_train_batch_size, # Use base batch size\n",
        "        per_device_eval_batch_size=training_args_clf.per_device_eval_batch_size,\n",
        "        weight_decay=training_args_clf.weight_decay,\n",
        "        logging_dir=f\"./classification_logs_trial_{trial.number}\", # Unique log dir\n",
        "        logging_steps=training_args_clf.logging_steps,\n",
        "        eval_strategy=training_args_clf.eval_strategy, # Corrected argument name\n",
        "        save_strategy=training_args_clf.save_strategy,\n",
        "        load_best_model_at_end=training_args_clf.load_best_model_at_end,\n",
        "        metric_for_best_model=training_args_clf.metric_for_best_model,\n",
        "        greater_is_better=training_args_clf.greater_is_better,\n",
        "        report_to=training_args_clf.report_to,\n",
        "        fp16=training_args_clf.fp16,\n",
        "        learning_rate=learning_rate, # Set the suggested learning rate\n",
        "    )\n",
        "\n",
        "\n",
        "    # Initialize Trainer\n",
        "    trainer = Trainer(\n",
        "        model_init=model_init_clf, # Use the model_init_clf function\n",
        "        args=current_training_args,\n",
        "        train_dataset=tokenized_train_dataset_clf, # Use the tokenized classification data\n",
        "        eval_dataset=tokenized_test_dataset_clf,   # Use the tokenized classification data\n",
        "        compute_metrics=compute_metrics, # Use the compute_metrics function\n",
        "    )\n",
        "\n",
        "    # Train the model\n",
        "    trainer.train()\n",
        "\n",
        "    # Evaluate the model and return the metric to optimize\n",
        "    # We want to maximize the evaluation metric specified in training_args (e.g., accuracy or f1)\n",
        "    eval_results = trainer.evaluate()\n",
        "    # The metric to optimize is specified by metric_for_best_model in TrainingArguments\n",
        "    # Since metric_for_best_model is eval_loss and greater_is_better is False,\n",
        "    # we return negative eval_loss to maximize it with Optuna.\n",
        "    # If we were optimizing for accuracy or f1, we would return that metric directly.\n",
        "    return -eval_results[current_training_args.metric_for_best_model] # Return negative of the metric to minimize (eval_loss)\n",
        "\n",
        "print(\"Objective function for classification hyperparameter search defined.\")"
      ],
      "execution_count": null,
      "outputs": [
        {
          "output_type": "stream",
          "name": "stdout",
          "text": [
            "Objective function for classification hyperparameter search defined.\n"
          ]
        }
      ]
    },
    {
      "cell_type": "markdown",
      "metadata": {
        "id": "47e5a74c"
      },
      "source": [
        "## Run Hyperparameter Search\n",
        "\n",
        "### Subtask:\n",
        "Use Optuna to perform the hyperparameter search using the defined objective function."
      ]
    },
    {
      "cell_type": "markdown",
      "metadata": {
        "id": "e1a7ce69"
      },
      "source": [
        "**Reasoning**:\n",
        "Create an Optuna study and run the optimization process using the `objective_clf` function. This will explore different combinations of learning rates and epochs to find the best hyperparameters based on the evaluation metric. After the search, the best trial and its parameters will be printed."
      ]
    },
    {
      "cell_type": "code",
      "metadata": {
        "colab": {
          "base_uri": "https://localhost:8080/",
          "height": 417
        },
        "id": "09582361",
        "outputId": "097bb933-bbc8-4ab7-9380-05d552689a14"
      },
      "source": [
        "import optuna\n",
        "from transformers import TrainingArguments # Import TrainingArguments here\n",
        "\n",
        "# Define training arguments (redefined here for robustness in case previous cell wasn't run)\n",
        "training_args_clf = TrainingArguments(\n",
        "    output_dir=\"./classification_results\",  # Output directory\n",
        "    num_train_epochs=3,  # Default number of training epochs\n",
        "    per_device_train_batch_size=16,  # Batch size per device during training\n",
        "    per_device_eval_batch_size=64,  # Batch size for evaluation\n",
        "    weight_decay=0.01,  # Strength of weight decay\n",
        "    logging_dir=\"./classification_logs\",  # Directory for storing logs\n",
        "    logging_steps=50,\n",
        "    eval_strategy=\"epoch\",  # Evaluate at the end of each epoch (corrected argument name)\n",
        "    save_strategy=\"epoch\", # Save checkpoint at the end of each epoch\n",
        "    load_best_model_at_end=True, # Load the best model based on eval_loss at the end of training\n",
        "    metric_for_best_model=\"eval_loss\", # Metric to use to load the best model\n",
        "    greater_is_better=False, # Smaller eval_loss is better\n",
        "    report_to=\"none\", # Do not report to any online service\n",
        "    fp16=True, # Enable mixed precision training\n",
        "    # Removed no_cuda=True to enable GPU usage\n",
        ")\n",
        "\n",
        "\n",
        "# Create an Optuna study for classification\n",
        "# We are minimizing evaluation loss, so we set direction=\"maximize\" as we return negative loss\n",
        "study_clf = optuna.create_study(direction=\"maximize\", pruner=optuna.pruners.MedianPruner()) # Using MedianPruner for efficiency\n",
        "\n",
        "# Run the hyperparameter search\n",
        "study_clf.optimize(objective_clf, n_trials=1) # You can adjust the number of trials\n",
        "\n",
        "# Print the best trial\n",
        "print(\"\\nBest trial for classification:\")\n",
        "print(study_clf.best_trial)\n",
        "\n",
        "# Print the best hyperparameters\n",
        "print(\"\\nBest hyperparameters for classification:\")\n",
        "print(study_clf.best_params)"
      ],
      "execution_count": null,
      "outputs": [
        {
          "output_type": "stream",
          "name": "stderr",
          "text": [
            "[I 2025-09-24 18:31:22,040] A new study created in memory with name: no-name-fa63c1ae-c16c-4ae6-b43f-72f496ad6636\n",
            "Some weights of RobertaForSequenceClassification were not initialized from the model checkpoint at roberta-base and are newly initialized: ['classifier.dense.bias', 'classifier.dense.weight', 'classifier.out_proj.bias', 'classifier.out_proj.weight']\n",
            "You should probably TRAIN this model on a down-stream task to be able to use it for predictions and inference.\n",
            "Some weights of RobertaForSequenceClassification were not initialized from the model checkpoint at roberta-base and are newly initialized: ['classifier.dense.bias', 'classifier.dense.weight', 'classifier.out_proj.bias', 'classifier.out_proj.weight']\n",
            "You should probably TRAIN this model on a down-stream task to be able to use it for predictions and inference.\n"
          ]
        },
        {
          "output_type": "display_data",
          "data": {
            "text/plain": [
              "<IPython.core.display.HTML object>"
            ],
            "text/html": [
              "\n",
              "    <div>\n",
              "      \n",
              "      <progress value='5220' max='5220' style='width:300px; height:20px; vertical-align: middle;'></progress>\n",
              "      [5220/5220 18:10, Epoch 3/3]\n",
              "    </div>\n",
              "    <table border=\"1\" class=\"dataframe\">\n",
              "  <thead>\n",
              " <tr style=\"text-align: left;\">\n",
              "      <th>Epoch</th>\n",
              "      <th>Training Loss</th>\n",
              "      <th>Validation Loss</th>\n",
              "      <th>Accuracy</th>\n",
              "      <th>Precision</th>\n",
              "      <th>Recall</th>\n",
              "      <th>F1</th>\n",
              "    </tr>\n",
              "  </thead>\n",
              "  <tbody>\n",
              "    <tr>\n",
              "      <td>1</td>\n",
              "      <td>0.390800</td>\n",
              "      <td>0.370026</td>\n",
              "      <td>0.871640</td>\n",
              "      <td>0.876862</td>\n",
              "      <td>0.871640</td>\n",
              "      <td>0.871587</td>\n",
              "    </tr>\n",
              "    <tr>\n",
              "      <td>2</td>\n",
              "      <td>0.295100</td>\n",
              "      <td>0.313078</td>\n",
              "      <td>0.897370</td>\n",
              "      <td>0.898381</td>\n",
              "      <td>0.897370</td>\n",
              "      <td>0.897314</td>\n",
              "    </tr>\n",
              "    <tr>\n",
              "      <td>3</td>\n",
              "      <td>0.204500</td>\n",
              "      <td>0.299366</td>\n",
              "      <td>0.895501</td>\n",
              "      <td>0.896418</td>\n",
              "      <td>0.895501</td>\n",
              "      <td>0.895064</td>\n",
              "    </tr>\n",
              "  </tbody>\n",
              "</table><p>"
            ]
          },
          "metadata": {}
        },
        {
          "output_type": "display_data",
          "data": {
            "text/plain": [
              "<IPython.core.display.HTML object>"
            ],
            "text/html": [
              "\n",
              "    <div>\n",
              "      \n",
              "      <progress value='109' max='109' style='width:300px; height:20px; vertical-align: middle;'></progress>\n",
              "      [109/109 00:18]\n",
              "    </div>\n",
              "    "
            ]
          },
          "metadata": {}
        },
        {
          "output_type": "stream",
          "name": "stderr",
          "text": [
            "[I 2025-09-24 18:49:53,293] Trial 0 finished with value: -0.29936641454696655 and parameters: {'learning_rate': 2.758494129712084e-05, 'num_train_epochs': 3}. Best is trial 0 with value: -0.29936641454696655.\n"
          ]
        },
        {
          "output_type": "stream",
          "name": "stdout",
          "text": [
            "\n",
            "Best trial for classification:\n",
            "FrozenTrial(number=0, state=TrialState.COMPLETE, values=[-0.29936641454696655], datetime_start=datetime.datetime(2025, 9, 24, 18, 31, 22, 41356), datetime_complete=datetime.datetime(2025, 9, 24, 18, 49, 53, 293431), params={'learning_rate': 2.758494129712084e-05, 'num_train_epochs': 3}, user_attrs={}, system_attrs={}, intermediate_values={}, distributions={'learning_rate': FloatDistribution(high=5e-05, log=True, low=1e-05, step=None), 'num_train_epochs': IntDistribution(high=5, log=False, low=2, step=1)}, trial_id=0, value=None)\n",
            "\n",
            "Best hyperparameters for classification:\n",
            "{'learning_rate': 2.758494129712084e-05, 'num_train_epochs': 3}\n"
          ]
        }
      ]
    },
    {
      "cell_type": "markdown",
      "metadata": {
        "id": "0bfce852"
      },
      "source": [
        "## Train Model with Best Hyperparameters and Save\n",
        "\n",
        "### Subtask:\n",
        "Initialize and train the Roberta model with the best hyperparameters found by Optuna and save the trained model to a specified path."
      ]
    },
    {
      "cell_type": "markdown",
      "metadata": {
        "id": "d1790043"
      },
      "source": [
        "**Reasoning**:\n",
        "Retrieve the best hyperparameters from the completed Optuna study (`study_clf.best_params`). Update the `TrainingArguments` with these best parameters (learning rate and number of epochs). Initialize a new `RobertaForSequenceClassification` model. Create a `Trainer` instance using the initialized model, updated training arguments, and the tokenized training and testing datasets. Train the model using the `trainer.train()` method. Finally, save the trained model to a specified directory using `trainer.save_model()`."
      ]
    },
    {
      "cell_type": "code",
      "metadata": {
        "colab": {
          "base_uri": "https://localhost:8080/",
          "height": 311
        },
        "id": "d92c6bde",
        "outputId": "6a1a1e84-3ff6-4cbc-e3a0-3b13d09ae560"
      },
      "source": [
        "from transformers import Trainer, RobertaForSequenceClassification\n",
        "\n",
        "# Get the best hyperparameters from the completed Optuna study\n",
        "# Assuming study_clf is available from the previous cell's execution\n",
        "best_hyperparameters_clf = study_clf.best_params\n",
        "print(\"Best hyperparameters found by Optuna:\", best_hyperparameters_clf)\n",
        "\n",
        "\n",
        "# Update the base training arguments with the best hyperparameters\n",
        "# Create a new TrainingArguments instance or update the existing one\n",
        "training_args_clf.learning_rate = best_hyperparameters_clf[\"learning_rate\"]\n",
        "training_args_clf.num_train_epochs = best_hyperparameters_clf[\"num_train_epochs\"]\n",
        "\n",
        "# It's good practice to use a different output directory for the final trained model\n",
        "training_args_clf.output_dir = \"./final_classification_model\"\n",
        "training_args_clf.logging_dir = \"./final_classification_logs\"\n",
        "\n",
        "# Initialize a new Roberta model with the correct number of labels\n",
        "# Using from_pretrained again ensures we start from the base model\n",
        "model_clf_final = RobertaForSequenceClassification.from_pretrained('roberta-base', num_labels=num_labels)\n",
        "\n",
        "\n",
        "# Initialize Trainer for the final training run\n",
        "trainer_final = Trainer(\n",
        "    model=model_clf_final,\n",
        "    args=training_args_clf,\n",
        "    train_dataset=tokenized_train_dataset_clf,\n",
        "    eval_dataset=tokenized_test_dataset_clf,\n",
        "    compute_metrics=compute_metrics, # Use the compute_metrics function for evaluation during training\n",
        ")\n",
        "\n",
        "print(\"\\nStarting final model training with best hyperparameters...\")\n",
        "\n",
        "# Train the model\n",
        "trainer_final.train()\n",
        "\n",
        "# Define the path to save the final trained model\n",
        "save_path_clf = \"C:/Users/adria/OneDrive/Desktop/CODING/jupyter/models/dairemotion/roberta_classifier\"\n",
        "\n",
        "# Save the trained model\n",
        "trainer_final.save_model(save_path_clf)\n",
        "\n",
        "print(f\"\\nFinal trained Roberta classification model saved to {save_path_clf}\")\n",
        "\n",
        "# You may also want to save the tokenizer, although it's the base Roberta tokenizer\n",
        "# tokenizer_clf.save_pretrained(save_path_clf)"
      ],
      "execution_count": null,
      "outputs": [
        {
          "output_type": "stream",
          "name": "stdout",
          "text": [
            "Best hyperparameters found by Optuna: {'learning_rate': 2.758494129712084e-05, 'num_train_epochs': 3}\n"
          ]
        },
        {
          "output_type": "stream",
          "name": "stderr",
          "text": [
            "Some weights of RobertaForSequenceClassification were not initialized from the model checkpoint at roberta-base and are newly initialized: ['classifier.dense.bias', 'classifier.dense.weight', 'classifier.out_proj.bias', 'classifier.out_proj.weight']\n",
            "You should probably TRAIN this model on a down-stream task to be able to use it for predictions and inference.\n"
          ]
        },
        {
          "output_type": "stream",
          "name": "stdout",
          "text": [
            "\n",
            "Starting final model training with best hyperparameters...\n"
          ]
        },
        {
          "output_type": "display_data",
          "data": {
            "text/plain": [
              "<IPython.core.display.HTML object>"
            ],
            "text/html": [
              "\n",
              "    <div>\n",
              "      \n",
              "      <progress value='5220' max='5220' style='width:300px; height:20px; vertical-align: middle;'></progress>\n",
              "      [5220/5220 15:00, Epoch 3/3]\n",
              "    </div>\n",
              "    <table border=\"1\" class=\"dataframe\">\n",
              "  <thead>\n",
              " <tr style=\"text-align: left;\">\n",
              "      <th>Epoch</th>\n",
              "      <th>Training Loss</th>\n",
              "      <th>Validation Loss</th>\n",
              "      <th>Accuracy</th>\n",
              "      <th>Precision</th>\n",
              "      <th>Recall</th>\n",
              "      <th>F1</th>\n",
              "    </tr>\n",
              "  </thead>\n",
              "  <tbody>\n",
              "    <tr>\n",
              "      <td>1</td>\n",
              "      <td>0.415600</td>\n",
              "      <td>0.363211</td>\n",
              "      <td>0.876671</td>\n",
              "      <td>0.883634</td>\n",
              "      <td>0.876671</td>\n",
              "      <td>0.875702</td>\n",
              "    </tr>\n",
              "    <tr>\n",
              "      <td>2</td>\n",
              "      <td>0.299700</td>\n",
              "      <td>0.309012</td>\n",
              "      <td>0.893776</td>\n",
              "      <td>0.894115</td>\n",
              "      <td>0.893776</td>\n",
              "      <td>0.893376</td>\n",
              "    </tr>\n",
              "    <tr>\n",
              "      <td>3</td>\n",
              "      <td>0.209400</td>\n",
              "      <td>0.294010</td>\n",
              "      <td>0.895788</td>\n",
              "      <td>0.896228</td>\n",
              "      <td>0.895788</td>\n",
              "      <td>0.895352</td>\n",
              "    </tr>\n",
              "  </tbody>\n",
              "</table><p>"
            ]
          },
          "metadata": {}
        },
        {
          "output_type": "stream",
          "name": "stdout",
          "text": [
            "\n",
            "Final trained Roberta classification model saved to C:/Users/adria/OneDrive/Desktop/CODING/jupyter/models/dairemotion/roberta_classifier\n"
          ]
        }
      ]
    },
    {
      "cell_type": "markdown",
      "metadata": {
        "id": "f9ce3ad5"
      },
      "source": [
        "## Evaluate the final model\n",
        "\n",
        "### Subtask:\n",
        "Evaluate the performance of the trained Roberta model on the test set and generate a classification report and confusion matrix."
      ]
    },
    {
      "cell_type": "markdown",
      "metadata": {
        "id": "9f7ab7f3"
      },
      "source": [
        "**Reasoning**:\n",
        "Use the trained `trainer_final` to make predictions on the `tokenized_test_dataset_clf`. Extract the predicted labels and true labels. Use `sklearn.metrics.classification_report` to generate a report with precision, recall, F1-score, and support for each class. Use `sklearn.metrics.confusion_matrix` and `seaborn.heatmap` to generate and visualize the confusion matrix."
      ]
    },
    {
      "cell_type": "code",
      "metadata": {
        "colab": {
          "base_uri": "https://localhost:8080/",
          "height": 961
        },
        "id": "6d6d03b7",
        "outputId": "9f3464ff-8753-420b-f9a7-1ca3cab96e80"
      },
      "source": [
        "from sklearn.metrics import classification_report, confusion_matrix\n",
        "import numpy as np\n",
        "import matplotlib.pyplot as plt\n",
        "import seaborn as sns\n",
        "\n",
        "# Make predictions on the test set\n",
        "predictions = trainer_final.predict(tokenized_test_dataset_clf)\n",
        "\n",
        "# Get the predicted labels\n",
        "predicted_labels = np.argmax(predictions.predictions, axis=1)\n",
        "\n",
        "# Get the true labels\n",
        "true_labels = predictions.label_ids\n",
        "\n",
        "# Define the mapping from numerical labels to emotion names (assuming this mapping is consistent)\n",
        "# Based on previous code, the mapping is:\n",
        "# 0: 'sadness', 1: 'joy', 2: 'love', 3: 'anger', 4: 'fear', 5: 'surprise'\n",
        "label_to_emotion_names = {\n",
        "    0: 'sadness',\n",
        "    1: 'joy',\n",
        "    2: 'love',\n",
        "    3: 'anger',\n",
        "    4: 'fear',\n",
        "    5: 'surprise'\n",
        "}\n",
        "\n",
        "# Get the emotion names corresponding to the unique labels in the dataset\n",
        "# Ensure we only include labels present in the dataset\n",
        "unique_labels = sorted(np.unique(true_labels)) # Get unique labels and sort them\n",
        "target_names = [label_to_emotion_names[label] for label in unique_labels if label in label_to_emotion_names]\n",
        "\n",
        "\n",
        "# Generate classification report\n",
        "print(\"Classification Report:\")\n",
        "print(classification_report(true_labels, predicted_labels, target_names=target_names)) # Use emotion names as target names\n",
        "\n",
        "# Generate confusion matrix\n",
        "conf_matrix = confusion_matrix(true_labels, predicted_labels)\n",
        "\n",
        "# Plot confusion matrix\n",
        "plt.figure(figsize=(10, 8))\n",
        "sns.heatmap(conf_matrix, annot=True, fmt='d', cmap='Blues',\n",
        "            xticklabels=target_names, # Use emotion names for x-axis\n",
        "            yticklabels=target_names) # Use emotion names for y-axis\n",
        "plt.xlabel('Predicted Emotion')\n",
        "plt.ylabel('True Emotion')\n",
        "plt.title('Confusion Matrix')\n",
        "plt.show()"
      ],
      "execution_count": null,
      "outputs": [
        {
          "output_type": "display_data",
          "data": {
            "text/plain": [
              "<IPython.core.display.HTML object>"
            ],
            "text/html": []
          },
          "metadata": {}
        },
        {
          "output_type": "stream",
          "name": "stdout",
          "text": [
            "Classification Report:\n",
            "              precision    recall  f1-score   support\n",
            "\n",
            "     sadness       0.98      0.98      0.98      1159\n",
            "         joy       0.98      0.97      0.98      1159\n",
            "        love       0.81      0.74      0.78      1160\n",
            "       anger       0.79      0.85      0.82      1160\n",
            "        fear       0.94      0.90      0.92      1160\n",
            "    surprise       0.88      0.93      0.91      1159\n",
            "\n",
            "    accuracy                           0.90      6957\n",
            "   macro avg       0.90      0.90      0.90      6957\n",
            "weighted avg       0.90      0.90      0.90      6957\n",
            "\n"
          ]
        },
        {
          "output_type": "display_data",
          "data": {
            "text/plain": [
              "<Figure size 1000x800 with 2 Axes>"
            ],
            "image/png": "[encoded data removed]"
          },
          "metadata": {}
        }
      ]
    }
  ]
}