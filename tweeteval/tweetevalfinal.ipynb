{
  "nbformat": 4,
  "nbformat_minor": 0,
  "metadata": {
    "colab": {
      "provenance": [],
      "gpuType": "T4",
      "collapsed_sections": [
        "VUZRFeXAwMN3",
        "y_haaEo_jz4C",
        "RAmbazo_kYn9"
      ]
    },
    "kernelspec": {
      "name": "python3",
      "display_name": "Python 3"
    },
    "language_info": {
      "name": "python"
    },
    "accelerator": "GPU",
    "widgets": {
      "application/vnd.jupyter.widget-state+json": {
        "58aa02f2260943ca8cfe308e69081e2d": {
          "model_module": "@jupyter-widgets/controls",
          "model_name": "HBoxModel",
          "model_module_version": "2.0.0",
          "state": {
            "_dom_classes": [],
            "_model_module": "@jupyter-widgets/controls",
            "_model_module_version": "2.0.0",
            "_model_name": "HBoxModel",
            "_view_count": null,
            "_view_module": "@jupyter-widgets/controls",
            "_view_module_version": "2.0.0",
            "_view_name": "HBoxView",
            "box_style": "",
            "children": [
              "IPY_MODEL_7b4542bfaeb24056a40e98e0c9006ca3",
              "IPY_MODEL_54249d4531b14edaaac5c18620f7ffc4",
              "IPY_MODEL_ca33cdcac3574aeebfeefe5eb488c760"
            ],
            "layout": "IPY_MODEL_553044dc2d8f4d15b531299a875a340c",
            "tabbable": null,
            "tooltip": null
          }
        },
        "7b4542bfaeb24056a40e98e0c9006ca3": {
          "model_module": "@jupyter-widgets/controls",
          "model_name": "HTMLModel",
          "model_module_version": "2.0.0",
          "state": {
            "_dom_classes": [],
            "_model_module": "@jupyter-widgets/controls",
            "_model_module_version": "2.0.0",
            "_model_name": "HTMLModel",
            "_view_count": null,
            "_view_module": "@jupyter-widgets/controls",
            "_view_module_version": "2.0.0",
            "_view_name": "HTMLView",
            "description": "",
            "description_allow_html": false,
            "layout": "IPY_MODEL_2959e94ad5b840c7a51fc918d19130e8",
            "placeholder": "​",
            "style": "IPY_MODEL_1e2ed9b74a7e4bd1b45c103020f600f5",
            "tabbable": null,
            "tooltip": null,
            "value": "Generating text: 100%"
          }
        },
        "54249d4531b14edaaac5c18620f7ffc4": {
          "model_module": "@jupyter-widgets/controls",
          "model_name": "FloatProgressModel",
          "model_module_version": "2.0.0",
          "state": {
            "_dom_classes": [],
            "_model_module": "@jupyter-widgets/controls",
            "_model_module_version": "2.0.0",
            "_model_name": "FloatProgressModel",
            "_view_count": null,
            "_view_module": "@jupyter-widgets/controls",
            "_view_module_version": "2.0.0",
            "_view_name": "ProgressView",
            "bar_style": "success",
            "description": "",
            "description_allow_html": false,
            "layout": "IPY_MODEL_fffe6828640f41a0a3384c89238a214e",
            "max": 16102,
            "min": 0,
            "orientation": "horizontal",
            "style": "IPY_MODEL_06cec5105c7c467095dae56cf02e3ba8",
            "tabbable": null,
            "tooltip": null,
            "value": 16102
          }
        },
        "ca33cdcac3574aeebfeefe5eb488c760": {
          "model_module": "@jupyter-widgets/controls",
          "model_name": "HTMLModel",
          "model_module_version": "2.0.0",
          "state": {
            "_dom_classes": [],
            "_model_module": "@jupyter-widgets/controls",
            "_model_module_version": "2.0.0",
            "_model_name": "HTMLModel",
            "_view_count": null,
            "_view_module": "@jupyter-widgets/controls",
            "_view_module_version": "2.0.0",
            "_view_name": "HTMLView",
            "description": "",
            "description_allow_html": false,
            "layout": "IPY_MODEL_cfd6aa5d026a418cbc8a8164d70e5c38",
            "placeholder": "​",
            "style": "IPY_MODEL_c2ff66b318424d108362ff187c67a3fe",
            "tabbable": null,
            "tooltip": null,
            "value": " 16102/16102 [07:02&lt;00:00, 50.40it/s]"
          }
        },
        "553044dc2d8f4d15b531299a875a340c": {
          "model_module": "@jupyter-widgets/base",
          "model_name": "LayoutModel",
          "model_module_version": "2.0.0",
          "state": {
            "_model_module": "@jupyter-widgets/base",
            "_model_module_version": "2.0.0",
            "_model_name": "LayoutModel",
            "_view_count": null,
            "_view_module": "@jupyter-widgets/base",
            "_view_module_version": "2.0.0",
            "_view_name": "LayoutView",
            "align_content": null,
            "align_items": null,
            "align_self": null,
            "border_bottom": null,
            "border_left": null,
            "border_right": null,
            "border_top": null,
            "bottom": null,
            "display": null,
            "flex": null,
            "flex_flow": null,
            "grid_area": null,
            "grid_auto_columns": null,
            "grid_auto_flow": null,
            "grid_auto_rows": null,
            "grid_column": null,
            "grid_gap": null,
            "grid_row": null,
            "grid_template_areas": null,
            "grid_template_columns": null,
            "grid_template_rows": null,
            "height": null,
            "justify_content": null,
            "justify_items": null,
            "left": null,
            "margin": null,
            "max_height": null,
            "max_width": null,
            "min_height": null,
            "min_width": null,
            "object_fit": null,
            "object_position": null,
            "order": null,
            "overflow": null,
            "padding": null,
            "right": null,
            "top": null,
            "visibility": null,
            "width": null
          }
        },
        "2959e94ad5b840c7a51fc918d19130e8": {
          "model_module": "@jupyter-widgets/base",
          "model_name": "LayoutModel",
          "model_module_version": "2.0.0",
          "state": {
            "_model_module": "@jupyter-widgets/base",
            "_model_module_version": "2.0.0",
            "_model_name": "LayoutModel",
            "_view_count": null,
            "_view_module": "@jupyter-widgets/base",
            "_view_module_version": "2.0.0",
            "_view_name": "LayoutView",
            "align_content": null,
            "align_items": null,
            "align_self": null,
            "border_bottom": null,
            "border_left": null,
            "border_right": null,
            "border_top": null,
            "bottom": null,
            "display": null,
            "flex": null,
            "flex_flow": null,
            "grid_area": null,
            "grid_auto_columns": null,
            "grid_auto_flow": null,
            "grid_auto_rows": null,
            "grid_column": null,
            "grid_gap": null,
            "grid_row": null,
            "grid_template_areas": null,
            "grid_template_columns": null,
            "grid_template_rows": null,
            "height": null,
            "justify_content": null,
            "justify_items": null,
            "left": null,
            "margin": null,
            "max_height": null,
            "max_width": null,
            "min_height": null,
            "min_width": null,
            "object_fit": null,
            "object_position": null,
            "order": null,
            "overflow": null,
            "padding": null,
            "right": null,
            "top": null,
            "visibility": null,
            "width": null
          }
        },
        "1e2ed9b74a7e4bd1b45c103020f600f5": {
          "model_module": "@jupyter-widgets/controls",
          "model_name": "HTMLStyleModel",
          "model_module_version": "2.0.0",
          "state": {
            "_model_module": "@jupyter-widgets/controls",
            "_model_module_version": "2.0.0",
            "_model_name": "HTMLStyleModel",
            "_view_count": null,
            "_view_module": "@jupyter-widgets/base",
            "_view_module_version": "2.0.0",
            "_view_name": "StyleView",
            "background": null,
            "description_width": "",
            "font_size": null,
            "text_color": null
          }
        },
        "fffe6828640f41a0a3384c89238a214e": {
          "model_module": "@jupyter-widgets/base",
          "model_name": "LayoutModel",
          "model_module_version": "2.0.0",
          "state": {
            "_model_module": "@jupyter-widgets/base",
            "_model_module_version": "2.0.0",
            "_model_name": "LayoutModel",
            "_view_count": null,
            "_view_module": "@jupyter-widgets/base",
            "_view_module_version": "2.0.0",
            "_view_name": "LayoutView",
            "align_content": null,
            "align_items": null,
            "align_self": null,
            "border_bottom": null,
            "border_left": null,
            "border_right": null,
            "border_top": null,
            "bottom": null,
            "display": null,
            "flex": null,
            "flex_flow": null,
            "grid_area": null,
            "grid_auto_columns": null,
            "grid_auto_flow": null,
            "grid_auto_rows": null,
            "grid_column": null,
            "grid_gap": null,
            "grid_row": null,
            "grid_template_areas": null,
            "grid_template_columns": null,
            "grid_template_rows": null,
            "height": null,
            "justify_content": null,
            "justify_items": null,
            "left": null,
            "margin": null,
            "max_height": null,
            "max_width": null,
            "min_height": null,
            "min_width": null,
            "object_fit": null,
            "object_position": null,
            "order": null,
            "overflow": null,
            "padding": null,
            "right": null,
            "top": null,
            "visibility": null,
            "width": null
          }
        },
        "06cec5105c7c467095dae56cf02e3ba8": {
          "model_module": "@jupyter-widgets/controls",
          "model_name": "ProgressStyleModel",
          "model_module_version": "2.0.0",
          "state": {
            "_model_module": "@jupyter-widgets/controls",
            "_model_module_version": "2.0.0",
            "_model_name": "ProgressStyleModel",
            "_view_count": null,
            "_view_module": "@jupyter-widgets/base",
            "_view_module_version": "2.0.0",
            "_view_name": "StyleView",
            "bar_color": null,
            "description_width": ""
          }
        },
        "cfd6aa5d026a418cbc8a8164d70e5c38": {
          "model_module": "@jupyter-widgets/base",
          "model_name": "LayoutModel",
          "model_module_version": "2.0.0",
          "state": {
            "_model_module": "@jupyter-widgets/base",
            "_model_module_version": "2.0.0",
            "_model_name": "LayoutModel",
            "_view_count": null,
            "_view_module": "@jupyter-widgets/base",
            "_view_module_version": "2.0.0",
            "_view_name": "LayoutView",
            "align_content": null,
            "align_items": null,
            "align_self": null,
            "border_bottom": null,
            "border_left": null,
            "border_right": null,
            "border_top": null,
            "bottom": null,
            "display": null,
            "flex": null,
            "flex_flow": null,
            "grid_area": null,
            "grid_auto_columns": null,
            "grid_auto_flow": null,
            "grid_auto_rows": null,
            "grid_column": null,
            "grid_gap": null,
            "grid_row": null,
            "grid_template_areas": null,
            "grid_template_columns": null,
            "grid_template_rows": null,
            "height": null,
            "justify_content": null,
            "justify_items": null,
            "left": null,
            "margin": null,
            "max_height": null,
            "max_width": null,
            "min_height": null,
            "min_width": null,
            "object_fit": null,
            "object_position": null,
            "order": null,
            "overflow": null,
            "padding": null,
            "right": null,
            "top": null,
            "visibility": null,
            "width": null
          }
        },
        "c2ff66b318424d108362ff187c67a3fe": {
          "model_module": "@jupyter-widgets/controls",
          "model_name": "HTMLStyleModel",
          "model_module_version": "2.0.0",
          "state": {
            "_model_module": "@jupyter-widgets/controls",
            "_model_module_version": "2.0.0",
            "_model_name": "HTMLStyleModel",
            "_view_count": null,
            "_view_module": "@jupyter-widgets/base",
            "_view_module_version": "2.0.0",
            "_view_name": "StyleView",
            "background": null,
            "description_width": "",
            "font_size": null,
            "text_color": null
          }
        },
        "e6503a3d8fb74f70b862fc95cf5c074d": {
          "model_module": "@jupyter-widgets/controls",
          "model_name": "HBoxModel",
          "model_module_version": "2.0.0",
          "state": {
            "_dom_classes": [],
            "_model_module": "@jupyter-widgets/controls",
            "_model_module_version": "2.0.0",
            "_model_name": "HBoxModel",
            "_view_count": null,
            "_view_module": "@jupyter-widgets/controls",
            "_view_module_version": "2.0.0",
            "_view_name": "HBoxView",
            "box_style": "",
            "children": [
              "IPY_MODEL_95937262887544e292e13fbadb286774",
              "IPY_MODEL_36e14f9b15284e2590655a067a7b95cb",
              "IPY_MODEL_735884e50bac4015a5a4ee377e236a64"
            ],
            "layout": "IPY_MODEL_ec3c5a79b9364784b0ece5a4b02d4953",
            "tabbable": null,
            "tooltip": null
          }
        },
        "95937262887544e292e13fbadb286774": {
          "model_module": "@jupyter-widgets/controls",
          "model_name": "HTMLModel",
          "model_module_version": "2.0.0",
          "state": {
            "_dom_classes": [],
            "_model_module": "@jupyter-widgets/controls",
            "_model_module_version": "2.0.0",
            "_model_name": "HTMLModel",
            "_view_count": null,
            "_view_module": "@jupyter-widgets/controls",
            "_view_module_version": "2.0.0",
            "_view_name": "HTMLView",
            "description": "",
            "description_allow_html": false,
            "layout": "IPY_MODEL_759787b0e6294eb09661de3d32c6cff7",
            "placeholder": "​",
            "style": "IPY_MODEL_5e3b091921c44a319727455bc1c075ef",
            "tabbable": null,
            "tooltip": null,
            "value": "Generating text: 100%"
          }
        },
        "36e14f9b15284e2590655a067a7b95cb": {
          "model_module": "@jupyter-widgets/controls",
          "model_name": "FloatProgressModel",
          "model_module_version": "2.0.0",
          "state": {
            "_dom_classes": [],
            "_model_module": "@jupyter-widgets/controls",
            "_model_module_version": "2.0.0",
            "_model_name": "FloatProgressModel",
            "_view_count": null,
            "_view_module": "@jupyter-widgets/controls",
            "_view_module_version": "2.0.0",
            "_view_name": "ProgressView",
            "bar_style": "success",
            "description": "",
            "description_allow_html": false,
            "layout": "IPY_MODEL_d0cbf729383d4c36b5b0114714387367",
            "max": 6436,
            "min": 0,
            "orientation": "horizontal",
            "style": "IPY_MODEL_6a04a8df14374a83b875758adcbcbd68",
            "tabbable": null,
            "tooltip": null,
            "value": 6436
          }
        },
        "735884e50bac4015a5a4ee377e236a64": {
          "model_module": "@jupyter-widgets/controls",
          "model_name": "HTMLModel",
          "model_module_version": "2.0.0",
          "state": {
            "_dom_classes": [],
            "_model_module": "@jupyter-widgets/controls",
            "_model_module_version": "2.0.0",
            "_model_name": "HTMLModel",
            "_view_count": null,
            "_view_module": "@jupyter-widgets/controls",
            "_view_module_version": "2.0.0",
            "_view_name": "HTMLView",
            "description": "",
            "description_allow_html": false,
            "layout": "IPY_MODEL_417008556d5f44798918ca58c49289e7",
            "placeholder": "​",
            "style": "IPY_MODEL_13087968f42e490c8a89a1d040c7d4a1",
            "tabbable": null,
            "tooltip": null,
            "value": " 6436/6436 [02:35&lt;00:00, 46.01it/s]"
          }
        },
        "ec3c5a79b9364784b0ece5a4b02d4953": {
          "model_module": "@jupyter-widgets/base",
          "model_name": "LayoutModel",
          "model_module_version": "2.0.0",
          "state": {
            "_model_module": "@jupyter-widgets/base",
            "_model_module_version": "2.0.0",
            "_model_name": "LayoutModel",
            "_view_count": null,
            "_view_module": "@jupyter-widgets/base",
            "_view_module_version": "2.0.0",
            "_view_name": "LayoutView",
            "align_content": null,
            "align_items": null,
            "align_self": null,
            "border_bottom": null,
            "border_left": null,
            "border_right": null,
            "border_top": null,
            "bottom": null,
            "display": null,
            "flex": null,
            "flex_flow": null,
            "grid_area": null,
            "grid_auto_columns": null,
            "grid_auto_flow": null,
            "grid_auto_rows": null,
            "grid_column": null,
            "grid_gap": null,
            "grid_row": null,
            "grid_template_areas": null,
            "grid_template_columns": null,
            "grid_template_rows": null,
            "height": null,
            "justify_content": null,
            "justify_items": null,
            "left": null,
            "margin": null,
            "max_height": null,
            "max_width": null,
            "min_height": null,
            "min_width": null,
            "object_fit": null,
            "object_position": null,
            "order": null,
            "overflow": null,
            "padding": null,
            "right": null,
            "top": null,
            "visibility": null,
            "width": null
          }
        },
        "759787b0e6294eb09661de3d32c6cff7": {
          "model_module": "@jupyter-widgets/base",
          "model_name": "LayoutModel",
          "model_module_version": "2.0.0",
          "state": {
            "_model_module": "@jupyter-widgets/base",
            "_model_module_version": "2.0.0",
            "_model_name": "LayoutModel",
            "_view_count": null,
            "_view_module": "@jupyter-widgets/base",
            "_view_module_version": "2.0.0",
            "_view_name": "LayoutView",
            "align_content": null,
            "align_items": null,
            "align_self": null,
            "border_bottom": null,
            "border_left": null,
            "border_right": null,
            "border_top": null,
            "bottom": null,
            "display": null,
            "flex": null,
            "flex_flow": null,
            "grid_area": null,
            "grid_auto_columns": null,
            "grid_auto_flow": null,
            "grid_auto_rows": null,
            "grid_column": null,
            "grid_gap": null,
            "grid_row": null,
            "grid_template_areas": null,
            "grid_template_columns": null,
            "grid_template_rows": null,
            "height": null,
            "justify_content": null,
            "justify_items": null,
            "left": null,
            "margin": null,
            "max_height": null,
            "max_width": null,
            "min_height": null,
            "min_width": null,
            "object_fit": null,
            "object_position": null,
            "order": null,
            "overflow": null,
            "padding": null,
            "right": null,
            "top": null,
            "visibility": null,
            "width": null
          }
        },
        "5e3b091921c44a319727455bc1c075ef": {
          "model_module": "@jupyter-widgets/controls",
          "model_name": "HTMLStyleModel",
          "model_module_version": "2.0.0",
          "state": {
            "_model_module": "@jupyter-widgets/controls",
            "_model_module_version": "2.0.0",
            "_model_name": "HTMLStyleModel",
            "_view_count": null,
            "_view_module": "@jupyter-widgets/base",
            "_view_module_version": "2.0.0",
            "_view_name": "StyleView",
            "background": null,
            "description_width": "",
            "font_size": null,
            "text_color": null
          }
        },
        "d0cbf729383d4c36b5b0114714387367": {
          "model_module": "@jupyter-widgets/base",
          "model_name": "LayoutModel",
          "model_module_version": "2.0.0",
          "state": {
            "_model_module": "@jupyter-widgets/base",
            "_model_module_version": "2.0.0",
            "_model_name": "LayoutModel",
            "_view_count": null,
            "_view_module": "@jupyter-widgets/base",
            "_view_module_version": "2.0.0",
            "_view_name": "LayoutView",
            "align_content": null,
            "align_items": null,
            "align_self": null,
            "border_bottom": null,
            "border_left": null,
            "border_right": null,
            "border_top": null,
            "bottom": null,
            "display": null,
            "flex": null,
            "flex_flow": null,
            "grid_area": null,
            "grid_auto_columns": null,
            "grid_auto_flow": null,
            "grid_auto_rows": null,
            "grid_column": null,
            "grid_gap": null,
            "grid_row": null,
            "grid_template_areas": null,
            "grid_template_columns": null,
            "grid_template_rows": null,
            "height": null,
            "justify_content": null,
            "justify_items": null,
            "left": null,
            "margin": null,
            "max_height": null,
            "max_width": null,
            "min_height": null,
            "min_width": null,
            "object_fit": null,
            "object_position": null,
            "order": null,
            "overflow": null,
            "padding": null,
            "right": null,
            "top": null,
            "visibility": null,
            "width": null
          }
        },
        "6a04a8df14374a83b875758adcbcbd68": {
          "model_module": "@jupyter-widgets/controls",
          "model_name": "ProgressStyleModel",
          "model_module_version": "2.0.0",
          "state": {
            "_model_module": "@jupyter-widgets/controls",
            "_model_module_version": "2.0.0",
            "_model_name": "ProgressStyleModel",
            "_view_count": null,
            "_view_module": "@jupyter-widgets/base",
            "_view_module_version": "2.0.0",
            "_view_name": "StyleView",
            "bar_color": null,
            "description_width": ""
          }
        },
        "417008556d5f44798918ca58c49289e7": {
          "model_module": "@jupyter-widgets/base",
          "model_name": "LayoutModel",
          "model_module_version": "2.0.0",
          "state": {
            "_model_module": "@jupyter-widgets/base",
            "_model_module_version": "2.0.0",
            "_model_name": "LayoutModel",
            "_view_count": null,
            "_view_module": "@jupyter-widgets/base",
            "_view_module_version": "2.0.0",
            "_view_name": "LayoutView",
            "align_content": null,
            "align_items": null,
            "align_self": null,
            "border_bottom": null,
            "border_left": null,
            "border_right": null,
            "border_top": null,
            "bottom": null,
            "display": null,
            "flex": null,
            "flex_flow": null,
            "grid_area": null,
            "grid_auto_columns": null,
            "grid_auto_flow": null,
            "grid_auto_rows": null,
            "grid_column": null,
            "grid_gap": null,
            "grid_row": null,
            "grid_template_areas": null,
            "grid_template_columns": null,
            "grid_template_rows": null,
            "height": null,
            "justify_content": null,
            "justify_items": null,
            "left": null,
            "margin": null,
            "max_height": null,
            "max_width": null,
            "min_height": null,
            "min_width": null,
            "object_fit": null,
            "object_position": null,
            "order": null,
            "overflow": null,
            "padding": null,
            "right": null,
            "top": null,
            "visibility": null,
            "width": null
          }
        },
        "13087968f42e490c8a89a1d040c7d4a1": {
          "model_module": "@jupyter-widgets/controls",
          "model_name": "HTMLStyleModel",
          "model_module_version": "2.0.0",
          "state": {
            "_model_module": "@jupyter-widgets/controls",
            "_model_module_version": "2.0.0",
            "_model_name": "HTMLStyleModel",
            "_view_count": null,
            "_view_module": "@jupyter-widgets/base",
            "_view_module_version": "2.0.0",
            "_view_name": "StyleView",
            "background": null,
            "description_width": "",
            "font_size": null,
            "text_color": null
          }
        }
      }
    }
  },
  "cells": [
    {
      "cell_type": "markdown",
      "source": [
        "# GPT2"
      ],
      "metadata": {
        "id": "VUZRFeXAwMN3"
      }
    },
    {
      "cell_type": "code",
      "metadata": {
        "colab": {
          "base_uri": "https://localhost:8080/",
          "height": 798
        },
        "id": "827eec33",
        "outputId": "b9d19208-c0ec-4b06-b4d2-d9524fe171ec"
      },
      "source": [
        "!pip install datasets\n",
        "\n",
        "from datasets import load_dataset\n",
        "\n",
        "dataset = load_dataset(\"tweet_eval\", \"sentiment\")\n",
        "display(dataset['train'].to_pandas().head())"
      ],
      "execution_count": null,
      "outputs": [
        {
          "output_type": "stream",
          "name": "stdout",
          "text": [
            "Requirement already satisfied: datasets in c:\\programdata\\miniconda3\\envs\\tweeteval\\lib\\site-packages (4.1.1)\n",
            "Requirement already satisfied: filelock in c:\\programdata\\miniconda3\\envs\\tweeteval\\lib\\site-packages (from datasets) (3.17.0)\n",
            "Requirement already satisfied: numpy>=1.17 in c:\\programdata\\miniconda3\\envs\\tweeteval\\lib\\site-packages (from datasets) (2.0.1)\n",
            "Requirement already satisfied: pyarrow>=21.0.0 in c:\\programdata\\miniconda3\\envs\\tweeteval\\lib\\site-packages (from datasets) (21.0.0)\n",
            "Requirement already satisfied: dill<0.4.1,>=0.3.0 in c:\\programdata\\miniconda3\\envs\\tweeteval\\lib\\site-packages (from datasets) (0.4.0)\n",
            "Requirement already satisfied: pandas in c:\\programdata\\miniconda3\\envs\\tweeteval\\lib\\site-packages (from datasets) (2.3.2)\n",
            "Requirement already satisfied: requests>=2.32.2 in c:\\programdata\\miniconda3\\envs\\tweeteval\\lib\\site-packages (from datasets) (2.32.5)\n",
            "Requirement already satisfied: tqdm>=4.66.3 in c:\\programdata\\miniconda3\\envs\\tweeteval\\lib\\site-packages (from datasets) (4.67.1)\n",
            "Requirement already satisfied: xxhash in c:\\programdata\\miniconda3\\envs\\tweeteval\\lib\\site-packages (from datasets) (3.5.0)\n",
            "Requirement already satisfied: multiprocess<0.70.17 in c:\\programdata\\miniconda3\\envs\\tweeteval\\lib\\site-packages (from datasets) (0.70.16)\n",
            "Requirement already satisfied: fsspec<=2025.9.0,>=2023.1.0 in c:\\programdata\\miniconda3\\envs\\tweeteval\\lib\\site-packages (from fsspec[http]<=2025.9.0,>=2023.1.0->datasets) (2025.9.0)\n",
            "Requirement already satisfied: huggingface-hub>=0.24.0 in c:\\programdata\\miniconda3\\envs\\tweeteval\\lib\\site-packages (from datasets) (0.35.1)\n",
            "Requirement already satisfied: packaging in c:\\programdata\\miniconda3\\envs\\tweeteval\\lib\\site-packages (from datasets) (25.0)\n",
            "Requirement already satisfied: pyyaml>=5.1 in c:\\programdata\\miniconda3\\envs\\tweeteval\\lib\\site-packages (from datasets) (6.0.2)\n",
            "Requirement already satisfied: aiohttp!=4.0.0a0,!=4.0.0a1 in c:\\programdata\\miniconda3\\envs\\tweeteval\\lib\\site-packages (from fsspec[http]<=2025.9.0,>=2023.1.0->datasets) (3.12.15)\n",
            "Requirement already satisfied: aiohappyeyeballs>=2.5.0 in c:\\programdata\\miniconda3\\envs\\tweeteval\\lib\\site-packages (from aiohttp!=4.0.0a0,!=4.0.0a1->fsspec[http]<=2025.9.0,>=2023.1.0->datasets) (2.6.1)\n",
            "Requirement already satisfied: aiosignal>=1.4.0 in c:\\programdata\\miniconda3\\envs\\tweeteval\\lib\\site-packages (from aiohttp!=4.0.0a0,!=4.0.0a1->fsspec[http]<=2025.9.0,>=2023.1.0->datasets) (1.4.0)\n",
            "Requirement already satisfied: async-timeout<6.0,>=4.0 in c:\\programdata\\miniconda3\\envs\\tweeteval\\lib\\site-packages (from aiohttp!=4.0.0a0,!=4.0.0a1->fsspec[http]<=2025.9.0,>=2023.1.0->datasets) (5.0.1)\n",
            "Requirement already satisfied: attrs>=17.3.0 in c:\\programdata\\miniconda3\\envs\\tweeteval\\lib\\site-packages (from aiohttp!=4.0.0a0,!=4.0.0a1->fsspec[http]<=2025.9.0,>=2023.1.0->datasets) (24.3.0)\n",
            "Requirement already satisfied: frozenlist>=1.1.1 in c:\\programdata\\miniconda3\\envs\\tweeteval\\lib\\site-packages (from aiohttp!=4.0.0a0,!=4.0.0a1->fsspec[http]<=2025.9.0,>=2023.1.0->datasets) (1.7.0)\n",
            "Requirement already satisfied: multidict<7.0,>=4.5 in c:\\programdata\\miniconda3\\envs\\tweeteval\\lib\\site-packages (from aiohttp!=4.0.0a0,!=4.0.0a1->fsspec[http]<=2025.9.0,>=2023.1.0->datasets) (6.6.4)\n",
            "Requirement already satisfied: propcache>=0.2.0 in c:\\programdata\\miniconda3\\envs\\tweeteval\\lib\\site-packages (from aiohttp!=4.0.0a0,!=4.0.0a1->fsspec[http]<=2025.9.0,>=2023.1.0->datasets) (0.3.2)\n",
            "Requirement already satisfied: yarl<2.0,>=1.17.0 in c:\\programdata\\miniconda3\\envs\\tweeteval\\lib\\site-packages (from aiohttp!=4.0.0a0,!=4.0.0a1->fsspec[http]<=2025.9.0,>=2023.1.0->datasets) (1.20.1)\n",
            "Requirement already satisfied: typing-extensions>=4.1.0 in c:\\programdata\\miniconda3\\envs\\tweeteval\\lib\\site-packages (from multidict<7.0,>=4.5->aiohttp!=4.0.0a0,!=4.0.0a1->fsspec[http]<=2025.9.0,>=2023.1.0->datasets) (4.15.0)\n",
            "Requirement already satisfied: idna>=2.0 in c:\\programdata\\miniconda3\\envs\\tweeteval\\lib\\site-packages (from yarl<2.0,>=1.17.0->aiohttp!=4.0.0a0,!=4.0.0a1->fsspec[http]<=2025.9.0,>=2023.1.0->datasets) (3.7)\n",
            "Requirement already satisfied: charset_normalizer<4,>=2 in c:\\programdata\\miniconda3\\envs\\tweeteval\\lib\\site-packages (from requests>=2.32.2->datasets) (3.3.2)\n",
            "Requirement already satisfied: urllib3<3,>=1.21.1 in c:\\programdata\\miniconda3\\envs\\tweeteval\\lib\\site-packages (from requests>=2.32.2->datasets) (2.5.0)\n",
            "Requirement already satisfied: certifi>=2017.4.17 in c:\\programdata\\miniconda3\\envs\\tweeteval\\lib\\site-packages (from requests>=2.32.2->datasets) (2025.8.3)\n",
            "Requirement already satisfied: colorama in c:\\programdata\\miniconda3\\envs\\tweeteval\\lib\\site-packages (from tqdm>=4.66.3->datasets) (0.4.6)\n",
            "Requirement already satisfied: python-dateutil>=2.8.2 in c:\\programdata\\miniconda3\\envs\\tweeteval\\lib\\site-packages (from pandas->datasets) (2.9.0.post0)\n",
            "Requirement already satisfied: pytz>=2020.1 in c:\\programdata\\miniconda3\\envs\\tweeteval\\lib\\site-packages (from pandas->datasets) (2025.2)\n",
            "Requirement already satisfied: tzdata>=2022.7 in c:\\programdata\\miniconda3\\envs\\tweeteval\\lib\\site-packages (from pandas->datasets) (2025.2)\n",
            "Requirement already satisfied: six>=1.5 in c:\\programdata\\miniconda3\\envs\\tweeteval\\lib\\site-packages (from python-dateutil>=2.8.2->pandas->datasets) (1.17.0)\n"
          ]
        },
        {
          "output_type": "display_data",
          "data": {
            "text/plain": [
              "                                                text  label\n",
              "0  \"QT @user In the original draft of the 7th boo...      2\n",
              "1  \"Ben Smith / Smith (concussion) remains out of...      1\n",
              "2  Sorry bout the stream last night I crashed out...      1\n",
              "3  Chase Headley's RBI double in the 8th inning o...      1\n",
              "4  @user Alciato: Bee will invest 150 million in ...      2"
            ],
            "text/html": [
              "<div>\n",
              "<style scoped>\n",
              "    .dataframe tbody tr th:only-of-type {\n",
              "        vertical-align: middle;\n",
              "    }\n",
              "\n",
              "    .dataframe tbody tr th {\n",
              "        vertical-align: top;\n",
              "    }\n",
              "\n",
              "    .dataframe thead th {\n",
              "        text-align: right;\n",
              "    }\n",
              "</style>\n",
              "<table border=\"1\" class=\"dataframe\">\n",
              "  <thead>\n",
              "    <tr style=\"text-align: right;\">\n",
              "      <th></th>\n",
              "      <th>text</th>\n",
              "      <th>label</th>\n",
              "    </tr>\n",
              "  </thead>\n",
              "  <tbody>\n",
              "    <tr>\n",
              "      <th>0</th>\n",
              "      <td>\"QT @user In the original draft of the 7th boo...</td>\n",
              "      <td>2</td>\n",
              "    </tr>\n",
              "    <tr>\n",
              "      <th>1</th>\n",
              "      <td>\"Ben Smith / Smith (concussion) remains out of...</td>\n",
              "      <td>1</td>\n",
              "    </tr>\n",
              "    <tr>\n",
              "      <th>2</th>\n",
              "      <td>Sorry bout the stream last night I crashed out...</td>\n",
              "      <td>1</td>\n",
              "    </tr>\n",
              "    <tr>\n",
              "      <th>3</th>\n",
              "      <td>Chase Headley's RBI double in the 8th inning o...</td>\n",
              "      <td>1</td>\n",
              "    </tr>\n",
              "    <tr>\n",
              "      <th>4</th>\n",
              "      <td>@user Alciato: Bee will invest 150 million in ...</td>\n",
              "      <td>2</td>\n",
              "    </tr>\n",
              "  </tbody>\n",
              "</table>\n",
              "</div>"
            ]
          },
          "metadata": {}
        }
      ]
    },
    {
      "cell_type": "code",
      "metadata": {
        "colab": {
          "base_uri": "https://localhost:8080/",
          "height": 223
        },
        "id": "6dbba229",
        "outputId": "08fd7cd3-7668-416e-cae1-12f30bab988b"
      },
      "source": [
        "import pandas as pd\n",
        "\n",
        "# Convert splits to pandas DataFrames\n",
        "train_df = dataset['train'].to_pandas()\n",
        "test_df = dataset['test'].to_pandas()\n",
        "validation_df = dataset['validation'].to_pandas()\n",
        "\n",
        "# Merge the DataFrames\n",
        "merged_df = pd.concat([train_df, test_df, validation_df])\n",
        "\n",
        "# Display the first few rows of the merged DataFrame\n",
        "display(merged_df.head())\n",
        "\n",
        "# Display the shape of the merged DataFrame\n",
        "print(f\"Shape of the merged DataFrame: {merged_df.shape}\")"
      ],
      "execution_count": null,
      "outputs": [
        {
          "output_type": "display_data",
          "data": {
            "text/plain": [
              "                                                text  label\n",
              "0  \"QT @user In the original draft of the 7th boo...      2\n",
              "1  \"Ben Smith / Smith (concussion) remains out of...      1\n",
              "2  Sorry bout the stream last night I crashed out...      1\n",
              "3  Chase Headley's RBI double in the 8th inning o...      1\n",
              "4  @user Alciato: Bee will invest 150 million in ...      2"
            ],
            "text/html": [
              "<div>\n",
              "<style scoped>\n",
              "    .dataframe tbody tr th:only-of-type {\n",
              "        vertical-align: middle;\n",
              "    }\n",
              "\n",
              "    .dataframe tbody tr th {\n",
              "        vertical-align: top;\n",
              "    }\n",
              "\n",
              "    .dataframe thead th {\n",
              "        text-align: right;\n",
              "    }\n",
              "</style>\n",
              "<table border=\"1\" class=\"dataframe\">\n",
              "  <thead>\n",
              "    <tr style=\"text-align: right;\">\n",
              "      <th></th>\n",
              "      <th>text</th>\n",
              "      <th>label</th>\n",
              "    </tr>\n",
              "  </thead>\n",
              "  <tbody>\n",
              "    <tr>\n",
              "      <th>0</th>\n",
              "      <td>\"QT @user In the original draft of the 7th boo...</td>\n",
              "      <td>2</td>\n",
              "    </tr>\n",
              "    <tr>\n",
              "      <th>1</th>\n",
              "      <td>\"Ben Smith / Smith (concussion) remains out of...</td>\n",
              "      <td>1</td>\n",
              "    </tr>\n",
              "    <tr>\n",
              "      <th>2</th>\n",
              "      <td>Sorry bout the stream last night I crashed out...</td>\n",
              "      <td>1</td>\n",
              "    </tr>\n",
              "    <tr>\n",
              "      <th>3</th>\n",
              "      <td>Chase Headley's RBI double in the 8th inning o...</td>\n",
              "      <td>1</td>\n",
              "    </tr>\n",
              "    <tr>\n",
              "      <th>4</th>\n",
              "      <td>@user Alciato: Bee will invest 150 million in ...</td>\n",
              "      <td>2</td>\n",
              "    </tr>\n",
              "  </tbody>\n",
              "</table>\n",
              "</div>"
            ]
          },
          "metadata": {}
        },
        {
          "output_type": "stream",
          "name": "stdout",
          "text": [
            "Shape of the merged DataFrame: (59899, 2)\n"
          ]
        }
      ]
    },
    {
      "cell_type": "code",
      "metadata": {
        "colab": {
          "base_uri": "https://localhost:8080/"
        },
        "id": "f0f43c9f",
        "outputId": "b374502b-e4aa-4245-f5d3-da8603565fed"
      },
      "source": [
        "# Check for missing values\n",
        "print(\"Missing values before cleaning:\")\n",
        "print(merged_df.isnull().sum())\n",
        "\n",
        "# Since there are no missing values, we can skip handling them for this dataset."
      ],
      "execution_count": null,
      "outputs": [
        {
          "output_type": "stream",
          "name": "stdout",
          "text": [
            "Missing values before cleaning:\n",
            "text     0\n",
            "label    0\n",
            "dtype: int64\n"
          ]
        }
      ]
    },
    {
      "cell_type": "code",
      "metadata": {
        "colab": {
          "base_uri": "https://localhost:8080/",
          "height": 206
        },
        "id": "50282bd6",
        "outputId": "69da052b-9f33-4f23-a6ec-a623900c0e8f"
      },
      "source": [
        "import re\n",
        "\n",
        "def clean_text(text):\n",
        "    # Convert to lowercase\n",
        "    text = text.lower()\n",
        "    # Remove mentions (@user) and URLs (http/https)\n",
        "    text = re.sub(r'(@\\w+|http\\S+)', '', text)\n",
        "    # Remove punctuation\n",
        "    text = re.sub(r'[^\\w\\s]', '', text)\n",
        "    # Remove extra whitespace\n",
        "    text = re.sub(r'\\s+', ' ', text).strip()\n",
        "    return text\n",
        "\n",
        "merged_df['cleaned_text'] = merged_df['text'].apply(clean_text)\n",
        "\n",
        "display(merged_df[['text', 'cleaned_text']].head())"
      ],
      "execution_count": null,
      "outputs": [
        {
          "output_type": "display_data",
          "data": {
            "text/plain": [
              "                                                text  \\\n",
              "0  \"QT @user In the original draft of the 7th boo...   \n",
              "1  \"Ben Smith / Smith (concussion) remains out of...   \n",
              "2  Sorry bout the stream last night I crashed out...   \n",
              "3  Chase Headley's RBI double in the 8th inning o...   \n",
              "4  @user Alciato: Bee will invest 150 million in ...   \n",
              "\n",
              "                                        cleaned_text  \n",
              "0  qt in the original draft of the 7th book remus...  \n",
              "1  ben smith smith concussion remains out of the ...  \n",
              "2  sorry bout the stream last night i crashed out...  \n",
              "3  chase headleys rbi double in the 8th inning of...  \n",
              "4  alciato bee will invest 150 million in january...  "
            ],
            "text/html": [
              "<div>\n",
              "<style scoped>\n",
              "    .dataframe tbody tr th:only-of-type {\n",
              "        vertical-align: middle;\n",
              "    }\n",
              "\n",
              "    .dataframe tbody tr th {\n",
              "        vertical-align: top;\n",
              "    }\n",
              "\n",
              "    .dataframe thead th {\n",
              "        text-align: right;\n",
              "    }\n",
              "</style>\n",
              "<table border=\"1\" class=\"dataframe\">\n",
              "  <thead>\n",
              "    <tr style=\"text-align: right;\">\n",
              "      <th></th>\n",
              "      <th>text</th>\n",
              "      <th>cleaned_text</th>\n",
              "    </tr>\n",
              "  </thead>\n",
              "  <tbody>\n",
              "    <tr>\n",
              "      <th>0</th>\n",
              "      <td>\"QT @user In the original draft of the 7th boo...</td>\n",
              "      <td>qt in the original draft of the 7th book remus...</td>\n",
              "    </tr>\n",
              "    <tr>\n",
              "      <th>1</th>\n",
              "      <td>\"Ben Smith / Smith (concussion) remains out of...</td>\n",
              "      <td>ben smith smith concussion remains out of the ...</td>\n",
              "    </tr>\n",
              "    <tr>\n",
              "      <th>2</th>\n",
              "      <td>Sorry bout the stream last night I crashed out...</td>\n",
              "      <td>sorry bout the stream last night i crashed out...</td>\n",
              "    </tr>\n",
              "    <tr>\n",
              "      <th>3</th>\n",
              "      <td>Chase Headley's RBI double in the 8th inning o...</td>\n",
              "      <td>chase headleys rbi double in the 8th inning of...</td>\n",
              "    </tr>\n",
              "    <tr>\n",
              "      <th>4</th>\n",
              "      <td>@user Alciato: Bee will invest 150 million in ...</td>\n",
              "      <td>alciato bee will invest 150 million in january...</td>\n",
              "    </tr>\n",
              "  </tbody>\n",
              "</table>\n",
              "</div>"
            ]
          },
          "metadata": {}
        }
      ]
    },
    {
      "cell_type": "code",
      "source": [
        "pip install transformers"
      ],
      "metadata": {
        "colab": {
          "base_uri": "https://localhost:8080/"
        },
        "id": "X-zbxpl2vt6u",
        "outputId": "dde867f4-f019-4a5e-8e37-caf3d805effa"
      },
      "execution_count": null,
      "outputs": [
        {
          "output_type": "stream",
          "name": "stdout",
          "text": [
            "Requirement already satisfied: transformers in c:\\programdata\\miniconda3\\envs\\tweeteval\\lib\\site-packages (4.56.2)\n",
            "Requirement already satisfied: filelock in c:\\programdata\\miniconda3\\envs\\tweeteval\\lib\\site-packages (from transformers) (3.17.0)\n",
            "Requirement already satisfied: huggingface-hub<1.0,>=0.34.0 in c:\\programdata\\miniconda3\\envs\\tweeteval\\lib\\site-packages (from transformers) (0.35.1)\n",
            "Requirement already satisfied: numpy>=1.17 in c:\\programdata\\miniconda3\\envs\\tweeteval\\lib\\site-packages (from transformers) (2.0.1)\n",
            "Requirement already satisfied: packaging>=20.0 in c:\\programdata\\miniconda3\\envs\\tweeteval\\lib\\site-packages (from transformers) (25.0)\n",
            "Requirement already satisfied: pyyaml>=5.1 in c:\\programdata\\miniconda3\\envs\\tweeteval\\lib\\site-packages (from transformers) (6.0.2)\n",
            "Requirement already satisfied: regex!=2019.12.17 in c:\\programdata\\miniconda3\\envs\\tweeteval\\lib\\site-packages (from transformers) (2025.9.18)\n",
            "Requirement already satisfied: requests in c:\\programdata\\miniconda3\\envs\\tweeteval\\lib\\site-packages (from transformers) (2.32.5)\n",
            "Requirement already satisfied: tokenizers<=0.23.0,>=0.22.0 in c:\\programdata\\miniconda3\\envs\\tweeteval\\lib\\site-packages (from transformers) (0.22.1)\n",
            "Requirement already satisfied: safetensors>=0.4.3 in c:\\programdata\\miniconda3\\envs\\tweeteval\\lib\\site-packages (from transformers) (0.6.2)\n",
            "Requirement already satisfied: tqdm>=4.27 in c:\\programdata\\miniconda3\\envs\\tweeteval\\lib\\site-packages (from transformers) (4.67.1)\n",
            "Requirement already satisfied: fsspec>=2023.5.0 in c:\\programdata\\miniconda3\\envs\\tweeteval\\lib\\site-packages (from huggingface-hub<1.0,>=0.34.0->transformers) (2025.9.0)\n",
            "Requirement already satisfied: typing-extensions>=3.7.4.3 in c:\\programdata\\miniconda3\\envs\\tweeteval\\lib\\site-packages (from huggingface-hub<1.0,>=0.34.0->transformers) (4.15.0)\n",
            "Requirement already satisfied: colorama in c:\\programdata\\miniconda3\\envs\\tweeteval\\lib\\site-packages (from tqdm>=4.27->transformers) (0.4.6)\n",
            "Requirement already satisfied: charset_normalizer<4,>=2 in c:\\programdata\\miniconda3\\envs\\tweeteval\\lib\\site-packages (from requests->transformers) (3.3.2)\n",
            "Requirement already satisfied: idna<4,>=2.5 in c:\\programdata\\miniconda3\\envs\\tweeteval\\lib\\site-packages (from requests->transformers) (3.7)\n",
            "Requirement already satisfied: urllib3<3,>=1.21.1 in c:\\programdata\\miniconda3\\envs\\tweeteval\\lib\\site-packages (from requests->transformers) (2.5.0)\n",
            "Requirement already satisfied: certifi>=2017.4.17 in c:\\programdata\\miniconda3\\envs\\tweeteval\\lib\\site-packages (from requests->transformers) (2025.8.3)\n",
            "Note: you may need to restart the kernel to use updated packages.\n"
          ]
        }
      ]
    },
    {
      "cell_type": "code",
      "metadata": {
        "colab": {
          "base_uri": "https://localhost:8080/",
          "height": 206
        },
        "id": "ddbcd818",
        "outputId": "8632318a-a964-43d9-ef38-6f930eaacee5"
      },
      "source": [
        "from transformers import GPT2Tokenizer\n",
        "\n",
        "# Load the GPT-2 tokenizer\n",
        "tokenizer = GPT2Tokenizer.from_pretrained(\"gpt2\")\n",
        "\n",
        "def tokenize_for_gpt2(text):\n",
        "    # Tokenize the text using the GPT-2 tokenizer\n",
        "    tokens = tokenizer.encode(text, add_special_tokens=True)\n",
        "    return tokens\n",
        "\n",
        "merged_df['gpt2_tokens'] = merged_df['cleaned_text'].apply(tokenize_for_gpt2)\n",
        "\n",
        "display(merged_df[['cleaned_text', 'gpt2_tokens']].head())"
      ],
      "execution_count": null,
      "outputs": [
        {
          "output_type": "display_data",
          "data": {
            "text/plain": [
              "                                        cleaned_text  \\\n",
              "0  qt in the original draft of the 7th book remus...   \n",
              "1  ben smith smith concussion remains out of the ...   \n",
              "2  sorry bout the stream last night i crashed out...   \n",
              "3  chase headleys rbi double in the 8th inning of...   \n",
              "4  alciato bee will invest 150 million in january...   \n",
              "\n",
              "                                         gpt2_tokens  \n",
              "0  [39568, 287, 262, 2656, 4538, 286, 262, 767, 4...  \n",
              "1  [11722, 895, 342, 895, 342, 27502, 3793, 503, ...  \n",
              "2  [41599, 18222, 262, 4269, 938, 1755, 1312, 149...  \n",
              "3  [354, 589, 1182, 21325, 374, 8482, 4274, 287, ...  \n",
              "4  [282, 979, 5549, 20697, 481, 1325, 6640, 1510,...  "
            ],
            "text/html": [
              "<div>\n",
              "<style scoped>\n",
              "    .dataframe tbody tr th:only-of-type {\n",
              "        vertical-align: middle;\n",
              "    }\n",
              "\n",
              "    .dataframe tbody tr th {\n",
              "        vertical-align: top;\n",
              "    }\n",
              "\n",
              "    .dataframe thead th {\n",
              "        text-align: right;\n",
              "    }\n",
              "</style>\n",
              "<table border=\"1\" class=\"dataframe\">\n",
              "  <thead>\n",
              "    <tr style=\"text-align: right;\">\n",
              "      <th></th>\n",
              "      <th>cleaned_text</th>\n",
              "      <th>gpt2_tokens</th>\n",
              "    </tr>\n",
              "  </thead>\n",
              "  <tbody>\n",
              "    <tr>\n",
              "      <th>0</th>\n",
              "      <td>qt in the original draft of the 7th book remus...</td>\n",
              "      <td>[39568, 287, 262, 2656, 4538, 286, 262, 767, 4...</td>\n",
              "    </tr>\n",
              "    <tr>\n",
              "      <th>1</th>\n",
              "      <td>ben smith smith concussion remains out of the ...</td>\n",
              "      <td>[11722, 895, 342, 895, 342, 27502, 3793, 503, ...</td>\n",
              "    </tr>\n",
              "    <tr>\n",
              "      <th>2</th>\n",
              "      <td>sorry bout the stream last night i crashed out...</td>\n",
              "      <td>[41599, 18222, 262, 4269, 938, 1755, 1312, 149...</td>\n",
              "    </tr>\n",
              "    <tr>\n",
              "      <th>3</th>\n",
              "      <td>chase headleys rbi double in the 8th inning of...</td>\n",
              "      <td>[354, 589, 1182, 21325, 374, 8482, 4274, 287, ...</td>\n",
              "    </tr>\n",
              "    <tr>\n",
              "      <th>4</th>\n",
              "      <td>alciato bee will invest 150 million in january...</td>\n",
              "      <td>[282, 979, 5549, 20697, 481, 1325, 6640, 1510,...</td>\n",
              "    </tr>\n",
              "  </tbody>\n",
              "</table>\n",
              "</div>"
            ]
          },
          "metadata": {}
        }
      ]
    },
    {
      "cell_type": "code",
      "source": [
        "pip install matplotlib seaborn"
      ],
      "metadata": {
        "colab": {
          "base_uri": "https://localhost:8080/"
        },
        "id": "EhkU50GiwWVM",
        "outputId": "d0ce6ec3-bfdb-470d-bd97-ec93886a695e"
      },
      "execution_count": null,
      "outputs": [
        {
          "output_type": "stream",
          "name": "stdout",
          "text": [
            "Requirement already satisfied: matplotlib in c:\\programdata\\miniconda3\\envs\\tweeteval\\lib\\site-packages (3.10.6)\n",
            "Requirement already satisfied: seaborn in c:\\programdata\\miniconda3\\envs\\tweeteval\\lib\\site-packages (0.13.2)\n",
            "Requirement already satisfied: contourpy>=1.0.1 in c:\\programdata\\miniconda3\\envs\\tweeteval\\lib\\site-packages (from matplotlib) (1.3.2)\n",
            "Requirement already satisfied: cycler>=0.10 in c:\\programdata\\miniconda3\\envs\\tweeteval\\lib\\site-packages (from matplotlib) (0.12.1)\n",
            "Requirement already satisfied: fonttools>=4.22.0 in c:\\programdata\\miniconda3\\envs\\tweeteval\\lib\\site-packages (from matplotlib) (4.60.0)\n",
            "Requirement already satisfied: kiwisolver>=1.3.1 in c:\\programdata\\miniconda3\\envs\\tweeteval\\lib\\site-packages (from matplotlib) (1.4.9)\n",
            "Requirement already satisfied: numpy>=1.23 in c:\\programdata\\miniconda3\\envs\\tweeteval\\lib\\site-packages (from matplotlib) (2.0.1)\n",
            "Requirement already satisfied: packaging>=20.0 in c:\\programdata\\miniconda3\\envs\\tweeteval\\lib\\site-packages (from matplotlib) (25.0)\n",
            "Requirement already satisfied: pillow>=8 in c:\\programdata\\miniconda3\\envs\\tweeteval\\lib\\site-packages (from matplotlib) (11.1.0)\n",
            "Requirement already satisfied: pyparsing>=2.3.1 in c:\\programdata\\miniconda3\\envs\\tweeteval\\lib\\site-packages (from matplotlib) (3.2.5)\n",
            "Requirement already satisfied: python-dateutil>=2.7 in c:\\programdata\\miniconda3\\envs\\tweeteval\\lib\\site-packages (from matplotlib) (2.9.0.post0)\n",
            "Requirement already satisfied: pandas>=1.2 in c:\\programdata\\miniconda3\\envs\\tweeteval\\lib\\site-packages (from seaborn) (2.3.2)\n",
            "Requirement already satisfied: pytz>=2020.1 in c:\\programdata\\miniconda3\\envs\\tweeteval\\lib\\site-packages (from pandas>=1.2->seaborn) (2025.2)\n",
            "Requirement already satisfied: tzdata>=2022.7 in c:\\programdata\\miniconda3\\envs\\tweeteval\\lib\\site-packages (from pandas>=1.2->seaborn) (2025.2)\n",
            "Requirement already satisfied: six>=1.5 in c:\\programdata\\miniconda3\\envs\\tweeteval\\lib\\site-packages (from python-dateutil>=2.7->matplotlib) (1.17.0)\n",
            "Note: you may need to restart the kernel to use updated packages.\n"
          ]
        }
      ]
    },
    {
      "cell_type": "code",
      "metadata": {
        "colab": {
          "base_uri": "https://localhost:8080/",
          "height": 564
        },
        "id": "3d8ddca7",
        "outputId": "26aa3b48-4416-412b-ba6d-3c223285af82"
      },
      "source": [
        "import matplotlib.pyplot as plt\n",
        "import seaborn as sns\n",
        "\n",
        "# Get the value counts of the 'label' column\n",
        "label_counts = merged_df['label'].value_counts()\n",
        "\n",
        "# Create a bar plot\n",
        "plt.figure(figsize=(8, 6))\n",
        "sns.barplot(x=label_counts.index, y=label_counts.values)\n",
        "plt.title('Distribution of Class Labels')\n",
        "plt.xlabel('Label')\n",
        "plt.ylabel('Count')\n",
        "plt.xticks(ticks=label_counts.index, labels=['Negative', 'Neutral', 'Positive'])\n",
        "plt.show()"
      ],
      "execution_count": null,
      "outputs": [
        {
          "output_type": "display_data",
          "data": {
            "text/plain": [
              "<Figure size 800x600 with 1 Axes>"
            ],
            "image/png": "[encoded data removed]"
          },
          "metadata": {}
        }
      ]
    },
    {
      "cell_type": "code",
      "metadata": {
        "colab": {
          "base_uri": "https://localhost:8080/"
        },
        "id": "d389c617",
        "outputId": "9badc28e-02af-44e6-9103-f84aeacbd6af"
      },
      "source": [
        "!pip install scikit-learn"
      ],
      "execution_count": null,
      "outputs": [
        {
          "output_type": "stream",
          "name": "stdout",
          "text": [
            "Collecting scikit-learn\n",
            "  Using cached scikit_learn-1.7.2-cp310-cp310-win_amd64.whl.metadata (11 kB)\n",
            "Requirement already satisfied: numpy>=1.22.0 in c:\\programdata\\miniconda3\\envs\\tweeteval\\lib\\site-packages (from scikit-learn) (2.0.1)\n",
            "Collecting scipy>=1.8.0 (from scikit-learn)\n",
            "  Using cached scipy-1.15.3-cp310-cp310-win_amd64.whl.metadata (60 kB)\n",
            "Collecting joblib>=1.2.0 (from scikit-learn)\n",
            "  Using cached joblib-1.5.2-py3-none-any.whl.metadata (5.6 kB)\n",
            "Collecting threadpoolctl>=3.1.0 (from scikit-learn)\n",
            "  Using cached threadpoolctl-3.6.0-py3-none-any.whl.metadata (13 kB)\n",
            "Using cached scikit_learn-1.7.2-cp310-cp310-win_amd64.whl (8.9 MB)\n",
            "Using cached joblib-1.5.2-py3-none-any.whl (308 kB)\n",
            "Using cached scipy-1.15.3-cp310-cp310-win_amd64.whl (41.3 MB)\n",
            "Using cached threadpoolctl-3.6.0-py3-none-any.whl (18 kB)\n",
            "Installing collected packages: threadpoolctl, scipy, joblib, scikit-learn\n",
            "\n",
            "   ---------- ----------------------------- 1/4 [scipy]\n",
            "   ---------- ----------------------------- 1/4 [scipy]\n",
            "   ---------- ----------------------------- 1/4 [scipy]\n",
            "   ---------- ----------------------------- 1/4 [scipy]\n",
            "   ---------- ----------------------------- 1/4 [scipy]\n",
            "   ---------- ----------------------------- 1/4 [scipy]\n",
            "   ---------- ----------------------------- 1/4 [scipy]\n",
            "   ---------- ----------------------------- 1/4 [scipy]\n",
            "   ---------- ----------------------------- 1/4 [scipy]\n",
            "   ---------- ----------------------------- 1/4 [scipy]\n",
            "   ---------- ----------------------------- 1/4 [scipy]\n",
            "   ---------- ----------------------------- 1/4 [scipy]\n",
            "   ---------- ----------------------------- 1/4 [scipy]\n",
            "   ---------- ----------------------------- 1/4 [scipy]\n",
            "   ---------- ----------------------------- 1/4 [scipy]\n",
            "   ---------- ----------------------------- 1/4 [scipy]\n",
            "   ---------- ----------------------------- 1/4 [scipy]\n",
            "   ---------- ----------------------------- 1/4 [scipy]\n",
            "   ---------- ----------------------------- 1/4 [scipy]\n",
            "   ---------- ----------------------------- 1/4 [scipy]\n",
            "   ---------- ----------------------------- 1/4 [scipy]\n",
            "   ---------- ----------------------------- 1/4 [scipy]\n",
            "   ---------- ----------------------------- 1/4 [scipy]\n",
            "   ---------- ----------------------------- 1/4 [scipy]\n",
            "   ---------- ----------------------------- 1/4 [scipy]\n",
            "   ---------- ----------------------------- 1/4 [scipy]\n",
            "   -------------------- ------------------- 2/4 [joblib]\n",
            "   ------------------------------ --------- 3/4 [scikit-learn]\n",
            "   ------------------------------ --------- 3/4 [scikit-learn]\n",
            "   ------------------------------ --------- 3/4 [scikit-learn]\n",
            "   ------------------------------ --------- 3/4 [scikit-learn]\n",
            "   ------------------------------ --------- 3/4 [scikit-learn]\n",
            "   ------------------------------ --------- 3/4 [scikit-learn]\n",
            "   ------------------------------ --------- 3/4 [scikit-learn]\n",
            "   ------------------------------ --------- 3/4 [scikit-learn]\n",
            "   ------------------------------ --------- 3/4 [scikit-learn]\n",
            "   ------------------------------ --------- 3/4 [scikit-learn]\n",
            "   ------------------------------ --------- 3/4 [scikit-learn]\n",
            "   ------------------------------ --------- 3/4 [scikit-learn]\n",
            "   ------------------------------ --------- 3/4 [scikit-learn]\n",
            "   ------------------------------ --------- 3/4 [scikit-learn]\n",
            "   ------------------------------ --------- 3/4 [scikit-learn]\n",
            "   ------------------------------ --------- 3/4 [scikit-learn]\n",
            "   ---------------------------------------- 4/4 [scikit-learn]\n",
            "\n",
            "Successfully installed joblib-1.5.2 scikit-learn-1.7.2 scipy-1.15.3 threadpoolctl-3.6.0\n"
          ]
        }
      ]
    },
    {
      "cell_type": "code",
      "metadata": {
        "colab": {
          "base_uri": "https://localhost:8080/",
          "height": 258
        },
        "id": "fe7246cc",
        "outputId": "6caecbbc-cfd7-4268-82ec-723397c8f70d"
      },
      "source": [
        "from sklearn.model_selection import train_test_split\n",
        "\n",
        "# Filter for positive sentiment samples (label == 2)\n",
        "positive_df = merged_df[merged_df['label'] == 2].copy()\n",
        "\n",
        "# Split the positive_df into training and testing sets\n",
        "train_positive_df, test_positive_df = train_test_split(positive_df, test_size=0.2, random_state=42)\n",
        "\n",
        "# Format the text with a prefix indicating positive sentiment for the training set\n",
        "train_positive_df['formatted_text'] = '[Positive] ' + train_positive_df['cleaned_text']\n",
        "\n",
        "# Display the first few formatted samples from the training set\n",
        "display(train_positive_df[['cleaned_text', 'formatted_text']].head())\n",
        "\n",
        "print(f\"Shape of original positive_df: {positive_df.shape}\")\n",
        "print(f\"Shape of train_positive_df: {train_positive_df.shape}\")\n",
        "print(f\"Shape of test_positive_df: {test_positive_df.shape}\")"
      ],
      "execution_count": null,
      "outputs": [
        {
          "output_type": "display_data",
          "data": {
            "text/plain": [
              "                                            cleaned_text  \\\n",
              "9576   neymar shockingly starts playing for brazil li...   \n",
              "38409  sale mary green silk just married boyshort rev...   \n",
              "10366  nothing like a rainy sunday with coffee seinfe...   \n",
              "11147  oracle just sneak into lead from the leeward s...   \n",
              "29752     you need to come to the houston rodeo in march   \n",
              "\n",
              "                                          formatted_text  \n",
              "9576   [Positive] neymar shockingly starts playing fo...  \n",
              "38409  [Positive] sale mary green silk just married b...  \n",
              "10366  [Positive] nothing like a rainy sunday with co...  \n",
              "11147  [Positive] oracle just sneak into lead from th...  \n",
              "29752  [Positive] you need to come to the houston rod...  "
            ],
            "text/html": [
              "<div>\n",
              "<style scoped>\n",
              "    .dataframe tbody tr th:only-of-type {\n",
              "        vertical-align: middle;\n",
              "    }\n",
              "\n",
              "    .dataframe tbody tr th {\n",
              "        vertical-align: top;\n",
              "    }\n",
              "\n",
              "    .dataframe thead th {\n",
              "        text-align: right;\n",
              "    }\n",
              "</style>\n",
              "<table border=\"1\" class=\"dataframe\">\n",
              "  <thead>\n",
              "    <tr style=\"text-align: right;\">\n",
              "      <th></th>\n",
              "      <th>cleaned_text</th>\n",
              "      <th>formatted_text</th>\n",
              "    </tr>\n",
              "  </thead>\n",
              "  <tbody>\n",
              "    <tr>\n",
              "      <th>9576</th>\n",
              "      <td>neymar shockingly starts playing for brazil li...</td>\n",
              "      <td>[Positive] neymar shockingly starts playing fo...</td>\n",
              "    </tr>\n",
              "    <tr>\n",
              "      <th>38409</th>\n",
              "      <td>sale mary green silk just married boyshort rev...</td>\n",
              "      <td>[Positive] sale mary green silk just married b...</td>\n",
              "    </tr>\n",
              "    <tr>\n",
              "      <th>10366</th>\n",
              "      <td>nothing like a rainy sunday with coffee seinfe...</td>\n",
              "      <td>[Positive] nothing like a rainy sunday with co...</td>\n",
              "    </tr>\n",
              "    <tr>\n",
              "      <th>11147</th>\n",
              "      <td>oracle just sneak into lead from the leeward s...</td>\n",
              "      <td>[Positive] oracle just sneak into lead from th...</td>\n",
              "    </tr>\n",
              "    <tr>\n",
              "      <th>29752</th>\n",
              "      <td>you need to come to the houston rodeo in march</td>\n",
              "      <td>[Positive] you need to come to the houston rod...</td>\n",
              "    </tr>\n",
              "  </tbody>\n",
              "</table>\n",
              "</div>"
            ]
          },
          "metadata": {}
        },
        {
          "output_type": "stream",
          "name": "stdout",
          "text": [
            "Shape of original positive_df: (21043, 4)\n",
            "Shape of train_positive_df: (16834, 5)\n",
            "Shape of test_positive_df: (4209, 4)\n"
          ]
        }
      ]
    },
    {
      "cell_type": "code",
      "metadata": {
        "colab": {
          "base_uri": "https://localhost:8080/"
        },
        "id": "966fdcf4",
        "outputId": "7574b719-7c3d-4e25-ebc4-cca190d0a0ee"
      },
      "source": [
        "def tokenize_function(examples):\n",
        "    return tokenizer(examples['formatted_text'], padding=\"max_length\", truncation=True, max_length=128)\n",
        "\n",
        "# Add 'formatted_text' column to both train and test dataframes\n",
        "train_positive_df['formatted_text'] = '[Positive] ' + train_positive_df['cleaned_text']\n",
        "test_positive_df['formatted_text'] = '[Positive] ' + test_positive_df['cleaned_text']\n",
        "\n",
        "\n",
        "# Tokenize the training and testing sets\n",
        "tokenized_train_dataset = train_positive_df.copy()\n",
        "tokenized_train_dataset['input_ids'] = tokenized_train_dataset.apply(lambda x: tokenize_function({'formatted_text': x['formatted_text']})['input_ids'], axis=1)\n",
        "tokenized_train_dataset['attention_mask'] = tokenized_train_dataset.apply(lambda x: tokenize_function({'formatted_text': x['formatted_text']})['attention_mask'], axis=1)\n",
        "\n",
        "\n",
        "tokenized_test_dataset = test_positive_df.copy()\n",
        "tokenized_test_dataset['input_ids'] = tokenized_test_dataset.apply(lambda x: tokenize_function({'formatted_text': x['formatted_text']})['input_ids'], axis=1)\n",
        "tokenized_test_dataset['attention_mask'] = tokenized_test_dataset.apply(lambda x: tokenize_function({'formatted_text': x['formatted_text']})['attention_mask'], axis=1)\n",
        "\n",
        "print(\"Tokenization complete for training and testing sets.\")"
      ],
      "execution_count": null,
      "outputs": [
        {
          "output_type": "stream",
          "name": "stdout",
          "text": [
            "Tokenization complete for training and testing sets.\n"
          ]
        }
      ]
    },
    {
      "cell_type": "markdown",
      "metadata": {
        "id": "fef498a6"
      },
      "source": [
        "## Implement Hyperparameter Search\n",
        "\n",
        "### Subtask:\n",
        "Implement hyperparameter search using Optuna for epoch and learning rate, define training arguments, and use mixed precision."
      ]
    },
    {
      "cell_type": "markdown",
      "metadata": {
        "id": "accefe30"
      },
      "source": [
        "**Reasoning**:\n",
        "Use Optuna to search for the best epoch and learning rate, define the `TrainingArguments` with mixed precision enabled, and set up the `Trainer` for hyperparameter tuning."
      ]
    },
    {
      "cell_type": "code",
      "metadata": {
        "colab": {
          "base_uri": "https://localhost:8080/"
        },
        "id": "f377118e",
        "outputId": "14f9744c-1028-4c95-f182-20fc7db99756"
      },
      "source": [
        "!pip install optuna"
      ],
      "execution_count": null,
      "outputs": [
        {
          "output_type": "stream",
          "name": "stdout",
          "text": [
            "Requirement already satisfied: optuna in c:\\programdata\\miniconda3\\envs\\tweeteval\\lib\\site-packages (4.5.0)\n",
            "Requirement already satisfied: alembic>=1.5.0 in c:\\programdata\\miniconda3\\envs\\tweeteval\\lib\\site-packages (from optuna) (1.16.5)\n",
            "Requirement already satisfied: colorlog in c:\\programdata\\miniconda3\\envs\\tweeteval\\lib\\site-packages (from optuna) (6.9.0)\n",
            "Requirement already satisfied: numpy in c:\\programdata\\miniconda3\\envs\\tweeteval\\lib\\site-packages (from optuna) (2.0.1)\n",
            "Requirement already satisfied: packaging>=20.0 in c:\\programdata\\miniconda3\\envs\\tweeteval\\lib\\site-packages (from optuna) (25.0)\n",
            "Requirement already satisfied: sqlalchemy>=1.4.2 in c:\\programdata\\miniconda3\\envs\\tweeteval\\lib\\site-packages (from optuna) (2.0.43)\n",
            "Requirement already satisfied: tqdm in c:\\programdata\\miniconda3\\envs\\tweeteval\\lib\\site-packages (from optuna) (4.67.1)\n",
            "Requirement already satisfied: PyYAML in c:\\programdata\\miniconda3\\envs\\tweeteval\\lib\\site-packages (from optuna) (6.0.2)\n",
            "Requirement already satisfied: Mako in c:\\programdata\\miniconda3\\envs\\tweeteval\\lib\\site-packages (from alembic>=1.5.0->optuna) (1.3.10)\n",
            "Requirement already satisfied: typing-extensions>=4.12 in c:\\programdata\\miniconda3\\envs\\tweeteval\\lib\\site-packages (from alembic>=1.5.0->optuna) (4.15.0)\n",
            "Requirement already satisfied: tomli in c:\\programdata\\miniconda3\\envs\\tweeteval\\lib\\site-packages (from alembic>=1.5.0->optuna) (2.2.1)\n",
            "Requirement already satisfied: greenlet>=1 in c:\\programdata\\miniconda3\\envs\\tweeteval\\lib\\site-packages (from sqlalchemy>=1.4.2->optuna) (3.2.4)\n",
            "Requirement already satisfied: colorama in c:\\programdata\\miniconda3\\envs\\tweeteval\\lib\\site-packages (from colorlog->optuna) (0.4.6)\n",
            "Requirement already satisfied: MarkupSafe>=0.9.2 in c:\\programdata\\miniconda3\\envs\\tweeteval\\lib\\site-packages (from Mako->alembic>=1.5.0->optuna) (3.0.2)\n"
          ]
        }
      ]
    },
    {
      "cell_type": "code",
      "metadata": {
        "colab": {
          "base_uri": "https://localhost:8080/",
          "height": 988
        },
        "id": "791238cd",
        "outputId": "a0557bcc-de73-41c8-85ff-2acfc56dd695"
      },
      "source": [
        "import optuna\n",
        "from transformers import Trainer, TrainingArguments, AutoModelForCausalLM, AutoTokenizer\n",
        "import torch\n",
        "from torch.utils.data import Dataset\n",
        "\n",
        "# Assuming 'train_positive_df' is already created and cleaned with 'cleaned_text' and 'formatted_text' columns\n",
        "# Assuming 'tokenizer' and 'model' (DistilGPT-2) are already loaded and tokenizer.pad_token is set\n",
        "\n",
        "# Create a PyTorch Dataset from the tokenized training data\n",
        "class SentimentDataset(Dataset):\n",
        "    def __init__(self, dataframe, tokenizer):\n",
        "        self.dataframe = dataframe\n",
        "        self.tokenizer = tokenizer\n",
        "\n",
        "    def __len__(self):\n",
        "        return len(self.dataframe)\n",
        "\n",
        "    def __getitem__(self, idx):\n",
        "        item = self.tokenizer(self.dataframe.iloc[idx]['formatted_text'],\n",
        "                              padding=\"max_length\",\n",
        "                              truncation=True,\n",
        "                              max_length=128,\n",
        "                              return_tensors=\"pt\")\n",
        "        # Language modeling requires labels to be the input_ids\n",
        "        item['labels'] = item['input_ids'].clone()\n",
        "        return {key: val.squeeze() for key, val in item.items()} # Squeeze to remove batch dimension\n",
        "\n",
        "\n",
        "train_dataset = SentimentDataset(train_positive_df, tokenizer)\n",
        "test_dataset = SentimentDataset(test_positive_df, tokenizer) # Create test dataset\n",
        "\n",
        "\n",
        "# Define the model_init function for Optuna\n",
        "def model_init(trial):\n",
        "    # Load the pretrained DistilGPT-2 model for causal language modeling\n",
        "    model = AutoModelForCausalLM.from_pretrained(\"distilgpt2\")\n",
        "    # Set the padding token for the model\n",
        "    model.config.pad_token_id = model.config.eos_token_id\n",
        "    return model\n",
        "\n",
        "# Define the objective function for Optuna\n",
        "def objective(trial):\n",
        "    # Suggest hyperparameters\n",
        "    learning_rate = trial.suggest_float(\"learning_rate\", 1e-5, 5e-5, log=True)\n",
        "    num_train_epochs = trial.suggest_int(\"num_train_epochs\", 1, 3)\n",
        "\n",
        "    # Define training arguments with suggested hyperparameters and mixed precision\n",
        "    training_args = TrainingArguments(\n",
        "        output_dir='./results',          # output directory for checkpoints\n",
        "        num_train_epochs=num_train_epochs,              # number of training epochs\n",
        "        per_device_train_batch_size=8,   # batch size per device during training\n",
        "        save_steps=1000,                 # number of updates steps before checkpointing\n",
        "        save_total_limit=2,              # limit the total number of checkpoints to save\n",
        "        logging_dir='./logs',            # directory for storing logs\n",
        "        logging_steps=100,               # number of update steps before logging\n",
        "        learning_rate=learning_rate,      # learning rate from Optuna trial\n",
        "        weight_decay=0.01,               # weight decay\n",
        "        eval_strategy='epoch',           # Evaluate after each epoch\n",
        "        save_strategy='epoch',           # Save after each epoch to match eval_strategy\n",
        "        load_best_model_at_end=True,     # Load the best model based on evaluation metric\n",
        "        metric_for_best_model='eval_loss', # Metric to monitor for best model\n",
        "        report_to=\"none\", # Disable reporting to Weights & Biases\n",
        "        fp16=True # Enable mixed precision training\n",
        "    )\n",
        "\n",
        "    # Instantiate the Trainer object\n",
        "    trainer = Trainer(\n",
        "        model_init=model_init, # Use model_init for hyperparameter search\n",
        "        args=training_args,\n",
        "        train_dataset=train_dataset,\n",
        "        eval_dataset=test_dataset, # Include test dataset for evaluation\n",
        "    )\n",
        "\n",
        "    # Train the model\n",
        "    trainer.train()\n",
        "\n",
        "    # Evaluate the model on the test set and return the metric to optimize\n",
        "    eval_result = trainer.evaluate()\n",
        "    return eval_result[\"eval_loss\"] # Return the evaluation loss for minimization\n",
        "\n",
        "\n",
        "# Create an Optuna study and optimize the objective function\n",
        "# We aim to minimize the evaluation loss\n",
        "study = optuna.create_study(direction=\"minimize\")\n",
        "study.optimize(objective, n_trials=5) # Set n_trials to 1 as requested\n",
        "\n",
        "# Print the best trial's parameters\n",
        "print(\"Best trial:\")\n",
        "print(\"  Value (Evaluation Loss): {}\".format(study.best_trial.value))\n",
        "print(\"  Params: \")\n",
        "for key, value in study.best_trial.params.items():\n",
        "    print(\"    {}: {}\".format(key, value))"
      ],
      "execution_count": null,
      "outputs": [
        {
          "output_type": "stream",
          "name": "stderr",
          "text": [
            "[I 2025-09-24 23:14:58,390] A new study created in memory with name: no-name-f4e730f3-3ab8-4db0-aefe-d1acc39ec2e7\n"
          ]
        },
        {
          "output_type": "display_data",
          "data": {
            "text/plain": [
              "<IPython.core.display.HTML object>"
            ],
            "text/html": [
              "\n",
              "    <div>\n",
              "      \n",
              "      <progress value='4210' max='4210' style='width:300px; height:20px; vertical-align: middle;'></progress>\n",
              "      [4210/4210 08:56, Epoch 2/2]\n",
              "    </div>\n",
              "    <table border=\"1\" class=\"dataframe\">\n",
              "  <thead>\n",
              " <tr style=\"text-align: left;\">\n",
              "      <th>Epoch</th>\n",
              "      <th>Training Loss</th>\n",
              "      <th>Validation Loss</th>\n",
              "    </tr>\n",
              "  </thead>\n",
              "  <tbody>\n",
              "    <tr>\n",
              "      <td>1</td>\n",
              "      <td>0.891500</td>\n",
              "      <td>0.894042</td>\n",
              "    </tr>\n",
              "    <tr>\n",
              "      <td>2</td>\n",
              "      <td>0.851700</td>\n",
              "      <td>0.884899</td>\n",
              "    </tr>\n",
              "  </tbody>\n",
              "</table><p>"
            ]
          },
          "metadata": {}
        },
        {
          "output_type": "stream",
          "name": "stderr",
          "text": [
            "There were missing keys in the checkpoint model loaded: ['lm_head.weight'].\n"
          ]
        },
        {
          "output_type": "display_data",
          "data": {
            "text/plain": [
              "<IPython.core.display.HTML object>"
            ],
            "text/html": [
              "\n",
              "    <div>\n",
              "      \n",
              "      <progress value='527' max='527' style='width:300px; height:20px; vertical-align: middle;'></progress>\n",
              "      [527/527 00:15]\n",
              "    </div>\n",
              "    "
            ]
          },
          "metadata": {}
        },
        {
          "output_type": "stream",
          "name": "stderr",
          "text": [
            "[I 2025-09-24 23:24:13,927] Trial 0 finished with value: 0.884899377822876 and parameters: {'learning_rate': 2.2763699251894928e-05, 'num_train_epochs': 2}. Best is trial 0 with value: 0.884899377822876.\n"
          ]
        },
        {
          "output_type": "display_data",
          "data": {
            "text/plain": [
              "<IPython.core.display.HTML object>"
            ],
            "text/html": [
              "\n",
              "    <div>\n",
              "      \n",
              "      <progress value='4210' max='4210' style='width:300px; height:20px; vertical-align: middle;'></progress>\n",
              "      [4210/4210 09:32, Epoch 2/2]\n",
              "    </div>\n",
              "    <table border=\"1\" class=\"dataframe\">\n",
              "  <thead>\n",
              " <tr style=\"text-align: left;\">\n",
              "      <th>Epoch</th>\n",
              "      <th>Training Loss</th>\n",
              "      <th>Validation Loss</th>\n",
              "    </tr>\n",
              "  </thead>\n",
              "  <tbody>\n",
              "    <tr>\n",
              "      <td>1</td>\n",
              "      <td>0.888100</td>\n",
              "      <td>0.891089</td>\n",
              "    </tr>\n",
              "    <tr>\n",
              "      <td>2</td>\n",
              "      <td>0.847200</td>\n",
              "      <td>0.882032</td>\n",
              "    </tr>\n",
              "  </tbody>\n",
              "</table><p>"
            ]
          },
          "metadata": {}
        },
        {
          "output_type": "stream",
          "name": "stderr",
          "text": [
            "There were missing keys in the checkpoint model loaded: ['lm_head.weight'].\n"
          ]
        },
        {
          "output_type": "display_data",
          "data": {
            "text/plain": [
              "<IPython.core.display.HTML object>"
            ],
            "text/html": [
              "\n",
              "    <div>\n",
              "      \n",
              "      <progress value='527' max='527' style='width:300px; height:20px; vertical-align: middle;'></progress>\n",
              "      [527/527 00:17]\n",
              "    </div>\n",
              "    "
            ]
          },
          "metadata": {}
        },
        {
          "output_type": "stream",
          "name": "stderr",
          "text": [
            "[I 2025-09-24 23:34:08,022] Trial 1 finished with value: 0.8820319771766663 and parameters: {'learning_rate': 2.5005608656219784e-05, 'num_train_epochs': 2}. Best is trial 1 with value: 0.8820319771766663.\n"
          ]
        },
        {
          "output_type": "display_data",
          "data": {
            "text/plain": [
              "<IPython.core.display.HTML object>"
            ],
            "text/html": [
              "\n",
              "    <div>\n",
              "      \n",
              "      <progress value='6315' max='6315' style='width:300px; height:20px; vertical-align: middle;'></progress>\n",
              "      [6315/6315 13:47, Epoch 3/3]\n",
              "    </div>\n",
              "    <table border=\"1\" class=\"dataframe\">\n",
              "  <thead>\n",
              " <tr style=\"text-align: left;\">\n",
              "      <th>Epoch</th>\n",
              "      <th>Training Loss</th>\n",
              "      <th>Validation Loss</th>\n",
              "    </tr>\n",
              "  </thead>\n",
              "  <tbody>\n",
              "    <tr>\n",
              "      <td>1</td>\n",
              "      <td>0.905400</td>\n",
              "      <td>0.905863</td>\n",
              "    </tr>\n",
              "    <tr>\n",
              "      <td>2</td>\n",
              "      <td>0.862400</td>\n",
              "      <td>0.890378</td>\n",
              "    </tr>\n",
              "    <tr>\n",
              "      <td>3</td>\n",
              "      <td>0.843400</td>\n",
              "      <td>0.886850</td>\n",
              "    </tr>\n",
              "  </tbody>\n",
              "</table><p>"
            ]
          },
          "metadata": {}
        },
        {
          "output_type": "stream",
          "name": "stderr",
          "text": [
            "There were missing keys in the checkpoint model loaded: ['lm_head.weight'].\n"
          ]
        },
        {
          "output_type": "display_data",
          "data": {
            "text/plain": [
              "<IPython.core.display.HTML object>"
            ],
            "text/html": [
              "\n",
              "    <div>\n",
              "      \n",
              "      <progress value='527' max='527' style='width:300px; height:20px; vertical-align: middle;'></progress>\n",
              "      [527/527 00:16]\n",
              "    </div>\n",
              "    "
            ]
          },
          "metadata": {}
        },
        {
          "output_type": "stream",
          "name": "stderr",
          "text": [
            "[I 2025-09-24 23:48:15,534] Trial 2 finished with value: 0.8868496417999268 and parameters: {'learning_rate': 1.4516771220396764e-05, 'num_train_epochs': 3}. Best is trial 1 with value: 0.8820319771766663.\n"
          ]
        },
        {
          "output_type": "display_data",
          "data": {
            "text/plain": [
              "<IPython.core.display.HTML object>"
            ],
            "text/html": [
              "\n",
              "    <div>\n",
              "      \n",
              "      <progress value='2105' max='2105' style='width:300px; height:20px; vertical-align: middle;'></progress>\n",
              "      [2105/2105 04:49, Epoch 1/1]\n",
              "    </div>\n",
              "    <table border=\"1\" class=\"dataframe\">\n",
              "  <thead>\n",
              " <tr style=\"text-align: left;\">\n",
              "      <th>Epoch</th>\n",
              "      <th>Training Loss</th>\n",
              "      <th>Validation Loss</th>\n",
              "    </tr>\n",
              "  </thead>\n",
              "  <tbody>\n",
              "    <tr>\n",
              "      <td>1</td>\n",
              "      <td>0.889100</td>\n",
              "      <td>0.893506</td>\n",
              "    </tr>\n",
              "  </tbody>\n",
              "</table><p>"
            ]
          },
          "metadata": {}
        },
        {
          "output_type": "stream",
          "name": "stderr",
          "text": [
            "There were missing keys in the checkpoint model loaded: ['lm_head.weight'].\n"
          ]
        },
        {
          "output_type": "display_data",
          "data": {
            "text/plain": [
              "<IPython.core.display.HTML object>"
            ],
            "text/html": [
              "\n",
              "    <div>\n",
              "      \n",
              "      <progress value='527' max='527' style='width:300px; height:20px; vertical-align: middle;'></progress>\n",
              "      [527/527 00:20]\n",
              "    </div>\n",
              "    "
            ]
          },
          "metadata": {}
        },
        {
          "output_type": "stream",
          "name": "stderr",
          "text": [
            "[I 2025-09-24 23:53:29,540] Trial 3 finished with value: 0.8935064077377319 and parameters: {'learning_rate': 3.5071022498165464e-05, 'num_train_epochs': 1}. Best is trial 1 with value: 0.8820319771766663.\n"
          ]
        },
        {
          "output_type": "display_data",
          "data": {
            "text/plain": [
              "<IPython.core.display.HTML object>"
            ],
            "text/html": [
              "\n",
              "    <div>\n",
              "      \n",
              "      <progress value='2105' max='2105' style='width:300px; height:20px; vertical-align: middle;'></progress>\n",
              "      [2105/2105 04:54, Epoch 1/1]\n",
              "    </div>\n",
              "    <table border=\"1\" class=\"dataframe\">\n",
              "  <thead>\n",
              " <tr style=\"text-align: left;\">\n",
              "      <th>Epoch</th>\n",
              "      <th>Training Loss</th>\n",
              "      <th>Validation Loss</th>\n",
              "    </tr>\n",
              "  </thead>\n",
              "  <tbody>\n",
              "    <tr>\n",
              "      <td>1</td>\n",
              "      <td>0.911800</td>\n",
              "      <td>0.912535</td>\n",
              "    </tr>\n",
              "  </tbody>\n",
              "</table><p>"
            ]
          },
          "metadata": {}
        },
        {
          "output_type": "stream",
          "name": "stderr",
          "text": [
            "There were missing keys in the checkpoint model loaded: ['lm_head.weight'].\n"
          ]
        },
        {
          "output_type": "display_data",
          "data": {
            "text/plain": [
              "<IPython.core.display.HTML object>"
            ],
            "text/html": [
              "\n",
              "    <div>\n",
              "      \n",
              "      <progress value='527' max='527' style='width:300px; height:20px; vertical-align: middle;'></progress>\n",
              "      [527/527 00:19]\n",
              "    </div>\n",
              "    "
            ]
          },
          "metadata": {}
        },
        {
          "output_type": "stream",
          "name": "stderr",
          "text": [
            "[I 2025-09-24 23:58:47,722] Trial 4 finished with value: 0.9125351905822754 and parameters: {'learning_rate': 2.0197801692364275e-05, 'num_train_epochs': 1}. Best is trial 1 with value: 0.8820319771766663.\n"
          ]
        },
        {
          "output_type": "stream",
          "name": "stdout",
          "text": [
            "Best trial:\n",
            "  Value (Evaluation Loss): 0.8820319771766663\n",
            "  Params: \n",
            "    learning_rate: 2.5005608656219784e-05\n",
            "    num_train_epochs: 2\n"
          ]
        }
      ]
    },
    {
      "cell_type": "markdown",
      "metadata": {
        "id": "a933f47f"
      },
      "source": [
        "## Train the model with best hyperparameters\n",
        "\n",
        "### Subtask:\n",
        "Train the model using the best hyperparameters found by Optuna."
      ]
    },
    {
      "cell_type": "markdown",
      "metadata": {
        "id": "bac95309"
      },
      "source": [
        "**Reasoning**:\n",
        "Instantiate the `TrainingArguments` with the best hyperparameters from the Optuna study, instantiate the `Trainer` object with the best model and training arguments, and then start the training process."
      ]
    },
    {
      "cell_type": "code",
      "metadata": {
        "colab": {
          "base_uri": "https://localhost:8080/",
          "height": 267
        },
        "collapsed": true,
        "id": "514a575b",
        "outputId": "ce33e8e4-f381-4c75-a408-084221bfb035"
      },
      "source": [
        "# Get the best hyperparameters from the Optuna study\n",
        "best_params = study.best_trial.params\n",
        "\n",
        "# Define training arguments with the best hyperparameters\n",
        "training_args = TrainingArguments(\n",
        "    output_dir='./results',          # output directory for checkpoints\n",
        "    num_train_epochs= 5, # Use best number of epochs\n",
        "    per_device_train_batch_size=8,   # batch size per device during training\n",
        "    save_steps=1000,                 # number of updates steps before checkpointing\n",
        "    save_total_limit=2,              # limit the total number of checkpoints to save\n",
        "    logging_dir='./logs',            # directory for storing logs\n",
        "    logging_steps=100,               # number of update steps before logging\n",
        "    learning_rate=best_params['learning_rate'], # Use best learning rate\n",
        "    weight_decay=0.01,               # weight decay\n",
        "    eval_strategy='epoch',           # Evaluate after each epoch\n",
        "    save_strategy='epoch',           # Save after each epoch to match eval_strategy\n",
        "    load_best_model_at_end=True,     # Load the best model based on evaluation metric\n",
        "    metric_for_best_model='eval_loss', # Metric to monitor for best model\n",
        "    report_to=\"none\", # Disable reporting to Weights & Biases\n",
        "    fp16=True # Enable mixed precision training\n",
        ")\n",
        "\n",
        "# Load the best model found during hyperparameter search\n",
        "best_model = AutoModelForCausalLM.from_pretrained(\"distilgpt2\")\n",
        "best_model.config.pad_token_id = best_model.config.eos_token_id\n",
        "\n",
        "\n",
        "# Instantiate the Trainer object with the best model and training arguments\n",
        "trainer = Trainer(\n",
        "    model=best_model, # Use the best model\n",
        "    args=training_args,\n",
        "    train_dataset=train_dataset,\n",
        "    eval_dataset=test_dataset,\n",
        ")\n",
        "\n",
        "# Start the training process\n",
        "trainer.train()\n",
        "\n",
        "print(\"Model training with best hyperparameters complete.\")"
      ],
      "execution_count": null,
      "outputs": [
        {
          "output_type": "display_data",
          "data": {
            "text/plain": [
              "<IPython.core.display.HTML object>"
            ],
            "text/html": [
              "\n",
              "    <div>\n",
              "      \n",
              "      <progress value='10525' max='10525' style='width:300px; height:20px; vertical-align: middle;'></progress>\n",
              "      [10525/10525 22:52, Epoch 5/5]\n",
              "    </div>\n",
              "    <table border=\"1\" class=\"dataframe\">\n",
              "  <thead>\n",
              " <tr style=\"text-align: left;\">\n",
              "      <th>Epoch</th>\n",
              "      <th>Training Loss</th>\n",
              "      <th>Validation Loss</th>\n",
              "    </tr>\n",
              "  </thead>\n",
              "  <tbody>\n",
              "    <tr>\n",
              "      <td>1</td>\n",
              "      <td>0.882900</td>\n",
              "      <td>0.886395</td>\n",
              "    </tr>\n",
              "    <tr>\n",
              "      <td>2</td>\n",
              "      <td>0.833200</td>\n",
              "      <td>0.869747</td>\n",
              "    </tr>\n",
              "    <tr>\n",
              "      <td>3</td>\n",
              "      <td>0.803400</td>\n",
              "      <td>0.864052</td>\n",
              "    </tr>\n",
              "    <tr>\n",
              "      <td>4</td>\n",
              "      <td>0.807500</td>\n",
              "      <td>0.862092</td>\n",
              "    </tr>\n",
              "    <tr>\n",
              "      <td>5</td>\n",
              "      <td>0.792500</td>\n",
              "      <td>0.861691</td>\n",
              "    </tr>\n",
              "  </tbody>\n",
              "</table><p>"
            ]
          },
          "metadata": {}
        },
        {
          "output_type": "stream",
          "name": "stderr",
          "text": [
            "There were missing keys in the checkpoint model loaded: ['lm_head.weight'].\n"
          ]
        },
        {
          "output_type": "stream",
          "name": "stdout",
          "text": [
            "Model training with best hyperparameters complete.\n"
          ]
        }
      ]
    },
    {
      "cell_type": "markdown",
      "metadata": {
        "id": "535ff5a8"
      },
      "source": [
        "## Save the fine-tuned model\n",
        "\n",
        "### Subtask:\n",
        "Save the fine-tuned model and tokenizer to the specified local path."
      ]
    },
    {
      "cell_type": "markdown",
      "metadata": {
        "id": "25fd05a3"
      },
      "source": [
        "**Reasoning**:\n",
        "Save the fine-tuned model and tokenizer to the local path using the `trainer.save_model()` and `tokenizer.save_pretrained()` methods."
      ]
    },
    {
      "cell_type": "code",
      "metadata": {
        "colab": {
          "base_uri": "https://localhost:8080/"
        },
        "id": "2853ffa0",
        "outputId": "e9151d12-de99-49e4-97a1-f584103bb94b"
      },
      "source": [
        "import os\n",
        "\n",
        "# Define the local path to save the model\n",
        "save_path_local = \"C:\\\\Users\\\\adria\\\\OneDrive\\\\Desktop\\\\CODING\\\\jupyter\\\\models\\\\tweeteval\\\\gpt2\"\n",
        "\n",
        "# Create the directory if it doesn't exist\n",
        "os.makedirs(save_path_local, exist_ok=True)\n",
        "\n",
        "# Save the model and tokenizer\n",
        "trainer.save_model(save_path_local)\n",
        "tokenizer.save_pretrained(save_path_local)\n",
        "\n",
        "print(f\"Model and tokenizer saved to {save_path_local}\")"
      ],
      "execution_count": null,
      "outputs": [
        {
          "output_type": "stream",
          "name": "stdout",
          "text": [
            "Model and tokenizer saved to C:\\Users\\adria\\OneDrive\\Desktop\\CODING\\jupyter\\models\\tweeteval\\gpt2\n"
          ]
        }
      ]
    },
    {
      "cell_type": "markdown",
      "source": [
        "# Dataset augmentation\n"
      ],
      "metadata": {
        "id": "y_haaEo_jz4C"
      }
    },
    {
      "cell_type": "markdown",
      "metadata": {
        "id": "a497998f"
      },
      "source": [
        "## Generate sample sentences\n",
        "\n",
        "### Subtask:\n",
        "Load the fine-tuned model and generate sample sentences."
      ]
    },
    {
      "cell_type": "markdown",
      "metadata": {
        "id": "cbb91455"
      },
      "source": [
        "## Filter minority classes\n",
        "\n",
        "### Subtask:\n",
        "Create dataframes for the negative (label 0) and positive (label 2) sentiment tweets."
      ]
    },
    {
      "cell_type": "markdown",
      "metadata": {
        "id": "a532aef5"
      },
      "source": [
        "**Reasoning**:\n",
        "Filter the merged_df to create separate dataframes for negative and positive sentiment and display the first few rows of each."
      ]
    },
    {
      "cell_type": "code",
      "metadata": {
        "colab": {
          "base_uri": "https://localhost:8080/",
          "height": 447
        },
        "id": "5f561934",
        "outputId": "cbf2b0c9-83ee-4bf9-c5fb-b6ae9e87e9e6"
      },
      "source": [
        "# Create a new DataFrame called negative_df by filtering the merged_df DataFrame to include only rows where the 'label' column is equal to 0.\n",
        "negative_df = merged_df[merged_df['label'] == 0].copy()\n",
        "\n",
        "# Create a new DataFrame called positive_df by filtering the merged_df DataFrame to include only rows where the 'label' column is equal to 2.\n",
        "positive_df = merged_df[merged_df['label'] == 2].copy()\n",
        "\n",
        "# Display the first 5 rows of both negative_df and positive_df to verify the filtering was successful.\n",
        "print(\"First 5 rows of negative_df:\")\n",
        "display(negative_df.head())\n",
        "\n",
        "print(\"\\nFirst 5 rows of positive_df:\")\n",
        "display(positive_df.head())"
      ],
      "execution_count": null,
      "outputs": [
        {
          "output_type": "stream",
          "name": "stdout",
          "text": [
            "First 5 rows of negative_df:\n"
          ]
        },
        {
          "output_type": "display_data",
          "data": {
            "text/plain": [
              "                                                 text  label\n",
              "7   So disappointed in wwe summerslam! I want to s...      0\n",
              "13   That sucks if you have to take the SATs tomorrow      0\n",
              "18  Amy Schumer sat down with The Hollywood Report...      0\n",
              "42  @user how the hell does every one else get to ...      0\n",
              "50  Thanks manager for putting me on the schedule ...      0"
            ],
            "text/html": [
              "<div>\n",
              "<style scoped>\n",
              "    .dataframe tbody tr th:only-of-type {\n",
              "        vertical-align: middle;\n",
              "    }\n",
              "\n",
              "    .dataframe tbody tr th {\n",
              "        vertical-align: top;\n",
              "    }\n",
              "\n",
              "    .dataframe thead th {\n",
              "        text-align: right;\n",
              "    }\n",
              "</style>\n",
              "<table border=\"1\" class=\"dataframe\">\n",
              "  <thead>\n",
              "    <tr style=\"text-align: right;\">\n",
              "      <th></th>\n",
              "      <th>text</th>\n",
              "      <th>label</th>\n",
              "    </tr>\n",
              "  </thead>\n",
              "  <tbody>\n",
              "    <tr>\n",
              "      <th>7</th>\n",
              "      <td>So disappointed in wwe summerslam! I want to s...</td>\n",
              "      <td>0</td>\n",
              "    </tr>\n",
              "    <tr>\n",
              "      <th>13</th>\n",
              "      <td>That sucks if you have to take the SATs tomorrow</td>\n",
              "      <td>0</td>\n",
              "    </tr>\n",
              "    <tr>\n",
              "      <th>18</th>\n",
              "      <td>Amy Schumer sat down with The Hollywood Report...</td>\n",
              "      <td>0</td>\n",
              "    </tr>\n",
              "    <tr>\n",
              "      <th>42</th>\n",
              "      <td>@user how the hell does every one else get to ...</td>\n",
              "      <td>0</td>\n",
              "    </tr>\n",
              "    <tr>\n",
              "      <th>50</th>\n",
              "      <td>Thanks manager for putting me on the schedule ...</td>\n",
              "      <td>0</td>\n",
              "    </tr>\n",
              "  </tbody>\n",
              "</table>\n",
              "</div>"
            ]
          },
          "metadata": {}
        },
        {
          "output_type": "stream",
          "name": "stdout",
          "text": [
            "\n",
            "First 5 rows of positive_df:\n"
          ]
        },
        {
          "output_type": "display_data",
          "data": {
            "text/plain": [
              "                                                text  label\n",
              "0  \"QT @user In the original draft of the 7th boo...      2\n",
              "4  @user Alciato: Bee will invest 150 million in ...      2\n",
              "5  @user LIT MY MUM 'Kerry the louboutins I wonde...      2\n",
              "6  \"\\\"\"\"\" SOUL TRAIN\\\"\"\"\" OCT 27 HALLOWEEN SPECIA...      2\n",
              "8  \"This is the last Sunday w/o football .....,NF...      2"
            ],
            "text/html": [
              "<div>\n",
              "<style scoped>\n",
              "    .dataframe tbody tr th:only-of-type {\n",
              "        vertical-align: middle;\n",
              "    }\n",
              "\n",
              "    .dataframe tbody tr th {\n",
              "        vertical-align: top;\n",
              "    }\n",
              "\n",
              "    .dataframe thead th {\n",
              "        text-align: right;\n",
              "    }\n",
              "</style>\n",
              "<table border=\"1\" class=\"dataframe\">\n",
              "  <thead>\n",
              "    <tr style=\"text-align: right;\">\n",
              "      <th></th>\n",
              "      <th>text</th>\n",
              "      <th>label</th>\n",
              "    </tr>\n",
              "  </thead>\n",
              "  <tbody>\n",
              "    <tr>\n",
              "      <th>0</th>\n",
              "      <td>\"QT @user In the original draft of the 7th boo...</td>\n",
              "      <td>2</td>\n",
              "    </tr>\n",
              "    <tr>\n",
              "      <th>4</th>\n",
              "      <td>@user Alciato: Bee will invest 150 million in ...</td>\n",
              "      <td>2</td>\n",
              "    </tr>\n",
              "    <tr>\n",
              "      <th>5</th>\n",
              "      <td>@user LIT MY MUM 'Kerry the louboutins I wonde...</td>\n",
              "      <td>2</td>\n",
              "    </tr>\n",
              "    <tr>\n",
              "      <th>6</th>\n",
              "      <td>\"\\\"\"\"\" SOUL TRAIN\\\"\"\"\" OCT 27 HALLOWEEN SPECIA...</td>\n",
              "      <td>2</td>\n",
              "    </tr>\n",
              "    <tr>\n",
              "      <th>8</th>\n",
              "      <td>\"This is the last Sunday w/o football .....,NF...</td>\n",
              "      <td>2</td>\n",
              "    </tr>\n",
              "  </tbody>\n",
              "</table>\n",
              "</div>"
            ]
          },
          "metadata": {}
        }
      ]
    },
    {
      "cell_type": "markdown",
      "metadata": {
        "id": "d54601da"
      },
      "source": [
        "## Generate text for minority classes\n",
        "\n",
        "### Subtask:\n",
        "Use the fine-tuned model to generate new text based on the existing samples from the negative and positive classes."
      ]
    },
    {
      "cell_type": "markdown",
      "metadata": {
        "id": "39ca3898"
      },
      "source": [
        "**Reasoning**:\n",
        "Define a function to generate text for minority classes and call it for negative and positive dataframes."
      ]
    },
    {
      "cell_type": "code",
      "metadata": {
        "colab": {
          "base_uri": "https://localhost:8080/",
          "height": 1000,
          "referenced_widgets": [
            "58aa02f2260943ca8cfe308e69081e2d",
            "7b4542bfaeb24056a40e98e0c9006ca3",
            "54249d4531b14edaaac5c18620f7ffc4",
            "ca33cdcac3574aeebfeefe5eb488c760",
            "553044dc2d8f4d15b531299a875a340c",
            "2959e94ad5b840c7a51fc918d19130e8",
            "1e2ed9b74a7e4bd1b45c103020f600f5",
            "fffe6828640f41a0a3384c89238a214e",
            "06cec5105c7c467095dae56cf02e3ba8",
            "cfd6aa5d026a418cbc8a8164d70e5c38",
            "c2ff66b318424d108362ff187c67a3fe",
            "e6503a3d8fb74f70b862fc95cf5c074d",
            "95937262887544e292e13fbadb286774",
            "36e14f9b15284e2590655a067a7b95cb",
            "735884e50bac4015a5a4ee377e236a64",
            "ec3c5a79b9364784b0ece5a4b02d4953",
            "759787b0e6294eb09661de3d32c6cff7",
            "5e3b091921c44a319727455bc1c075ef",
            "d0cbf729383d4c36b5b0114714387367",
            "6a04a8df14374a83b875758adcbcbd68",
            "417008556d5f44798918ca58c49289e7",
            "13087968f42e490c8a89a1d040c7d4a1"
          ]
        },
        "id": "f973b850",
        "outputId": "e24a8ff2-ce55-4984-8657-b72532a0e312"
      },
      "source": [
        "import torch\n",
        "from torch.utils.data import Dataset, DataLoader\n",
        "from tqdm.auto import tqdm # Import tqdm\n",
        "import re # Import re\n",
        "import pandas as pd # Import pandas\n",
        "\n",
        "# Define the clean_text function again as it might not be in the current scope\n",
        "def clean_text(text):\n",
        "    # Check if the input is a string before applying string methods\n",
        "    if not isinstance(text, str):\n",
        "        return \"\" # Return an empty string for non-string inputs (like NaN)\n",
        "\n",
        "    # Convert to lowercase\n",
        "    text = text.lower()\n",
        "    # Remove mentions (@user) and URLs (http/https)\n",
        "    text = re.sub(r'(@\\w+|http\\S+)', '', text)\n",
        "    # Remove punctuation\n",
        "    text = re.sub(r'[^\\w\\s]', '', text)\n",
        "    # Remove extra whitespace\n",
        "    text = re.sub(r'\\s+', ' ', text).strip()\n",
        "    return text\n",
        "\n",
        "def generate_text(dataframe, num_samples_to_generate):\n",
        "    generated_texts = []\n",
        "    # Use the loaded_tokenizer and loaded_model which were loaded in the previous cell\n",
        "    # device was also set in the previous cell\n",
        "\n",
        "    # Apply the clean_text function to the dataframe to ensure 'cleaned_text' exists\n",
        "    if 'cleaned_text' not in dataframe.columns:\n",
        "        dataframe['cleaned_text'] = dataframe['text'].apply(clean_text)\n",
        "\n",
        "\n",
        "    # Only generate if num_samples_to_generate is positive\n",
        "    if num_samples_to_generate > 0:\n",
        "        # Take a random sample of the specified number of samples from the dataframe\n",
        "        # Use replace=True to allow sampling with replacement if num_samples_to_generate > len(dataframe)\n",
        "        sampled_df = dataframe.sample(n=num_samples_to_generate, replace=True, random_state=42)\n",
        "\n",
        "\n",
        "        # Use tqdm to show progress\n",
        "        for index, row in tqdm(sampled_df.iterrows(), total=len(sampled_df), desc=\"Generating text\"):\n",
        "            # Format the text based on the label\n",
        "            prefix = \"[Negative] \" if row['label'] == 0 else \"[Positive] \"\n",
        "            prompt_text = prefix + row['cleaned_text']\n",
        "\n",
        "            # Encode the prompt\n",
        "            input_ids = loaded_tokenizer.encode(prompt_text, return_tensors=\"pt\").to(device)\n",
        "\n",
        "            # Generate text\n",
        "            output = loaded_model.generate(\n",
        "                input_ids,\n",
        "                max_length=100,  # Increased max_length for potentially longer responses\n",
        "                num_return_sequences=1, # Generate one sequence per prompt\n",
        "                no_repeat_ngram_size=2,\n",
        "                do_sample=True,\n",
        "                top_k=50,\n",
        "                top_p=0.95,\n",
        "                temperature=0.8, # Increased temperature for more diversity\n",
        "                pad_token_id=loaded_tokenizer.eos_token_id\n",
        "            )\n",
        "\n",
        "            # Decode and store the generated text\n",
        "            for sample_output in output:\n",
        "                decoded_text = loaded_tokenizer.decode(sample_output, skip_special_tokens=True)\n",
        "                # Remove the prompt from the generated text\n",
        "                generated_text = decoded_text.replace(prompt_text, \"\").strip()\n",
        "                generated_texts.append({'text': generated_text, 'label': row['label']})\n",
        "\n",
        "            # Print progress every 100 samples\n",
        "            if (index + 1) % 100 == 0:\n",
        "                print(f\"Generated {len(generated_texts)} samples so far.\")\n",
        "\n",
        "    return generated_texts\n",
        "\n",
        "# Determine the number of samples to generate for each minority class to match the majority class count (label 1 - Neutral)\n",
        "majority_class_count = merged_df['label'].value_counts().max()\n",
        "negative_class_count = merged_df['label'].value_counts()[0]\n",
        "positive_class_count = merged_df['label'].value_counts()[2]\n",
        "\n",
        "num_generate_negative = majority_class_count - negative_class_count\n",
        "num_generate_positive = majority_class_count - positive_class_count\n",
        "\n",
        "print(f\"Target number of samples for each minority class: {majority_class_count}\")\n",
        "print(f\"Number of negative samples to generate: {num_generate_negative}\")\n",
        "print(f\"Number of positive samples to generate: {num_generate_positive}\")\n",
        "\n",
        "# Generate new texts for negative and positive classes\n",
        "# Ensure negative_df and positive_df are defined before calling generate_text\n",
        "# Filter minority classes again just in case\n",
        "negative_df = merged_df[merged_df['label'] == 0].copy()\n",
        "positive_df = merged_df[merged_df['label'] == 2].copy()\n",
        "\n",
        "\n",
        "generated_negative_texts = generate_text(negative_df, num_generate_negative)\n",
        "generated_positive_texts = generate_text(positive_df, num_generate_positive)\n",
        "\n",
        "print(f\"Generated {len(generated_negative_texts)} negative samples.\")\n",
        "print(f\"Generated {len(generated_positive_texts)} positive samples.\")"
      ],
      "execution_count": null,
      "outputs": [
        {
          "output_type": "stream",
          "name": "stdout",
          "text": [
            "Target number of samples for each minority class: 27479\n",
            "Number of negative samples to generate: 16102\n",
            "Number of positive samples to generate: 6436\n"
          ]
        },
        {
          "output_type": "display_data",
          "data": {
            "text/plain": [
              "Generating text:   0%|          | 0/16102 [00:00<?, ?it/s]"
            ],
            "application/vnd.jupyter.widget-view+json": {
              "version_major": 2,
              "version_minor": 0,
              "model_id": "58aa02f2260943ca8cfe308e69081e2d"
            }
          },
          "metadata": {}
        },
        {
          "output_type": "stream",
          "name": "stdout",
          "text": [
            "Generated 3 samples so far.\n",
            "Generated 26 samples so far.\n",
            "Generated 167 samples so far.\n",
            "Generated 184 samples so far.\n",
            "Generated 396 samples so far.\n",
            "Generated 845 samples so far.\n",
            "Generated 875 samples so far.\n",
            "Generated 1045 samples so far.\n",
            "Generated 1137 samples so far.\n",
            "Generated 1183 samples so far.\n",
            "Generated 1243 samples so far.\n",
            "Generated 1262 samples so far.\n",
            "Generated 1282 samples so far.\n",
            "Generated 1338 samples so far.\n",
            "Generated 1347 samples so far.\n",
            "Generated 1383 samples so far.\n",
            "Generated 1506 samples so far.\n",
            "Generated 1617 samples so far.\n",
            "Generated 1760 samples so far.\n",
            "Generated 1864 samples so far.\n",
            "Generated 2089 samples so far.\n",
            "Generated 2191 samples so far.\n",
            "Generated 2369 samples so far.\n",
            "Generated 2383 samples so far.\n",
            "Generated 2463 samples so far.\n",
            "Generated 2683 samples so far.\n",
            "Generated 2707 samples so far.\n",
            "Generated 3173 samples so far.\n",
            "Generated 3468 samples so far.\n",
            "Generated 3810 samples so far.\n",
            "Generated 3880 samples so far.\n",
            "Generated 3992 samples so far.\n",
            "Generated 4095 samples so far.\n",
            "Generated 4130 samples so far.\n",
            "Generated 4273 samples so far.\n",
            "Generated 4663 samples so far.\n",
            "Generated 4681 samples so far.\n",
            "Generated 4766 samples so far.\n",
            "Generated 4845 samples so far.\n",
            "Generated 4938 samples so far.\n",
            "Generated 5333 samples so far.\n",
            "Generated 5383 samples so far.\n",
            "Generated 5484 samples so far.\n",
            "Generated 5936 samples so far.\n",
            "Generated 5979 samples so far.\n",
            "Generated 6007 samples so far.\n",
            "Generated 6024 samples so far.\n",
            "Generated 6154 samples so far.\n",
            "Generated 6231 samples so far.\n",
            "Generated 6404 samples so far.\n",
            "Generated 6465 samples so far.\n",
            "Generated 6549 samples so far.\n",
            "Generated 6599 samples so far.\n",
            "Generated 6607 samples so far.\n",
            "Generated 6669 samples so far.\n",
            "Generated 6795 samples so far.\n",
            "Generated 6806 samples so far.\n",
            "Generated 6876 samples so far.\n",
            "Generated 6988 samples so far.\n",
            "Generated 7060 samples so far.\n",
            "Generated 7079 samples so far.\n",
            "Generated 7086 samples so far.\n",
            "Generated 7138 samples so far.\n",
            "Generated 7248 samples so far.\n",
            "Generated 7540 samples so far.\n",
            "Generated 7591 samples so far.\n",
            "Generated 7606 samples so far.\n",
            "Generated 7637 samples so far.\n",
            "Generated 7790 samples so far.\n",
            "Generated 7967 samples so far.\n",
            "Generated 8013 samples so far.\n",
            "Generated 8084 samples so far.\n",
            "Generated 8109 samples so far.\n",
            "Generated 8171 samples so far.\n",
            "Generated 8386 samples so far.\n",
            "Generated 8435 samples so far.\n",
            "Generated 8498 samples so far.\n",
            "Generated 9151 samples so far.\n",
            "Generated 9264 samples so far.\n",
            "Generated 9265 samples so far.\n",
            "Generated 9358 samples so far.\n",
            "Generated 9492 samples so far.\n",
            "Generated 9529 samples so far.\n",
            "Generated 9597 samples so far.\n",
            "Generated 9731 samples so far.\n",
            "Generated 9768 samples so far.\n",
            "Generated 10140 samples so far.\n",
            "Generated 10144 samples so far.\n",
            "Generated 10188 samples so far.\n",
            "Generated 10220 samples so far.\n",
            "Generated 10252 samples so far.\n",
            "Generated 10316 samples so far.\n",
            "Generated 10373 samples so far.\n",
            "Generated 10402 samples so far.\n",
            "Generated 10477 samples so far.\n",
            "Generated 10491 samples so far.\n",
            "Generated 10721 samples so far.\n",
            "Generated 10782 samples so far.\n",
            "Generated 10814 samples so far.\n",
            "Generated 10923 samples so far.\n",
            "Generated 10969 samples so far.\n",
            "Generated 11007 samples so far.\n",
            "Generated 11213 samples so far.\n",
            "Generated 11434 samples so far.\n",
            "Generated 11453 samples so far.\n",
            "Generated 11499 samples so far.\n",
            "Generated 11622 samples so far.\n",
            "Generated 11779 samples so far.\n",
            "Generated 11781 samples so far.\n",
            "Generated 11888 samples so far.\n",
            "Generated 12171 samples so far.\n",
            "Generated 12283 samples so far.\n",
            "Generated 12315 samples so far.\n",
            "Generated 12349 samples so far.\n",
            "Generated 12358 samples so far.\n",
            "Generated 12361 samples so far.\n",
            "Generated 12378 samples so far.\n",
            "Generated 12434 samples so far.\n",
            "Generated 12843 samples so far.\n",
            "Generated 12911 samples so far.\n",
            "Generated 12949 samples so far.\n",
            "Generated 13005 samples so far.\n",
            "Generated 13102 samples so far.\n",
            "Generated 13195 samples so far.\n",
            "Generated 13247 samples so far.\n",
            "Generated 13536 samples so far.\n",
            "Generated 13583 samples so far.\n",
            "Generated 13643 samples so far.\n",
            "Generated 13836 samples so far.\n",
            "Generated 13974 samples so far.\n",
            "Generated 14020 samples so far.\n",
            "Generated 14307 samples so far.\n",
            "Generated 14311 samples so far.\n",
            "Generated 14515 samples so far.\n",
            "Generated 14549 samples so far.\n",
            "Generated 14846 samples so far.\n",
            "Generated 14923 samples so far.\n",
            "Generated 15151 samples so far.\n",
            "Generated 15181 samples so far.\n",
            "Generated 15658 samples so far.\n",
            "Generated 15729 samples so far.\n",
            "Generated 15961 samples so far.\n",
            "Generated 16029 samples so far.\n"
          ]
        },
        {
          "output_type": "display_data",
          "data": {
            "text/plain": [
              "Generating text:   0%|          | 0/6436 [00:00<?, ?it/s]"
            ],
            "application/vnd.jupyter.widget-view+json": {
              "version_major": 2,
              "version_minor": 0,
              "model_id": "e6503a3d8fb74f70b862fc95cf5c074d"
            }
          },
          "metadata": {}
        },
        {
          "output_type": "stream",
          "name": "stdout",
          "text": [
            "Generated 143 samples so far.\n",
            "Generated 184 samples so far.\n",
            "Generated 264 samples so far.\n",
            "Generated 368 samples so far.\n",
            "Generated 452 samples so far.\n",
            "Generated 558 samples so far.\n",
            "Generated 721 samples so far.\n",
            "Generated 776 samples so far.\n",
            "Generated 863 samples so far.\n",
            "Generated 870 samples so far.\n",
            "Generated 1026 samples so far.\n",
            "Generated 1028 samples so far.\n",
            "Generated 1067 samples so far.\n",
            "Generated 1085 samples so far.\n",
            "Generated 1346 samples so far.\n",
            "Generated 1622 samples so far.\n",
            "Generated 1669 samples so far.\n",
            "Generated 1752 samples so far.\n",
            "Generated 2078 samples so far.\n",
            "Generated 2246 samples so far.\n",
            "Generated 2376 samples so far.\n",
            "Generated 2413 samples so far.\n",
            "Generated 2457 samples so far.\n",
            "Generated 2491 samples so far.\n",
            "Generated 2576 samples so far.\n",
            "Generated 2660 samples so far.\n",
            "Generated 2705 samples so far.\n",
            "Generated 2713 samples so far.\n",
            "Generated 2745 samples so far.\n",
            "Generated 3069 samples so far.\n",
            "Generated 3092 samples so far.\n",
            "Generated 3153 samples so far.\n",
            "Generated 3168 samples so far.\n",
            "Generated 3195 samples so far.\n",
            "Generated 3515 samples so far.\n",
            "Generated 3581 samples so far.\n",
            "Generated 3604 samples so far.\n",
            "Generated 3616 samples so far.\n",
            "Generated 3771 samples so far.\n",
            "Generated 4269 samples so far.\n",
            "Generated 4490 samples so far.\n",
            "Generated 4537 samples so far.\n",
            "Generated 4741 samples so far.\n",
            "Generated 4797 samples so far.\n",
            "Generated 4893 samples so far.\n",
            "Generated 4982 samples so far.\n",
            "Generated 4992 samples so far.\n",
            "Generated 5170 samples so far.\n",
            "Generated 5286 samples so far.\n",
            "Generated 5346 samples so far.\n",
            "Generated 5532 samples so far.\n",
            "Generated 5626 samples so far.\n",
            "Generated 5670 samples so far.\n",
            "Generated 5864 samples so far.\n",
            "Generated 6020 samples so far.\n",
            "Generated 6086 samples so far.\n",
            "Generated 6189 samples so far.\n",
            "Generated 6243 samples so far.\n",
            "Generated 6248 samples so far.\n",
            "Generated 6300 samples so far.\n",
            "Generated 6352 samples so far.\n",
            "Generated 6410 samples so far.\n",
            "Generated 16102 negative samples.\n",
            "Generated 6436 positive samples.\n"
          ]
        }
      ]
    },
    {
      "cell_type": "markdown",
      "metadata": {
        "id": "1434705e"
      },
      "source": [
        "## Combine generated text\n",
        "\n",
        "### Subtask:\n",
        "Combine the generated text with their corresponding labels."
      ]
    },
    {
      "cell_type": "markdown",
      "metadata": {
        "id": "de792e15"
      },
      "source": [
        "**Reasoning**:\n",
        "Create a new DataFrame from the generated negative and positive texts and their labels and display the head of the new DataFrame."
      ]
    },
    {
      "cell_type": "code",
      "metadata": {
        "colab": {
          "base_uri": "https://localhost:8080/",
          "height": 223
        },
        "id": "8a1ba80b",
        "outputId": "d55495ea-6b7b-4c20-bf2d-795ea84f56c4"
      },
      "source": [
        "import pandas as pd\n",
        "\n",
        "# Combine the generated texts and their labels into a single list\n",
        "all_generated_texts = generated_negative_texts + generated_positive_texts\n",
        "\n",
        "# Create a DataFrame from the generated texts and labels\n",
        "generated_df = pd.DataFrame(all_generated_texts)\n",
        "\n",
        "# Display the first few rows of the generated DataFrame\n",
        "display(generated_df.head())\n",
        "\n",
        "# Display the shape of the generated DataFrame\n",
        "print(f\"Shape of the generated DataFrame: {generated_df.shape}\")"
      ],
      "execution_count": null,
      "outputs": [
        {
          "output_type": "display_data",
          "data": {
            "text/plain": [
              "           text  label\n",
              "0  than the law      0\n",
              "1                    0\n",
              "2                    0\n",
              "3         for a      0\n",
              "4                    0"
            ],
            "text/html": [
              "<div>\n",
              "<style scoped>\n",
              "    .dataframe tbody tr th:only-of-type {\n",
              "        vertical-align: middle;\n",
              "    }\n",
              "\n",
              "    .dataframe tbody tr th {\n",
              "        vertical-align: top;\n",
              "    }\n",
              "\n",
              "    .dataframe thead th {\n",
              "        text-align: right;\n",
              "    }\n",
              "</style>\n",
              "<table border=\"1\" class=\"dataframe\">\n",
              "  <thead>\n",
              "    <tr style=\"text-align: right;\">\n",
              "      <th></th>\n",
              "      <th>text</th>\n",
              "      <th>label</th>\n",
              "    </tr>\n",
              "  </thead>\n",
              "  <tbody>\n",
              "    <tr>\n",
              "      <th>0</th>\n",
              "      <td>than the law</td>\n",
              "      <td>0</td>\n",
              "    </tr>\n",
              "    <tr>\n",
              "      <th>1</th>\n",
              "      <td></td>\n",
              "      <td>0</td>\n",
              "    </tr>\n",
              "    <tr>\n",
              "      <th>2</th>\n",
              "      <td></td>\n",
              "      <td>0</td>\n",
              "    </tr>\n",
              "    <tr>\n",
              "      <th>3</th>\n",
              "      <td>for a</td>\n",
              "      <td>0</td>\n",
              "    </tr>\n",
              "    <tr>\n",
              "      <th>4</th>\n",
              "      <td></td>\n",
              "      <td>0</td>\n",
              "    </tr>\n",
              "  </tbody>\n",
              "</table>\n",
              "</div>"
            ]
          },
          "metadata": {}
        },
        {
          "output_type": "stream",
          "name": "stdout",
          "text": [
            "Shape of the generated DataFrame: (22538, 2)\n"
          ]
        }
      ]
    },
    {
      "cell_type": "markdown",
      "metadata": {
        "id": "7668a163"
      },
      "source": [
        "## Create augmented dataset\n",
        "\n",
        "### Subtask:\n",
        "Merge the generated data with the original dataset to create an augmented dataset."
      ]
    },
    {
      "cell_type": "markdown",
      "metadata": {
        "id": "b4fe326c"
      },
      "source": [
        "**Reasoning**:\n",
        "Concatenate the original `merged_df` with the `generated_df` to create the final augmented dataset and display the head and shape of the augmented dataset."
      ]
    },
    {
      "cell_type": "code",
      "metadata": {
        "colab": {
          "base_uri": "https://localhost:8080/",
          "height": 223
        },
        "id": "522ef8df",
        "outputId": "bba08c09-8793-4f37-c8db-28030d0d4db4"
      },
      "source": [
        "# Concatenate the original dataframe with the generated dataframe\n",
        "augmented_df = pd.concat([merged_df[['text', 'label']], generated_df])\n",
        "\n",
        "# Display the first few rows of the augmented DataFrame\n",
        "display(augmented_df.head())\n",
        "\n",
        "# Display the shape of the augmented DataFrame\n",
        "print(f\"Shape of the augmented DataFrame: {augmented_df.shape}\")"
      ],
      "execution_count": null,
      "outputs": [
        {
          "output_type": "display_data",
          "data": {
            "text/plain": [
              "                                                text  label\n",
              "0  \"QT @user In the original draft of the 7th boo...      2\n",
              "1  \"Ben Smith / Smith (concussion) remains out of...      1\n",
              "2  Sorry bout the stream last night I crashed out...      1\n",
              "3  Chase Headley's RBI double in the 8th inning o...      1\n",
              "4  @user Alciato: Bee will invest 150 million in ...      2"
            ],
            "text/html": [
              "<div>\n",
              "<style scoped>\n",
              "    .dataframe tbody tr th:only-of-type {\n",
              "        vertical-align: middle;\n",
              "    }\n",
              "\n",
              "    .dataframe tbody tr th {\n",
              "        vertical-align: top;\n",
              "    }\n",
              "\n",
              "    .dataframe thead th {\n",
              "        text-align: right;\n",
              "    }\n",
              "</style>\n",
              "<table border=\"1\" class=\"dataframe\">\n",
              "  <thead>\n",
              "    <tr style=\"text-align: right;\">\n",
              "      <th></th>\n",
              "      <th>text</th>\n",
              "      <th>label</th>\n",
              "    </tr>\n",
              "  </thead>\n",
              "  <tbody>\n",
              "    <tr>\n",
              "      <th>0</th>\n",
              "      <td>\"QT @user In the original draft of the 7th boo...</td>\n",
              "      <td>2</td>\n",
              "    </tr>\n",
              "    <tr>\n",
              "      <th>1</th>\n",
              "      <td>\"Ben Smith / Smith (concussion) remains out of...</td>\n",
              "      <td>1</td>\n",
              "    </tr>\n",
              "    <tr>\n",
              "      <th>2</th>\n",
              "      <td>Sorry bout the stream last night I crashed out...</td>\n",
              "      <td>1</td>\n",
              "    </tr>\n",
              "    <tr>\n",
              "      <th>3</th>\n",
              "      <td>Chase Headley's RBI double in the 8th inning o...</td>\n",
              "      <td>1</td>\n",
              "    </tr>\n",
              "    <tr>\n",
              "      <th>4</th>\n",
              "      <td>@user Alciato: Bee will invest 150 million in ...</td>\n",
              "      <td>2</td>\n",
              "    </tr>\n",
              "  </tbody>\n",
              "</table>\n",
              "</div>"
            ]
          },
          "metadata": {}
        },
        {
          "output_type": "stream",
          "name": "stdout",
          "text": [
            "Shape of the augmented DataFrame: (82437, 2)\n"
          ]
        }
      ]
    },
    {
      "cell_type": "markdown",
      "metadata": {
        "id": "71caed89"
      },
      "source": [
        "## Save augmented dataset\n",
        "\n",
        "### Subtask:\n",
        "Save the augmented dataset to the specified local path."
      ]
    },
    {
      "cell_type": "markdown",
      "metadata": {
        "id": "a1073e1e"
      },
      "source": [
        "**Reasoning**:\n",
        "Save the `augmented_df` DataFrame to a CSV file in the specified local directory."
      ]
    },
    {
      "cell_type": "code",
      "metadata": {
        "colab": {
          "base_uri": "https://localhost:8080/"
        },
        "id": "65748afe",
        "outputId": "ff20acd4-4e4e-44ba-9d0f-0019accb1bd0"
      },
      "source": [
        "# Define the local directory to save the dataset\n",
        "save_directory_local = \"C:\\\\Users\\\\adria\\\\OneDrive\\\\Desktop\\\\CODING\\\\jupyter\\\\datasets\\\\tweeteval\"\n",
        "\n",
        "# Create the directory if it doesn't exist\n",
        "import os\n",
        "os.makedirs(save_directory_local, exist_ok=True)\n",
        "\n",
        "# Define the full path for the augmented dataset file\n",
        "augmented_dataset_path_local = os.path.join(save_directory_local, \"augmented_tweeteval_sentiment.csv\")\n",
        "\n",
        "# Save the augmented DataFrame to a CSV file\n",
        "augmented_df.to_csv(augmented_dataset_path_local, index=False)\n",
        "\n",
        "print(f\"Augmented dataset saved to {augmented_dataset_path_local}\")"
      ],
      "execution_count": null,
      "outputs": [
        {
          "output_type": "stream",
          "name": "stdout",
          "text": [
            "Augmented dataset saved to C:\\Users\\adria\\OneDrive\\Desktop\\CODING\\jupyter\\datasets\\tweeteval\\augmented_tweeteval_sentiment.csv\n"
          ]
        }
      ]
    },
    {
      "cell_type": "markdown",
      "metadata": {
        "id": "7cfa5ad9"
      },
      "source": [
        "## Visualize Class Distribution\n",
        "\n",
        "### Subtask:\n",
        "Visualize the class distribution of the original and augmented datasets."
      ]
    },
    {
      "cell_type": "markdown",
      "metadata": {
        "id": "8dd7bfda"
      },
      "source": [
        "**Reasoning**:\n",
        "Use `matplotlib.pyplot` and `seaborn` to create bar plots showing the class distribution for both the original and augmented DataFrames to compare the impact of data augmentation."
      ]
    },
    {
      "cell_type": "code",
      "metadata": {
        "colab": {
          "base_uri": "https://localhost:8080/",
          "height": 1000
        },
        "id": "b8116eff",
        "outputId": "b6427e67-0123-4eae-d908-a703793bba30"
      },
      "source": [
        "import matplotlib.pyplot as plt\n",
        "import seaborn as sns\n",
        "\n",
        "# Visualize class distribution of the original dataset\n",
        "plt.figure(figsize=(8, 6))\n",
        "sns.countplot(x='label', data=merged_df)\n",
        "plt.title('Class Distribution of Original Dataset')\n",
        "plt.xlabel('Label')\n",
        "plt.ylabel('Count')\n",
        "plt.xticks(ticks=[0, 1, 2], labels=['Negative', 'Neutral', 'Positive'])\n",
        "plt.show()\n",
        "\n",
        "# Visualize class distribution of the augmented dataset\n",
        "plt.figure(figsize=(8, 6))\n",
        "sns.countplot(x='label', data=augmented_df)\n",
        "plt.title('Class Distribution of Augmented Dataset')\n",
        "plt.xlabel('Label')\n",
        "plt.ylabel('Count')\n",
        "plt.xticks(ticks=[0, 1, 2], labels=['Negative', 'Neutral', 'Positive'])\n",
        "plt.show()"
      ],
      "execution_count": null,
      "outputs": [
        {
          "output_type": "display_data",
          "data": {
            "text/plain": [
              "<Figure size 800x600 with 1 Axes>"
            ],
            "image/png": "[encoded data removed]"
          },
          "metadata": {}
        },
        {
          "output_type": "display_data",
          "data": {
            "text/plain": [
              "<Figure size 800x600 with 1 Axes>"
            ],
            "image/png": "[encoded data removed]"
          },
          "metadata": {}
        }
      ]
    },
    {
      "cell_type": "markdown",
      "source": [
        "# Roberta Classifier\n"
      ],
      "metadata": {
        "id": "RAmbazo_kYn9"
      }
    },
    {
      "cell_type": "markdown",
      "metadata": {
        "id": "9446b5c1"
      },
      "source": [
        "## Load Augmented Dataset\n",
        "\n",
        "### Subtask:\n",
        "Load the augmented dataset from the local path."
      ]
    },
    {
      "cell_type": "code",
      "metadata": {
        "colab": {
          "base_uri": "https://localhost:8080/",
          "height": 223
        },
        "id": "318eb32a",
        "outputId": "4dca0f11-08cd-4eb0-fcb2-340d9a538746"
      },
      "source": [
        "import pandas as pd\n",
        "import os\n",
        "\n",
        "# Define the local path to the augmented dataset\n",
        "augmented_dataset_path_local = \"C:\\\\Users\\\\adria\\\\OneDrive\\\\Desktop\\\\CODING\\\\jupyter\\\\datasets\\\\tweeteval\\\\augmented_tweeteval_sentiment.csv\"\n",
        "\n",
        "# Load the augmented dataset\n",
        "augmented_df = pd.read_csv(augmented_dataset_path_local)\n",
        "\n",
        "# Display the shape of the loaded DataFrame\n",
        "print(f\"Shape of the loaded augmented dataset: {augmented_df.shape}\")\n",
        "\n",
        "# Display the first few rows\n",
        "display(augmented_df.head())"
      ],
      "execution_count": null,
      "outputs": [
        {
          "output_type": "stream",
          "name": "stdout",
          "text": [
            "Shape of the loaded augmented dataset: (82437, 2)\n"
          ]
        },
        {
          "output_type": "display_data",
          "data": {
            "text/plain": [
              "                                                text  label\n",
              "0  \"QT @user In the original draft of the 7th boo...      2\n",
              "1  \"Ben Smith / Smith (concussion) remains out of...      1\n",
              "2  Sorry bout the stream last night I crashed out...      1\n",
              "3  Chase Headley's RBI double in the 8th inning o...      1\n",
              "4  @user Alciato: Bee will invest 150 million in ...      2"
            ],
            "text/html": [
              "<div>\n",
              "<style scoped>\n",
              "    .dataframe tbody tr th:only-of-type {\n",
              "        vertical-align: middle;\n",
              "    }\n",
              "\n",
              "    .dataframe tbody tr th {\n",
              "        vertical-align: top;\n",
              "    }\n",
              "\n",
              "    .dataframe thead th {\n",
              "        text-align: right;\n",
              "    }\n",
              "</style>\n",
              "<table border=\"1\" class=\"dataframe\">\n",
              "  <thead>\n",
              "    <tr style=\"text-align: right;\">\n",
              "      <th></th>\n",
              "      <th>text</th>\n",
              "      <th>label</th>\n",
              "    </tr>\n",
              "  </thead>\n",
              "  <tbody>\n",
              "    <tr>\n",
              "      <th>0</th>\n",
              "      <td>\"QT @user In the original draft of the 7th boo...</td>\n",
              "      <td>2</td>\n",
              "    </tr>\n",
              "    <tr>\n",
              "      <th>1</th>\n",
              "      <td>\"Ben Smith / Smith (concussion) remains out of...</td>\n",
              "      <td>1</td>\n",
              "    </tr>\n",
              "    <tr>\n",
              "      <th>2</th>\n",
              "      <td>Sorry bout the stream last night I crashed out...</td>\n",
              "      <td>1</td>\n",
              "    </tr>\n",
              "    <tr>\n",
              "      <th>3</th>\n",
              "      <td>Chase Headley's RBI double in the 8th inning o...</td>\n",
              "      <td>1</td>\n",
              "    </tr>\n",
              "    <tr>\n",
              "      <th>4</th>\n",
              "      <td>@user Alciato: Bee will invest 150 million in ...</td>\n",
              "      <td>2</td>\n",
              "    </tr>\n",
              "  </tbody>\n",
              "</table>\n",
              "</div>"
            ]
          },
          "metadata": {}
        }
      ]
    },
    {
      "cell_type": "markdown",
      "metadata": {
        "id": "45e7af7f"
      },
      "source": [
        "## Clean and Preprocess Data\n",
        "\n",
        "### Subtask:\n",
        "Clean and preprocess the text data to remove noise and standardize the format."
      ]
    },
    {
      "cell_type": "markdown",
      "metadata": {
        "id": "11865aca"
      },
      "source": [
        "**Reasoning**:\n",
        "Inspect `augmented_df` for missing values, handle them by dropping rows with missing text, apply the existing `clean_text` function to create a 'cleaned_text' column, and then display the head of the updated DataFrame."
      ]
    },
    {
      "cell_type": "code",
      "metadata": {
        "colab": {
          "base_uri": "https://localhost:8080/",
          "height": 293
        },
        "id": "f7b15f04",
        "outputId": "e575d8f1-66af-4941-e09c-8e354b7f5ccb"
      },
      "source": [
        "import re\n",
        "\n",
        "def clean_text(text):\n",
        "    # Check if the input is a string before applying string methods\n",
        "    if not isinstance(text, str):\n",
        "        return \"\" # Return an empty string for non-string inputs (like NaN)\n",
        "\n",
        "    # Convert to lowercase\n",
        "    text = text.lower()\n",
        "    # Remove mentions (@user) and URLs (http\\S+)\n",
        "    text = re.sub(r'(@\\w+|http\\S+)', '', text)\n",
        "    # Remove punctuation\n",
        "    text = re.sub(r'[^\\w\\s]', '', text)\n",
        "    # Remove extra whitespace\n",
        "    text = re.sub(r'\\s+', ' ', text).strip()\n",
        "    return text\n",
        "\n",
        "# Check for missing values before cleaning\n",
        "print(\"Missing values before cleaning:\")\n",
        "print(augmented_df.isnull().sum())\n",
        "\n",
        "# Handle missing values: Drop rows where 'text' is missing as cleaning requires text\n",
        "augmented_df.dropna(subset=['text'], inplace=True)\n",
        "\n",
        "# Apply the clean_text function to the 'text' column\n",
        "augmented_df['cleaned_text'] = augmented_df['text'].apply(clean_text)\n",
        "\n",
        "# Display the first few rows of the augmented DataFrame with the new 'cleaned_text' column\n",
        "display(augmented_df[['text', 'cleaned_text', 'label']].head())\n",
        "\n",
        "# Display the shape after cleaning\n",
        "print(f\"Shape of the augmented DataFrame after cleaning: {augmented_df.shape}\")"
      ],
      "execution_count": null,
      "outputs": [
        {
          "output_type": "stream",
          "name": "stdout",
          "text": [
            "Missing values before cleaning:\n",
            "text     13020\n",
            "label        0\n",
            "dtype: int64\n"
          ]
        },
        {
          "output_type": "display_data",
          "data": {
            "text/plain": [
              "                                                text  \\\n",
              "0  \"QT @user In the original draft of the 7th boo...   \n",
              "1  \"Ben Smith / Smith (concussion) remains out of...   \n",
              "2  Sorry bout the stream last night I crashed out...   \n",
              "3  Chase Headley's RBI double in the 8th inning o...   \n",
              "4  @user Alciato: Bee will invest 150 million in ...   \n",
              "\n",
              "                                        cleaned_text  label  \n",
              "0  qt in the original draft of the 7th book remus...      2  \n",
              "1  ben smith smith concussion remains out of the ...      1  \n",
              "2  sorry bout the stream last night i crashed out...      1  \n",
              "3  chase headleys rbi double in the 8th inning of...      1  \n",
              "4  alciato bee will invest 150 million in january...      2  "
            ],
            "text/html": [
              "<div>\n",
              "<style scoped>\n",
              "    .dataframe tbody tr th:only-of-type {\n",
              "        vertical-align: middle;\n",
              "    }\n",
              "\n",
              "    .dataframe tbody tr th {\n",
              "        vertical-align: top;\n",
              "    }\n",
              "\n",
              "    .dataframe thead th {\n",
              "        text-align: right;\n",
              "    }\n",
              "</style>\n",
              "<table border=\"1\" class=\"dataframe\">\n",
              "  <thead>\n",
              "    <tr style=\"text-align: right;\">\n",
              "      <th></th>\n",
              "      <th>text</th>\n",
              "      <th>cleaned_text</th>\n",
              "      <th>label</th>\n",
              "    </tr>\n",
              "  </thead>\n",
              "  <tbody>\n",
              "    <tr>\n",
              "      <th>0</th>\n",
              "      <td>\"QT @user In the original draft of the 7th boo...</td>\n",
              "      <td>qt in the original draft of the 7th book remus...</td>\n",
              "      <td>2</td>\n",
              "    </tr>\n",
              "    <tr>\n",
              "      <th>1</th>\n",
              "      <td>\"Ben Smith / Smith (concussion) remains out of...</td>\n",
              "      <td>ben smith smith concussion remains out of the ...</td>\n",
              "      <td>1</td>\n",
              "    </tr>\n",
              "    <tr>\n",
              "      <th>2</th>\n",
              "      <td>Sorry bout the stream last night I crashed out...</td>\n",
              "      <td>sorry bout the stream last night i crashed out...</td>\n",
              "      <td>1</td>\n",
              "    </tr>\n",
              "    <tr>\n",
              "      <th>3</th>\n",
              "      <td>Chase Headley's RBI double in the 8th inning o...</td>\n",
              "      <td>chase headleys rbi double in the 8th inning of...</td>\n",
              "      <td>1</td>\n",
              "    </tr>\n",
              "    <tr>\n",
              "      <th>4</th>\n",
              "      <td>@user Alciato: Bee will invest 150 million in ...</td>\n",
              "      <td>alciato bee will invest 150 million in january...</td>\n",
              "      <td>2</td>\n",
              "    </tr>\n",
              "  </tbody>\n",
              "</table>\n",
              "</div>"
            ]
          },
          "metadata": {}
        },
        {
          "output_type": "stream",
          "name": "stdout",
          "text": [
            "Shape of the augmented DataFrame after cleaning: (69417, 3)\n"
          ]
        }
      ]
    },
    {
      "cell_type": "markdown",
      "metadata": {
        "id": "5265deeb"
      },
      "source": [
        "**Reasoning**:\n",
        "Load the augmented dataset from the specified local path into a pandas DataFrame and display its shape and the first few rows to verify it loaded correctly."
      ]
    },
    {
      "cell_type": "markdown",
      "metadata": {
        "id": "1def05ed"
      },
      "source": [
        "## Split Data\n",
        "\n",
        "### Subtask:\n",
        "Split the balanced dataset into training and testing sets, ensuring the class distribution is maintained using stratification."
      ]
    },
    {
      "cell_type": "markdown",
      "metadata": {
        "id": "a20ef29e"
      },
      "source": [
        "**Reasoning**:\n",
        "Split the balanced dataset into training and testing sets while maintaining class distribution using stratification."
      ]
    },
    {
      "cell_type": "code",
      "metadata": {
        "colab": {
          "base_uri": "https://localhost:8080/"
        },
        "id": "d903c3a0",
        "outputId": "05db9345-5262-4f3d-9936-5149119f6108"
      },
      "source": [
        "from sklearn.model_selection import train_test_split\n",
        "\n",
        "# Define features (X) and target variable (y)\n",
        "X = augmented_df['cleaned_text']\n",
        "y = augmented_df['label']\n",
        "\n",
        "# Split the dataset into training and testing sets with stratification\n",
        "X_train, X_test, y_train, y_test = train_test_split(X, y, test_size=0.2, random_state=42, stratify=y)\n",
        "\n",
        "# Print the shapes of the resulting sets\n",
        "print(f\"Shape of X_train: {X_train.shape}\")\n",
        "print(f\"Shape of X_test: {X_test.shape}\")\n",
        "print(f\"Shape of y_train: {y_train.shape}\")\n",
        "print(f\"Shape of y_test: {y_test.shape}\")"
      ],
      "execution_count": null,
      "outputs": [
        {
          "output_type": "stream",
          "name": "stdout",
          "text": [
            "Shape of X_train: (55533,)\n",
            "Shape of X_test: (13884,)\n",
            "Shape of y_train: (55533,)\n",
            "Shape of y_test: (13884,)\n"
          ]
        }
      ]
    },
    {
      "cell_type": "markdown",
      "metadata": {
        "id": "ed8a9336"
      },
      "source": [
        "## Tokenize Data\n",
        "\n",
        "### Subtask:\n",
        "Tokenize the text data for the RoBERTa model."
      ]
    },
    {
      "cell_type": "code",
      "metadata": {
        "colab": {
          "base_uri": "https://localhost:8080/"
        },
        "id": "fca944b1",
        "outputId": "7e45d571-81b3-4162-acfa-05362e2b9a7c"
      },
      "source": [
        "from transformers import AutoTokenizer\n",
        "import torch\n",
        "\n",
        "# Load the pretrained RoBERTa tokenizer\n",
        "tokenizer = AutoTokenizer.from_pretrained('roberta-base')\n",
        "\n",
        "# Tokenize the training and testing sets\n",
        "# Ensure padding and truncation are applied with a suitable maximum length\n",
        "train_encodings = tokenizer(list(X_train), truncation=True, padding='max_length', max_length=128, return_tensors=\"pt\")\n",
        "test_encodings = tokenizer(list(X_test), truncation=True, padding='max_length', max_length=128, return_tensors=\"pt\")\n",
        "\n",
        "# Convert labels to PyTorch tensors\n",
        "train_labels = torch.tensor(y_train.values)\n",
        "test_labels = torch.tensor(y_test.values)\n",
        "\n",
        "print(\"Tokenization complete and data converted to PyTorch tensors.\")"
      ],
      "execution_count": null,
      "outputs": [
        {
          "output_type": "stream",
          "name": "stdout",
          "text": [
            "Tokenization complete and data converted to PyTorch tensors.\n"
          ]
        }
      ]
    },
    {
      "cell_type": "markdown",
      "metadata": {
        "id": "d1efd1f8"
      },
      "source": [
        "## Define Dataset Class\n",
        "\n",
        "### Subtask:\n",
        "Create a custom PyTorch Dataset class to handle the tokenized data and labels."
      ]
    },
    {
      "cell_type": "markdown",
      "metadata": {
        "id": "727ec267"
      },
      "source": [
        "**Reasoning**:\n",
        "Define a custom PyTorch Dataset class to encapsulate the tokenized inputs and labels, making it compatible with PyTorch DataLoaders and the Hugging Face Trainer."
      ]
    },
    {
      "cell_type": "code",
      "metadata": {
        "colab": {
          "base_uri": "https://localhost:8080/"
        },
        "id": "5f8164db",
        "outputId": "02acd7b2-abe4-4a43-89f2-b849e64fe254"
      },
      "source": [
        "import torch\n",
        "from torch.utils.data import Dataset\n",
        "\n",
        "class TweetDataset(Dataset):\n",
        "    def __init__(self, encodings, labels):\n",
        "        self.encodings = encodings\n",
        "        self.labels = labels\n",
        "\n",
        "    def __getitem__(self, idx):\n",
        "        item = {key: torch.tensor(val[idx]) for key, val in self.encodings.items()}\n",
        "        item['labels'] = torch.tensor(self.labels[idx])\n",
        "        return item\n",
        "\n",
        "    def __len__(self):\n",
        "        return len(self.labels)\n",
        "\n",
        "print(\"Custom Dataset class defined.\")"
      ],
      "execution_count": null,
      "outputs": [
        {
          "output_type": "stream",
          "name": "stdout",
          "text": [
            "Custom Dataset class defined.\n"
          ]
        }
      ]
    },
    {
      "cell_type": "markdown",
      "metadata": {
        "id": "26692214"
      },
      "source": [
        "**Reasoning**:\n",
        "Import the RoBERTa tokenizer, load the pretrained tokenizer, tokenize the training and testing data with padding and truncation, and convert the tokenized outputs to PyTorch tensors."
      ]
    },
    {
      "cell_type": "markdown",
      "metadata": {
        "id": "43b570dc"
      },
      "source": [
        "## Load RoBERTa Model\n",
        "\n",
        "### Subtask:\n",
        "Load a pretrained RoBERTa model for sequence classification."
      ]
    },
    {
      "cell_type": "markdown",
      "metadata": {
        "id": "fbb07982"
      },
      "source": [
        "**Reasoning**:\n",
        "Load a pretrained RoBERTa model for sequence classification and print a confirmation message."
      ]
    },
    {
      "cell_type": "code",
      "metadata": {
        "colab": {
          "base_uri": "https://localhost:8080/"
        },
        "id": "5d781b0a",
        "outputId": "55f60aff-b46e-41fb-9430-50170189110a"
      },
      "source": [
        "from transformers import AutoModelForSequenceClassification\n",
        "\n",
        "# Load a pretrained RoBERTa model for sequence classification with 3 output labels (for negative, neutral, positive)\n",
        "model = AutoModelForSequenceClassification.from_pretrained('roberta-base', num_labels=3)\n",
        "\n",
        "print(\"Pretrained RoBERTa model loaded successfully.\")"
      ],
      "execution_count": null,
      "outputs": [
        {
          "output_type": "stream",
          "name": "stderr",
          "text": [
            "Some weights of RobertaForSequenceClassification were not initialized from the model checkpoint at roberta-base and are newly initialized: ['classifier.dense.bias', 'classifier.dense.weight', 'classifier.out_proj.bias', 'classifier.out_proj.weight']\n",
            "You should probably TRAIN this model on a down-stream task to be able to use it for predictions and inference.\n"
          ]
        },
        {
          "output_type": "stream",
          "name": "stdout",
          "text": [
            "Pretrained RoBERTa model loaded successfully.\n"
          ]
        }
      ]
    },
    {
      "cell_type": "markdown",
      "metadata": {
        "id": "866211ff"
      },
      "source": [
        "## Implement Hyperparameter Search\n",
        "\n",
        "### Subtask:\n",
        "Implement hyperparameter search using Optuna for learning rate and number of epochs."
      ]
    },
    {
      "cell_type": "markdown",
      "metadata": {
        "id": "e2257c5b"
      },
      "source": [
        "**Reasoning**:\n",
        "Define the model initialization function, the objective function for Optuna to optimize (based on evaluation metric), create and run the Optuna study, and print the best hyperparameters found."
      ]
    },
    {
      "cell_type": "code",
      "metadata": {
        "colab": {
          "base_uri": "https://localhost:8080/"
        },
        "id": "fa4d89a7",
        "outputId": "afa4513b-7a6e-4c36-8a28-9e8e991ed5d4"
      },
      "source": [
        "!pip install accelerate -U"
      ],
      "execution_count": null,
      "outputs": [
        {
          "output_type": "stream",
          "name": "stdout",
          "text": [
            "Requirement already satisfied: accelerate in c:\\programdata\\miniconda3\\envs\\tweeteval\\lib\\site-packages (1.10.1)\n",
            "Requirement already satisfied: numpy<3.0.0,>=1.17 in c:\\programdata\\miniconda3\\envs\\tweeteval\\lib\\site-packages (from accelerate) (2.0.1)\n",
            "Requirement already satisfied: packaging>=20.0 in c:\\programdata\\miniconda3\\envs\\tweeteval\\lib\\site-packages (from accelerate) (25.0)\n",
            "Requirement already satisfied: psutil in c:\\programdata\\miniconda3\\envs\\tweeteval\\lib\\site-packages (from accelerate) (7.0.0)\n",
            "Requirement already satisfied: pyyaml in c:\\programdata\\miniconda3\\envs\\tweeteval\\lib\\site-packages (from accelerate) (6.0.2)\n",
            "Requirement already satisfied: torch>=2.0.0 in c:\\programdata\\miniconda3\\envs\\tweeteval\\lib\\site-packages (from accelerate) (2.5.1)\n",
            "Requirement already satisfied: huggingface_hub>=0.21.0 in c:\\programdata\\miniconda3\\envs\\tweeteval\\lib\\site-packages (from accelerate) (0.35.1)\n",
            "Requirement already satisfied: safetensors>=0.4.3 in c:\\programdata\\miniconda3\\envs\\tweeteval\\lib\\site-packages (from accelerate) (0.6.2)\n",
            "Requirement already satisfied: filelock in c:\\programdata\\miniconda3\\envs\\tweeteval\\lib\\site-packages (from huggingface_hub>=0.21.0->accelerate) (3.17.0)\n",
            "Requirement already satisfied: fsspec>=2023.5.0 in c:\\programdata\\miniconda3\\envs\\tweeteval\\lib\\site-packages (from huggingface_hub>=0.21.0->accelerate) (2025.9.0)\n",
            "Requirement already satisfied: requests in c:\\programdata\\miniconda3\\envs\\tweeteval\\lib\\site-packages (from huggingface_hub>=0.21.0->accelerate) (2.32.5)\n",
            "Requirement already satisfied: tqdm>=4.42.1 in c:\\programdata\\miniconda3\\envs\\tweeteval\\lib\\site-packages (from huggingface_hub>=0.21.0->accelerate) (4.67.1)\n",
            "Requirement already satisfied: typing-extensions>=3.7.4.3 in c:\\programdata\\miniconda3\\envs\\tweeteval\\lib\\site-packages (from huggingface_hub>=0.21.0->accelerate) (4.15.0)\n",
            "Requirement already satisfied: networkx in c:\\programdata\\miniconda3\\envs\\tweeteval\\lib\\site-packages (from torch>=2.0.0->accelerate) (3.4.2)\n",
            "Requirement already satisfied: jinja2 in c:\\programdata\\miniconda3\\envs\\tweeteval\\lib\\site-packages (from torch>=2.0.0->accelerate) (3.1.6)\n",
            "Requirement already satisfied: sympy==1.13.1 in c:\\programdata\\miniconda3\\envs\\tweeteval\\lib\\site-packages (from torch>=2.0.0->accelerate) (1.13.1)\n",
            "Requirement already satisfied: mpmath<1.4,>=1.1.0 in c:\\programdata\\miniconda3\\envs\\tweeteval\\lib\\site-packages (from sympy==1.13.1->torch>=2.0.0->accelerate) (1.3.0)\n",
            "Requirement already satisfied: colorama in c:\\programdata\\miniconda3\\envs\\tweeteval\\lib\\site-packages (from tqdm>=4.42.1->huggingface_hub>=0.21.0->accelerate) (0.4.6)\n",
            "Requirement already satisfied: MarkupSafe>=2.0 in c:\\programdata\\miniconda3\\envs\\tweeteval\\lib\\site-packages (from jinja2->torch>=2.0.0->accelerate) (3.0.2)\n",
            "Requirement already satisfied: charset_normalizer<4,>=2 in c:\\programdata\\miniconda3\\envs\\tweeteval\\lib\\site-packages (from requests->huggingface_hub>=0.21.0->accelerate) (3.3.2)\n",
            "Requirement already satisfied: idna<4,>=2.5 in c:\\programdata\\miniconda3\\envs\\tweeteval\\lib\\site-packages (from requests->huggingface_hub>=0.21.0->accelerate) (3.7)\n",
            "Requirement already satisfied: urllib3<3,>=1.21.1 in c:\\programdata\\miniconda3\\envs\\tweeteval\\lib\\site-packages (from requests->huggingface_hub>=0.21.0->accelerate) (2.5.0)\n",
            "Requirement already satisfied: certifi>=2017.4.17 in c:\\programdata\\miniconda3\\envs\\tweeteval\\lib\\site-packages (from requests->huggingface_hub>=0.21.0->accelerate) (2025.8.3)\n"
          ]
        }
      ]
    },
    {
      "cell_type": "code",
      "metadata": {
        "colab": {
          "base_uri": "https://localhost:8080/",
          "height": 1000
        },
        "id": "a1364430",
        "outputId": "56beeefb-6253-46be-8e42-016663b30c03"
      },
      "source": [
        "import optuna\n",
        "from transformers import Trainer, TrainingArguments, AutoModelForSequenceClassification\n",
        "from sklearn.metrics import accuracy_score, precision_recall_fscore_support\n",
        "import numpy as np\n",
        "import torch\n",
        "from torch.utils.data import Dataset # Import Dataset\n",
        "\n",
        "# Assuming train_encodings, test_encodings, train_labels, and test_labels are already created\n",
        "\n",
        "# Define a custom PyTorch Dataset class\n",
        "class TweetDataset(Dataset):\n",
        "    def __init__(self, encodings, labels):\n",
        "        self.encodings = encodings\n",
        "        self.labels = labels\n",
        "\n",
        "    def __getitem__(self, idx):\n",
        "        item = {key: torch.tensor(val[idx]) for key, val in self.encodings.items()}\n",
        "        item['labels'] = torch.tensor(self.labels[idx])\n",
        "        return item\n",
        "\n",
        "    def __len__(self):\n",
        "        return len(self.labels)\n",
        "\n",
        "# Instantiate the custom Dataset for training and testing data\n",
        "train_dataset = TweetDataset(train_encodings, train_labels)\n",
        "test_dataset = TweetDataset(test_encodings, test_labels)\n",
        "\n",
        "\n",
        "# Define a function to compute metrics for evaluation\n",
        "def compute_metrics(p):\n",
        "    preds = p.predictions.argmax(-1)\n",
        "    precision, recall, f1, _ = precision_recall_fscore_support(p.label_ids, preds, average='weighted')\n",
        "    acc = accuracy_score(p.label_ids, preds)\n",
        "    return {\n",
        "        'accuracy': acc,\n",
        "        'precision': precision,\n",
        "        'recall': recall,\n",
        "        'f1': f1,\n",
        "    }\n",
        "\n",
        "# Define the model_init function for Optuna\n",
        "def model_init(trial):\n",
        "    # Load a pretrained RoBERTa model for sequence classification with 3 output labels\n",
        "    return AutoModelForSequenceClassification.from_pretrained('roberta-base', num_labels=3)\n",
        "\n",
        "# Define the objective function for Optuna\n",
        "def objective(trial):\n",
        "    # Suggest hyperparameters\n",
        "    learning_rate = trial.suggest_float(\"learning_rate\", 1e-5, 5e-5, log=True)\n",
        "    num_train_epochs = trial.suggest_int(\"num_train_epochs\", 1, 3) # Search between 1 and 3 epochs\n",
        "\n",
        "    # Define training arguments with suggested hyperparameters and mixed precision\n",
        "    training_args = TrainingArguments(\n",
        "        output_dir='./results',          # output directory for checkpoints\n",
        "        num_train_epochs=num_train_epochs,              # number of training epochs from Optuna trial\n",
        "        per_device_train_batch_size=8,   # batch size per device during training\n",
        "        per_device_eval_batch_size=8,   # batch size per device during evaluation\n",
        "        weight_decay=0.01,               # weight decay\n",
        "        logging_dir='./logs',            # directory for storing logs\n",
        "        logging_steps=100,               # number of update steps before logging\n",
        "        eval_strategy='epoch',     # evaluate at the end of each epoch\n",
        "        save_strategy='epoch',           # save at the end of each epoch\n",
        "        load_best_model_at_end=True,     # load the best model based on the evaluation metric at the end of training\n",
        "        metric_for_best_model='eval_f1', # metric to monitor for selecting the best model - Using F1-score\n",
        "        fp16=True,                       # Enable mixed precision training\n",
        "        learning_rate=learning_rate,      # Use suggested learning rate\n",
        "        report_to=\"none\" # Disable reporting to Weights & Biases\n",
        "    )\n",
        "\n",
        "    # Instantiate the Trainer object\n",
        "    trainer = Trainer(\n",
        "        model_init=model_init, # Use model_init for hyperparameter search\n",
        "        args=training_args,\n",
        "        train_dataset=train_dataset,\n",
        "        eval_dataset=test_dataset,\n",
        "        compute_metrics=compute_metrics\n",
        "    )\n",
        "\n",
        "    # Train the model\n",
        "    trainer.train()\n",
        "\n",
        "    # Evaluate the model on the test set and return the metric to optimize\n",
        "    eval_result = trainer.evaluate()\n",
        "    return eval_result[\"eval_f1\"] # Return the evaluation F1 score for maximization\n",
        "\n",
        "\n",
        "# Create an Optuna study and optimize the objective function\n",
        "# We aim to maximize the evaluation F1 score\n",
        "study = optuna.create_study(direction=\"maximize\")\n",
        "study.optimize(objective, n_trials=2) # Set a reasonable number of trials\n",
        "\n",
        "# Print the best trial's parameters\n",
        "print(\"Best trial:\")\n",
        "print(\"  Value (Evaluation F1 Score): {}\".format(study.best_trial.value))\n",
        "print(\"  Params: \")\n",
        "for key, value in study.best_trial.params.items():\n",
        "    print(\"    {}: {}\".format(key, value))"
      ],
      "execution_count": null,
      "outputs": [
        {
          "output_type": "stream",
          "name": "stderr",
          "text": [
            "[I 2025-09-25 18:12:16,820] A new study created in memory with name: no-name-3b5ea5e0-5bec-4150-a0ab-887fab20a1eb\n",
            "Some weights of RobertaForSequenceClassification were not initialized from the model checkpoint at roberta-base and are newly initialized: ['classifier.dense.bias', 'classifier.dense.weight', 'classifier.out_proj.bias', 'classifier.out_proj.weight']\n",
            "You should probably TRAIN this model on a down-stream task to be able to use it for predictions and inference.\n",
            "Some weights of RobertaForSequenceClassification were not initialized from the model checkpoint at roberta-base and are newly initialized: ['classifier.dense.bias', 'classifier.dense.weight', 'classifier.out_proj.bias', 'classifier.out_proj.weight']\n",
            "You should probably TRAIN this model on a down-stream task to be able to use it for predictions and inference.\n",
            "C:\\Users\\adria\\AppData\\Local\\Temp\\ipykernel_22552\\3178301865.py:17: UserWarning: To copy construct from a tensor, it is recommended to use sourceTensor.clone().detach() or sourceTensor.clone().detach().requires_grad_(True), rather than torch.tensor(sourceTensor).\n",
            "  item = {key: torch.tensor(val[idx]) for key, val in self.encodings.items()}\n",
            "C:\\Users\\adria\\AppData\\Local\\Temp\\ipykernel_22552\\3178301865.py:18: UserWarning: To copy construct from a tensor, it is recommended to use sourceTensor.clone().detach() or sourceTensor.clone().detach().requires_grad_(True), rather than torch.tensor(sourceTensor).\n",
            "  item['labels'] = torch.tensor(self.labels[idx])\n"
          ]
        },
        {
          "output_type": "display_data",
          "data": {
            "text/plain": [
              "<IPython.core.display.HTML object>"
            ],
            "text/html": [
              "\n",
              "    <div>\n",
              "      \n",
              "      <progress value='13884' max='13884' style='width:300px; height:20px; vertical-align: middle;'></progress>\n",
              "      [13884/13884 28:03, Epoch 2/2]\n",
              "    </div>\n",
              "    <table border=\"1\" class=\"dataframe\">\n",
              "  <thead>\n",
              " <tr style=\"text-align: left;\">\n",
              "      <th>Epoch</th>\n",
              "      <th>Training Loss</th>\n",
              "      <th>Validation Loss</th>\n",
              "      <th>Accuracy</th>\n",
              "      <th>Precision</th>\n",
              "      <th>Recall</th>\n",
              "      <th>F1</th>\n",
              "    </tr>\n",
              "  </thead>\n",
              "  <tbody>\n",
              "    <tr>\n",
              "      <td>1</td>\n",
              "      <td>0.641100</td>\n",
              "      <td>0.656110</td>\n",
              "      <td>0.716076</td>\n",
              "      <td>0.719590</td>\n",
              "      <td>0.716076</td>\n",
              "      <td>0.715294</td>\n",
              "    </tr>\n",
              "    <tr>\n",
              "      <td>2</td>\n",
              "      <td>0.528600</td>\n",
              "      <td>0.655019</td>\n",
              "      <td>0.722990</td>\n",
              "      <td>0.724724</td>\n",
              "      <td>0.722990</td>\n",
              "      <td>0.722232</td>\n",
              "    </tr>\n",
              "  </tbody>\n",
              "</table><p>"
            ]
          },
          "metadata": {}
        },
        {
          "output_type": "stream",
          "name": "stderr",
          "text": [
            "C:\\Users\\adria\\AppData\\Local\\Temp\\ipykernel_22552\\3178301865.py:17: UserWarning: To copy construct from a tensor, it is recommended to use sourceTensor.clone().detach() or sourceTensor.clone().detach().requires_grad_(True), rather than torch.tensor(sourceTensor).\n",
            "  item = {key: torch.tensor(val[idx]) for key, val in self.encodings.items()}\n",
            "C:\\Users\\adria\\AppData\\Local\\Temp\\ipykernel_22552\\3178301865.py:18: UserWarning: To copy construct from a tensor, it is recommended to use sourceTensor.clone().detach() or sourceTensor.clone().detach().requires_grad_(True), rather than torch.tensor(sourceTensor).\n",
            "  item['labels'] = torch.tensor(self.labels[idx])\n",
            "C:\\Users\\adria\\AppData\\Local\\Temp\\ipykernel_22552\\3178301865.py:17: UserWarning: To copy construct from a tensor, it is recommended to use sourceTensor.clone().detach() or sourceTensor.clone().detach().requires_grad_(True), rather than torch.tensor(sourceTensor).\n",
            "  item = {key: torch.tensor(val[idx]) for key, val in self.encodings.items()}\n",
            "C:\\Users\\adria\\AppData\\Local\\Temp\\ipykernel_22552\\3178301865.py:18: UserWarning: To copy construct from a tensor, it is recommended to use sourceTensor.clone().detach() or sourceTensor.clone().detach().requires_grad_(True), rather than torch.tensor(sourceTensor).\n",
            "  item['labels'] = torch.tensor(self.labels[idx])\n"
          ]
        },
        {
          "output_type": "display_data",
          "data": {
            "text/plain": [
              "<IPython.core.display.HTML object>"
            ],
            "text/html": [
              "\n",
              "    <div>\n",
              "      \n",
              "      <progress value='1736' max='1736' style='width:300px; height:20px; vertical-align: middle;'></progress>\n",
              "      [1736/1736 00:28]\n",
              "    </div>\n",
              "    "
            ]
          },
          "metadata": {}
        },
        {
          "output_type": "stream",
          "name": "stderr",
          "text": [
            "[I 2025-09-25 18:40:50,482] Trial 0 finished with value: 0.7222320281599273 and parameters: {'learning_rate': 1.8873891393685228e-05, 'num_train_epochs': 2}. Best is trial 0 with value: 0.7222320281599273.\n",
            "Some weights of RobertaForSequenceClassification were not initialized from the model checkpoint at roberta-base and are newly initialized: ['classifier.dense.bias', 'classifier.dense.weight', 'classifier.out_proj.bias', 'classifier.out_proj.weight']\n",
            "You should probably TRAIN this model on a down-stream task to be able to use it for predictions and inference.\n",
            "Some weights of RobertaForSequenceClassification were not initialized from the model checkpoint at roberta-base and are newly initialized: ['classifier.dense.bias', 'classifier.dense.weight', 'classifier.out_proj.bias', 'classifier.out_proj.weight']\n",
            "You should probably TRAIN this model on a down-stream task to be able to use it for predictions and inference.\n",
            "C:\\Users\\adria\\AppData\\Local\\Temp\\ipykernel_22552\\3178301865.py:17: UserWarning: To copy construct from a tensor, it is recommended to use sourceTensor.clone().detach() or sourceTensor.clone().detach().requires_grad_(True), rather than torch.tensor(sourceTensor).\n",
            "  item = {key: torch.tensor(val[idx]) for key, val in self.encodings.items()}\n",
            "C:\\Users\\adria\\AppData\\Local\\Temp\\ipykernel_22552\\3178301865.py:18: UserWarning: To copy construct from a tensor, it is recommended to use sourceTensor.clone().detach() or sourceTensor.clone().detach().requires_grad_(True), rather than torch.tensor(sourceTensor).\n",
            "  item['labels'] = torch.tensor(self.labels[idx])\n"
          ]
        },
        {
          "output_type": "display_data",
          "data": {
            "text/plain": [
              "<IPython.core.display.HTML object>"
            ],
            "text/html": [
              "\n",
              "    <div>\n",
              "      \n",
              "      <progress value='20826' max='20826' style='width:300px; height:20px; vertical-align: middle;'></progress>\n",
              "      [20826/20826 41:52, Epoch 3/3]\n",
              "    </div>\n",
              "    <table border=\"1\" class=\"dataframe\">\n",
              "  <thead>\n",
              " <tr style=\"text-align: left;\">\n",
              "      <th>Epoch</th>\n",
              "      <th>Training Loss</th>\n",
              "      <th>Validation Loss</th>\n",
              "      <th>Accuracy</th>\n",
              "      <th>Precision</th>\n",
              "      <th>Recall</th>\n",
              "      <th>F1</th>\n",
              "    </tr>\n",
              "  </thead>\n",
              "  <tbody>\n",
              "    <tr>\n",
              "      <td>1</td>\n",
              "      <td>0.680600</td>\n",
              "      <td>0.772711</td>\n",
              "      <td>0.682728</td>\n",
              "      <td>0.689519</td>\n",
              "      <td>0.682728</td>\n",
              "      <td>0.681379</td>\n",
              "    </tr>\n",
              "    <tr>\n",
              "      <td>2</td>\n",
              "      <td>0.582900</td>\n",
              "      <td>0.668917</td>\n",
              "      <td>0.712907</td>\n",
              "      <td>0.713782</td>\n",
              "      <td>0.712907</td>\n",
              "      <td>0.712380</td>\n",
              "    </tr>\n",
              "    <tr>\n",
              "      <td>3</td>\n",
              "      <td>0.430800</td>\n",
              "      <td>0.789812</td>\n",
              "      <td>0.713987</td>\n",
              "      <td>0.714800</td>\n",
              "      <td>0.713987</td>\n",
              "      <td>0.713565</td>\n",
              "    </tr>\n",
              "  </tbody>\n",
              "</table><p>"
            ]
          },
          "metadata": {}
        },
        {
          "output_type": "stream",
          "name": "stderr",
          "text": [
            "C:\\Users\\adria\\AppData\\Local\\Temp\\ipykernel_22552\\3178301865.py:17: UserWarning: To copy construct from a tensor, it is recommended to use sourceTensor.clone().detach() or sourceTensor.clone().detach().requires_grad_(True), rather than torch.tensor(sourceTensor).\n",
            "  item = {key: torch.tensor(val[idx]) for key, val in self.encodings.items()}\n",
            "C:\\Users\\adria\\AppData\\Local\\Temp\\ipykernel_22552\\3178301865.py:18: UserWarning: To copy construct from a tensor, it is recommended to use sourceTensor.clone().detach() or sourceTensor.clone().detach().requires_grad_(True), rather than torch.tensor(sourceTensor).\n",
            "  item['labels'] = torch.tensor(self.labels[idx])\n",
            "C:\\Users\\adria\\AppData\\Local\\Temp\\ipykernel_22552\\3178301865.py:17: UserWarning: To copy construct from a tensor, it is recommended to use sourceTensor.clone().detach() or sourceTensor.clone().detach().requires_grad_(True), rather than torch.tensor(sourceTensor).\n",
            "  item = {key: torch.tensor(val[idx]) for key, val in self.encodings.items()}\n",
            "C:\\Users\\adria\\AppData\\Local\\Temp\\ipykernel_22552\\3178301865.py:18: UserWarning: To copy construct from a tensor, it is recommended to use sourceTensor.clone().detach() or sourceTensor.clone().detach().requires_grad_(True), rather than torch.tensor(sourceTensor).\n",
            "  item['labels'] = torch.tensor(self.labels[idx])\n",
            "C:\\Users\\adria\\AppData\\Local\\Temp\\ipykernel_22552\\3178301865.py:17: UserWarning: To copy construct from a tensor, it is recommended to use sourceTensor.clone().detach() or sourceTensor.clone().detach().requires_grad_(True), rather than torch.tensor(sourceTensor).\n",
            "  item = {key: torch.tensor(val[idx]) for key, val in self.encodings.items()}\n",
            "C:\\Users\\adria\\AppData\\Local\\Temp\\ipykernel_22552\\3178301865.py:18: UserWarning: To copy construct from a tensor, it is recommended to use sourceTensor.clone().detach() or sourceTensor.clone().detach().requires_grad_(True), rather than torch.tensor(sourceTensor).\n",
            "  item['labels'] = torch.tensor(self.labels[idx])\n"
          ]
        },
        {
          "output_type": "display_data",
          "data": {
            "text/plain": [
              "<IPython.core.display.HTML object>"
            ],
            "text/html": [
              "\n",
              "    <div>\n",
              "      \n",
              "      <progress value='1736' max='1736' style='width:300px; height:20px; vertical-align: middle;'></progress>\n",
              "      [1736/1736 00:28]\n",
              "    </div>\n",
              "    "
            ]
          },
          "metadata": {}
        },
        {
          "output_type": "stream",
          "name": "stderr",
          "text": [
            "[I 2025-09-25 19:23:13,363] Trial 1 finished with value: 0.7135651356499895 and parameters: {'learning_rate': 3.435566558123877e-05, 'num_train_epochs': 3}. Best is trial 0 with value: 0.7222320281599273.\n"
          ]
        },
        {
          "output_type": "stream",
          "name": "stdout",
          "text": [
            "Best trial:\n",
            "  Value (Evaluation F1 Score): 0.7222320281599273\n",
            "  Params: \n",
            "    learning_rate: 1.8873891393685228e-05\n",
            "    num_train_epochs: 2\n"
          ]
        }
      ]
    },
    {
      "cell_type": "markdown",
      "metadata": {
        "id": "5da7c711"
      },
      "source": [
        "## Train Model with Best Hyperparameters\n",
        "\n",
        "### Subtask:\n",
        "Train the RoBERTa classifier using the best hyperparameters from Optuna."
      ]
    },
    {
      "cell_type": "markdown",
      "metadata": {
        "id": "974fa9e7"
      },
      "source": [
        "**Reasoning**:\n",
        "Retrieve the best hyperparameters from the Optuna study, define the `TrainingArguments` using these parameters, load a new instance of the RoBERTa model, create a `Trainer` instance with the best model and arguments, and start the training process."
      ]
    },
    {
      "cell_type": "code",
      "metadata": {
        "colab": {
          "base_uri": "https://localhost:8080/",
          "height": 668
        },
        "id": "bfea0d1a",
        "outputId": "f10e4dd5-edaf-4e85-fa86-0e40feb1ed25"
      },
      "source": [
        "from transformers import Trainer, TrainingArguments, AutoModelForSequenceClassification\n",
        "import torch\n",
        "\n",
        "# Get the best hyperparameters from the Optuna study\n",
        "best_params = study.best_trial.params\n",
        "\n",
        "# Define training arguments with the best hyperparameters\n",
        "training_args = TrainingArguments(\n",
        "    output_dir='./results_best_run',  # output directory for checkpoints\n",
        "    num_train_epochs=5, # Use best number of epochs\n",
        "    learning_rate=best_params['learning_rate'], # Use best learning rate\n",
        "    per_device_train_batch_size=8,   # batch size per device during training\n",
        "    per_device_eval_batch_size=8,   # batch size per device during evaluation\n",
        "    weight_decay=0.01,               # weight decay\n",
        "    logging_dir='./logs_best_run',    # directory for storing logs\n",
        "    logging_steps=100,               # number of update steps before logging\n",
        "    eval_strategy='epoch',     # evaluate at the end of each epoch\n",
        "    save_strategy='epoch',           # save at the end of each epoch\n",
        "    load_best_model_at_end=True,     # load the best model based on the evaluation metric at the end of training\n",
        "    metric_for_best_model='eval_f1', # metric to monitor for selecting the best model\n",
        "    fp16=True,                       # Enable mixed precision training\n",
        "    report_to=\"none\" # Disable reporting to Weights & Biases\n",
        ")\n",
        "\n",
        "# Load a new instance of the RoBERTa model for training with best hyperparameters\n",
        "model = AutoModelForSequenceClassification.from_pretrained('roberta-base', num_labels=3)\n",
        "\n",
        "# Instantiate the Trainer object\n",
        "trainer = Trainer(\n",
        "    model=model,                         # the instantiated 🤗 Transformers model to be trained\n",
        "    args=training_args,                  # training arguments, defined above\n",
        "    train_dataset=train_dataset,         # training dataset\n",
        "    eval_dataset=test_dataset,           # evaluation dataset\n",
        "    compute_metrics=compute_metrics      # the callback for computing metrics\n",
        ")\n",
        "\n",
        "# Start the training process\n",
        "print(\"Starting model training with best hyperparameters...\")\n",
        "trainer.train()\n",
        "print(\"Model training complete.\")"
      ],
      "execution_count": null,
      "outputs": [
        {
          "output_type": "stream",
          "name": "stderr",
          "text": [
            "Some weights of RobertaForSequenceClassification were not initialized from the model checkpoint at roberta-base and are newly initialized: ['classifier.dense.bias', 'classifier.dense.weight', 'classifier.out_proj.bias', 'classifier.out_proj.weight']\n",
            "You should probably TRAIN this model on a down-stream task to be able to use it for predictions and inference.\n"
          ]
        },
        {
          "output_type": "stream",
          "name": "stdout",
          "text": [
            "Starting model training with best hyperparameters...\n"
          ]
        },
        {
          "output_type": "stream",
          "name": "stderr",
          "text": [
            "C:\\Users\\adria\\AppData\\Local\\Temp\\ipykernel_22552\\3178301865.py:17: UserWarning: To copy construct from a tensor, it is recommended to use sourceTensor.clone().detach() or sourceTensor.clone().detach().requires_grad_(True), rather than torch.tensor(sourceTensor).\n",
            "  item = {key: torch.tensor(val[idx]) for key, val in self.encodings.items()}\n",
            "C:\\Users\\adria\\AppData\\Local\\Temp\\ipykernel_22552\\3178301865.py:18: UserWarning: To copy construct from a tensor, it is recommended to use sourceTensor.clone().detach() or sourceTensor.clone().detach().requires_grad_(True), rather than torch.tensor(sourceTensor).\n",
            "  item['labels'] = torch.tensor(self.labels[idx])\n"
          ]
        },
        {
          "output_type": "display_data",
          "data": {
            "text/plain": [
              "<IPython.core.display.HTML object>"
            ],
            "text/html": [
              "\n",
              "    <div>\n",
              "      \n",
              "      <progress value='34710' max='34710' style='width:300px; height:20px; vertical-align: middle;'></progress>\n",
              "      [34710/34710 1:10:01, Epoch 5/5]\n",
              "    </div>\n",
              "    <table border=\"1\" class=\"dataframe\">\n",
              "  <thead>\n",
              " <tr style=\"text-align: left;\">\n",
              "      <th>Epoch</th>\n",
              "      <th>Training Loss</th>\n",
              "      <th>Validation Loss</th>\n",
              "      <th>Accuracy</th>\n",
              "      <th>Precision</th>\n",
              "      <th>Recall</th>\n",
              "      <th>F1</th>\n",
              "    </tr>\n",
              "  </thead>\n",
              "  <tbody>\n",
              "    <tr>\n",
              "      <td>1</td>\n",
              "      <td>0.663200</td>\n",
              "      <td>0.692806</td>\n",
              "      <td>0.699942</td>\n",
              "      <td>0.706407</td>\n",
              "      <td>0.699942</td>\n",
              "      <td>0.698763</td>\n",
              "    </tr>\n",
              "    <tr>\n",
              "      <td>2</td>\n",
              "      <td>0.572800</td>\n",
              "      <td>0.662232</td>\n",
              "      <td>0.713483</td>\n",
              "      <td>0.713556</td>\n",
              "      <td>0.713483</td>\n",
              "      <td>0.713308</td>\n",
              "    </tr>\n",
              "    <tr>\n",
              "      <td>3</td>\n",
              "      <td>0.467400</td>\n",
              "      <td>0.763913</td>\n",
              "      <td>0.709882</td>\n",
              "      <td>0.711249</td>\n",
              "      <td>0.709882</td>\n",
              "      <td>0.708991</td>\n",
              "    </tr>\n",
              "    <tr>\n",
              "      <td>4</td>\n",
              "      <td>0.423700</td>\n",
              "      <td>0.982017</td>\n",
              "      <td>0.711971</td>\n",
              "      <td>0.712591</td>\n",
              "      <td>0.711971</td>\n",
              "      <td>0.711450</td>\n",
              "    </tr>\n",
              "    <tr>\n",
              "      <td>5</td>\n",
              "      <td>0.311400</td>\n",
              "      <td>1.271184</td>\n",
              "      <td>0.708153</td>\n",
              "      <td>0.709258</td>\n",
              "      <td>0.708153</td>\n",
              "      <td>0.707425</td>\n",
              "    </tr>\n",
              "  </tbody>\n",
              "</table><p>"
            ]
          },
          "metadata": {}
        },
        {
          "output_type": "stream",
          "name": "stderr",
          "text": [
            "C:\\Users\\adria\\AppData\\Local\\Temp\\ipykernel_22552\\3178301865.py:17: UserWarning: To copy construct from a tensor, it is recommended to use sourceTensor.clone().detach() or sourceTensor.clone().detach().requires_grad_(True), rather than torch.tensor(sourceTensor).\n",
            "  item = {key: torch.tensor(val[idx]) for key, val in self.encodings.items()}\n",
            "C:\\Users\\adria\\AppData\\Local\\Temp\\ipykernel_22552\\3178301865.py:18: UserWarning: To copy construct from a tensor, it is recommended to use sourceTensor.clone().detach() or sourceTensor.clone().detach().requires_grad_(True), rather than torch.tensor(sourceTensor).\n",
            "  item['labels'] = torch.tensor(self.labels[idx])\n",
            "C:\\Users\\adria\\AppData\\Local\\Temp\\ipykernel_22552\\3178301865.py:17: UserWarning: To copy construct from a tensor, it is recommended to use sourceTensor.clone().detach() or sourceTensor.clone().detach().requires_grad_(True), rather than torch.tensor(sourceTensor).\n",
            "  item = {key: torch.tensor(val[idx]) for key, val in self.encodings.items()}\n",
            "C:\\Users\\adria\\AppData\\Local\\Temp\\ipykernel_22552\\3178301865.py:18: UserWarning: To copy construct from a tensor, it is recommended to use sourceTensor.clone().detach() or sourceTensor.clone().detach().requires_grad_(True), rather than torch.tensor(sourceTensor).\n",
            "  item['labels'] = torch.tensor(self.labels[idx])\n",
            "C:\\Users\\adria\\AppData\\Local\\Temp\\ipykernel_22552\\3178301865.py:17: UserWarning: To copy construct from a tensor, it is recommended to use sourceTensor.clone().detach() or sourceTensor.clone().detach().requires_grad_(True), rather than torch.tensor(sourceTensor).\n",
            "  item = {key: torch.tensor(val[idx]) for key, val in self.encodings.items()}\n",
            "C:\\Users\\adria\\AppData\\Local\\Temp\\ipykernel_22552\\3178301865.py:18: UserWarning: To copy construct from a tensor, it is recommended to use sourceTensor.clone().detach() or sourceTensor.clone().detach().requires_grad_(True), rather than torch.tensor(sourceTensor).\n",
            "  item['labels'] = torch.tensor(self.labels[idx])\n",
            "C:\\Users\\adria\\AppData\\Local\\Temp\\ipykernel_22552\\3178301865.py:17: UserWarning: To copy construct from a tensor, it is recommended to use sourceTensor.clone().detach() or sourceTensor.clone().detach().requires_grad_(True), rather than torch.tensor(sourceTensor).\n",
            "  item = {key: torch.tensor(val[idx]) for key, val in self.encodings.items()}\n",
            "C:\\Users\\adria\\AppData\\Local\\Temp\\ipykernel_22552\\3178301865.py:18: UserWarning: To copy construct from a tensor, it is recommended to use sourceTensor.clone().detach() or sourceTensor.clone().detach().requires_grad_(True), rather than torch.tensor(sourceTensor).\n",
            "  item['labels'] = torch.tensor(self.labels[idx])\n"
          ]
        },
        {
          "output_type": "stream",
          "name": "stdout",
          "text": [
            "Model training complete.\n"
          ]
        }
      ]
    },
    {
      "cell_type": "markdown",
      "metadata": {
        "id": "2f11b4d2"
      },
      "source": [
        "## Save the Fine-tuned Model\n",
        "\n",
        "### Subtask:\n",
        "Save the fine-tuned RoBERTa model and tokenizer to the specified local path."
      ]
    },
    {
      "cell_type": "markdown",
      "metadata": {
        "id": "99e8df8c"
      },
      "source": [
        "**Reasoning**:\n",
        "Define the local save path, create the directory if it doesn't exist, save the model using the `trainer.save_model()` method, save the tokenizer using the `tokenizer.save_pretrained()` method, and print a confirmation message."
      ]
    },
    {
      "cell_type": "code",
      "metadata": {
        "colab": {
          "base_uri": "https://localhost:8080/"
        },
        "id": "a72c9971",
        "outputId": "18187f91-16ae-4d3c-b6c7-17e0dcf7bee4"
      },
      "source": [
        "import os\n",
        "\n",
        "# Define the local path to save the model\n",
        "save_path_local = \"C:\\\\Users\\\\adria\\\\OneDrive\\\\Desktop\\\\CODING\\\\jupyter\\\\models\\\\tweeteval\\\\robertaclassifier\"\n",
        "\n",
        "# Create the directory if it doesn't exist\n",
        "os.makedirs(save_path_local, exist_ok=True)\n",
        "\n",
        "# Save the model using the trainer\n",
        "trainer.save_model(save_path_local)\n",
        "\n",
        "# Save the tokenizer (assuming 'tokenizer' object is still available from tokenization step)\n",
        "tokenizer.save_pretrained(save_path_local)\n",
        "\n",
        "print(f\"RoBERTa model and tokenizer saved to {save_path_local}\")"
      ],
      "execution_count": null,
      "outputs": [
        {
          "output_type": "stream",
          "name": "stdout",
          "text": [
            "RoBERTa model and tokenizer saved to C:\\Users\\adria\\OneDrive\\Desktop\\CODING\\jupyter\\models\\tweeteval\\robertaclassifier\n"
          ]
        }
      ]
    },
    {
      "cell_type": "markdown",
      "metadata": {
        "id": "e9ec1db3"
      },
      "source": [
        "## Generate Classification Report and Confusion Matrix\n",
        "\n",
        "### Subtask:\n",
        "Generate a classification report and confusion matrix for the trained RoBERTa model on the test set."
      ]
    },
    {
      "cell_type": "markdown",
      "metadata": {
        "id": "9dff5d75"
      },
      "source": [
        "**Reasoning**:\n",
        "Use the trained `trainer` object to get predictions on the `test_dataset`, then use `sklearn.metrics.classification_report` and `sklearn.metrics.confusion_matrix` to generate and print the report and matrix."
      ]
    },
    {
      "cell_type": "code",
      "metadata": {
        "colab": {
          "base_uri": "https://localhost:8080/",
          "height": 844
        },
        "id": "806cde1b",
        "outputId": "b4c99e76-197e-406b-e6ca-b593c41675d7"
      },
      "source": [
        "from sklearn.metrics import classification_report, confusion_matrix\n",
        "import numpy as np\n",
        "import matplotlib.pyplot as plt\n",
        "import seaborn as sns\n",
        "\n",
        "# Get predictions on the test dataset\n",
        "predictions = trainer.predict(test_dataset)\n",
        "preds = predictions.predictions.argmax(-1)\n",
        "labels = predictions.label_ids\n",
        "\n",
        "# Generate classification report\n",
        "print(\"Classification Report:\")\n",
        "print(classification_report(labels, preds, target_names=['Negative', 'Neutral', 'Positive']))\n",
        "\n",
        "# Generate confusion matrix\n",
        "conf_matrix = confusion_matrix(labels, preds)\n",
        "\n",
        "# Plot confusion matrix\n",
        "plt.figure(figsize=(8, 6))\n",
        "sns.heatmap(conf_matrix, annot=True, fmt='d', cmap='Blues', xticklabels=['Negative', 'Neutral', 'Positive'], yticklabels=['Negative', 'Neutral', 'Positive'])\n",
        "plt.xlabel('Predicted Label')\n",
        "plt.ylabel('True Label')\n",
        "plt.title('Confusion Matrix')\n",
        "plt.show()"
      ],
      "execution_count": null,
      "outputs": [
        {
          "output_type": "stream",
          "name": "stderr",
          "text": [
            "C:\\Users\\adria\\AppData\\Local\\Temp\\ipykernel_22552\\3178301865.py:17: UserWarning: To copy construct from a tensor, it is recommended to use sourceTensor.clone().detach() or sourceTensor.clone().detach().requires_grad_(True), rather than torch.tensor(sourceTensor).\n",
            "  item = {key: torch.tensor(val[idx]) for key, val in self.encodings.items()}\n",
            "C:\\Users\\adria\\AppData\\Local\\Temp\\ipykernel_22552\\3178301865.py:18: UserWarning: To copy construct from a tensor, it is recommended to use sourceTensor.clone().detach() or sourceTensor.clone().detach().requires_grad_(True), rather than torch.tensor(sourceTensor).\n",
            "  item['labels'] = torch.tensor(self.labels[idx])\n"
          ]
        },
        {
          "output_type": "display_data",
          "data": {
            "text/plain": [
              "<IPython.core.display.HTML object>"
            ],
            "text/html": []
          },
          "metadata": {}
        },
        {
          "output_type": "stream",
          "name": "stdout",
          "text": [
            "Classification Report:\n",
            "              precision    recall  f1-score   support\n",
            "\n",
            "    Negative       0.69      0.81      0.75      3671\n",
            "     Neutral       0.73      0.69      0.71      5496\n",
            "    Positive       0.75      0.69      0.72      4717\n",
            "\n",
            "    accuracy                           0.72     13884\n",
            "   macro avg       0.72      0.73      0.72     13884\n",
            "weighted avg       0.72      0.72      0.72     13884\n",
            "\n"
          ]
        },
        {
          "output_type": "display_data",
          "data": {
            "text/plain": [
              "<Figure size 800x600 with 2 Axes>"
            ],
            "image/png": "[encoded data removed]"
          },
          "metadata": {}
        }
      ]
    }
  ]
}